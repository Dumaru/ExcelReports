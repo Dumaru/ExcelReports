{
 "cells": [
  {
   "cell_type": "markdown",
   "execution_count": null,
   "metadata": {},
   "outputs": [],
   "source": [
    "PANDAS GROUP BY: https://towardsdatascience.com/pandas-groupby-aggregate-transform-filter-c95ba3444bbb\n",
    "\n",
    "\n",
    "Info Links: https://code.visualstudio.com/docs/python/jupyter-support  \n",
    "https://stackoverflow.com/questions/35226904/convert-spanish-date-in-string-format  \n",
    "https://stackabuse.com/how-to-format-dates-in-python/  \n",
    "Dateparser docs:https://dateparser.readthedocs.io/en/latest/  \n",
    "\n",
    "Threads:https://stackoverflow.com/questions/34386561/pyqt-not-responding  \n",
    "Thread and return:https://stackoverflow.com/questions/6893968/how-to-get-the-return-value-from-a-thread-in-python \n",
    "\n",
    "\n",
    "Tuto threads:http://www.laurentluce.com/posts/python-threads-synchronization-locks-rlocks-semaphores-conditions-events-and-queues/  \n",
    "Threads PyQT5: https://stackoverflow.com/questions/42357656/pyqt5-timers-cannot-be-started-from-another-thread-error-when-changing-size-of\n",
    "\n",
    "\n",
    "RESPUESTA FINAL: https://stackoverflow.com/questions/42357656/pyqt5-timers-cannot-be-started-from-another-thread-error-when-changing-size-of\n",
    "\n",
    "\n",
    "Problema cierre de ventanas por que los recolecta pa basura: https://www.reddit.com/r/Python/comments/7cml65/pyqt_second_screen_closes_immediately/\n",
    "\n",
    "PyQT COMPORTAMIENTO:https://doc.qt.io/archives/qt-4.8/qapplication.html#lastWindowClosed\n"
   ]
  },
  {
   "cell_type": "markdown",
   "execution_count": null,
   "metadata": {},
   "outputs": [],
   "source": [
    "## Imports the necessary libraries"
   ]
  },
  {
   "cell_type": "code",
   "execution_count": 12,
   "metadata": {},
   "outputs": [],
   "source": [
    "import os\n",
    "import pandas as pd\n",
    "import numpy as np"
   ]
  },
  {
   "cell_type": "code",
   "execution_count": 13,
   "metadata": {},
   "outputs": [
    {
     "data": {
      "text/plain": "['Dic312019.xlsx', 'Ene022020.xlsx']"
     },
     "execution_count": 13,
     "metadata": {},
     "output_type": "execute_result"
    }
   ],
   "source": [
    "# Gets all the files from the dir\n",
    "baseDir = r\"C:\\\\Users\\\\robin\\\\Google Drive\\\\WORK\\\\ExcelsStuff\\\\files\"\n",
    "fileNames = []\n",
    "for filename in os.listdir(baseDir):\n",
    "    if(filename.startswith('~$')):\n",
    "        continue\n",
    "    fileNames.append(filename)\n",
    "fileNames"
   ]
  },
  {
   "cell_type": "markdown",
   "execution_count": null,
   "metadata": {},
   "outputs": [],
   "source": [
    "## Reads each excel file and saves all the sheets into a list with the specified columns"
   ]
  },
  {
   "cell_type": "code",
   "execution_count": 14,
   "metadata": {},
   "outputs": [
    {
     "data": {
      "text/plain": "2"
     },
     "execution_count": 14,
     "metadata": {},
     "output_type": "execute_result"
    }
   ],
   "source": [
    "\n",
    "dfs = []\n",
    "COLS = [\"RAT\",\"OPERATOR\",\"CHANNEL\",\"IMEI\",\"IMSI\",\"TMSI\",\n",
    "        \"MS POWER\",\"TA\",\"LAST LAC\",\"NAME\",\"HITS\",\"DATE-TIME\"]\n",
    "for filename in fileNames:\n",
    "    # dfs.append(pd.read_excel(f\"{baseDir}\\\\{filename}\"))\n",
    "    temd_dfs = [pd.read_excel(f\"{baseDir}\\\\{filename}\", sheet_name=0, usecols=COLS), #2G\n",
    "                pd.read_excel(f\"{baseDir}\\\\{filename}\", sheet_name=1, usecols=COLS), #3G\n",
    "                pd.read_excel(f\"{baseDir}\\\\{filename}\", sheet_name=2, usecols=COLS)] #4G\n",
    "    dfs.append(temd_dfs)\n",
    "len(dfs)"
   ]
  },
  {
   "cell_type": "code",
   "execution_count": 15,
   "metadata": {},
   "outputs": [
    {
     "data": {
      "text/html": "<div>\n<style scoped>\n    .dataframe tbody tr th:only-of-type {\n        vertical-align: middle;\n    }\n\n    .dataframe tbody tr th {\n        vertical-align: top;\n    }\n\n    .dataframe thead th {\n        text-align: right;\n    }\n</style>\n<table border=\"1\" class=\"dataframe\">\n  <thead>\n    <tr style=\"text-align: right;\">\n      <th></th>\n      <th>RAT</th>\n      <th>OPERATOR</th>\n      <th>CHANNEL</th>\n      <th>IMSI</th>\n      <th>IMEI</th>\n      <th>TMSI</th>\n      <th>MS POWER</th>\n      <th>TA</th>\n      <th>LAST LAC</th>\n      <th>NAME</th>\n      <th>HITS</th>\n      <th>DATE-TIME</th>\n    </tr>\n  </thead>\n  <tbody>\n    <tr>\n      <td>0</td>\n      <td>2G</td>\n      <td>EC-Claro(América Móvil)-01</td>\n      <td>144</td>\n      <td>740020170411491</td>\n      <td>359459077681588</td>\n      <td>FFFFFFFF</td>\n      <td>-61</td>\n      <td>0</td>\n      <td>65534</td>\n      <td>NaN</td>\n      <td>1</td>\n      <td>mi. ene. 1 03:05:16 2020</td>\n    </tr>\n    <tr>\n      <td>1</td>\n      <td>2G</td>\n      <td>EC-Claro(América Móvil)-01</td>\n      <td>144</td>\n      <td>740010164127419</td>\n      <td>357815081319451</td>\n      <td>FFFFFFFF</td>\n      <td>-62</td>\n      <td>0</td>\n      <td>65534</td>\n      <td>NaN</td>\n      <td>1</td>\n      <td>mi. ene. 1 03:04:51 2020</td>\n    </tr>\n    <tr>\n      <td>2</td>\n      <td>2G</td>\n      <td>EC-Claro(América Móvil)-01</td>\n      <td>144</td>\n      <td>740010177429066</td>\n      <td>863697045358438</td>\n      <td>151D1A53</td>\n      <td>-66</td>\n      <td>0</td>\n      <td>50134</td>\n      <td>NaN</td>\n      <td>1</td>\n      <td>mi. ene. 1 02:55:06 2020</td>\n    </tr>\n    <tr>\n      <td>3</td>\n      <td>2G</td>\n      <td>EC-Claro(América Móvil)-01</td>\n      <td>144</td>\n      <td>740010120727910</td>\n      <td>357084081525001</td>\n      <td>97155956</td>\n      <td>-62</td>\n      <td>0</td>\n      <td>10228</td>\n      <td>NaN</td>\n      <td>1</td>\n      <td>mi. ene. 1 02:54:44 2020</td>\n    </tr>\n    <tr>\n      <td>4</td>\n      <td>2G</td>\n      <td>EC-Claro(América Móvil)-01</td>\n      <td>144</td>\n      <td>740010180400328</td>\n      <td>358099104079272</td>\n      <td>FFFFFFFF</td>\n      <td>-64</td>\n      <td>0</td>\n      <td>65534</td>\n      <td>NaN</td>\n      <td>1</td>\n      <td>mi. ene. 1 02:37:15 2020</td>\n    </tr>\n  </tbody>\n</table>\n</div>",
      "text/plain": "  RAT                    OPERATOR  CHANNEL             IMSI             IMEI  \\\n0  2G  EC-Claro(América Móvil)-01      144  740020170411491  359459077681588   \n1  2G  EC-Claro(América Móvil)-01      144  740010164127419  357815081319451   \n2  2G  EC-Claro(América Móvil)-01      144  740010177429066  863697045358438   \n3  2G  EC-Claro(América Móvil)-01      144  740010120727910  357084081525001   \n4  2G  EC-Claro(América Móvil)-01      144  740010180400328  358099104079272   \n\n       TMSI  MS POWER  TA  LAST LAC  NAME  HITS                 DATE-TIME  \n0  FFFFFFFF       -61   0     65534   NaN     1  mi. ene. 1 03:05:16 2020  \n1  FFFFFFFF       -62   0     65534   NaN     1  mi. ene. 1 03:04:51 2020  \n2  151D1A53       -66   0     50134   NaN     1  mi. ene. 1 02:55:06 2020  \n3  97155956       -62   0     10228   NaN     1  mi. ene. 1 02:54:44 2020  \n4  FFFFFFFF       -64   0     65534   NaN     1  mi. ene. 1 02:37:15 2020  "
     },
     "execution_count": 15,
     "metadata": {},
     "output_type": "execute_result"
    }
   ],
   "source": [
    "dfs[0][0].head()"
   ]
  },
  {
   "cell_type": "code",
   "execution_count": 16,
   "metadata": {},
   "outputs": [
    {
     "data": {
      "text/plain": "3"
     },
     "execution_count": 16,
     "metadata": {},
     "output_type": "execute_result"
    }
   ],
   "source": [
    "# The dfs[0] means the excel file at index 0 with the 3 pages as dataframes\n",
    "len(dfs[0])\n",
    "# The fisrt index is a list of dataframes that has everydataframe"
   ]
  },
  {
   "cell_type": "code",
   "execution_count": 17,
   "metadata": {},
   "outputs": [
    {
     "data": {
      "text/plain": "6"
     },
     "execution_count": 17,
     "metadata": {},
     "output_type": "execute_result"
    }
   ],
   "source": [
    "len([df for dflist in dfs for df in dflist])"
   ]
  },
  {
   "cell_type": "code",
   "execution_count": 18,
   "metadata": {},
   "outputs": [
    {
     "name": "stdout",
     "output_type": "stream",
     "text": "<class 'pandas.core.frame.DataFrame'>\nInt64Index: 3627 entries, 0 to 73\nData columns (total 12 columns):\nRAT          3627 non-null object\nOPERATOR     3627 non-null object\nCHANNEL      3627 non-null int64\nIMSI         3524 non-null float64\nIMEI         3528 non-null float64\nTMSI         3528 non-null object\nMS POWER     3627 non-null float64\nTA           3627 non-null int64\nLAST LAC     3627 non-null int64\nNAME         0 non-null float64\nHITS         3627 non-null int64\nDATE-TIME    3627 non-null object\ndtypes: float64(4), int64(4), object(4)\nmemory usage: 368.4+ KB\n"
    }
   ],
   "source": [
    "allData = pd.concat([df for dflist in dfs for df in dflist])\n",
    "allData.info() # 3633-6 filas sin contar los headers"
   ]
  },
  {
   "cell_type": "code",
   "execution_count": 19,
   "metadata": {},
   "outputs": [],
   "source": [
    "# Renaming columns\n",
    "cols = allData.columns\n",
    "cols = cols.map(lambda x: x.strip().replace(' ', '_').strip() if isinstance(x, (str, )) else x)\n",
    "allData.columns = cols"
   ]
  },
  {
   "cell_type": "code",
   "execution_count": 20,
   "metadata": {},
   "outputs": [
    {
     "data": {
      "text/html": "<div>\n<style scoped>\n    .dataframe tbody tr th:only-of-type {\n        vertical-align: middle;\n    }\n\n    .dataframe tbody tr th {\n        vertical-align: top;\n    }\n\n    .dataframe thead th {\n        text-align: right;\n    }\n</style>\n<table border=\"1\" class=\"dataframe\">\n  <thead>\n    <tr style=\"text-align: right;\">\n      <th></th>\n      <th>RAT</th>\n      <th>OPERATOR</th>\n      <th>CHANNEL</th>\n      <th>IMSI</th>\n      <th>IMEI</th>\n      <th>TMSI</th>\n      <th>MS_POWER</th>\n      <th>TA</th>\n      <th>LAST_LAC</th>\n      <th>NAME</th>\n      <th>HITS</th>\n      <th>DATE-TIME</th>\n    </tr>\n  </thead>\n  <tbody>\n    <tr>\n      <td>0</td>\n      <td>2G</td>\n      <td>EC-Claro(América Móvil)-01</td>\n      <td>144</td>\n      <td>7.400202e+14</td>\n      <td>3.594591e+14</td>\n      <td>FFFFFFFF</td>\n      <td>-61.0</td>\n      <td>0</td>\n      <td>65534</td>\n      <td>NaN</td>\n      <td>1</td>\n      <td>mi. ene. 1 03:05:16 2020</td>\n    </tr>\n    <tr>\n      <td>1</td>\n      <td>2G</td>\n      <td>EC-Claro(América Móvil)-01</td>\n      <td>144</td>\n      <td>7.400102e+14</td>\n      <td>3.578151e+14</td>\n      <td>FFFFFFFF</td>\n      <td>-62.0</td>\n      <td>0</td>\n      <td>65534</td>\n      <td>NaN</td>\n      <td>1</td>\n      <td>mi. ene. 1 03:04:51 2020</td>\n    </tr>\n    <tr>\n      <td>2</td>\n      <td>2G</td>\n      <td>EC-Claro(América Móvil)-01</td>\n      <td>144</td>\n      <td>7.400102e+14</td>\n      <td>8.636970e+14</td>\n      <td>151D1A53</td>\n      <td>-66.0</td>\n      <td>0</td>\n      <td>50134</td>\n      <td>NaN</td>\n      <td>1</td>\n      <td>mi. ene. 1 02:55:06 2020</td>\n    </tr>\n    <tr>\n      <td>3</td>\n      <td>2G</td>\n      <td>EC-Claro(América Móvil)-01</td>\n      <td>144</td>\n      <td>7.400101e+14</td>\n      <td>3.570841e+14</td>\n      <td>97155956</td>\n      <td>-62.0</td>\n      <td>0</td>\n      <td>10228</td>\n      <td>NaN</td>\n      <td>1</td>\n      <td>mi. ene. 1 02:54:44 2020</td>\n    </tr>\n    <tr>\n      <td>4</td>\n      <td>2G</td>\n      <td>EC-Claro(América Móvil)-01</td>\n      <td>144</td>\n      <td>7.400102e+14</td>\n      <td>3.580991e+14</td>\n      <td>FFFFFFFF</td>\n      <td>-64.0</td>\n      <td>0</td>\n      <td>65534</td>\n      <td>NaN</td>\n      <td>1</td>\n      <td>mi. ene. 1 02:37:15 2020</td>\n    </tr>\n  </tbody>\n</table>\n</div>",
      "text/plain": "  RAT                    OPERATOR  CHANNEL          IMSI          IMEI  \\\n0  2G  EC-Claro(América Móvil)-01      144  7.400202e+14  3.594591e+14   \n1  2G  EC-Claro(América Móvil)-01      144  7.400102e+14  3.578151e+14   \n2  2G  EC-Claro(América Móvil)-01      144  7.400102e+14  8.636970e+14   \n3  2G  EC-Claro(América Móvil)-01      144  7.400101e+14  3.570841e+14   \n4  2G  EC-Claro(América Móvil)-01      144  7.400102e+14  3.580991e+14   \n\n       TMSI  MS_POWER  TA  LAST_LAC  NAME  HITS                 DATE-TIME  \n0  FFFFFFFF     -61.0   0     65534   NaN     1  mi. ene. 1 03:05:16 2020  \n1  FFFFFFFF     -62.0   0     65534   NaN     1  mi. ene. 1 03:04:51 2020  \n2  151D1A53     -66.0   0     50134   NaN     1  mi. ene. 1 02:55:06 2020  \n3  97155956     -62.0   0     10228   NaN     1  mi. ene. 1 02:54:44 2020  \n4  FFFFFFFF     -64.0   0     65534   NaN     1  mi. ene. 1 02:37:15 2020  "
     },
     "execution_count": 20,
     "metadata": {},
     "output_type": "execute_result"
    }
   ],
   "source": [
    "allData.head()"
   ]
  },
  {
   "cell_type": "markdown",
   "execution_count": null,
   "metadata": {},
   "outputs": [],
   "source": [
    "### Returns a datetime object from a string representation"
   ]
  },
  {
   "cell_type": "code",
   "execution_count": 21,
   "metadata": {},
   "outputs": [
    {
     "name": "stdout",
     "output_type": "stream",
     "text": "2019-12-31 23:50:11\n"
    },
    {
     "data": {
      "text/plain": "pandas._libs.tslibs.timestamps.Timestamp"
     },
     "execution_count": 21,
     "metadata": {},
     "output_type": "execute_result"
    }
   ],
   "source": [
    "def getMonthInt(strMonth):\n",
    "    if(strMonth.lower() in [\"ene\"]):\n",
    "        return 1\n",
    "    elif(strMonth.lower() in [\"feb\"]):\n",
    "        return 2\n",
    "    elif(strMonth.lower() in [\"mar\"]):\n",
    "        return 3\n",
    "    elif(strMonth.lower() in [\"abr\"]):\n",
    "        return 4\n",
    "    elif(strMonth.lower() in [\"may\"]):\n",
    "        return 5\n",
    "    elif(strMonth.lower() in [\"jun\"]):\n",
    "        return 6\n",
    "    elif(strMonth.lower() in [\"jul\"]):\n",
    "        return 7\n",
    "    elif(strMonth.lower() in [\"ago\"]):\n",
    "        return 8\n",
    "    elif(strMonth.lower() in [\"sep\"]):\n",
    "        return 9\n",
    "    elif(strMonth.lower() in [\"oct\"]):\n",
    "        return 10\n",
    "    elif(strMonth.lower() in [\"nov\"]):\n",
    "        return 11\n",
    "    elif(strMonth.lower() in [\"dic\"]):\n",
    "        return 12\n",
    "\n",
    "def toDatetime(dateStr):\n",
    "    # Date string example-> ma. dic. 31 23:50:11 2019\n",
    "    _, month,t_year = list(map(str.strip, dateStr.split('.')))\n",
    "    day, t, year = t_year.split(' ') \n",
    "    month = getMonthInt(month)\n",
    "    dateStr = f\"{year}-{month}-{day} {t}\"\n",
    "    return pd.to_datetime(dateStr, format=\"%Y-%m-%d %X\")\n",
    "result = toDatetime(\"ma. dic. 31 23:50:11 2019\")\n",
    "print(result)\n",
    "type(result)"
   ]
  },
  {
   "cell_type": "code",
   "execution_count": 22,
   "metadata": {},
   "outputs": [
    {
     "data": {
      "text/html": "<div>\n<style scoped>\n    .dataframe tbody tr th:only-of-type {\n        vertical-align: middle;\n    }\n\n    .dataframe tbody tr th {\n        vertical-align: top;\n    }\n\n    .dataframe thead th {\n        text-align: right;\n    }\n</style>\n<table border=\"1\" class=\"dataframe\">\n  <thead>\n    <tr style=\"text-align: right;\">\n      <th></th>\n      <th>RAT</th>\n      <th>OPERATOR</th>\n      <th>CHANNEL</th>\n      <th>IMSI</th>\n      <th>IMEI</th>\n      <th>TMSI</th>\n      <th>MS_POWER</th>\n      <th>TA</th>\n      <th>LAST_LAC</th>\n      <th>NAME</th>\n      <th>HITS</th>\n      <th>DATE-TIME</th>\n      <th>DATE_TIME</th>\n    </tr>\n  </thead>\n  <tbody>\n    <tr>\n      <td>0</td>\n      <td>2G</td>\n      <td>EC-Claro(América Móvil)-01</td>\n      <td>144</td>\n      <td>7.400202e+14</td>\n      <td>3.594591e+14</td>\n      <td>FFFFFFFF</td>\n      <td>-61.0</td>\n      <td>0</td>\n      <td>65534</td>\n      <td>NaN</td>\n      <td>1</td>\n      <td>mi. ene. 1 03:05:16 2020</td>\n      <td>2020-01-01 03:05:16</td>\n    </tr>\n    <tr>\n      <td>1</td>\n      <td>2G</td>\n      <td>EC-Claro(América Móvil)-01</td>\n      <td>144</td>\n      <td>7.400102e+14</td>\n      <td>3.578151e+14</td>\n      <td>FFFFFFFF</td>\n      <td>-62.0</td>\n      <td>0</td>\n      <td>65534</td>\n      <td>NaN</td>\n      <td>1</td>\n      <td>mi. ene. 1 03:04:51 2020</td>\n      <td>2020-01-01 03:04:51</td>\n    </tr>\n  </tbody>\n</table>\n</div>",
      "text/plain": "  RAT                    OPERATOR  CHANNEL          IMSI          IMEI  \\\n0  2G  EC-Claro(América Móvil)-01      144  7.400202e+14  3.594591e+14   \n1  2G  EC-Claro(América Móvil)-01      144  7.400102e+14  3.578151e+14   \n\n       TMSI  MS_POWER  TA  LAST_LAC  NAME  HITS                 DATE-TIME  \\\n0  FFFFFFFF     -61.0   0     65534   NaN     1  mi. ene. 1 03:05:16 2020   \n1  FFFFFFFF     -62.0   0     65534   NaN     1  mi. ene. 1 03:04:51 2020   \n\n            DATE_TIME  \n0 2020-01-01 03:05:16  \n1 2020-01-01 03:04:51  "
     },
     "execution_count": 22,
     "metadata": {},
     "output_type": "execute_result"
    }
   ],
   "source": [
    "allData['DATE_TIME'] = allData['DATE-TIME'].apply(toDatetime)\n",
    "allData.head(2)\n",
    "allData.drop('DATE-TIME', axis=1, inplace=True)\n"
   ]
  },
  {
   "cell_type": "code",
   "execution_count": 54,
   "metadata": {},
   "outputs": [],
   "source": [
    "# allData['DATE'] = pd.to_datetime(allData['DATE-TIME'], format=\"%Y-%m-%d\").dt.date\n",
    "# allData['TIME'] = pd.to_datetime(allData['DATE-TIME']).dt.time\n",
    "# allData.sort_values(by=[\"DATE\"], inplace=True, ascending=True)"
   ]
  },
  {
   "cell_type": "code",
   "execution_count": 55,
   "metadata": {},
   "outputs": [],
   "source": [
    "# allData.drop('DATE-TIME', axis=1, inplace=True)"
   ]
  },
  {
   "cell_type": "code",
   "execution_count": 56,
   "metadata": {},
   "outputs": [
    {
     "data": {
      "text/html": "<div>\n<style scoped>\n    .dataframe tbody tr th:only-of-type {\n        vertical-align: middle;\n    }\n\n    .dataframe tbody tr th {\n        vertical-align: top;\n    }\n\n    .dataframe thead th {\n        text-align: right;\n    }\n</style>\n<table border=\"1\" class=\"dataframe\">\n  <thead>\n    <tr style=\"text-align: right;\">\n      <th></th>\n      <th>RAT</th>\n      <th>OPERATOR</th>\n      <th>CHANNEL</th>\n      <th>IMSI</th>\n      <th>IMEI</th>\n      <th>TMSI</th>\n      <th>MS_POWER</th>\n      <th>TA</th>\n      <th>LAST_LAC</th>\n      <th>NAME</th>\n      <th>HITS</th>\n      <th>DATE-TIME</th>\n      <th>DATE_TIME</th>\n    </tr>\n  </thead>\n  <tbody>\n    <tr>\n      <td>0</td>\n      <td>2G</td>\n      <td>EC-Claro(América Móvil)-01</td>\n      <td>144</td>\n      <td>7.400202e+14</td>\n      <td>3.594591e+14</td>\n      <td>FFFFFFFF</td>\n      <td>-61.0</td>\n      <td>0</td>\n      <td>65534</td>\n      <td>NaN</td>\n      <td>1</td>\n      <td>mi. ene. 1 03:05:16 2020</td>\n      <td>2020-01-01 03:05:16</td>\n    </tr>\n    <tr>\n      <td>1</td>\n      <td>2G</td>\n      <td>EC-Claro(América Móvil)-01</td>\n      <td>144</td>\n      <td>7.400102e+14</td>\n      <td>3.578151e+14</td>\n      <td>FFFFFFFF</td>\n      <td>-62.0</td>\n      <td>0</td>\n      <td>65534</td>\n      <td>NaN</td>\n      <td>1</td>\n      <td>mi. ene. 1 03:04:51 2020</td>\n      <td>2020-01-01 03:04:51</td>\n    </tr>\n  </tbody>\n</table>\n</div>",
      "text/plain": "  RAT                    OPERATOR  CHANNEL          IMSI          IMEI  \\\n0  2G  EC-Claro(América Móvil)-01      144  7.400202e+14  3.594591e+14   \n1  2G  EC-Claro(América Móvil)-01      144  7.400102e+14  3.578151e+14   \n\n       TMSI  MS_POWER  TA  LAST_LAC  NAME  HITS                 DATE-TIME  \\\n0  FFFFFFFF     -61.0   0     65534   NaN     1  mi. ene. 1 03:05:16 2020   \n1  FFFFFFFF     -62.0   0     65534   NaN     1  mi. ene. 1 03:04:51 2020   \n\n            DATE_TIME  \n0 2020-01-01 03:05:16  \n1 2020-01-01 03:04:51  "
     },
     "execution_count": 56,
     "metadata": {},
     "output_type": "execute_result"
    }
   ],
   "source": [
    "allData.head(2)"
   ]
  },
  {
   "cell_type": "code",
   "execution_count": 57,
   "metadata": {},
   "outputs": [
    {
     "data": {
      "text/html": "<div>\n<style scoped>\n    .dataframe tbody tr th:only-of-type {\n        vertical-align: middle;\n    }\n\n    .dataframe tbody tr th {\n        vertical-align: top;\n    }\n\n    .dataframe thead th {\n        text-align: right;\n    }\n</style>\n<table border=\"1\" class=\"dataframe\">\n  <thead>\n    <tr style=\"text-align: right;\">\n      <th></th>\n      <th>OPERATOR</th>\n      <th>CHANNEL</th>\n      <th>IMSI</th>\n      <th>IMEI</th>\n      <th>TMSI</th>\n      <th>MS_POWER</th>\n      <th>TA</th>\n      <th>LAST_LAC</th>\n      <th>NAME</th>\n      <th>HITS</th>\n      <th>DATE-TIME</th>\n      <th>DATE_TIME</th>\n    </tr>\n    <tr>\n      <th>RAT</th>\n      <th></th>\n      <th></th>\n      <th></th>\n      <th></th>\n      <th></th>\n      <th></th>\n      <th></th>\n      <th></th>\n      <th></th>\n      <th></th>\n      <th></th>\n      <th></th>\n    </tr>\n  </thead>\n  <tbody>\n    <tr>\n      <td>2G</td>\n      <td>1457</td>\n      <td>1457</td>\n      <td>1456</td>\n      <td>1457</td>\n      <td>1457</td>\n      <td>1457</td>\n      <td>1457</td>\n      <td>1457</td>\n      <td>0</td>\n      <td>1457</td>\n      <td>1457</td>\n      <td>1457</td>\n    </tr>\n    <tr>\n      <td>3G</td>\n      <td>2071</td>\n      <td>2071</td>\n      <td>1969</td>\n      <td>2071</td>\n      <td>2071</td>\n      <td>2071</td>\n      <td>2071</td>\n      <td>2071</td>\n      <td>0</td>\n      <td>2071</td>\n      <td>2071</td>\n      <td>2071</td>\n    </tr>\n    <tr>\n      <td>4G</td>\n      <td>99</td>\n      <td>99</td>\n      <td>99</td>\n      <td>0</td>\n      <td>0</td>\n      <td>99</td>\n      <td>99</td>\n      <td>99</td>\n      <td>0</td>\n      <td>99</td>\n      <td>99</td>\n      <td>99</td>\n    </tr>\n  </tbody>\n</table>\n</div>",
      "text/plain": "     OPERATOR  CHANNEL  IMSI  IMEI  TMSI  MS_POWER    TA  LAST_LAC  NAME  \\\nRAT                                                                        \n2G       1457     1457  1456  1457  1457      1457  1457      1457     0   \n3G       2071     2071  1969  2071  2071      2071  2071      2071     0   \n4G         99       99    99     0     0        99    99        99     0   \n\n     HITS  DATE-TIME  DATE_TIME  \nRAT                              \n2G   1457       1457       1457  \n3G   2071       2071       2071  \n4G     99         99         99  "
     },
     "execution_count": 57,
     "metadata": {},
     "output_type": "execute_result"
    }
   ],
   "source": [
    "allData.groupby('RAT').count()"
   ]
  },
  {
   "cell_type": "code",
   "execution_count": 16,
   "metadata": {},
   "outputs": [
    {
     "data": {
      "text/html": "<div>\n<style scoped>\n    .dataframe tbody tr th:only-of-type {\n        vertical-align: middle;\n    }\n\n    .dataframe tbody tr th {\n        vertical-align: top;\n    }\n\n    .dataframe thead th {\n        text-align: right;\n    }\n</style>\n<table border=\"1\" class=\"dataframe\">\n  <thead>\n    <tr style=\"text-align: right;\">\n      <th></th>\n      <th>RAT</th>\n      <th>OPERATOR</th>\n      <th>CHANNEL</th>\n      <th>IMSI</th>\n      <th>TMSI</th>\n      <th>MS_POWER</th>\n      <th>TA</th>\n      <th>LAST_LAC</th>\n      <th>NAME</th>\n      <th>HITS</th>\n      <th>DATE</th>\n      <th>TIME</th>\n    </tr>\n    <tr>\n      <th>IMEI</th>\n      <th></th>\n      <th></th>\n      <th></th>\n      <th></th>\n      <th></th>\n      <th></th>\n      <th></th>\n      <th></th>\n      <th></th>\n      <th></th>\n      <th></th>\n      <th></th>\n    </tr>\n  </thead>\n  <tbody>\n    <tr>\n      <td>1.037300e+13</td>\n      <td>1</td>\n      <td>1</td>\n      <td>1</td>\n      <td>1</td>\n      <td>1</td>\n      <td>1</td>\n      <td>1</td>\n      <td>1</td>\n      <td>0</td>\n      <td>1</td>\n      <td>1</td>\n      <td>1</td>\n    </tr>\n    <tr>\n      <td>1.099701e+13</td>\n      <td>1</td>\n      <td>1</td>\n      <td>1</td>\n      <td>1</td>\n      <td>1</td>\n      <td>1</td>\n      <td>1</td>\n      <td>1</td>\n      <td>0</td>\n      <td>1</td>\n      <td>1</td>\n      <td>1</td>\n    </tr>\n    <tr>\n      <td>1.122300e+13</td>\n      <td>1</td>\n      <td>1</td>\n      <td>1</td>\n      <td>1</td>\n      <td>1</td>\n      <td>1</td>\n      <td>1</td>\n      <td>1</td>\n      <td>0</td>\n      <td>1</td>\n      <td>1</td>\n      <td>1</td>\n    </tr>\n    <tr>\n      <td>1.138700e+13</td>\n      <td>1</td>\n      <td>1</td>\n      <td>1</td>\n      <td>1</td>\n      <td>1</td>\n      <td>1</td>\n      <td>1</td>\n      <td>1</td>\n      <td>0</td>\n      <td>1</td>\n      <td>1</td>\n      <td>1</td>\n    </tr>\n    <tr>\n      <td>1.138800e+13</td>\n      <td>1</td>\n      <td>1</td>\n      <td>1</td>\n      <td>1</td>\n      <td>1</td>\n      <td>1</td>\n      <td>1</td>\n      <td>1</td>\n      <td>0</td>\n      <td>1</td>\n      <td>1</td>\n      <td>1</td>\n    </tr>\n    <tr>\n      <td>...</td>\n      <td>...</td>\n      <td>...</td>\n      <td>...</td>\n      <td>...</td>\n      <td>...</td>\n      <td>...</td>\n      <td>...</td>\n      <td>...</td>\n      <td>...</td>\n      <td>...</td>\n      <td>...</td>\n      <td>...</td>\n    </tr>\n    <tr>\n      <td>8.699710e+14</td>\n      <td>2</td>\n      <td>2</td>\n      <td>2</td>\n      <td>2</td>\n      <td>2</td>\n      <td>2</td>\n      <td>2</td>\n      <td>2</td>\n      <td>0</td>\n      <td>2</td>\n      <td>2</td>\n      <td>2</td>\n    </tr>\n    <tr>\n      <td>8.699710e+14</td>\n      <td>3</td>\n      <td>3</td>\n      <td>3</td>\n      <td>2</td>\n      <td>3</td>\n      <td>3</td>\n      <td>3</td>\n      <td>3</td>\n      <td>0</td>\n      <td>3</td>\n      <td>3</td>\n      <td>3</td>\n    </tr>\n    <tr>\n      <td>8.699710e+14</td>\n      <td>1</td>\n      <td>1</td>\n      <td>1</td>\n      <td>1</td>\n      <td>1</td>\n      <td>1</td>\n      <td>1</td>\n      <td>1</td>\n      <td>0</td>\n      <td>1</td>\n      <td>1</td>\n      <td>1</td>\n    </tr>\n    <tr>\n      <td>8.699720e+14</td>\n      <td>1</td>\n      <td>1</td>\n      <td>1</td>\n      <td>1</td>\n      <td>1</td>\n      <td>1</td>\n      <td>1</td>\n      <td>1</td>\n      <td>0</td>\n      <td>1</td>\n      <td>1</td>\n      <td>1</td>\n    </tr>\n    <tr>\n      <td>9.900058e+14</td>\n      <td>1</td>\n      <td>1</td>\n      <td>1</td>\n      <td>1</td>\n      <td>1</td>\n      <td>1</td>\n      <td>1</td>\n      <td>1</td>\n      <td>0</td>\n      <td>1</td>\n      <td>1</td>\n      <td>1</td>\n    </tr>\n  </tbody>\n</table>\n<p>2260 rows × 12 columns</p>\n</div>",
      "text/plain": "              RAT  OPERATOR  CHANNEL  IMSI  TMSI  MS_POWER  TA  LAST_LAC  \\\nIMEI                                                                       \n1.037300e+13    1         1        1     1     1         1   1         1   \n1.099701e+13    1         1        1     1     1         1   1         1   \n1.122300e+13    1         1        1     1     1         1   1         1   \n1.138700e+13    1         1        1     1     1         1   1         1   \n1.138800e+13    1         1        1     1     1         1   1         1   \n...           ...       ...      ...   ...   ...       ...  ..       ...   \n8.699710e+14    2         2        2     2     2         2   2         2   \n8.699710e+14    3         3        3     2     3         3   3         3   \n8.699710e+14    1         1        1     1     1         1   1         1   \n8.699720e+14    1         1        1     1     1         1   1         1   \n9.900058e+14    1         1        1     1     1         1   1         1   \n\n              NAME  HITS  DATE  TIME  \nIMEI                                  \n1.037300e+13     0     1     1     1  \n1.099701e+13     0     1     1     1  \n1.122300e+13     0     1     1     1  \n1.138700e+13     0     1     1     1  \n1.138800e+13     0     1     1     1  \n...            ...   ...   ...   ...  \n8.699710e+14     0     2     2     2  \n8.699710e+14     0     3     3     3  \n8.699710e+14     0     1     1     1  \n8.699720e+14     0     1     1     1  \n9.900058e+14     0     1     1     1  \n\n[2260 rows x 12 columns]"
     },
     "execution_count": 16,
     "metadata": {},
     "output_type": "execute_result"
    }
   ],
   "source": [
    "allData.groupby('IMEI').count()"
   ]
  },
  {
   "cell_type": "code",
   "execution_count": 17,
   "metadata": {},
   "outputs": [
    {
     "data": {
      "text/plain": "IMEI\n1.037300e+13    1\n1.099701e+13    1\n1.122300e+13    1\n1.138700e+13    1\n1.138800e+13    1\n               ..\n8.699710e+14    2\n8.699710e+14    2\n8.699710e+14    1\n8.699720e+14    1\n9.900058e+14    1\nName: IMSI, Length: 2260, dtype: int64"
     },
     "execution_count": 17,
     "metadata": {},
     "output_type": "execute_result"
    }
   ],
   "source": [
    "allData.groupby('IMEI').count()['IMSI']"
   ]
  },
  {
   "cell_type": "code",
   "execution_count": 18,
   "metadata": {},
   "outputs": [
    {
     "data": {
      "text/plain": "<matplotlib.axes._subplots.AxesSubplot at 0x2cabe0d3f08>"
     },
     "execution_count": 18,
     "metadata": {},
     "output_type": "execute_result"
    }
   ],
   "source": [
    "allData.groupby('IMEI').count()['IMSI'].sort_values(ascending=False).head(20).plot.bar()"
   ]
  },
  {
   "cell_type": "code",
   "execution_count": 79,
   "metadata": {},
   "outputs": [
    {
     "data": {
      "text/html": "<div>\n<style scoped>\n    .dataframe tbody tr th:only-of-type {\n        vertical-align: middle;\n    }\n\n    .dataframe tbody tr th {\n        vertical-align: top;\n    }\n\n    .dataframe thead th {\n        text-align: right;\n    }\n</style>\n<table border=\"1\" class=\"dataframe\">\n  <thead>\n    <tr style=\"text-align: right;\">\n      <th></th>\n      <th>RAT</th>\n      <th>OPERATOR</th>\n      <th>CHANNEL</th>\n      <th>IMSI</th>\n      <th>IMEI</th>\n      <th>TMSI</th>\n      <th>MS_POWER</th>\n      <th>TA</th>\n      <th>LAST_LAC</th>\n      <th>NAME</th>\n      <th>HITS</th>\n      <th>DATE-TIME</th>\n      <th>DATE_TIME</th>\n    </tr>\n  </thead>\n  <tbody>\n    <tr>\n      <td>0</td>\n      <td>3G</td>\n      <td>EC-Claro(América Móvil)-01</td>\n      <td>587</td>\n      <td>7.400102e+14</td>\n      <td>3.546121e+14</td>\n      <td>F44BDA78</td>\n      <td>-93.0</td>\n      <td>3</td>\n      <td>50134</td>\n      <td>NaN</td>\n      <td>1</td>\n      <td>mi. ene. 1 01:41:41 2020</td>\n      <td>2020-01-01 01:41:41</td>\n    </tr>\n    <tr>\n      <td>1</td>\n      <td>3G</td>\n      <td>EC-Claro(América Móvil)-01</td>\n      <td>587</td>\n      <td>7.400102e+14</td>\n      <td>3.587931e+14</td>\n      <td>F044798E</td>\n      <td>-94.0</td>\n      <td>3</td>\n      <td>50134</td>\n      <td>NaN</td>\n      <td>1</td>\n      <td>mi. ene. 1 00:39:43 2020</td>\n      <td>2020-01-01 00:39:43</td>\n    </tr>\n    <tr>\n      <td>2</td>\n      <td>3G</td>\n      <td>EC-Claro(América Móvil)-01</td>\n      <td>587</td>\n      <td>7.400102e+14</td>\n      <td>3.526611e+14</td>\n      <td>F54AD920</td>\n      <td>-92.0</td>\n      <td>3</td>\n      <td>50134</td>\n      <td>NaN</td>\n      <td>1</td>\n      <td>mi. ene. 1 00:30:59 2020</td>\n      <td>2020-01-01 00:30:59</td>\n    </tr>\n    <tr>\n      <td>3</td>\n      <td>3G</td>\n      <td>EC-Claro(América Móvil)-01</td>\n      <td>587</td>\n      <td>7.400102e+14</td>\n      <td>3.537711e+14</td>\n      <td>F041E2C0</td>\n      <td>-98.0</td>\n      <td>3</td>\n      <td>32769</td>\n      <td>NaN</td>\n      <td>3</td>\n      <td>mi. ene. 1 01:42:15 2020</td>\n      <td>2020-01-01 01:42:15</td>\n    </tr>\n    <tr>\n      <td>4</td>\n      <td>3G</td>\n      <td>EC-Claro(América Móvil)-01</td>\n      <td>587</td>\n      <td>7.400102e+14</td>\n      <td>3.571401e+14</td>\n      <td>C5433C71</td>\n      <td>-92.0</td>\n      <td>3</td>\n      <td>50134</td>\n      <td>NaN</td>\n      <td>1</td>\n      <td>mi. ene. 1 00:24:49 2020</td>\n      <td>2020-01-01 00:24:49</td>\n    </tr>\n    <tr>\n      <td>...</td>\n      <td>...</td>\n      <td>...</td>\n      <td>...</td>\n      <td>...</td>\n      <td>...</td>\n      <td>...</td>\n      <td>...</td>\n      <td>...</td>\n      <td>...</td>\n      <td>...</td>\n      <td>...</td>\n      <td>...</td>\n      <td>...</td>\n    </tr>\n    <tr>\n      <td>69</td>\n      <td>4G</td>\n      <td>EC-Movistar(Telefónica)-00</td>\n      <td>700</td>\n      <td>7.400002e+14</td>\n      <td>NaN</td>\n      <td>NaN</td>\n      <td>-104757.0</td>\n      <td>2</td>\n      <td>-1</td>\n      <td>NaN</td>\n      <td>11</td>\n      <td>ju. ene. 2 13:48:39 2020</td>\n      <td>2020-01-02 13:48:39</td>\n    </tr>\n    <tr>\n      <td>70</td>\n      <td>4G</td>\n      <td>EC-Movistar(Telefónica)-00</td>\n      <td>700</td>\n      <td>7.400001e+14</td>\n      <td>NaN</td>\n      <td>NaN</td>\n      <td>-116319.0</td>\n      <td>2</td>\n      <td>9616</td>\n      <td>NaN</td>\n      <td>1</td>\n      <td>ju. ene. 2 10:05:15 2020</td>\n      <td>2020-01-02 10:05:15</td>\n    </tr>\n    <tr>\n      <td>71</td>\n      <td>4G</td>\n      <td>EC-Movistar(Telefónica)-00</td>\n      <td>700</td>\n      <td>7.400001e+14</td>\n      <td>NaN</td>\n      <td>NaN</td>\n      <td>-110616.0</td>\n      <td>2</td>\n      <td>9616</td>\n      <td>NaN</td>\n      <td>3</td>\n      <td>ju. ene. 2 13:49:10 2020</td>\n      <td>2020-01-02 13:49:10</td>\n    </tr>\n    <tr>\n      <td>72</td>\n      <td>4G</td>\n      <td>EC-Movistar(Telefónica)-00</td>\n      <td>700</td>\n      <td>7.400001e+14</td>\n      <td>NaN</td>\n      <td>NaN</td>\n      <td>-104366.0</td>\n      <td>2</td>\n      <td>9616</td>\n      <td>NaN</td>\n      <td>1</td>\n      <td>ju. ene. 2 10:04:13 2020</td>\n      <td>2020-01-02 10:04:13</td>\n    </tr>\n    <tr>\n      <td>73</td>\n      <td>4G</td>\n      <td>EC-Movistar(Telefónica)-00</td>\n      <td>700</td>\n      <td>7.400001e+14</td>\n      <td>NaN</td>\n      <td>NaN</td>\n      <td>-112.1</td>\n      <td>2</td>\n      <td>9616</td>\n      <td>NaN</td>\n      <td>7</td>\n      <td>ju. ene. 2 11:46:25 2020</td>\n      <td>2020-01-02 11:46:25</td>\n    </tr>\n  </tbody>\n</table>\n<p>2170 rows × 13 columns</p>\n</div>",
      "text/plain": "   RAT                    OPERATOR  CHANNEL          IMSI          IMEI  \\\n0   3G  EC-Claro(América Móvil)-01      587  7.400102e+14  3.546121e+14   \n1   3G  EC-Claro(América Móvil)-01      587  7.400102e+14  3.587931e+14   \n2   3G  EC-Claro(América Móvil)-01      587  7.400102e+14  3.526611e+14   \n3   3G  EC-Claro(América Móvil)-01      587  7.400102e+14  3.537711e+14   \n4   3G  EC-Claro(América Móvil)-01      587  7.400102e+14  3.571401e+14   \n..  ..                         ...      ...           ...           ...   \n69  4G  EC-Movistar(Telefónica)-00      700  7.400002e+14           NaN   \n70  4G  EC-Movistar(Telefónica)-00      700  7.400001e+14           NaN   \n71  4G  EC-Movistar(Telefónica)-00      700  7.400001e+14           NaN   \n72  4G  EC-Movistar(Telefónica)-00      700  7.400001e+14           NaN   \n73  4G  EC-Movistar(Telefónica)-00      700  7.400001e+14           NaN   \n\n        TMSI  MS_POWER  TA  LAST_LAC  NAME  HITS                 DATE-TIME  \\\n0   F44BDA78     -93.0   3     50134   NaN     1  mi. ene. 1 01:41:41 2020   \n1   F044798E     -94.0   3     50134   NaN     1  mi. ene. 1 00:39:43 2020   \n2   F54AD920     -92.0   3     50134   NaN     1  mi. ene. 1 00:30:59 2020   \n3   F041E2C0     -98.0   3     32769   NaN     3  mi. ene. 1 01:42:15 2020   \n4   C5433C71     -92.0   3     50134   NaN     1  mi. ene. 1 00:24:49 2020   \n..       ...       ...  ..       ...   ...   ...                       ...   \n69       NaN -104757.0   2        -1   NaN    11  ju. ene. 2 13:48:39 2020   \n70       NaN -116319.0   2      9616   NaN     1  ju. ene. 2 10:05:15 2020   \n71       NaN -110616.0   2      9616   NaN     3  ju. ene. 2 13:49:10 2020   \n72       NaN -104366.0   2      9616   NaN     1  ju. ene. 2 10:04:13 2020   \n73       NaN    -112.1   2      9616   NaN     7  ju. ene. 2 11:46:25 2020   \n\n             DATE_TIME  \n0  2020-01-01 01:41:41  \n1  2020-01-01 00:39:43  \n2  2020-01-01 00:30:59  \n3  2020-01-01 01:42:15  \n4  2020-01-01 00:24:49  \n..                 ...  \n69 2020-01-02 13:48:39  \n70 2020-01-02 10:05:15  \n71 2020-01-02 13:49:10  \n72 2020-01-02 10:04:13  \n73 2020-01-02 11:46:25  \n\n[2170 rows x 13 columns]"
     },
     "execution_count": 79,
     "metadata": {},
     "output_type": "execute_result"
    }
   ],
   "source": [
    "def tiempoAvanceFilter(df, valuesList):\n",
    "    \"\"\" Filters the df by the values on the TA column\"\"\"\n",
    "    return df[df['TA'].isin(valuesList)]\n",
    "tiempoAvanceFilter(allData, [1,2,3,4,5,6])"
   ]
  },
  {
   "cell_type": "code",
   "execution_count": 0,
   "metadata": {},
   "outputs": [],
   "source": [
    "def msPowerRangeFilter(df, fromN, toN):\n",
    "    \"\"\" Filters the df in the column MS POWER with the given boundaries\"\"\"\n",
    "    return df[df['MS POWER'].between(fromN, toN)]\n",
    "msPower(allData, -100, 60)"
   ]
  },
  {
   "cell_type": "code",
   "execution_count": 0,
   "metadata": {},
   "outputs": [],
   "source": [
    "def lastLacRangeFilter(df, fromN, toN):\n",
    "    \"\"\" Filters the df in the column LAST LAC within the given boundaries\"\"\"\n",
    "    return df[df['LAST LAC'].between(fromN, toN)]\n",
    "lastLac(allData, -100, 60000)"
   ]
  },
  {
   "cell_type": "code",
   "execution_count": 0,
   "metadata": {},
   "outputs": [],
   "source": [
    "def getHitsAmounForEmais(df, n=None):\n",
    "    \"\"\" Gets the frecuency of each IMEI in the df and returns a n length series\"\"\"\n",
    "    # return df.groupby('IMEI')['HITS'].sum().sort_values(ascending=False).head(n=n)\n",
    "    return df.groupby('IMEI')['HITS'].transform(\n",
    "        lambda x: sum(x)\n",
    "    )\n",
    "getFrecuencyForEmais(allData)"
   ]
  },
  {
   "cell_type": "code",
   "execution_count": 78,
   "metadata": {},
   "outputs": [
    {
     "data": {
      "text/html": "<div>\n<style scoped>\n    .dataframe tbody tr th:only-of-type {\n        vertical-align: middle;\n    }\n\n    .dataframe tbody tr th {\n        vertical-align: top;\n    }\n\n    .dataframe thead th {\n        text-align: right;\n    }\n</style>\n<table border=\"1\" class=\"dataframe\">\n  <thead>\n    <tr style=\"text-align: right;\">\n      <th></th>\n      <th>RAT</th>\n      <th>OPERATOR</th>\n      <th>CHANNEL</th>\n      <th>IMSI</th>\n      <th>IMEI</th>\n      <th>TMSI</th>\n      <th>MS_POWER</th>\n      <th>TA</th>\n      <th>LAST_LAC</th>\n      <th>NAME</th>\n      <th>HITS</th>\n      <th>DATE_TIME</th>\n      <th>test</th>\n    </tr>\n  </thead>\n  <tbody>\n    <tr>\n      <td>0</td>\n      <td>2G</td>\n      <td>EC-Claro(América Móvil)-01</td>\n      <td>144</td>\n      <td>7.400202e+14</td>\n      <td>3.594591e+14</td>\n      <td>FFFFFFFF</td>\n      <td>-61.0</td>\n      <td>0</td>\n      <td>65534</td>\n      <td>NaN</td>\n      <td>1</td>\n      <td>2020-01-01 03:05:16</td>\n      <td>f2c32df94581d7c7ad60fd4d581b4531</td>\n    </tr>\n    <tr>\n      <td>1</td>\n      <td>2G</td>\n      <td>EC-Claro(América Móvil)-01</td>\n      <td>144</td>\n      <td>7.400102e+14</td>\n      <td>3.578151e+14</td>\n      <td>FFFFFFFF</td>\n      <td>-62.0</td>\n      <td>0</td>\n      <td>65534</td>\n      <td>NaN</td>\n      <td>1</td>\n      <td>2020-01-01 03:04:51</td>\n      <td>2af54eb33eb0049a80f82ee93826cee0</td>\n    </tr>\n    <tr>\n      <td>2</td>\n      <td>2G</td>\n      <td>EC-Claro(América Móvil)-01</td>\n      <td>144</td>\n      <td>7.400102e+14</td>\n      <td>8.636970e+14</td>\n      <td>151D1A53</td>\n      <td>-66.0</td>\n      <td>0</td>\n      <td>50134</td>\n      <td>NaN</td>\n      <td>1</td>\n      <td>2020-01-01 02:55:06</td>\n      <td>634f626b4d8d9122684165bac3b2dc16</td>\n    </tr>\n    <tr>\n      <td>3</td>\n      <td>2G</td>\n      <td>EC-Claro(América Móvil)-01</td>\n      <td>144</td>\n      <td>7.400101e+14</td>\n      <td>3.570841e+14</td>\n      <td>97155956</td>\n      <td>-62.0</td>\n      <td>0</td>\n      <td>10228</td>\n      <td>NaN</td>\n      <td>1</td>\n      <td>2020-01-01 02:54:44</td>\n      <td>24c7f4fe956e54719b3deea7ff7878ba</td>\n    </tr>\n    <tr>\n      <td>4</td>\n      <td>2G</td>\n      <td>EC-Claro(América Móvil)-01</td>\n      <td>144</td>\n      <td>7.400102e+14</td>\n      <td>3.580991e+14</td>\n      <td>FFFFFFFF</td>\n      <td>-64.0</td>\n      <td>0</td>\n      <td>65534</td>\n      <td>NaN</td>\n      <td>1</td>\n      <td>2020-01-01 02:37:15</td>\n      <td>332c8325cdd994425399b26ed08a2561</td>\n    </tr>\n    <tr>\n      <td>...</td>\n      <td>...</td>\n      <td>...</td>\n      <td>...</td>\n      <td>...</td>\n      <td>...</td>\n      <td>...</td>\n      <td>...</td>\n      <td>...</td>\n      <td>...</td>\n      <td>...</td>\n      <td>...</td>\n      <td>...</td>\n      <td>...</td>\n    </tr>\n    <tr>\n      <td>976</td>\n      <td>3G</td>\n      <td>EC-Movistar(Telefónica)-00</td>\n      <td>537</td>\n      <td>7.400001e+14</td>\n      <td>8.658420e+14</td>\n      <td>D51AC792</td>\n      <td>-102.0</td>\n      <td>2</td>\n      <td>15251</td>\n      <td>NaN</td>\n      <td>1</td>\n      <td>2020-01-02 10:04:21</td>\n      <td>4112d868c0e36bb5be4587c83d651260</td>\n    </tr>\n    <tr>\n      <td>977</td>\n      <td>3G</td>\n      <td>EC-Movistar(Telefónica)-00</td>\n      <td>4412</td>\n      <td>7.400051e+14</td>\n      <td>3.517041e+14</td>\n      <td>2AAC703D</td>\n      <td>-98.0</td>\n      <td>3</td>\n      <td>15251</td>\n      <td>NaN</td>\n      <td>3</td>\n      <td>2020-01-02 11:43:21</td>\n      <td>ed705ff8f2facf9f5b46afff6fc8e2bb</td>\n    </tr>\n    <tr>\n      <td>978</td>\n      <td>3G</td>\n      <td>EC-Movistar(Telefónica)-00</td>\n      <td>537</td>\n      <td>7.400102e+14</td>\n      <td>3.562691e+14</td>\n      <td>FE4571E7</td>\n      <td>-104.0</td>\n      <td>3</td>\n      <td>50134</td>\n      <td>NaN</td>\n      <td>1</td>\n      <td>2020-01-02 10:04:17</td>\n      <td>ceba4ffad4a2a0af7e3ac4ac3209993e</td>\n    </tr>\n    <tr>\n      <td>979</td>\n      <td>3G</td>\n      <td>EC-Movistar(Telefónica)-00</td>\n      <td>4412</td>\n      <td>7.400001e+14</td>\n      <td>8.636970e+14</td>\n      <td>0</td>\n      <td>-100.0</td>\n      <td>3</td>\n      <td>40202</td>\n      <td>NaN</td>\n      <td>2</td>\n      <td>2020-01-02 13:21:07</td>\n      <td>fc49fed725f3c318207562df44b9ae10</td>\n    </tr>\n    <tr>\n      <td>980</td>\n      <td>3G</td>\n      <td>EC-Movistar(Telefónica)-00</td>\n      <td>4412</td>\n      <td>7.400002e+14</td>\n      <td>3.588181e+14</td>\n      <td>FC32BFE3</td>\n      <td>-98.0</td>\n      <td>3</td>\n      <td>40202</td>\n      <td>NaN</td>\n      <td>1</td>\n      <td>2020-01-02 10:04:11</td>\n      <td>117c80cfedc56d384702c4293aea14a7</td>\n    </tr>\n  </tbody>\n</table>\n<p>3528 rows × 13 columns</p>\n</div>",
      "text/plain": "    RAT                    OPERATOR  CHANNEL          IMSI          IMEI  \\\n0    2G  EC-Claro(América Móvil)-01      144  7.400202e+14  3.594591e+14   \n1    2G  EC-Claro(América Móvil)-01      144  7.400102e+14  3.578151e+14   \n2    2G  EC-Claro(América Móvil)-01      144  7.400102e+14  8.636970e+14   \n3    2G  EC-Claro(América Móvil)-01      144  7.400101e+14  3.570841e+14   \n4    2G  EC-Claro(América Móvil)-01      144  7.400102e+14  3.580991e+14   \n..   ..                         ...      ...           ...           ...   \n976  3G  EC-Movistar(Telefónica)-00      537  7.400001e+14  8.658420e+14   \n977  3G  EC-Movistar(Telefónica)-00     4412  7.400051e+14  3.517041e+14   \n978  3G  EC-Movistar(Telefónica)-00      537  7.400102e+14  3.562691e+14   \n979  3G  EC-Movistar(Telefónica)-00     4412  7.400001e+14  8.636970e+14   \n980  3G  EC-Movistar(Telefónica)-00     4412  7.400002e+14  3.588181e+14   \n\n         TMSI  MS_POWER  TA  LAST_LAC  NAME  HITS           DATE_TIME  \\\n0    FFFFFFFF     -61.0   0     65534   NaN     1 2020-01-01 03:05:16   \n1    FFFFFFFF     -62.0   0     65534   NaN     1 2020-01-01 03:04:51   \n2    151D1A53     -66.0   0     50134   NaN     1 2020-01-01 02:55:06   \n3    97155956     -62.0   0     10228   NaN     1 2020-01-01 02:54:44   \n4    FFFFFFFF     -64.0   0     65534   NaN     1 2020-01-01 02:37:15   \n..        ...       ...  ..       ...   ...   ...                 ...   \n976  D51AC792    -102.0   2     15251   NaN     1 2020-01-02 10:04:21   \n977  2AAC703D     -98.0   3     15251   NaN     3 2020-01-02 11:43:21   \n978  FE4571E7    -104.0   3     50134   NaN     1 2020-01-02 10:04:17   \n979         0    -100.0   3     40202   NaN     2 2020-01-02 13:21:07   \n980  FC32BFE3     -98.0   3     40202   NaN     1 2020-01-02 10:04:11   \n\n                                 test  \n0    f2c32df94581d7c7ad60fd4d581b4531  \n1    2af54eb33eb0049a80f82ee93826cee0  \n2    634f626b4d8d9122684165bac3b2dc16  \n3    24c7f4fe956e54719b3deea7ff7878ba  \n4    332c8325cdd994425399b26ed08a2561  \n..                                ...  \n976  4112d868c0e36bb5be4587c83d651260  \n977  ed705ff8f2facf9f5b46afff6fc8e2bb  \n978  ceba4ffad4a2a0af7e3ac4ac3209993e  \n979  fc49fed725f3c318207562df44b9ae10  \n980  117c80cfedc56d384702c4293aea14a7  \n\n[3528 rows x 13 columns]"
     },
     "execution_count": 78,
     "metadata": {},
     "output_type": "execute_result"
    }
   ],
   "source": [
    "import hashlib\n",
    "\n",
    "def getUniqueNameIdColumn(df: pd.DataFrame):\n",
    "    \"\"\" Updates the NAME with a unique KEY FOR A imei group\"\"\"\n",
    "    fn = lambda x: hashlib.md5(str(x).encode()).hexdigest()\n",
    "    return df.groupby('IMEI')['IMEI'].transform(fn)\n",
    "# Como asignarlo para que no de warning y SI lo pegue \n",
    "# df = df.assign(c=col.values) # assign values to column 'c'\n",
    "df1 = getUniqueNameIdColumn(allData.loc[allData['IMEI'].notnull()])\n",
    "df = allData.loc[allData['IMEI'].notnull()]\n",
    "df.assign(test = df1)"
   ]
  },
  {
   "cell_type": "code",
   "execution_count": 73,
   "metadata": {},
   "outputs": [
    {
     "data": {
      "text/html": "<div>\n<style scoped>\n    .dataframe tbody tr th:only-of-type {\n        vertical-align: middle;\n    }\n\n    .dataframe tbody tr th {\n        vertical-align: top;\n    }\n\n    .dataframe thead th {\n        text-align: right;\n    }\n</style>\n<table border=\"1\" class=\"dataframe\">\n  <thead>\n    <tr style=\"text-align: right;\">\n      <th></th>\n      <th>RAT</th>\n      <th>OPERATOR</th>\n      <th>CHANNEL</th>\n      <th>IMSI</th>\n      <th>IMEI</th>\n      <th>TMSI</th>\n      <th>MS_POWER</th>\n      <th>TA</th>\n      <th>LAST_LAC</th>\n      <th>NAME</th>\n      <th>HITS</th>\n      <th>DATE_TIME</th>\n    </tr>\n  </thead>\n  <tbody>\n    <tr>\n      <td>0</td>\n      <td>2G</td>\n      <td>EC-Claro(América Móvil)-01</td>\n      <td>144</td>\n      <td>7.400202e+14</td>\n      <td>3.594591e+14</td>\n      <td>FFFFFFFF</td>\n      <td>-61.0</td>\n      <td>0</td>\n      <td>65534</td>\n      <td>NaN</td>\n      <td>1</td>\n      <td>2020-01-01 03:05:16</td>\n    </tr>\n    <tr>\n      <td>1</td>\n      <td>2G</td>\n      <td>EC-Claro(América Móvil)-01</td>\n      <td>144</td>\n      <td>7.400102e+14</td>\n      <td>3.578151e+14</td>\n      <td>FFFFFFFF</td>\n      <td>-62.0</td>\n      <td>0</td>\n      <td>65534</td>\n      <td>NaN</td>\n      <td>1</td>\n      <td>2020-01-01 03:04:51</td>\n    </tr>\n    <tr>\n      <td>2</td>\n      <td>2G</td>\n      <td>EC-Claro(América Móvil)-01</td>\n      <td>144</td>\n      <td>7.400102e+14</td>\n      <td>8.636970e+14</td>\n      <td>151D1A53</td>\n      <td>-66.0</td>\n      <td>0</td>\n      <td>50134</td>\n      <td>NaN</td>\n      <td>1</td>\n      <td>2020-01-01 02:55:06</td>\n    </tr>\n    <tr>\n      <td>3</td>\n      <td>2G</td>\n      <td>EC-Claro(América Móvil)-01</td>\n      <td>144</td>\n      <td>7.400101e+14</td>\n      <td>3.570841e+14</td>\n      <td>97155956</td>\n      <td>-62.0</td>\n      <td>0</td>\n      <td>10228</td>\n      <td>NaN</td>\n      <td>1</td>\n      <td>2020-01-01 02:54:44</td>\n    </tr>\n    <tr>\n      <td>4</td>\n      <td>2G</td>\n      <td>EC-Claro(América Móvil)-01</td>\n      <td>144</td>\n      <td>7.400102e+14</td>\n      <td>3.580991e+14</td>\n      <td>FFFFFFFF</td>\n      <td>-64.0</td>\n      <td>0</td>\n      <td>65534</td>\n      <td>NaN</td>\n      <td>1</td>\n      <td>2020-01-01 02:37:15</td>\n    </tr>\n    <tr>\n      <td>...</td>\n      <td>...</td>\n      <td>...</td>\n      <td>...</td>\n      <td>...</td>\n      <td>...</td>\n      <td>...</td>\n      <td>...</td>\n      <td>...</td>\n      <td>...</td>\n      <td>...</td>\n      <td>...</td>\n      <td>...</td>\n    </tr>\n    <tr>\n      <td>976</td>\n      <td>3G</td>\n      <td>EC-Movistar(Telefónica)-00</td>\n      <td>537</td>\n      <td>7.400001e+14</td>\n      <td>8.658420e+14</td>\n      <td>D51AC792</td>\n      <td>-102.0</td>\n      <td>2</td>\n      <td>15251</td>\n      <td>NaN</td>\n      <td>1</td>\n      <td>2020-01-02 10:04:21</td>\n    </tr>\n    <tr>\n      <td>977</td>\n      <td>3G</td>\n      <td>EC-Movistar(Telefónica)-00</td>\n      <td>4412</td>\n      <td>7.400051e+14</td>\n      <td>3.517041e+14</td>\n      <td>2AAC703D</td>\n      <td>-98.0</td>\n      <td>3</td>\n      <td>15251</td>\n      <td>NaN</td>\n      <td>3</td>\n      <td>2020-01-02 11:43:21</td>\n    </tr>\n    <tr>\n      <td>978</td>\n      <td>3G</td>\n      <td>EC-Movistar(Telefónica)-00</td>\n      <td>537</td>\n      <td>7.400102e+14</td>\n      <td>3.562691e+14</td>\n      <td>FE4571E7</td>\n      <td>-104.0</td>\n      <td>3</td>\n      <td>50134</td>\n      <td>NaN</td>\n      <td>1</td>\n      <td>2020-01-02 10:04:17</td>\n    </tr>\n    <tr>\n      <td>979</td>\n      <td>3G</td>\n      <td>EC-Movistar(Telefónica)-00</td>\n      <td>4412</td>\n      <td>7.400001e+14</td>\n      <td>8.636970e+14</td>\n      <td>0</td>\n      <td>-100.0</td>\n      <td>3</td>\n      <td>40202</td>\n      <td>NaN</td>\n      <td>2</td>\n      <td>2020-01-02 13:21:07</td>\n    </tr>\n    <tr>\n      <td>980</td>\n      <td>3G</td>\n      <td>EC-Movistar(Telefónica)-00</td>\n      <td>4412</td>\n      <td>7.400002e+14</td>\n      <td>3.588181e+14</td>\n      <td>FC32BFE3</td>\n      <td>-98.0</td>\n      <td>3</td>\n      <td>40202</td>\n      <td>NaN</td>\n      <td>1</td>\n      <td>2020-01-02 10:04:11</td>\n    </tr>\n  </tbody>\n</table>\n<p>3528 rows × 12 columns</p>\n</div>",
      "text/plain": "    RAT                    OPERATOR  CHANNEL          IMSI          IMEI  \\\n0    2G  EC-Claro(América Móvil)-01      144  7.400202e+14  3.594591e+14   \n1    2G  EC-Claro(América Móvil)-01      144  7.400102e+14  3.578151e+14   \n2    2G  EC-Claro(América Móvil)-01      144  7.400102e+14  8.636970e+14   \n3    2G  EC-Claro(América Móvil)-01      144  7.400101e+14  3.570841e+14   \n4    2G  EC-Claro(América Móvil)-01      144  7.400102e+14  3.580991e+14   \n..   ..                         ...      ...           ...           ...   \n976  3G  EC-Movistar(Telefónica)-00      537  7.400001e+14  8.658420e+14   \n977  3G  EC-Movistar(Telefónica)-00     4412  7.400051e+14  3.517041e+14   \n978  3G  EC-Movistar(Telefónica)-00      537  7.400102e+14  3.562691e+14   \n979  3G  EC-Movistar(Telefónica)-00     4412  7.400001e+14  8.636970e+14   \n980  3G  EC-Movistar(Telefónica)-00     4412  7.400002e+14  3.588181e+14   \n\n         TMSI  MS_POWER  TA  LAST_LAC  NAME  HITS           DATE_TIME  \n0    FFFFFFFF     -61.0   0     65534   NaN     1 2020-01-01 03:05:16  \n1    FFFFFFFF     -62.0   0     65534   NaN     1 2020-01-01 03:04:51  \n2    151D1A53     -66.0   0     50134   NaN     1 2020-01-01 02:55:06  \n3    97155956     -62.0   0     10228   NaN     1 2020-01-01 02:54:44  \n4    FFFFFFFF     -64.0   0     65534   NaN     1 2020-01-01 02:37:15  \n..        ...       ...  ..       ...   ...   ...                 ...  \n976  D51AC792    -102.0   2     15251   NaN     1 2020-01-02 10:04:21  \n977  2AAC703D     -98.0   3     15251   NaN     3 2020-01-02 11:43:21  \n978  FE4571E7    -104.0   3     50134   NaN     1 2020-01-02 10:04:17  \n979         0    -100.0   3     40202   NaN     2 2020-01-02 13:21:07  \n980  FC32BFE3     -98.0   3     40202   NaN     1 2020-01-02 10:04:11  \n\n[3528 rows x 12 columns]"
     },
     "execution_count": 73,
     "metadata": {},
     "output_type": "execute_result"
    }
   ],
   "source": [
    "df"
   ]
  },
  {
   "cell_type": "code",
   "execution_count": 83,
   "metadata": {},
   "outputs": [
    {
     "data": {
      "text/html": "<div>\n<style scoped>\n    .dataframe tbody tr th:only-of-type {\n        vertical-align: middle;\n    }\n\n    .dataframe tbody tr th {\n        vertical-align: top;\n    }\n\n    .dataframe thead th {\n        text-align: right;\n    }\n</style>\n<table border=\"1\" class=\"dataframe\">\n  <thead>\n    <tr style=\"text-align: right;\">\n      <th></th>\n      <th>RAT</th>\n      <th>OPERATOR</th>\n      <th>CHANNEL</th>\n      <th>IMSI</th>\n      <th>IMEI</th>\n      <th>TMSI</th>\n      <th>MS_POWER</th>\n      <th>TA</th>\n      <th>LAST_LAC</th>\n      <th>NAME</th>\n      <th>HITS</th>\n      <th>DATE_TIME</th>\n    </tr>\n  </thead>\n  <tbody>\n    <tr>\n      <td>0</td>\n      <td>2G</td>\n      <td>EC-Claro(América Móvil)-01</td>\n      <td>144</td>\n      <td>7.400202e+14</td>\n      <td>3.594591e+14</td>\n      <td>FFFFFFFF</td>\n      <td>-61.0</td>\n      <td>0</td>\n      <td>65534</td>\n      <td>f2c32df945</td>\n      <td>1</td>\n      <td>2020-01-01 03:05:16</td>\n    </tr>\n    <tr>\n      <td>1</td>\n      <td>2G</td>\n      <td>EC-Claro(América Móvil)-01</td>\n      <td>144</td>\n      <td>7.400102e+14</td>\n      <td>3.578151e+14</td>\n      <td>FFFFFFFF</td>\n      <td>-62.0</td>\n      <td>0</td>\n      <td>65534</td>\n      <td>2af54eb33e</td>\n      <td>1</td>\n      <td>2020-01-01 03:04:51</td>\n    </tr>\n    <tr>\n      <td>2</td>\n      <td>2G</td>\n      <td>EC-Claro(América Móvil)-01</td>\n      <td>144</td>\n      <td>7.400102e+14</td>\n      <td>8.636970e+14</td>\n      <td>151D1A53</td>\n      <td>-66.0</td>\n      <td>0</td>\n      <td>50134</td>\n      <td>634f626b4d</td>\n      <td>1</td>\n      <td>2020-01-01 02:55:06</td>\n    </tr>\n    <tr>\n      <td>3</td>\n      <td>2G</td>\n      <td>EC-Claro(América Móvil)-01</td>\n      <td>144</td>\n      <td>7.400101e+14</td>\n      <td>3.570841e+14</td>\n      <td>97155956</td>\n      <td>-62.0</td>\n      <td>0</td>\n      <td>10228</td>\n      <td>24c7f4fe95</td>\n      <td>1</td>\n      <td>2020-01-01 02:54:44</td>\n    </tr>\n    <tr>\n      <td>4</td>\n      <td>2G</td>\n      <td>EC-Claro(América Móvil)-01</td>\n      <td>144</td>\n      <td>7.400102e+14</td>\n      <td>3.580991e+14</td>\n      <td>FFFFFFFF</td>\n      <td>-64.0</td>\n      <td>0</td>\n      <td>65534</td>\n      <td>332c8325cd</td>\n      <td>1</td>\n      <td>2020-01-01 02:37:15</td>\n    </tr>\n    <tr>\n      <td>...</td>\n      <td>...</td>\n      <td>...</td>\n      <td>...</td>\n      <td>...</td>\n      <td>...</td>\n      <td>...</td>\n      <td>...</td>\n      <td>...</td>\n      <td>...</td>\n      <td>...</td>\n      <td>...</td>\n      <td>...</td>\n    </tr>\n    <tr>\n      <td>976</td>\n      <td>3G</td>\n      <td>EC-Movistar(Telefónica)-00</td>\n      <td>537</td>\n      <td>7.400001e+14</td>\n      <td>8.658420e+14</td>\n      <td>D51AC792</td>\n      <td>-102.0</td>\n      <td>2</td>\n      <td>15251</td>\n      <td>4112d868c0</td>\n      <td>1</td>\n      <td>2020-01-02 10:04:21</td>\n    </tr>\n    <tr>\n      <td>977</td>\n      <td>3G</td>\n      <td>EC-Movistar(Telefónica)-00</td>\n      <td>4412</td>\n      <td>7.400051e+14</td>\n      <td>3.517041e+14</td>\n      <td>2AAC703D</td>\n      <td>-98.0</td>\n      <td>3</td>\n      <td>15251</td>\n      <td>ed705ff8f2</td>\n      <td>3</td>\n      <td>2020-01-02 11:43:21</td>\n    </tr>\n    <tr>\n      <td>978</td>\n      <td>3G</td>\n      <td>EC-Movistar(Telefónica)-00</td>\n      <td>537</td>\n      <td>7.400102e+14</td>\n      <td>3.562691e+14</td>\n      <td>FE4571E7</td>\n      <td>-104.0</td>\n      <td>3</td>\n      <td>50134</td>\n      <td>ceba4ffad4</td>\n      <td>1</td>\n      <td>2020-01-02 10:04:17</td>\n    </tr>\n    <tr>\n      <td>979</td>\n      <td>3G</td>\n      <td>EC-Movistar(Telefónica)-00</td>\n      <td>4412</td>\n      <td>7.400001e+14</td>\n      <td>8.636970e+14</td>\n      <td>0</td>\n      <td>-100.0</td>\n      <td>3</td>\n      <td>40202</td>\n      <td>fc49fed725</td>\n      <td>2</td>\n      <td>2020-01-02 13:21:07</td>\n    </tr>\n    <tr>\n      <td>980</td>\n      <td>3G</td>\n      <td>EC-Movistar(Telefónica)-00</td>\n      <td>4412</td>\n      <td>7.400002e+14</td>\n      <td>3.588181e+14</td>\n      <td>FC32BFE3</td>\n      <td>-98.0</td>\n      <td>3</td>\n      <td>40202</td>\n      <td>117c80cfed</td>\n      <td>1</td>\n      <td>2020-01-02 10:04:11</td>\n    </tr>\n  </tbody>\n</table>\n<p>3528 rows × 12 columns</p>\n</div>",
      "text/plain": "    RAT                    OPERATOR  CHANNEL          IMSI          IMEI  \\\n0    2G  EC-Claro(América Móvil)-01      144  7.400202e+14  3.594591e+14   \n1    2G  EC-Claro(América Móvil)-01      144  7.400102e+14  3.578151e+14   \n2    2G  EC-Claro(América Móvil)-01      144  7.400102e+14  8.636970e+14   \n3    2G  EC-Claro(América Móvil)-01      144  7.400101e+14  3.570841e+14   \n4    2G  EC-Claro(América Móvil)-01      144  7.400102e+14  3.580991e+14   \n..   ..                         ...      ...           ...           ...   \n976  3G  EC-Movistar(Telefónica)-00      537  7.400001e+14  8.658420e+14   \n977  3G  EC-Movistar(Telefónica)-00     4412  7.400051e+14  3.517041e+14   \n978  3G  EC-Movistar(Telefónica)-00      537  7.400102e+14  3.562691e+14   \n979  3G  EC-Movistar(Telefónica)-00     4412  7.400001e+14  8.636970e+14   \n980  3G  EC-Movistar(Telefónica)-00     4412  7.400002e+14  3.588181e+14   \n\n         TMSI  MS_POWER  TA  LAST_LAC        NAME  HITS           DATE_TIME  \n0    FFFFFFFF     -61.0   0     65534  f2c32df945     1 2020-01-01 03:05:16  \n1    FFFFFFFF     -62.0   0     65534  2af54eb33e     1 2020-01-01 03:04:51  \n2    151D1A53     -66.0   0     50134  634f626b4d     1 2020-01-01 02:55:06  \n3    97155956     -62.0   0     10228  24c7f4fe95     1 2020-01-01 02:54:44  \n4    FFFFFFFF     -64.0   0     65534  332c8325cd     1 2020-01-01 02:37:15  \n..        ...       ...  ..       ...         ...   ...                 ...  \n976  D51AC792    -102.0   2     15251  4112d868c0     1 2020-01-02 10:04:21  \n977  2AAC703D     -98.0   3     15251  ed705ff8f2     3 2020-01-02 11:43:21  \n978  FE4571E7    -104.0   3     50134  ceba4ffad4     1 2020-01-02 10:04:17  \n979         0    -100.0   3     40202  fc49fed725     2 2020-01-02 13:21:07  \n980  FC32BFE3     -98.0   3     40202  117c80cfed     1 2020-01-02 10:04:11  \n\n[3528 rows x 12 columns]"
     },
     "execution_count": 83,
     "metadata": {},
     "output_type": "execute_result"
    }
   ],
   "source": [
    "# Inplace replacement\n",
    "import hashlib\n",
    "\n",
    "def getUniqueNameIdColumn(dfEmaisOk: pd.DataFrame):\n",
    "    \"\"\" Updates the NAME with a unique KEY for a EMAI groups and returns that new DataFrame\"\"\"\n",
    "    fn = lambda x: hashlib.md5(str(x).encode()).hexdigest()[0:10]\n",
    "    df1 = dfEmaisOk.groupby('IMEI')['IMEI'].transform(fn)\n",
    "    return dfEmaisOk.assign(NAME=df1)\n",
    "# Como asignarlo para que no de warning y SI lo pegue \n",
    "# df = df.assign(c=col.values) # assign values to column 'c'\n",
    "df1 = getUniqueNameIdColumn(allData.loc[allData['IMEI'].notnull()])\n",
    "df1"
   ]
  },
  {
   "cell_type": "code",
   "execution_count": 43,
   "metadata": {},
   "outputs": [
    {
     "data": {
      "text/html": "<div>\n<style scoped>\n    .dataframe tbody tr th:only-of-type {\n        vertical-align: middle;\n    }\n\n    .dataframe tbody tr th {\n        vertical-align: top;\n    }\n\n    .dataframe thead th {\n        text-align: right;\n    }\n</style>\n<table border=\"1\" class=\"dataframe\">\n  <thead>\n    <tr style=\"text-align: right;\">\n      <th></th>\n      <th>RAT</th>\n      <th>OPERATOR</th>\n      <th>CHANNEL</th>\n      <th>IMSI</th>\n      <th>IMEI</th>\n      <th>TMSI</th>\n      <th>MS_POWER</th>\n      <th>TA</th>\n      <th>LAST_LAC</th>\n      <th>NAME</th>\n      <th>HITS</th>\n      <th>DATE</th>\n      <th>TIME</th>\n    </tr>\n  </thead>\n  <tbody>\n    <tr>\n      <td>724</td>\n      <td>3G</td>\n      <td>EC-Claro(América Móvil)-01</td>\n      <td>4387</td>\n      <td>7.400102e+14</td>\n      <td>8.612500e+14</td>\n      <td>BA129B0E</td>\n      <td>-94.0</td>\n      <td>3</td>\n      <td>50134</td>\n      <td>NaN</td>\n      <td>1</td>\n      <td>2019-12-31</td>\n      <td>15:24:18</td>\n    </tr>\n    <tr>\n      <td>292</td>\n      <td>3G</td>\n      <td>EC-Claro(América Móvil)-01</td>\n      <td>4387</td>\n      <td>7.400002e+14</td>\n      <td>3.517591e+14</td>\n      <td>A4C47315</td>\n      <td>-95.0</td>\n      <td>3</td>\n      <td>15251</td>\n      <td>NaN</td>\n      <td>1</td>\n      <td>2019-12-31</td>\n      <td>16:59:42</td>\n    </tr>\n    <tr>\n      <td>291</td>\n      <td>3G</td>\n      <td>EC-Claro(América Móvil)-01</td>\n      <td>587</td>\n      <td>7.400002e+14</td>\n      <td>3.517591e+14</td>\n      <td>A4C47315</td>\n      <td>-105.0</td>\n      <td>3</td>\n      <td>15251</td>\n      <td>NaN</td>\n      <td>1</td>\n      <td>2019-12-31</td>\n      <td>17:00:04</td>\n    </tr>\n    <tr>\n      <td>290</td>\n      <td>3G</td>\n      <td>EC-Claro(América Móvil)-01</td>\n      <td>587</td>\n      <td>7.400102e+14</td>\n      <td>3.557471e+14</td>\n      <td>FC483124</td>\n      <td>-66.0</td>\n      <td>3</td>\n      <td>50134</td>\n      <td>NaN</td>\n      <td>1</td>\n      <td>2019-12-31</td>\n      <td>17:00:40</td>\n    </tr>\n    <tr>\n      <td>289</td>\n      <td>3G</td>\n      <td>EC-Claro(América Móvil)-01</td>\n      <td>4387</td>\n      <td>7.400102e+14</td>\n      <td>8.648850e+14</td>\n      <td>DA430032</td>\n      <td>-43.0</td>\n      <td>3</td>\n      <td>50134</td>\n      <td>NaN</td>\n      <td>1</td>\n      <td>2019-12-31</td>\n      <td>17:00:43</td>\n    </tr>\n    <tr>\n      <td>...</td>\n      <td>...</td>\n      <td>...</td>\n      <td>...</td>\n      <td>...</td>\n      <td>...</td>\n      <td>...</td>\n      <td>...</td>\n      <td>...</td>\n      <td>...</td>\n      <td>...</td>\n      <td>...</td>\n      <td>...</td>\n      <td>...</td>\n    </tr>\n    <tr>\n      <td>653</td>\n      <td>3G</td>\n      <td>EC-Movistar(Telefónica)-00</td>\n      <td>512</td>\n      <td>7.400001e+14</td>\n      <td>3.526861e+14</td>\n      <td>EA026FB9</td>\n      <td>-109.0</td>\n      <td>3</td>\n      <td>32768</td>\n      <td>NaN</td>\n      <td>3</td>\n      <td>2020-01-03</td>\n      <td>00:19:34</td>\n    </tr>\n    <tr>\n      <td>52</td>\n      <td>3G</td>\n      <td>EC-Claro(América Móvil)-01</td>\n      <td>612</td>\n      <td>7.400102e+14</td>\n      <td>3.546141e+14</td>\n      <td>CF40806C</td>\n      <td>-95.0</td>\n      <td>3</td>\n      <td>50404</td>\n      <td>NaN</td>\n      <td>5</td>\n      <td>2020-01-03</td>\n      <td>00:04:58</td>\n    </tr>\n    <tr>\n      <td>660</td>\n      <td>3G</td>\n      <td>EC-Movistar(Telefónica)-00</td>\n      <td>512</td>\n      <td>7.400002e+14</td>\n      <td>8.698230e+14</td>\n      <td>C51AD745</td>\n      <td>-108.0</td>\n      <td>2</td>\n      <td>32768</td>\n      <td>NaN</td>\n      <td>3</td>\n      <td>2020-01-03</td>\n      <td>00:26:59</td>\n    </tr>\n    <tr>\n      <td>41</td>\n      <td>3G</td>\n      <td>EC-Claro(América Móvil)-01</td>\n      <td>612</td>\n      <td>7.400102e+14</td>\n      <td>8.698230e+14</td>\n      <td>DA434B7C</td>\n      <td>-92.0</td>\n      <td>3</td>\n      <td>32769</td>\n      <td>NaN</td>\n      <td>6</td>\n      <td>2020-01-03</td>\n      <td>00:07:18</td>\n    </tr>\n    <tr>\n      <td>33</td>\n      <td>3G</td>\n      <td>EC-Claro(América Móvil)-01</td>\n      <td>612</td>\n      <td>7.400102e+14</td>\n      <td>3.536411e+14</td>\n      <td>FFFFFFFF</td>\n      <td>-96.0</td>\n      <td>3</td>\n      <td>50134</td>\n      <td>NaN</td>\n      <td>4</td>\n      <td>2020-01-03</td>\n      <td>00:11:24</td>\n    </tr>\n  </tbody>\n</table>\n<p>2071 rows × 13 columns</p>\n</div>",
      "text/plain": "    RAT                    OPERATOR  CHANNEL          IMSI          IMEI  \\\n724  3G  EC-Claro(América Móvil)-01     4387  7.400102e+14  8.612500e+14   \n292  3G  EC-Claro(América Móvil)-01     4387  7.400002e+14  3.517591e+14   \n291  3G  EC-Claro(América Móvil)-01      587  7.400002e+14  3.517591e+14   \n290  3G  EC-Claro(América Móvil)-01      587  7.400102e+14  3.557471e+14   \n289  3G  EC-Claro(América Móvil)-01     4387  7.400102e+14  8.648850e+14   \n..   ..                         ...      ...           ...           ...   \n653  3G  EC-Movistar(Telefónica)-00      512  7.400001e+14  3.526861e+14   \n52   3G  EC-Claro(América Móvil)-01      612  7.400102e+14  3.546141e+14   \n660  3G  EC-Movistar(Telefónica)-00      512  7.400002e+14  8.698230e+14   \n41   3G  EC-Claro(América Móvil)-01      612  7.400102e+14  8.698230e+14   \n33   3G  EC-Claro(América Móvil)-01      612  7.400102e+14  3.536411e+14   \n\n         TMSI  MS_POWER  TA  LAST_LAC  NAME  HITS        DATE      TIME  \n724  BA129B0E     -94.0   3     50134   NaN     1  2019-12-31  15:24:18  \n292  A4C47315     -95.0   3     15251   NaN     1  2019-12-31  16:59:42  \n291  A4C47315    -105.0   3     15251   NaN     1  2019-12-31  17:00:04  \n290  FC483124     -66.0   3     50134   NaN     1  2019-12-31  17:00:40  \n289  DA430032     -43.0   3     50134   NaN     1  2019-12-31  17:00:43  \n..        ...       ...  ..       ...   ...   ...         ...       ...  \n653  EA026FB9    -109.0   3     32768   NaN     3  2020-01-03  00:19:34  \n52   CF40806C     -95.0   3     50404   NaN     5  2020-01-03  00:04:58  \n660  C51AD745    -108.0   2     32768   NaN     3  2020-01-03  00:26:59  \n41   DA434B7C     -92.0   3     32769   NaN     6  2020-01-03  00:07:18  \n33   FFFFFFFF     -96.0   3     50134   NaN     4  2020-01-03  00:11:24  \n\n[2071 rows x 13 columns]"
     },
     "execution_count": 43,
     "metadata": {},
     "output_type": "execute_result"
    }
   ],
   "source": [
    "def filterByRat(df, rats = []):\n",
    "    \"\"\" Returns a df with the seleccted rats \"\"\"\n",
    "    groupedRats = df.groupby('RAT')\n",
    "    ratDfs = [groupedRats.get_group(gn) for gn in rats]\n",
    "    return pd.concat(ratDfs)\n",
    "filterByRat(allData, [\"3G\"])"
   ]
  },
  {
   "cell_type": "code",
   "execution_count": 45,
   "metadata": {},
   "outputs": [],
   "source": [
    "def filterDfByColumnValues(df, column: str, columnValues: list):\n",
    "    \"\"\"\n",
    "    Groups the df by the column parameters and gets the groups in the columnValues list\n",
    "    \"\"\"\n",
    "    groupedColumn = df.groupby(column)\n",
    "    dfs = [groupedColumn.get_group(gn) for gn in columnValues]\n",
    "    return pd.concat(dfs)"
   ]
  },
  {
   "cell_type": "code",
   "execution_count": 0,
   "metadata": {},
   "outputs": [],
   "source": [
    "allData['IMEI'].count()"
   ]
  },
  {
   "cell_type": "code",
   "execution_count": 27,
   "metadata": {},
   "outputs": [],
   "source": [
    "allData.head(2)\n",
    "allData.drop('DATE-TIME', axis=1,inplace=True)"
   ]
  },
  {
   "cell_type": "code",
   "execution_count": 28,
   "metadata": {},
   "outputs": [
    {
     "data": {
      "text/plain": "('RAT',\n 'OPERATOR',\n 'CHANNEL',\n 'IMSI',\n 'IMEI',\n 'TMSI',\n 'MS_POWER',\n 'TA',\n 'LAST_LAC',\n 'NAME',\n 'HITS',\n 'DATE_TIME')"
     },
     "execution_count": 28,
     "metadata": {},
     "output_type": "execute_result"
    }
   ],
   "source": [
    "headerList = tuple(allData.columns.values)\n",
    "headerList"
   ]
  },
  {
   "cell_type": "code",
   "execution_count": 29,
   "metadata": {},
   "outputs": [
    {
     "name": "stdout",
     "output_type": "stream",
     "text": ", 1, Timestamp('2020-01-02 13:53:04')]\n------------------------------------------------------------------------------\n\n\nRaw raow  Pandas(Index=30, RAT='4G', OPERATOR='EC-Claro(América Móvil)-01', CHANNEL=925, IMSI=740010173847666.0, IMEI=nan, TMSI=nan, MS_POWER=-102.96, TA=2, LAST_LAC=60134, NAME=nan, HITS=1, DATE_TIME=Timestamp('2020-01-02 13:52:59'))\n['4G', 'EC-Claro(América Móvil)-01', 925, 740010173847666.0, nan, nan, -102.96, 2, 60134, nan, 1, Timestamp('2020-01-02 13:52:59')]\n------------------------------------------------------------------------------\n\n\nRaw raow  Pandas(Index=31, RAT='4G', OPERATOR='EC-Claro(América Móvil)-01', CHANNEL=925, IMSI=740010178573355.0, IMEI=nan, TMSI=nan, MS_POWER=-101319.0, TA=2, LAST_LAC=-1, NAME=nan, HITS=34, DATE_TIME=Timestamp('2020-01-02 16:35:21'))\n['4G', 'EC-Claro(América Móvil)-01', 925, 740010178573355.0, nan, nan, -101319.0, 2, -1, nan, 34, Timestamp('2020-01-02 16:35:21')]\n------------------------------------------------------------------------------\n\n\nRaw raow  Pandas(Index=32, RAT='4G', OPERATOR='EC-Claro(América Móvil)-01', CHANNEL=925, IMSI=740010180577878.0, IMEI=nan, TMSI=nan, MS_POWER=-101475.0, TA=2, LAST_LAC=60136, NAME=nan, HITS=25, DATE_TIME=Timestamp('2020-01-02 16:40:40'))\n['4G', 'EC-Claro(América Móvil)-01', 925, 740010180577878.0, nan, nan, -101475.0, 2, 60136, nan, 25, Timestamp('2020-01-02 16:40:40')]\n------------------------------------------------------------------------------\n\n\nRaw raow  Pandas(Index=33, RAT='4G', OPERATOR='EC-Claro(América Móvil)-01', CHANNEL=925, IMSI=740010180121225.0, IMEI=nan, TMSI=nan, MS_POWER=-107022.0, TA=2, LAST_LAC=60134, NAME=nan, HITS=5, DATE_TIME=Timestamp('2020-01-02 17:55:28'))\n['4G', 'EC-Claro(América Móvil)-01', 925, 740010180121225.0, nan, nan, -107022.0, 2, 60134, nan, 5, Timestamp('2020-01-02 17:55:28')]\n------------------------------------------------------------------------------\n\n\nRaw raow  Pandas(Index=34, RAT='4G', OPERATOR='EC-Claro(América Móvil)-01', CHANNEL=925, IMSI=740010180545940.0, IMEI=nan, TMSI=nan, MS_POWER=-108819.0, TA=2, LAST_LAC=60134, NAME=nan, HITS=3, DATE_TIME=Timestamp('2020-01-02 15:24:19'))\n['4G', 'EC-Claro(América Móvil)-01', 925, 740010180545940.0, nan, nan, -108819.0, 2, 60134, nan, 3, Timestamp('2020-01-02 15:24:19')]\n------------------------------------------------------------------------------\n\n\nRaw raow  Pandas(Index=35, RAT='4G', OPERATOR='EC-Claro(América Móvil)-01', CHANNEL=925, IMSI=740010177606124.0, IMEI=nan, TMSI=nan, MS_POWER=-104757.0, TA=2, LAST_LAC=60134, NAME=nan, HITS=11, DATE_TIME=Timestamp('2020-01-02 17:39:31'))\n['4G', 'EC-Claro(América Móvil)-01', 925, 740010177606124.0, nan, nan, -104757.0, 2, 60134, nan, 11, Timestamp('2020-01-02 17:39:31')]\n------------------------------------------------------------------------------\n\n\nRaw raow  Pandas(Index=36, RAT='4G', OPERATOR='EC-Claro(América Móvil)-01', CHANNEL=2250, IMSI=740010177429079.0, IMEI=nan, TMSI=nan, MS_POWER=-108194.0, TA=2, LAST_LAC=60134, NAME=nan, HITS=1, DATE_TIME=Timestamp('2020-01-02 09:57:20'))\n['4G', 'EC-Claro(América Móvil)-01', 2250, 740010177429079.0, nan, nan, -108194.0, 2, 60134, nan, 1, Timestamp('2020-01-02 09:57:20')]\n------------------------------------------------------------------------------\n\n\nRaw raow  Pandas(Index=37, RAT='4G', OPERATOR='EC-Claro(América Móvil)-01', CHANNEL=2250, IMSI=740010177606135.0, IMEI=nan, TMSI=nan, MS_POWER=-972566.0, TA=2, LAST_LAC=60134, NAME=nan, HITS=4, DATE_TIME=Timestamp('2020-01-02 09:58:22'))\n['4G', 'EC-Claro(América Móvil)-01', 2250, 740010177606135.0, nan, nan, -972566.0, 2, 60134, nan, 4, Timestamp('2020-01-02 09:58:22')]\n------------------------------------------------------------------------------\n\n\nRaw raow  Pandas(Index=38, RAT='4G', OPERATOR='EC-Claro(América Móvil)-01', CHANNEL=2250, IMSI=740000122117777.0, IMEI=nan, TMSI=nan, MS_POWER=-988191.0, TA=2, LAST_LAC=9616, NAME=nan, HITS=1, DATE_TIME=Timestamp('2020-01-02 09:32:09'))\n['4G', 'EC-Claro(América Móvil)-01', 2250, 740000122117777.0, nan, nan, -988191.0, 2, 9616, nan, 1, Timestamp('2020-01-02 09:32:09')]\n------------------------------------------------------------------------------\n\n\nRaw raow  Pandas(Index=39, RAT='4G', OPERATOR='EC-Claro(América Móvil)-01', CHANNEL=2250, IMSI=740010181246638.0, IMEI=nan, TMSI=nan, MS_POWER=-116475.0, TA=2, LAST_LAC=60134, NAME=nan, HITS=1, DATE_TIME=Timestamp('2020-01-02 09:16:49'))\n['4G', 'EC-Claro(América Móvil)-01', 2250, 740010181246638.0, nan, nan, -116475.0, 2, 60134, nan, 1, Timestamp('2020-01-02 09:16:49')]\n------------------------------------------------------------------------------\n\n\nRaw raow  Pandas(Index=40, RAT='4G', OPERATOR='EC-Claro(América Móvil)-01', CHANNEL=2250, IMSI=740010170726100.0, IMEI=nan, TMSI=nan, MS_POWER=-111.71, TA=2, LAST_LAC=60134, NAME=nan, HITS=1, DATE_TIME=Timestamp('2020-01-02 09:12:32'))\n['4G', 'EC-Claro(América Móvil)-01', 2250, 740010170726100.0, nan, nan, -111.71, 2, 60134, nan, 1, Timestamp('2020-01-02 09:12:32')]\n------------------------------------------------------------------------------\n\n\nRaw raow  Pandas(Index=41, RAT='4G', OPERATOR='EC-Claro(América Móvil)-01', CHANNEL=2250, IMSI=740010160667409.0, IMEI=nan, TMSI=nan, MS_POWER=-107022.0, TA=2, LAST_LAC=60134, NAME=nan, HITS=1, DATE_TIME=Timestamp('2020-01-02 08:54:19'))\n['4G', 'EC-Claro(América Móvil)-01', 2250, 740010160667409.0, nan, nan, -107022.0, 2, 60134, nan, 1, Timestamp('2020-01-02 08:54:19')]\n------------------------------------------------------------------------------\n\n\nRaw raow  Pandas(Index=42, RAT='4G', OPERATOR='EC-Claro(América Móvil)-01', CHANNEL=2250, IMSI=740000221937843.0, IMEI=nan, TMSI=nan, MS_POWER=-107882.0, TA=2, LAST_LAC=9616, NAME=nan, HITS=1, DATE_TIME=Timestamp('2020-01-02 08:50:20'))\n['4G', 'EC-Claro(América Móvil)-01', 2250, 740000221937843.0, nan, nan, -107882.0, 2, 9616, nan, 1, Timestamp('2020-01-02 08:50:20')]\n------------------------------------------------------------------------------\n\n\nRaw raow  Pandas(Index=43, RAT='4G', OPERATOR='EC-Claro(América Móvil)-01', CHANNEL=2250, IMSI=740010181033525.0, IMEI=nan, TMSI=nan, MS_POWER=-102725.0, TA=2, LAST_LAC=60134, NAME=nan, HITS=1, DATE_TIME=Timestamp('2020-01-02 08:50:08'))\n['4G', 'EC-Claro(América Móvil)-01', 2250, 740010181033525.0, nan, nan, -102725.0, 2, 60134, nan, 1, Timestamp('2020-01-02 08:50:08')]\n------------------------------------------------------------------------------\n\n\nRaw raow  Pandas(Index=44, RAT='4G', OPERATOR='EC-Claro(América Móvil)-01', CHANNEL=2250, IMSI=740010177606108.0, IMEI=nan, TMSI=nan, MS_POWER=-114835.0, TA=2, LAST_LAC=60136, NAME=nan, HITS=9, DATE_TIME=Timestamp('2020-01-02 10:00:33'))\n['4G', 'EC-Claro(América Móvil)-01', 2250, 740010177606108.0, nan, nan, -114835.0, 2, 60136, nan, 9, Timestamp('2020-01-02 10:00:33')]\n------------------------------------------------------------------------------\n\n\nRaw raow  Pandas(Index=45, RAT='4G', OPERATOR='EC-Claro(América Móvil)-01', CHANNEL=2250, IMSI=740010177429117.0, IMEI=nan, TMSI=nan, MS_POWER=-113975.0, TA=2, LAST_LAC=60134, NAME=nan, HITS=9, DATE_TIME=Timestamp('2020-01-02 09:57:25'))\n['4G', 'EC-Claro(América Móvil)-01', 2250, 740010177429117.0, nan, nan, -113975.0, 2, 60134, nan, 9, Timestamp('2020-01-02 09:57:25')]\n------------------------------------------------------------------------------\n\n\nRaw raow  Pandas(Index=46, RAT='4G', OPERATOR='EC-Claro(América Móvil)-01', CHANNEL=2250, IMSI=740010177429066.0, IMEI=nan, TMSI=nan, MS_POWER=-106944.0, TA=2, LAST_LAC=60134, NAME=nan, HITS=1, DATE_TIME=Timestamp('2020-01-02 08:20:10'))\n['4G', 'EC-Claro(América Móvil)-01', 2250, 740010177429066.0, nan, nan, -106944.0, 2, 60134, nan, 1, Timestamp('2020-01-02 08:20:10')]\n------------------------------------------------------------------------------\n\n\nRaw raow  Pandas(Index=47, RAT='4G', OPERATOR='EC-Claro(América Móvil)-01', CHANNEL=2250, IMSI=740010183241589.0, IMEI=nan, TMSI=nan, MS_POWER=-114444.0, TA=2, LAST_LAC=60134, NAME=nan, HITS=1, DATE_TIME=Timestamp('2020-01-02 08:17:57'))\n['4G', 'EC-Claro(América Móvil)-01', 2250, 740010183241589.0, nan, nan, -114444.0, 2, 60134, nan, 1, Timestamp('2020-01-02 08:17:57')]\n------------------------------------------------------------------------------\n\n\nRaw raow  Pandas(Index=48, RAT='4G', OPERATOR='EC-Claro(América Móvil)-01', CHANNEL=2250, IMSI=740010179474825.0, IMEI=nan, TMSI=nan, MS_POWER=-953034.0, TA=2, LAST_LAC=60134, NAME=nan, HITS=10, DATE_TIME=Timestamp('2020-01-02 09:00:21'))\n['4G', 'EC-Claro(América Móvil)-01', 2250, 740010179474825.0, nan, nan, -953034.0, 2, 60134, nan, 10, Timestamp('2020-01-02 09:00:21')]\n------------------------------------------------------------------------------\n\n\nRaw raow  Pandas(Index=49, RAT='4G', OPERATOR='EC-Claro(América Móvil)-01', CHANNEL=2250, IMSI=740010160373288.0, IMEI=nan, TMSI=nan, MS_POWER=-120694.0, TA=2, LAST_LAC=60134, NAME=nan, HITS=1, DATE_TIME=Timestamp('2020-01-02 08:11:52'))\n['4G', 'EC-Claro(América Móvil)-01', 2250, 740010160373288.0, nan, nan, -120694.0, 2, 60134, nan, 1, Timestamp('2020-01-02 08:11:52')]\n------------------------------------------------------------------------------\n\n\nRaw raow  Pandas(Index=50, RAT='4G', OPERATOR='EC-Claro(América Móvil)-01', CHANNEL=2250, IMSI=740010177598845.0, IMEI=nan, TMSI=nan, MS_POWER=-107725.0, TA=2, LAST_LAC=60134, NAME=nan, HITS=1, DATE_TIME=Timestamp('2020-01-02 08:07:48'))\n['4G', 'EC-Claro(América Móvil)-01', 2250, 740010177598845.0, nan, nan, -107725.0, 2, 60134, nan, 1, Timestamp('2020-01-02 08:07:48')]\n------------------------------------------------------------------------------\n\n\nRaw raow  Pandas(Index=51, RAT='4G', OPERATOR='EC-Claro(América Móvil)-01', CHANNEL=2250, IMSI=740010177429078.0, IMEI=nan, TMSI=nan, MS_POWER=-105303.0, TA=2, LAST_LAC=60134, NAME=nan, HITS=1, DATE_TIME=Timestamp('2020-01-02 08:07:37'))\n['4G', 'EC-Claro(América Móvil)-01', 2250, 740010177429078.0, nan, nan, -105303.0, 2, 60134, nan, 1, Timestamp('2020-01-02 08:07:37')]\n------------------------------------------------------------------------------\n\n\nRaw raow  Pandas(Index=52, RAT='4G', OPERATOR='EC-Claro(América Móvil)-01', CHANNEL=2250, IMSI=740010175065850.0, IMEI=nan, TMSI=nan, MS_POWER=-116397.0, TA=2, LAST_LAC=60134, NAME=nan, HITS=4, DATE_TIME=Timestamp('2020-01-02 08:39:47'))\n['4G', 'EC-Claro(América Móvil)-01', 2250, 740010175065850.0, nan, nan, -116397.0, 2, 60134, nan, 4, Timestamp('2020-01-02 08:39:47')]\n------------------------------------------------------------------------------\n\n\nRaw raow  Pandas(Index=53, RAT='4G', OPERATOR='EC-Claro(América Móvil)-01', CHANNEL=2250, IMSI=740010180545940.0, IMEI=nan, TMSI=nan, MS_POWER=-114991.0, TA=2, LAST_LAC=60134, NAME=nan, HITS=1, DATE_TIME=Timestamp('2020-01-02 08:05:33'))\n['4G', 'EC-Claro(América Móvil)-01', 2250, 740010180545940.0, nan, nan, -114991.0, 2, 60134, nan, 1, Timestamp('2020-01-02 08:05:33')]\n------------------------------------------------------------------------------\n\n\nRaw raow  Pandas(Index=54, RAT='4G', OPERATOR='EC-Claro(América Móvil)-01', CHANNEL=2250, IMSI=740010173348761.0, IMEI=nan, TMSI=nan, MS_POWER=-109132.0, TA=2, LAST_LAC=60134, NAME=nan, HITS=2, DATE_TIME=Timestamp('2020-01-02 09:29:47'))\n['4G', 'EC-Claro(América Móvil)-01', 2250, 740010173348761.0, nan, nan, -109132.0, 2, 60134, nan, 2, Timestamp('2020-01-02 09:29:47')]\n------------------------------------------------------------------------------\n\n\nRaw raow  Pandas(Index=55, RAT='4G', OPERATOR='EC-Claro(América Móvil)-01', CHANNEL=2250, IMSI=740010178573355.0, IMEI=nan, TMSI=nan, MS_POWER=-111163.0, TA=2, LAST_LAC=60134, NAME=nan, HITS=2, DATE_TIME=Timestamp('2020-01-02 08:03:21'))\n['4G', 'EC-Claro(América Móvil)-01', 2250, 740010178573355.0, nan, nan, -111163.0, 2, 60134, nan, 2, Timestamp('2020-01-02 08:03:21')]\n------------------------------------------------------------------------------\n\n\nRaw raow  Pandas(Index=56, RAT='4G', OPERATOR='EC-Claro(América Móvil)-01', CHANNEL=2250, IMSI=740010177988734.0, IMEI=nan, TMSI=nan, MS_POWER=-937409.0, TA=2, LAST_LAC=-1, NAME=nan, HITS=3, DATE_TIME=Timestamp('2020-01-02 09:03:44'))\n['4G', 'EC-Claro(América Móvil)-01', 2250, 740010177988734.0, nan, nan, -937409.0, 2, -1, nan, 3, Timestamp('2020-01-02 09:03:44')]\n------------------------------------------------------------------------------\n\n\nRaw raow  Pandas(Index=57, RAT='4G', OPERATOR='EC-Claro(América Móvil)-01', CHANNEL=2250, IMSI=740010177429195.0, IMEI=nan, TMSI=nan, MS_POWER=-110694.0, TA=2, LAST_LAC=60134, NAME=nan, HITS=3, DATE_TIME=Timestamp('2020-01-02 09:28:30'))\n['4G', 'EC-Claro(América Móvil)-01', 2250, 740010177429195.0, nan, nan, -110694.0, 2, 60134, nan, 3, Timestamp('2020-01-02 09:28:30')]\n------------------------------------------------------------------------------\n\n\nRaw raow  Pandas(Index=58, RAT='4G', OPERATOR='EC-Claro(América Móvil)-01', CHANNEL=2250, IMSI=740010181107345.0, IMEI=nan, TMSI=nan, MS_POWER=-109.21, TA=2, LAST_LAC=60134, NAME=nan, HITS=4, DATE_TIME=Timestamp('2020-01-02 08:52:17'))\n['4G', 'EC-Claro(América Móvil)-01', 2250, 740010181107345.0, nan, nan, -109.21, 2, 60134, nan, 4, Timestamp('2020-01-02 08:52:17')]\n------------------------------------------------------------------------------\n\n\nRaw raow  Pandas(Index=59, RAT='4G', OPERATOR='EC-Claro(América Móvil)-01', CHANNEL=2250, IMSI=740010181033530.0, IMEI=nan, TMSI=nan, MS_POWER=-107882.0, TA=2, LAST_LAC=60134, NAME=nan, HITS=1, DATE_TIME=Timestamp('2020-01-02 08:01:59'))\n['4G', 'EC-Claro(América Móvil)-01', 2250, 740010181033530.0, nan, nan, -107882.0, 2, 60134, nan, 1, Timestamp('2020-01-02 08:01:59')]\n------------------------------------------------------------------------------\n\n\nRaw raow  Pandas(Index=60, RAT='4G', OPERATOR='EC-Claro(América Móvil)-01', CHANNEL=2250, IMSI=740010176827449.0, IMEI=nan, TMSI=nan, MS_POWER=-108038.0, TA=2, LAST_LAC=60134, NAME=nan, HITS=1, DATE_TIME=Timestamp('2020-01-02 08:00:31'))\n['4G', 'EC-Claro(América Móvil)-01', 2250, 740010176827449.0, nan, nan, -108038.0, 2, 60134, nan, 1, Timestamp('2020-01-02 08:00:31')]\n------------------------------------------------------------------------------\n\n\nRaw raow  Pandas(Index=61, RAT='4G', OPERATOR='EC-Claro(América Móvil)-01', CHANNEL=2250, IMSI=740010180121225.0, IMEI=nan, TMSI=nan, MS_POWER=-112491.0, TA=2, LAST_LAC=60134, NAME=nan, HITS=1, DATE_TIME=Timestamp('2020-01-02 08:00:27'))\n['4G', 'EC-Claro(América Móvil)-01', 2250, 740010180121225.0, nan, nan, -112491.0, 2, 60134, nan, 1, Timestamp('2020-01-02 08:00:27')]\n------------------------------------------------------------------------------\n\n\nRaw raow  Pandas(Index=62, RAT='4G', OPERATOR='EC-Movistar(Telefónica)-00', CHANNEL=700, IMSI=740010181107345.0, IMEI=nan, TMSI=nan, MS_POWER=-109991.0, TA=2, LAST_LAC=60134, NAME=nan, HITS=1, DATE_TIME=Timestamp('2020-01-02 10:29:06'))\n['4G', 'EC-Movistar(Telefónica)-00', 700, 740010181107345.0, nan, nan, -109991.0, 2, 60134, nan, 1, Timestamp('2020-01-02 10:29:06')]\n------------------------------------------------------------------------------\n\n\nRaw raow  Pandas(Index=63, RAT='4G', OPERATOR='EC-Movistar(Telefónica)-00', CHANNEL=700, IMSI=740000221937792.0, IMEI=nan, TMSI=nan, MS_POWER=-100.85, TA=2, LAST_LAC=-1, NAME=nan, HITS=5, DATE_TIME=Timestamp('2020-01-02 11:44:59'))\n['4G', 'EC-Movistar(Telefónica)-00', 700, 740000221937792.0, nan, nan, -100.85, 2, -1, nan, 5, Timestamp('2020-01-02 11:44:59')]\n------------------------------------------------------------------------------\n\n\nRaw raow  Pandas(Index=64, RAT='4G', OPERATOR='EC-Movistar(Telefónica)-00', CHANNEL=700, IMSI=740000120875882.0, IMEI=nan, TMSI=nan, MS_POWER=-104678.0, TA=2, LAST_LAC=-1, NAME=nan, HITS=1, DATE_TIME=Timestamp('2020-01-02 10:18:30'))\n['4G', 'EC-Movistar(Telefónica)-00', 700, 740000120875882.0, nan, nan, -104678.0, 2, -1, nan, 1, Timestamp('2020-01-02 10:18:30')]\n------------------------------------------------------------------------------\n\n\nRaw raow  Pandas(Index=65, RAT='4G', OPERATOR='EC-Movistar(Telefónica)-00', CHANNEL=700, IMSI=740000120150524.0, IMEI=nan, TMSI=nan, MS_POWER=-106241.0, TA=2, LAST_LAC=9616, NAME=nan, HITS=6, DATE_TIME=Timestamp('2020-01-02 12:07:11'))\n['4G', 'EC-Movistar(Telefónica)-00', 700, 740000120150524.0, nan, nan, -106241.0, 2, 9616, nan, 6, Timestamp('2020-01-02 12:07:11')]\n------------------------------------------------------------------------------\n\n\nRaw raow  Pandas(Index=66, RAT='4G', OPERATOR='EC-Movistar(Telefónica)-00', CHANNEL=700, IMSI=740000222510480.0, IMEI=nan, TMSI=nan, MS_POWER=-102022.0, TA=2, LAST_LAC=9616, NAME=nan, HITS=5, DATE_TIME=Timestamp('2020-01-02 13:48:47'))\n['4G', 'EC-Movistar(Telefónica)-00', 700, 740000222510480.0, nan, nan, -102022.0, 2, 9616, nan, 5, Timestamp('2020-01-02 13:48:47')]\n------------------------------------------------------------------------------\n\n\nRaw raow  Pandas(Index=67, RAT='4G', OPERATOR='EC-Movistar(Telefónica)-00', CHANNEL=700, IMSI=740000121069805.0, IMEI=nan, TMSI=nan, MS_POWER=-103116.0, TA=2, LAST_LAC=9616, NAME=nan, HITS=15, DATE_TIME=Timestamp('2020-01-02 13:49:05'))\n['4G', 'EC-Movistar(Telefónica)-00', 700, 740000121069805.0, nan, nan, -103116.0, 2, 9616, nan, 15, Timestamp('2020-01-02 13:49:05')]\n------------------------------------------------------------------------------\n\n\nRaw raow  Pandas(Index=68, RAT='4G', OPERATOR='EC-Movistar(Telefónica)-00', CHANNEL=700, IMSI=740000221817575.0, IMEI=nan, TMSI=nan, MS_POWER=-117413.0, TA=2, LAST_LAC=9616, NAME=nan, HITS=1, DATE_TIME=Timestamp('2020-01-02 10:05:28'))\n['4G', 'EC-Movistar(Telefónica)-00', 700, 740000221817575.0, nan, nan, -117413.0, 2, 9616, nan, 1, Timestamp('2020-01-02 10:05:28')]\n------------------------------------------------------------------------------\n\n\nRaw raow  Pandas(Index=69, RAT='4G', OPERATOR='EC-Movistar(Telefónica)-00', CHANNEL=700, IMSI=740000221937843.0, IMEI=nan, TMSI=nan, MS_POWER=-104757.0, TA=2, LAST_LAC=-1, NAME=nan, HITS=11, DATE_TIME=Timestamp('2020-01-02 13:48:39'))\n['4G', 'EC-Movistar(Telefónica)-00', 700, 740000221937843.0, nan, nan, -104757.0, 2, -1, nan, 11, Timestamp('2020-01-02 13:48:39')]\n------------------------------------------------------------------------------\n\n\nRaw raow  Pandas(Index=70, RAT='4G', OPERATOR='EC-Movistar(Telefónica)-00', CHANNEL=700, IMSI=740000121722257.0, IMEI=nan, TMSI=nan, MS_POWER=-116319.0, TA=2, LAST_LAC=9616, NAME=nan, HITS=1, DATE_TIME=Timestamp('2020-01-02 10:05:15'))\n['4G', 'EC-Movistar(Telefónica)-00', 700, 740000121722257.0, nan, nan, -116319.0, 2, 9616, nan, 1, Timestamp('2020-01-02 10:05:15')]\n------------------------------------------------------------------------------\n\n\nRaw raow  Pandas(Index=71, RAT='4G', OPERATOR='EC-Movistar(Telefónica)-00', CHANNEL=700, IMSI=740000121062009.0, IMEI=nan, TMSI=nan, MS_POWER=-110616.0, TA=2, LAST_LAC=9616, NAME=nan, HITS=3, DATE_TIME=Timestamp('2020-01-02 13:49:10'))\n['4G', 'EC-Movistar(Telefónica)-00', 700, 740000121062009.0, nan, nan, -110616.0, 2, 9616, nan, 3, Timestamp('2020-01-02 13:49:10')]\n------------------------------------------------------------------------------\n\n\nRaw raow  Pandas(Index=72, RAT='4G', OPERATOR='EC-Movistar(Telefónica)-00', CHANNEL=700, IMSI=740000122161989.0, IMEI=nan, TMSI=nan, MS_POWER=-104366.0, TA=2, LAST_LAC=9616, NAME=nan, HITS=1, DATE_TIME=Timestamp('2020-01-02 10:04:13'))\n['4G', 'EC-Movistar(Telefónica)-00', 700, 740000122161989.0, nan, nan, -104366.0, 2, 9616, nan, 1, Timestamp('2020-01-02 10:04:13')]\n------------------------------------------------------------------------------\n\n\nRaw raow  Pandas(Index=73, RAT='4G', OPERATOR='EC-Movistar(Telefónica)-00', CHANNEL=700, IMSI=740000122117777.0, IMEI=nan, TMSI=nan, MS_POWER=-112.1, TA=2, LAST_LAC=9616, NAME=nan, HITS=7, DATE_TIME=Timestamp('2020-01-02 11:46:25'))\n['4G', 'EC-Movistar(Telefónica)-00', 700, 740000122117777.0, nan, nan, -112.1, 2, 9616, nan, 7, Timestamp('2020-01-02 11:46:25')]\n------------------------------------------------------------------------------\n\n\n"
    }
   ],
   "source": [
    "\n",
    "for i,row in enumerate(allData.itertuples()):\n",
    "    print(\"Raw raow \",row)\n",
    "    r = []\n",
    "    for i,columnName in enumerate(headerList):\n",
    "        r.append(row._asdict()[str(columnName)])\n",
    "    print(r)\n",
    "    print(\"------------------------------------------------------------------------------\\n\\n\")"
   ]
  },
  {
   "cell_type": "code",
   "execution_count": 35,
   "metadata": {},
   "outputs": [
    {
     "data": {
      "text/plain": "['RAT',\n 'OPERATOR',\n 'CHANNEL',\n 'IMSI',\n 'IMEI',\n 'TMSI',\n 'MS POWER',\n 'TA',\n 'LAST LAC',\n 'NAME',\n 'HITS',\n 'DATE',\n 'TIME']"
     },
     "execution_count": 35,
     "metadata": {},
     "output_type": "execute_result"
    }
   ],
   "source": [
    "list(allData.columns.values)"
   ]
  },
  {
   "cell_type": "code",
   "execution_count": 145,
   "metadata": {},
   "outputs": [
    {
     "data": {
      "text/html": "<div>\n<style scoped>\n    .dataframe tbody tr th:only-of-type {\n        vertical-align: middle;\n    }\n\n    .dataframe tbody tr th {\n        vertical-align: top;\n    }\n\n    .dataframe thead th {\n        text-align: right;\n    }\n</style>\n<table border=\"1\" class=\"dataframe\">\n  <thead>\n    <tr style=\"text-align: right;\">\n      <th></th>\n      <th></th>\n      <th>HITS</th>\n    </tr>\n    <tr>\n      <th>IMEI</th>\n      <th>IMSI</th>\n      <th></th>\n    </tr>\n  </thead>\n  <tbody>\n    <tr>\n      <th>1.037300e+13</th>\n      <th>7.400102e+14</th>\n      <td>1</td>\n    </tr>\n    <tr>\n      <th>1.099701e+13</th>\n      <th>7.400101e+14</th>\n      <td>1</td>\n    </tr>\n    <tr>\n      <th>1.122300e+13</th>\n      <th>7.400102e+14</th>\n      <td>1</td>\n    </tr>\n    <tr>\n      <th>1.138700e+13</th>\n      <th>7.400101e+14</th>\n      <td>1</td>\n    </tr>\n    <tr>\n      <th>1.138800e+13</th>\n      <th>7.400101e+14</th>\n      <td>1</td>\n    </tr>\n    <tr>\n      <th rowspan=\"2\" valign=\"top\">1.167201e+13</th>\n      <th>7.400102e+14</th>\n      <td>1</td>\n    </tr>\n    <tr>\n      <th>7.400202e+14</th>\n      <td>1</td>\n    </tr>\n    <tr>\n      <th>1.176901e+13</th>\n      <th>7.400102e+14</th>\n      <td>1</td>\n    </tr>\n    <tr>\n      <th>1.185101e+13</th>\n      <th>7.400101e+14</th>\n      <td>1</td>\n    </tr>\n    <tr>\n      <th>1.196900e+13</th>\n      <th>7.400002e+14</th>\n      <td>1</td>\n    </tr>\n    <tr>\n      <th>1.201701e+13</th>\n      <th>7.400202e+14</th>\n      <td>1</td>\n    </tr>\n    <tr>\n      <th>1.240101e+13</th>\n      <th>7.400102e+14</th>\n      <td>1</td>\n    </tr>\n    <tr>\n      <th>1.245600e+13</th>\n      <th>7.400102e+14</th>\n      <td>1</td>\n    </tr>\n    <tr>\n      <th>1.245601e+13</th>\n      <th>7.400101e+14</th>\n      <td>1</td>\n    </tr>\n    <tr>\n      <th>1.250400e+13</th>\n      <th>7.400202e+14</th>\n      <td>1</td>\n    </tr>\n    <tr>\n      <th>1.282101e+13</th>\n      <th>7.400102e+14</th>\n      <td>1</td>\n    </tr>\n    <tr>\n      <th>1.285901e+13</th>\n      <th>7.400102e+14</th>\n      <td>1</td>\n    </tr>\n    <tr>\n      <th>1.323600e+13</th>\n      <th>7.400102e+14</th>\n      <td>1</td>\n    </tr>\n    <tr>\n      <th>1.334400e+13</th>\n      <th>7.400102e+14</th>\n      <td>1</td>\n    </tr>\n    <tr>\n      <th>1.340100e+13</th>\n      <th>7.400102e+14</th>\n      <td>1</td>\n    </tr>\n    <tr>\n      <th>1.353701e+13</th>\n      <th>7.400102e+14</th>\n      <td>1</td>\n    </tr>\n    <tr>\n      <th>1.385201e+13</th>\n      <th>7.400102e+14</th>\n      <td>1</td>\n    </tr>\n    <tr>\n      <th rowspan=\"8\" valign=\"top\">1.396101e+13</th>\n      <th>7.400052e+14</th>\n      <td>2</td>\n    </tr>\n    <tr>\n      <th>7.400102e+14</th>\n      <td>1</td>\n    </tr>\n    <tr>\n      <th>7.400102e+14</th>\n      <td>1</td>\n    </tr>\n    <tr>\n      <th>7.400101e+14</th>\n      <td>2</td>\n    </tr>\n    <tr>\n      <th>7.400101e+14</th>\n      <td>2</td>\n    </tr>\n    <tr>\n      <th>7.400202e+14</th>\n      <td>1</td>\n    </tr>\n    <tr>\n      <th>7.400052e+14</th>\n      <td>1</td>\n    </tr>\n    <tr>\n      <th>7.400102e+14</th>\n      <td>1</td>\n    </tr>\n    <tr>\n      <th>...</th>\n      <th>...</th>\n      <td>...</td>\n    </tr>\n    <tr>\n      <th>8.691700e+14</th>\n      <th>7.400202e+14</th>\n      <td>1</td>\n    </tr>\n    <tr>\n      <th>8.692310e+14</th>\n      <th>7.400101e+14</th>\n      <td>1</td>\n    </tr>\n    <tr>\n      <th rowspan=\"4\" valign=\"top\">8.693960e+14</th>\n      <th>7.400001e+14</th>\n      <td>1</td>\n    </tr>\n    <tr>\n      <th>7.400102e+14</th>\n      <td>6</td>\n    </tr>\n    <tr>\n      <th>7.400102e+14</th>\n      <td>1</td>\n    </tr>\n    <tr>\n      <th>7.400001e+14</th>\n      <td>1</td>\n    </tr>\n    <tr>\n      <th>8.694280e+14</th>\n      <th>7.400102e+14</th>\n      <td>24</td>\n    </tr>\n    <tr>\n      <th>8.694560e+14</th>\n      <th>7.400052e+14</th>\n      <td>1</td>\n    </tr>\n    <tr>\n      <th>8.696220e+14</th>\n      <th>7.400102e+14</th>\n      <td>1</td>\n    </tr>\n    <tr>\n      <th>8.697940e+14</th>\n      <th>7.400001e+14</th>\n      <td>1</td>\n    </tr>\n    <tr>\n      <th>8.698100e+14</th>\n      <th>7.400102e+14</th>\n      <td>1</td>\n    </tr>\n    <tr>\n      <th rowspan=\"8\" valign=\"top\">8.698230e+14</th>\n      <th>7.400202e+14</th>\n      <td>2</td>\n    </tr>\n    <tr>\n      <th>7.400102e+14</th>\n      <td>2</td>\n    </tr>\n    <tr>\n      <th>7.400102e+14</th>\n      <td>1</td>\n    </tr>\n    <tr>\n      <th>7.400102e+14</th>\n      <td>19</td>\n    </tr>\n    <tr>\n      <th>7.400052e+14</th>\n      <td>1</td>\n    </tr>\n    <tr>\n      <th>7.400002e+14</th>\n      <td>15</td>\n    </tr>\n    <tr>\n      <th>7.400002e+14</th>\n      <td>38</td>\n    </tr>\n    <tr>\n      <th>7.400001e+14</th>\n      <td>11</td>\n    </tr>\n    <tr>\n      <th rowspan=\"2\" valign=\"top\">8.698240e+14</th>\n      <th>7.400052e+14</th>\n      <td>3</td>\n    </tr>\n    <tr>\n      <th>7.400001e+14</th>\n      <td>1</td>\n    </tr>\n    <tr>\n      <th rowspan=\"2\" valign=\"top\">8.699690e+14</th>\n      <th>7.400001e+14</th>\n      <td>1</td>\n    </tr>\n    <tr>\n      <th>7.400001e+14</th>\n      <td>1</td>\n    </tr>\n    <tr>\n      <th rowspan=\"5\" valign=\"top\">8.699710e+14</th>\n      <th>7.400102e+14</th>\n      <td>10</td>\n    </tr>\n    <tr>\n      <th>7.400102e+14</th>\n      <td>5</td>\n    </tr>\n    <tr>\n      <th>7.400102e+14</th>\n      <td>3</td>\n    </tr>\n    <tr>\n      <th>7.400102e+14</th>\n      <td>3</td>\n    </tr>\n    <tr>\n      <th>7.400102e+14</th>\n      <td>1</td>\n    </tr>\n    <tr>\n      <th>8.699720e+14</th>\n      <th>7.400051e+14</th>\n      <td>4</td>\n    </tr>\n    <tr>\n      <th>9.900058e+14</th>\n      <th>7.400052e+14</th>\n      <td>1</td>\n    </tr>\n  </tbody>\n</table>\n<p>2263 rows × 1 columns</p>\n</div>",
      "text/plain": "                           HITS\nIMEI         IMSI              \n1.037300e+13 7.400102e+14     1\n1.099701e+13 7.400101e+14     1\n1.122300e+13 7.400102e+14     1\n1.138700e+13 7.400101e+14     1\n1.138800e+13 7.400101e+14     1\n1.167201e+13 7.400102e+14     1\n             7.400202e+14     1\n1.176901e+13 7.400102e+14     1\n1.185101e+13 7.400101e+14     1\n1.196900e+13 7.400002e+14     1\n1.201701e+13 7.400202e+14     1\n1.240101e+13 7.400102e+14     1\n1.245600e+13 7.400102e+14     1\n1.245601e+13 7.400101e+14     1\n1.250400e+13 7.400202e+14     1\n1.282101e+13 7.400102e+14     1\n1.285901e+13 7.400102e+14     1\n1.323600e+13 7.400102e+14     1\n1.334400e+13 7.400102e+14     1\n1.340100e+13 7.400102e+14     1\n1.353701e+13 7.400102e+14     1\n1.385201e+13 7.400102e+14     1\n1.396101e+13 7.400052e+14     2\n             7.400102e+14     1\n             7.400102e+14     1\n             7.400101e+14     2\n             7.400101e+14     2\n             7.400202e+14     1\n             7.400052e+14     1\n             7.400102e+14     1\n...                         ...\n8.691700e+14 7.400202e+14     1\n8.692310e+14 7.400101e+14     1\n8.693960e+14 7.400001e+14     1\n             7.400102e+14     6\n             7.400102e+14     1\n             7.400001e+14     1\n8.694280e+14 7.400102e+14    24\n8.694560e+14 7.400052e+14     1\n8.696220e+14 7.400102e+14     1\n8.697940e+14 7.400001e+14     1\n8.698100e+14 7.400102e+14     1\n8.698230e+14 7.400202e+14     2\n             7.400102e+14     2\n             7.400102e+14     1\n             7.400102e+14    19\n             7.400052e+14     1\n             7.400002e+14    15\n             7.400002e+14    38\n             7.400001e+14    11\n8.698240e+14 7.400052e+14     3\n             7.400001e+14     1\n8.699690e+14 7.400001e+14     1\n             7.400001e+14     1\n8.699710e+14 7.400102e+14    10\n             7.400102e+14     5\n             7.400102e+14     3\n             7.400102e+14     3\n             7.400102e+14     1\n8.699720e+14 7.400051e+14     4\n9.900058e+14 7.400052e+14     1\n\n[2263 rows x 1 columns]"
     },
     "execution_count": 145,
     "metadata": {},
     "output_type": "execute_result"
    }
   ],
   "source": [
    "# Prueba\n",
    "import numpy as np\n",
    "pivotTable = pd.pivot_table(allData, values=\"HITS\", index=['IMEI', 'IMSI'], aggfunc=np.sum)\n",
    "pivotTable"
   ]
  },
  {
   "cell_type": "code",
   "execution_count": 37,
   "metadata": {},
   "outputs": [
    {
     "data": {
      "text/html": "<div>\n<style scoped>\n    .dataframe tbody tr th:only-of-type {\n        vertical-align: middle;\n    }\n\n    .dataframe tbody tr th {\n        vertical-align: top;\n    }\n\n    .dataframe thead th {\n        text-align: right;\n    }\n</style>\n<table border=\"1\" class=\"dataframe\">\n  <thead>\n    <tr style=\"text-align: right;\">\n      <th></th>\n      <th>RAT</th>\n      <th>OPERATOR</th>\n      <th>CHANNEL</th>\n      <th>IMSI</th>\n      <th>IMEI</th>\n      <th>TMSI</th>\n      <th>MS_POWER</th>\n      <th>TA</th>\n      <th>LAST_LAC</th>\n      <th>NAME</th>\n      <th>HITS</th>\n      <th>DATE</th>\n      <th>TIME</th>\n    </tr>\n  </thead>\n  <tbody>\n    <tr>\n      <td>12</td>\n      <td>4G</td>\n      <td>EC-Claro(América Móvil)-01</td>\n      <td>2250</td>\n      <td>7.400102e+14</td>\n      <td>NaN</td>\n      <td>NaN</td>\n      <td>-101397.00</td>\n      <td>2</td>\n      <td>60134</td>\n      <td>NaN</td>\n      <td>2</td>\n      <td>2019-12-31</td>\n      <td>16:22:20</td>\n    </tr>\n    <tr>\n      <td>6</td>\n      <td>4G</td>\n      <td>EC-Claro(América Móvil)-01</td>\n      <td>2250</td>\n      <td>7.400102e+14</td>\n      <td>NaN</td>\n      <td>NaN</td>\n      <td>-112.10</td>\n      <td>2</td>\n      <td>60134</td>\n      <td>NaN</td>\n      <td>1</td>\n      <td>2019-12-31</td>\n      <td>16:14:43</td>\n    </tr>\n    <tr>\n      <td>7</td>\n      <td>4G</td>\n      <td>EC-Claro(América Móvil)-01</td>\n      <td>2250</td>\n      <td>7.400102e+14</td>\n      <td>NaN</td>\n      <td>NaN</td>\n      <td>-111.71</td>\n      <td>2</td>\n      <td>60134</td>\n      <td>NaN</td>\n      <td>1</td>\n      <td>2019-12-31</td>\n      <td>16:14:33</td>\n    </tr>\n    <tr>\n      <td>8</td>\n      <td>4G</td>\n      <td>EC-Claro(América Móvil)-01</td>\n      <td>2250</td>\n      <td>7.400102e+14</td>\n      <td>NaN</td>\n      <td>NaN</td>\n      <td>-113975.00</td>\n      <td>2</td>\n      <td>60134</td>\n      <td>NaN</td>\n      <td>1</td>\n      <td>2019-12-31</td>\n      <td>16:14:16</td>\n    </tr>\n    <tr>\n      <td>0</td>\n      <td>4G</td>\n      <td>EC-Claro(América Móvil)-01</td>\n      <td>2250</td>\n      <td>7.400102e+14</td>\n      <td>NaN</td>\n      <td>NaN</td>\n      <td>-108819.00</td>\n      <td>2</td>\n      <td>60134</td>\n      <td>NaN</td>\n      <td>1</td>\n      <td>2019-12-31</td>\n      <td>16:30:03</td>\n    </tr>\n    <tr>\n      <td>...</td>\n      <td>...</td>\n      <td>...</td>\n      <td>...</td>\n      <td>...</td>\n      <td>...</td>\n      <td>...</td>\n      <td>...</td>\n      <td>...</td>\n      <td>...</td>\n      <td>...</td>\n      <td>...</td>\n      <td>...</td>\n      <td>...</td>\n    </tr>\n    <tr>\n      <td>11</td>\n      <td>4G</td>\n      <td>EC-Claro(América Móvil)-01</td>\n      <td>925</td>\n      <td>7.400102e+14</td>\n      <td>NaN</td>\n      <td>NaN</td>\n      <td>-113507.00</td>\n      <td>2</td>\n      <td>-1</td>\n      <td>NaN</td>\n      <td>1</td>\n      <td>2020-01-02</td>\n      <td>14:35:54</td>\n    </tr>\n    <tr>\n      <td>10</td>\n      <td>4G</td>\n      <td>EC-Claro(América Móvil)-01</td>\n      <td>925</td>\n      <td>7.400102e+14</td>\n      <td>NaN</td>\n      <td>NaN</td>\n      <td>-112.96</td>\n      <td>1</td>\n      <td>60134</td>\n      <td>NaN</td>\n      <td>1</td>\n      <td>2020-01-02</td>\n      <td>14:42:28</td>\n    </tr>\n    <tr>\n      <td>18</td>\n      <td>4G</td>\n      <td>EC-Claro(América Móvil)-01</td>\n      <td>925</td>\n      <td>7.400102e+14</td>\n      <td>NaN</td>\n      <td>NaN</td>\n      <td>-101553.00</td>\n      <td>2</td>\n      <td>60134</td>\n      <td>NaN</td>\n      <td>1</td>\n      <td>2020-01-02</td>\n      <td>14:04:15</td>\n    </tr>\n    <tr>\n      <td>72</td>\n      <td>4G</td>\n      <td>EC-Movistar(Telefónica)-00</td>\n      <td>700</td>\n      <td>7.400001e+14</td>\n      <td>NaN</td>\n      <td>NaN</td>\n      <td>-104366.00</td>\n      <td>2</td>\n      <td>9616</td>\n      <td>NaN</td>\n      <td>1</td>\n      <td>2020-01-02</td>\n      <td>10:04:13</td>\n    </tr>\n    <tr>\n      <td>73</td>\n      <td>4G</td>\n      <td>EC-Movistar(Telefónica)-00</td>\n      <td>700</td>\n      <td>7.400001e+14</td>\n      <td>NaN</td>\n      <td>NaN</td>\n      <td>-112.10</td>\n      <td>2</td>\n      <td>9616</td>\n      <td>NaN</td>\n      <td>7</td>\n      <td>2020-01-02</td>\n      <td>11:46:25</td>\n    </tr>\n  </tbody>\n</table>\n<p>99 rows × 13 columns</p>\n</div>",
      "text/plain": "   RAT                    OPERATOR  CHANNEL          IMSI  IMEI TMSI  \\\n12  4G  EC-Claro(América Móvil)-01     2250  7.400102e+14   NaN  NaN   \n6   4G  EC-Claro(América Móvil)-01     2250  7.400102e+14   NaN  NaN   \n7   4G  EC-Claro(América Móvil)-01     2250  7.400102e+14   NaN  NaN   \n8   4G  EC-Claro(América Móvil)-01     2250  7.400102e+14   NaN  NaN   \n0   4G  EC-Claro(América Móvil)-01     2250  7.400102e+14   NaN  NaN   \n..  ..                         ...      ...           ...   ...  ...   \n11  4G  EC-Claro(América Móvil)-01      925  7.400102e+14   NaN  NaN   \n10  4G  EC-Claro(América Móvil)-01      925  7.400102e+14   NaN  NaN   \n18  4G  EC-Claro(América Móvil)-01      925  7.400102e+14   NaN  NaN   \n72  4G  EC-Movistar(Telefónica)-00      700  7.400001e+14   NaN  NaN   \n73  4G  EC-Movistar(Telefónica)-00      700  7.400001e+14   NaN  NaN   \n\n     MS_POWER  TA  LAST_LAC  NAME  HITS        DATE      TIME  \n12 -101397.00   2     60134   NaN     2  2019-12-31  16:22:20  \n6     -112.10   2     60134   NaN     1  2019-12-31  16:14:43  \n7     -111.71   2     60134   NaN     1  2019-12-31  16:14:33  \n8  -113975.00   2     60134   NaN     1  2019-12-31  16:14:16  \n0  -108819.00   2     60134   NaN     1  2019-12-31  16:30:03  \n..        ...  ..       ...   ...   ...         ...       ...  \n11 -113507.00   2        -1   NaN     1  2020-01-02  14:35:54  \n10    -112.96   1     60134   NaN     1  2020-01-02  14:42:28  \n18 -101553.00   2     60134   NaN     1  2020-01-02  14:04:15  \n72 -104366.00   2      9616   NaN     1  2020-01-02  10:04:13  \n73    -112.10   2      9616   NaN     7  2020-01-02  11:46:25  \n\n[99 rows x 13 columns]"
     },
     "execution_count": 37,
     "metadata": {},
     "output_type": "execute_result"
    }
   ],
   "source": [
    "def getDatosIncosistentes(df, cols=[]):\n",
    "    return df[df[cols[0]].isnull()]\n",
    "getDatosIncosistentes(allData, ['IMEI',])"
   ]
  },
  {
   "cell_type": "code",
   "execution_count": 30,
   "metadata": {},
   "outputs": [
    {
     "ename": "ValueError",
     "evalue": "Length mismatch: Expected axis has 3528 elements, new values have 3627 elements",
     "output_type": "error",
     "traceback": [
      "\u001b[1;31m---------------------------------------------------------------------------\u001b[0m",
      "\u001b[1;31mValueError\u001b[0m                                Traceback (most recent call last)",
      "\u001b[1;32m<ipython-input-30-40b7eb3e732e>\u001b[0m in \u001b[0;36m<module>\u001b[1;34m\u001b[0m\n\u001b[0;32m      2\u001b[0m     return  df.groupby('IMEI')['HITS'].transform(lambda x: sum(x)\n\u001b[0;32m      3\u001b[0m )\n\u001b[1;32m----> 4\u001b[1;33m \u001b[0mobtenerHitsEmai\u001b[0m\u001b[1;33m(\u001b[0m\u001b[0mallData\u001b[0m\u001b[1;33m)\u001b[0m\u001b[1;33m\u001b[0m\u001b[1;33m\u001b[0m\u001b[0m\n\u001b[0m",
      "\u001b[1;32m<ipython-input-30-40b7eb3e732e>\u001b[0m in \u001b[0;36mobtenerHitsEmai\u001b[1;34m(df)\u001b[0m\n\u001b[0;32m      1\u001b[0m \u001b[1;32mdef\u001b[0m \u001b[0mobtenerHitsEmai\u001b[0m\u001b[1;33m(\u001b[0m\u001b[0mdf\u001b[0m\u001b[1;33m)\u001b[0m\u001b[1;33m:\u001b[0m\u001b[1;33m\u001b[0m\u001b[1;33m\u001b[0m\u001b[0m\n\u001b[1;32m----> 2\u001b[1;33m     return  df.groupby('IMEI')['HITS'].transform(lambda x: sum(x)\n\u001b[0m\u001b[0;32m      3\u001b[0m )\n\u001b[0;32m      4\u001b[0m \u001b[0mobtenerHitsEmai\u001b[0m\u001b[1;33m(\u001b[0m\u001b[0mallData\u001b[0m\u001b[1;33m)\u001b[0m\u001b[1;33m\u001b[0m\u001b[1;33m\u001b[0m\u001b[0m\n",
      "\u001b[1;32m~\\Anaconda3\\lib\\site-packages\\pandas\\core\\groupby\\generic.py\u001b[0m in \u001b[0;36mtransform\u001b[1;34m(self, func, *args, **kwargs)\u001b[0m\n\u001b[0;32m   1049\u001b[0m \u001b[1;33m\u001b[0m\u001b[0m\n\u001b[0;32m   1050\u001b[0m         \u001b[0mresult\u001b[0m\u001b[1;33m.\u001b[0m\u001b[0mname\u001b[0m \u001b[1;33m=\u001b[0m \u001b[0mself\u001b[0m\u001b[1;33m.\u001b[0m\u001b[0m_selected_obj\u001b[0m\u001b[1;33m.\u001b[0m\u001b[0mname\u001b[0m\u001b[1;33m\u001b[0m\u001b[1;33m\u001b[0m\u001b[0m\n\u001b[1;32m-> 1051\u001b[1;33m         \u001b[0mresult\u001b[0m\u001b[1;33m.\u001b[0m\u001b[0mindex\u001b[0m \u001b[1;33m=\u001b[0m \u001b[0mself\u001b[0m\u001b[1;33m.\u001b[0m\u001b[0m_selected_obj\u001b[0m\u001b[1;33m.\u001b[0m\u001b[0mindex\u001b[0m\u001b[1;33m\u001b[0m\u001b[1;33m\u001b[0m\u001b[0m\n\u001b[0m\u001b[0;32m   1052\u001b[0m         \u001b[1;32mreturn\u001b[0m \u001b[0mresult\u001b[0m\u001b[1;33m\u001b[0m\u001b[1;33m\u001b[0m\u001b[0m\n\u001b[0;32m   1053\u001b[0m \u001b[1;33m\u001b[0m\u001b[0m\n",
      "\u001b[1;32m~\\Anaconda3\\lib\\site-packages\\pandas\\core\\generic.py\u001b[0m in \u001b[0;36m__setattr__\u001b[1;34m(self, name, value)\u001b[0m\n\u001b[0;32m   5190\u001b[0m         \u001b[1;32mtry\u001b[0m\u001b[1;33m:\u001b[0m\u001b[1;33m\u001b[0m\u001b[1;33m\u001b[0m\u001b[0m\n\u001b[0;32m   5191\u001b[0m             \u001b[0mobject\u001b[0m\u001b[1;33m.\u001b[0m\u001b[0m__getattribute__\u001b[0m\u001b[1;33m(\u001b[0m\u001b[0mself\u001b[0m\u001b[1;33m,\u001b[0m \u001b[0mname\u001b[0m\u001b[1;33m)\u001b[0m\u001b[1;33m\u001b[0m\u001b[1;33m\u001b[0m\u001b[0m\n\u001b[1;32m-> 5192\u001b[1;33m             \u001b[1;32mreturn\u001b[0m \u001b[0mobject\u001b[0m\u001b[1;33m.\u001b[0m\u001b[0m__setattr__\u001b[0m\u001b[1;33m(\u001b[0m\u001b[0mself\u001b[0m\u001b[1;33m,\u001b[0m \u001b[0mname\u001b[0m\u001b[1;33m,\u001b[0m \u001b[0mvalue\u001b[0m\u001b[1;33m)\u001b[0m\u001b[1;33m\u001b[0m\u001b[1;33m\u001b[0m\u001b[0m\n\u001b[0m\u001b[0;32m   5193\u001b[0m         \u001b[1;32mexcept\u001b[0m \u001b[0mAttributeError\u001b[0m\u001b[1;33m:\u001b[0m\u001b[1;33m\u001b[0m\u001b[1;33m\u001b[0m\u001b[0m\n\u001b[0;32m   5194\u001b[0m             \u001b[1;32mpass\u001b[0m\u001b[1;33m\u001b[0m\u001b[1;33m\u001b[0m\u001b[0m\n",
      "\u001b[1;32mpandas\\_libs\\properties.pyx\u001b[0m in \u001b[0;36mpandas._libs.properties.AxisProperty.__set__\u001b[1;34m()\u001b[0m\n",
      "\u001b[1;32m~\\Anaconda3\\lib\\site-packages\\pandas\\core\\series.py\u001b[0m in \u001b[0;36m_set_axis\u001b[1;34m(self, axis, labels, fastpath)\u001b[0m\n\u001b[0;32m    439\u001b[0m         \u001b[0mobject\u001b[0m\u001b[1;33m.\u001b[0m\u001b[0m__setattr__\u001b[0m\u001b[1;33m(\u001b[0m\u001b[0mself\u001b[0m\u001b[1;33m,\u001b[0m \u001b[1;34m\"_index\"\u001b[0m\u001b[1;33m,\u001b[0m \u001b[0mlabels\u001b[0m\u001b[1;33m)\u001b[0m\u001b[1;33m\u001b[0m\u001b[1;33m\u001b[0m\u001b[0m\n\u001b[0;32m    440\u001b[0m         \u001b[1;32mif\u001b[0m \u001b[1;32mnot\u001b[0m \u001b[0mfastpath\u001b[0m\u001b[1;33m:\u001b[0m\u001b[1;33m\u001b[0m\u001b[1;33m\u001b[0m\u001b[0m\n\u001b[1;32m--> 441\u001b[1;33m             \u001b[0mself\u001b[0m\u001b[1;33m.\u001b[0m\u001b[0m_data\u001b[0m\u001b[1;33m.\u001b[0m\u001b[0mset_axis\u001b[0m\u001b[1;33m(\u001b[0m\u001b[0maxis\u001b[0m\u001b[1;33m,\u001b[0m \u001b[0mlabels\u001b[0m\u001b[1;33m)\u001b[0m\u001b[1;33m\u001b[0m\u001b[1;33m\u001b[0m\u001b[0m\n\u001b[0m\u001b[0;32m    442\u001b[0m \u001b[1;33m\u001b[0m\u001b[0m\n\u001b[0;32m    443\u001b[0m     \u001b[1;32mdef\u001b[0m \u001b[0m_set_subtyp\u001b[0m\u001b[1;33m(\u001b[0m\u001b[0mself\u001b[0m\u001b[1;33m,\u001b[0m \u001b[0mis_all_dates\u001b[0m\u001b[1;33m)\u001b[0m\u001b[1;33m:\u001b[0m\u001b[1;33m\u001b[0m\u001b[1;33m\u001b[0m\u001b[0m\n",
      "\u001b[1;32m~\\Anaconda3\\lib\\site-packages\\pandas\\core\\internals\\managers.py\u001b[0m in \u001b[0;36mset_axis\u001b[1;34m(self, axis, new_labels)\u001b[0m\n\u001b[0;32m    181\u001b[0m             raise ValueError(\n\u001b[0;32m    182\u001b[0m                 \u001b[1;34m\"Length mismatch: Expected axis has {old} elements, new \"\u001b[0m\u001b[1;33m\u001b[0m\u001b[1;33m\u001b[0m\u001b[0m\n\u001b[1;32m--> 183\u001b[1;33m                 \u001b[1;34m\"values have {new} elements\"\u001b[0m\u001b[1;33m.\u001b[0m\u001b[0mformat\u001b[0m\u001b[1;33m(\u001b[0m\u001b[0mold\u001b[0m\u001b[1;33m=\u001b[0m\u001b[0mold_len\u001b[0m\u001b[1;33m,\u001b[0m \u001b[0mnew\u001b[0m\u001b[1;33m=\u001b[0m\u001b[0mnew_len\u001b[0m\u001b[1;33m)\u001b[0m\u001b[1;33m\u001b[0m\u001b[1;33m\u001b[0m\u001b[0m\n\u001b[0m\u001b[0;32m    184\u001b[0m             )\n\u001b[0;32m    185\u001b[0m \u001b[1;33m\u001b[0m\u001b[0m\n",
      "\u001b[1;31mValueError\u001b[0m: Length mismatch: Expected axis has 3528 elements, new values have 3627 elements"
     ]
    }
   ],
   "source": [
    "def obtenerHitsEmai(df):\n",
    "    return  df.groupby('IMEI')['HITS'].transform(lambda x: sum(x)\n",
    ")\n",
    "obtenerHitsEmai(allData)"
   ]
  },
  {
   "cell_type": "code",
   "execution_count": 31,
   "metadata": {},
   "outputs": [
    {
     "data": {
      "text/plain": "['EC-Claro(América Móvil)-01', 'EC-Movistar(Telefónica)-00']"
     },
     "execution_count": 31,
     "metadata": {},
     "output_type": "execute_result"
    }
   ],
   "source": [
    "def getUniqueColumnValues(df, column):\n",
    "    return df[column].unique()\n",
    "getUniqueColumnValues(allData,'OPERATOR').tolist()"
   ]
  },
  {
   "cell_type": "code",
   "execution_count": 34,
   "metadata": {},
   "outputs": [
    {
     "name": "stdout",
     "output_type": "stream",
     "text": "<class 'pandas.core.frame.DataFrame'>\nInt64Index: 1 entries, 724 to 724\nData columns (total 13 columns):\nRAT         1 non-null object\nOPERATOR    1 non-null object\nCHANNEL     1 non-null int64\nIMSI        1 non-null float64\nIMEI        1 non-null float64\nTMSI        1 non-null object\nMS_POWER    1 non-null float64\nTA          1 non-null int64\nLAST_LAC    1 non-null int64\nNAME        0 non-null float64\nHITS        1 non-null int64\nDATE        1 non-null object\nTIME        1 non-null object\ndtypes: float64(4), int64(4), object(5)\nmemory usage: 112.0+ bytes\n"
    }
   ],
   "source": [
    "allData.head(1).info()"
   ]
  },
  {
   "cell_type": "code",
   "execution_count": 35,
   "metadata": {},
   "outputs": [
    {
     "data": {
      "text/html": "<div>\n<style scoped>\n    .dataframe tbody tr th:only-of-type {\n        vertical-align: middle;\n    }\n\n    .dataframe tbody tr th {\n        vertical-align: top;\n    }\n\n    .dataframe thead th {\n        text-align: right;\n    }\n</style>\n<table border=\"1\" class=\"dataframe\">\n  <thead>\n    <tr style=\"text-align: right;\">\n      <th></th>\n      <th>RAT</th>\n      <th>OPERATOR</th>\n      <th>CHANNEL</th>\n      <th>IMSI</th>\n      <th>IMEI</th>\n      <th>TMSI</th>\n      <th>MS_POWER</th>\n      <th>TA</th>\n      <th>LAST_LAC</th>\n      <th>NAME</th>\n      <th>HITS</th>\n      <th>DATE</th>\n      <th>TIME</th>\n    </tr>\n  </thead>\n  <tbody>\n    <tr>\n      <td>294</td>\n      <td>2G</td>\n      <td>EC-Movistar(Telefónica)-00</td>\n      <td>245</td>\n      <td>2.140742e+14</td>\n      <td>8.687890e+14</td>\n      <td>FFFFFFFF</td>\n      <td>-65.0</td>\n      <td>0</td>\n      <td>15251</td>\n      <td>NaN</td>\n      <td>2</td>\n      <td>2020-01-02</td>\n      <td>12:33:35</td>\n    </tr>\n    <tr>\n      <td>5</td>\n      <td>2G</td>\n      <td>EC-Claro(América Móvil)-01</td>\n      <td>136</td>\n      <td>7.400102e+14</td>\n      <td>8.687890e+14</td>\n      <td>540C8DA9</td>\n      <td>-65.0</td>\n      <td>0</td>\n      <td>50134</td>\n      <td>NaN</td>\n      <td>1</td>\n      <td>2020-01-02</td>\n      <td>23:19:17</td>\n    </tr>\n    <tr>\n      <td>4</td>\n      <td>2G</td>\n      <td>EC-Claro(América Móvil)-01</td>\n      <td>136</td>\n      <td>7.400102e+14</td>\n      <td>8.687890e+14</td>\n      <td>870C5759</td>\n      <td>-66.0</td>\n      <td>0</td>\n      <td>10228</td>\n      <td>NaN</td>\n      <td>1</td>\n      <td>2020-01-02</td>\n      <td>23:20:18</td>\n    </tr>\n    <tr>\n      <td>3</td>\n      <td>2G</td>\n      <td>EC-Claro(América Móvil)-01</td>\n      <td>136</td>\n      <td>7.400102e+14</td>\n      <td>8.687890e+14</td>\n      <td>301038EE</td>\n      <td>-66.0</td>\n      <td>0</td>\n      <td>10228</td>\n      <td>NaN</td>\n      <td>1</td>\n      <td>2020-01-02</td>\n      <td>23:27:23</td>\n    </tr>\n    <tr>\n      <td>2</td>\n      <td>2G</td>\n      <td>EC-Claro(América Móvil)-01</td>\n      <td>136</td>\n      <td>7.400102e+14</td>\n      <td>8.687890e+14</td>\n      <td>9B0D58C1</td>\n      <td>-65.0</td>\n      <td>0</td>\n      <td>10228</td>\n      <td>NaN</td>\n      <td>1</td>\n      <td>2020-01-02</td>\n      <td>23:41:19</td>\n    </tr>\n    <tr>\n      <td>1</td>\n      <td>2G</td>\n      <td>EC-Claro(América Móvil)-01</td>\n      <td>136</td>\n      <td>7.400102e+14</td>\n      <td>8.687890e+14</td>\n      <td>36129C46</td>\n      <td>-64.0</td>\n      <td>0</td>\n      <td>10228</td>\n      <td>NaN</td>\n      <td>1</td>\n      <td>2020-01-02</td>\n      <td>23:47:29</td>\n    </tr>\n    <tr>\n      <td>0</td>\n      <td>2G</td>\n      <td>EC-Claro(América Móvil)-01</td>\n      <td>136</td>\n      <td>2.140742e+14</td>\n      <td>8.687890e+14</td>\n      <td>FFFFFFFF</td>\n      <td>-64.0</td>\n      <td>0</td>\n      <td>65534</td>\n      <td>NaN</td>\n      <td>1</td>\n      <td>2020-01-02</td>\n      <td>23:53:29</td>\n    </tr>\n  </tbody>\n</table>\n</div>",
      "text/plain": "    RAT                    OPERATOR  CHANNEL          IMSI          IMEI  \\\n294  2G  EC-Movistar(Telefónica)-00      245  2.140742e+14  8.687890e+14   \n5    2G  EC-Claro(América Móvil)-01      136  7.400102e+14  8.687890e+14   \n4    2G  EC-Claro(América Móvil)-01      136  7.400102e+14  8.687890e+14   \n3    2G  EC-Claro(América Móvil)-01      136  7.400102e+14  8.687890e+14   \n2    2G  EC-Claro(América Móvil)-01      136  7.400102e+14  8.687890e+14   \n1    2G  EC-Claro(América Móvil)-01      136  7.400102e+14  8.687890e+14   \n0    2G  EC-Claro(América Móvil)-01      136  2.140742e+14  8.687890e+14   \n\n         TMSI  MS_POWER  TA  LAST_LAC  NAME  HITS        DATE      TIME  \n294  FFFFFFFF     -65.0   0     15251   NaN     2  2020-01-02  12:33:35  \n5    540C8DA9     -65.0   0     50134   NaN     1  2020-01-02  23:19:17  \n4    870C5759     -66.0   0     10228   NaN     1  2020-01-02  23:20:18  \n3    301038EE     -66.0   0     10228   NaN     1  2020-01-02  23:27:23  \n2    9B0D58C1     -65.0   0     10228   NaN     1  2020-01-02  23:41:19  \n1    36129C46     -64.0   0     10228   NaN     1  2020-01-02  23:47:29  \n0    FFFFFFFF     -64.0   0     65534   NaN     1  2020-01-02  23:53:29  "
     },
     "execution_count": 35,
     "metadata": {},
     "output_type": "execute_result"
    }
   ],
   "source": [
    "def filterDfByEmai(df, imei):\n",
    "    return df[df['IMEI']==imei]\n",
    "filterDfByEmai(allData, 868789022187230)"
   ]
  },
  {
   "cell_type": "code",
   "execution_count": 65,
   "metadata": {},
   "outputs": [
    {
     "data": {
      "text/html": "<div>\n<style scoped>\n    .dataframe tbody tr th:only-of-type {\n        vertical-align: middle;\n    }\n\n    .dataframe tbody tr th {\n        vertical-align: top;\n    }\n\n    .dataframe thead th {\n        text-align: right;\n    }\n</style>\n<table border=\"1\" class=\"dataframe\">\n  <thead>\n    <tr style=\"text-align: right;\">\n      <th></th>\n      <th>RAT</th>\n      <th>OPERATOR</th>\n      <th>CHANNEL</th>\n      <th>IMSI</th>\n      <th>IMEI</th>\n      <th>TMSI</th>\n      <th>MS_POWER</th>\n      <th>TA</th>\n      <th>LAST_LAC</th>\n      <th>NAME</th>\n      <th>HITS</th>\n      <th>DATE-TIME</th>\n      <th>DATE_TIME</th>\n    </tr>\n  </thead>\n  <tbody>\n    <tr>\n      <td>0</td>\n      <td>4G</td>\n      <td>EC-Claro(América Móvil)-01</td>\n      <td>2250</td>\n      <td>7.400102e+14</td>\n      <td>NaN</td>\n      <td>NaN</td>\n      <td>-108819.0</td>\n      <td>2</td>\n      <td>60134</td>\n      <td>NaN</td>\n      <td>1</td>\n      <td>ma. dic. 31 16:30:03 2019</td>\n      <td>2019-12-31 16:30:03</td>\n    </tr>\n    <tr>\n      <td>1</td>\n      <td>4G</td>\n      <td>EC-Claro(América Móvil)-01</td>\n      <td>2250</td>\n      <td>7.400102e+14</td>\n      <td>NaN</td>\n      <td>NaN</td>\n      <td>-975691.0</td>\n      <td>2</td>\n      <td>60134</td>\n      <td>NaN</td>\n      <td>1</td>\n      <td>ma. dic. 31 16:29:28 2019</td>\n      <td>2019-12-31 16:29:28</td>\n    </tr>\n    <tr>\n      <td>2</td>\n      <td>4G</td>\n      <td>EC-Claro(América Móvil)-01</td>\n      <td>2250</td>\n      <td>7.400102e+14</td>\n      <td>NaN</td>\n      <td>NaN</td>\n      <td>-110616.0</td>\n      <td>2</td>\n      <td>60134</td>\n      <td>NaN</td>\n      <td>1</td>\n      <td>ma. dic. 31 16:28:54 2019</td>\n      <td>2019-12-31 16:28:54</td>\n    </tr>\n    <tr>\n      <td>3</td>\n      <td>4G</td>\n      <td>EC-Claro(América Móvil)-01</td>\n      <td>2250</td>\n      <td>7.400102e+14</td>\n      <td>NaN</td>\n      <td>NaN</td>\n      <td>-115069.0</td>\n      <td>2</td>\n      <td>-1</td>\n      <td>NaN</td>\n      <td>1</td>\n      <td>ma. dic. 31 16:27:43 2019</td>\n      <td>2019-12-31 16:27:43</td>\n    </tr>\n    <tr>\n      <td>4</td>\n      <td>4G</td>\n      <td>EC-Claro(América Móvil)-01</td>\n      <td>2250</td>\n      <td>7.400102e+14</td>\n      <td>NaN</td>\n      <td>NaN</td>\n      <td>-104444.0</td>\n      <td>2</td>\n      <td>60134</td>\n      <td>NaN</td>\n      <td>1</td>\n      <td>ma. dic. 31 16:20:54 2019</td>\n      <td>2019-12-31 16:20:54</td>\n    </tr>\n    <tr>\n      <td>...</td>\n      <td>...</td>\n      <td>...</td>\n      <td>...</td>\n      <td>...</td>\n      <td>...</td>\n      <td>...</td>\n      <td>...</td>\n      <td>...</td>\n      <td>...</td>\n      <td>...</td>\n      <td>...</td>\n      <td>...</td>\n      <td>...</td>\n    </tr>\n    <tr>\n      <td>69</td>\n      <td>4G</td>\n      <td>EC-Movistar(Telefónica)-00</td>\n      <td>700</td>\n      <td>7.400002e+14</td>\n      <td>NaN</td>\n      <td>NaN</td>\n      <td>-104757.0</td>\n      <td>2</td>\n      <td>-1</td>\n      <td>NaN</td>\n      <td>11</td>\n      <td>ju. ene. 2 13:48:39 2020</td>\n      <td>2020-01-02 13:48:39</td>\n    </tr>\n    <tr>\n      <td>70</td>\n      <td>4G</td>\n      <td>EC-Movistar(Telefónica)-00</td>\n      <td>700</td>\n      <td>7.400001e+14</td>\n      <td>NaN</td>\n      <td>NaN</td>\n      <td>-116319.0</td>\n      <td>2</td>\n      <td>9616</td>\n      <td>NaN</td>\n      <td>1</td>\n      <td>ju. ene. 2 10:05:15 2020</td>\n      <td>2020-01-02 10:05:15</td>\n    </tr>\n    <tr>\n      <td>71</td>\n      <td>4G</td>\n      <td>EC-Movistar(Telefónica)-00</td>\n      <td>700</td>\n      <td>7.400001e+14</td>\n      <td>NaN</td>\n      <td>NaN</td>\n      <td>-110616.0</td>\n      <td>2</td>\n      <td>9616</td>\n      <td>NaN</td>\n      <td>3</td>\n      <td>ju. ene. 2 13:49:10 2020</td>\n      <td>2020-01-02 13:49:10</td>\n    </tr>\n    <tr>\n      <td>72</td>\n      <td>4G</td>\n      <td>EC-Movistar(Telefónica)-00</td>\n      <td>700</td>\n      <td>7.400001e+14</td>\n      <td>NaN</td>\n      <td>NaN</td>\n      <td>-104366.0</td>\n      <td>2</td>\n      <td>9616</td>\n      <td>NaN</td>\n      <td>1</td>\n      <td>ju. ene. 2 10:04:13 2020</td>\n      <td>2020-01-02 10:04:13</td>\n    </tr>\n    <tr>\n      <td>73</td>\n      <td>4G</td>\n      <td>EC-Movistar(Telefónica)-00</td>\n      <td>700</td>\n      <td>7.400001e+14</td>\n      <td>NaN</td>\n      <td>NaN</td>\n      <td>-112.1</td>\n      <td>2</td>\n      <td>9616</td>\n      <td>NaN</td>\n      <td>7</td>\n      <td>ju. ene. 2 11:46:25 2020</td>\n      <td>2020-01-02 11:46:25</td>\n    </tr>\n  </tbody>\n</table>\n<p>99 rows × 13 columns</p>\n</div>",
      "text/plain": "   RAT                    OPERATOR  CHANNEL          IMSI  IMEI TMSI  \\\n0   4G  EC-Claro(América Móvil)-01     2250  7.400102e+14   NaN  NaN   \n1   4G  EC-Claro(América Móvil)-01     2250  7.400102e+14   NaN  NaN   \n2   4G  EC-Claro(América Móvil)-01     2250  7.400102e+14   NaN  NaN   \n3   4G  EC-Claro(América Móvil)-01     2250  7.400102e+14   NaN  NaN   \n4   4G  EC-Claro(América Móvil)-01     2250  7.400102e+14   NaN  NaN   \n..  ..                         ...      ...           ...   ...  ...   \n69  4G  EC-Movistar(Telefónica)-00      700  7.400002e+14   NaN  NaN   \n70  4G  EC-Movistar(Telefónica)-00      700  7.400001e+14   NaN  NaN   \n71  4G  EC-Movistar(Telefónica)-00      700  7.400001e+14   NaN  NaN   \n72  4G  EC-Movistar(Telefónica)-00      700  7.400001e+14   NaN  NaN   \n73  4G  EC-Movistar(Telefónica)-00      700  7.400001e+14   NaN  NaN   \n\n    MS_POWER  TA  LAST_LAC  NAME  HITS                  DATE-TIME  \\\n0  -108819.0   2     60134   NaN     1  ma. dic. 31 16:30:03 2019   \n1  -975691.0   2     60134   NaN     1  ma. dic. 31 16:29:28 2019   \n2  -110616.0   2     60134   NaN     1  ma. dic. 31 16:28:54 2019   \n3  -115069.0   2        -1   NaN     1  ma. dic. 31 16:27:43 2019   \n4  -104444.0   2     60134   NaN     1  ma. dic. 31 16:20:54 2019   \n..       ...  ..       ...   ...   ...                        ...   \n69 -104757.0   2        -1   NaN    11   ju. ene. 2 13:48:39 2020   \n70 -116319.0   2      9616   NaN     1   ju. ene. 2 10:05:15 2020   \n71 -110616.0   2      9616   NaN     3   ju. ene. 2 13:49:10 2020   \n72 -104366.0   2      9616   NaN     1   ju. ene. 2 10:04:13 2020   \n73    -112.1   2      9616   NaN     7   ju. ene. 2 11:46:25 2020   \n\n             DATE_TIME  \n0  2019-12-31 16:30:03  \n1  2019-12-31 16:29:28  \n2  2019-12-31 16:28:54  \n3  2019-12-31 16:27:43  \n4  2019-12-31 16:20:54  \n..                 ...  \n69 2020-01-02 13:48:39  \n70 2020-01-02 10:05:15  \n71 2020-01-02 13:49:10  \n72 2020-01-02 10:04:13  \n73 2020-01-02 11:46:25  \n\n[99 rows x 13 columns]"
     },
     "execution_count": 65,
     "metadata": {},
     "output_type": "execute_result"
    }
   ],
   "source": [
    "def getDatosIncosistentes(df: pd.DataFrame, cols=[]):\n",
    "    return df[df[cols[0]].isnull()]\n",
    "getDatosIncosistentes(allData, ['IMEI',])"
   ]
  },
  {
   "cell_type": "code",
   "execution_count": 63,
   "metadata": {},
   "outputs": [
    {
     "data": {
      "text/html": "<div>\n<style scoped>\n    .dataframe tbody tr th:only-of-type {\n        vertical-align: middle;\n    }\n\n    .dataframe tbody tr th {\n        vertical-align: top;\n    }\n\n    .dataframe thead th {\n        text-align: right;\n    }\n</style>\n<table border=\"1\" class=\"dataframe\">\n  <thead>\n    <tr style=\"text-align: right;\">\n      <th></th>\n      <th>RAT</th>\n      <th>OPERATOR</th>\n      <th>CHANNEL</th>\n      <th>IMSI</th>\n      <th>IMEI</th>\n      <th>TMSI</th>\n      <th>MS_POWER</th>\n      <th>TA</th>\n      <th>LAST_LAC</th>\n      <th>NAME</th>\n      <th>HITS</th>\n      <th>DATE-TIME</th>\n      <th>DATE_TIME</th>\n    </tr>\n  </thead>\n  <tbody>\n    <tr>\n      <td>0</td>\n      <td>4G</td>\n      <td>EC-Claro(América Móvil)-01</td>\n      <td>2250</td>\n      <td>7.400102e+14</td>\n      <td>NaN</td>\n      <td>NaN</td>\n      <td>-108819.0</td>\n      <td>2</td>\n      <td>60134</td>\n      <td>NaN</td>\n      <td>1</td>\n      <td>ma. dic. 31 16:30:03 2019</td>\n      <td>2019-12-31 16:30:03</td>\n    </tr>\n    <tr>\n      <td>1</td>\n      <td>4G</td>\n      <td>EC-Claro(América Móvil)-01</td>\n      <td>2250</td>\n      <td>7.400102e+14</td>\n      <td>NaN</td>\n      <td>NaN</td>\n      <td>-975691.0</td>\n      <td>2</td>\n      <td>60134</td>\n      <td>NaN</td>\n      <td>1</td>\n      <td>ma. dic. 31 16:29:28 2019</td>\n      <td>2019-12-31 16:29:28</td>\n    </tr>\n    <tr>\n      <td>2</td>\n      <td>4G</td>\n      <td>EC-Claro(América Móvil)-01</td>\n      <td>2250</td>\n      <td>7.400102e+14</td>\n      <td>NaN</td>\n      <td>NaN</td>\n      <td>-110616.0</td>\n      <td>2</td>\n      <td>60134</td>\n      <td>NaN</td>\n      <td>1</td>\n      <td>ma. dic. 31 16:28:54 2019</td>\n      <td>2019-12-31 16:28:54</td>\n    </tr>\n    <tr>\n      <td>3</td>\n      <td>4G</td>\n      <td>EC-Claro(América Móvil)-01</td>\n      <td>2250</td>\n      <td>7.400102e+14</td>\n      <td>NaN</td>\n      <td>NaN</td>\n      <td>-115069.0</td>\n      <td>2</td>\n      <td>-1</td>\n      <td>NaN</td>\n      <td>1</td>\n      <td>ma. dic. 31 16:27:43 2019</td>\n      <td>2019-12-31 16:27:43</td>\n    </tr>\n    <tr>\n      <td>4</td>\n      <td>4G</td>\n      <td>EC-Claro(América Móvil)-01</td>\n      <td>2250</td>\n      <td>7.400102e+14</td>\n      <td>NaN</td>\n      <td>NaN</td>\n      <td>-104444.0</td>\n      <td>2</td>\n      <td>60134</td>\n      <td>NaN</td>\n      <td>1</td>\n      <td>ma. dic. 31 16:20:54 2019</td>\n      <td>2019-12-31 16:20:54</td>\n    </tr>\n    <tr>\n      <td>...</td>\n      <td>...</td>\n      <td>...</td>\n      <td>...</td>\n      <td>...</td>\n      <td>...</td>\n      <td>...</td>\n      <td>...</td>\n      <td>...</td>\n      <td>...</td>\n      <td>...</td>\n      <td>...</td>\n      <td>...</td>\n      <td>...</td>\n    </tr>\n    <tr>\n      <td>69</td>\n      <td>4G</td>\n      <td>EC-Movistar(Telefónica)-00</td>\n      <td>700</td>\n      <td>7.400002e+14</td>\n      <td>NaN</td>\n      <td>NaN</td>\n      <td>-104757.0</td>\n      <td>2</td>\n      <td>-1</td>\n      <td>NaN</td>\n      <td>11</td>\n      <td>ju. ene. 2 13:48:39 2020</td>\n      <td>2020-01-02 13:48:39</td>\n    </tr>\n    <tr>\n      <td>70</td>\n      <td>4G</td>\n      <td>EC-Movistar(Telefónica)-00</td>\n      <td>700</td>\n      <td>7.400001e+14</td>\n      <td>NaN</td>\n      <td>NaN</td>\n      <td>-116319.0</td>\n      <td>2</td>\n      <td>9616</td>\n      <td>NaN</td>\n      <td>1</td>\n      <td>ju. ene. 2 10:05:15 2020</td>\n      <td>2020-01-02 10:05:15</td>\n    </tr>\n    <tr>\n      <td>71</td>\n      <td>4G</td>\n      <td>EC-Movistar(Telefónica)-00</td>\n      <td>700</td>\n      <td>7.400001e+14</td>\n      <td>NaN</td>\n      <td>NaN</td>\n      <td>-110616.0</td>\n      <td>2</td>\n      <td>9616</td>\n      <td>NaN</td>\n      <td>3</td>\n      <td>ju. ene. 2 13:49:10 2020</td>\n      <td>2020-01-02 13:49:10</td>\n    </tr>\n    <tr>\n      <td>72</td>\n      <td>4G</td>\n      <td>EC-Movistar(Telefónica)-00</td>\n      <td>700</td>\n      <td>7.400001e+14</td>\n      <td>NaN</td>\n      <td>NaN</td>\n      <td>-104366.0</td>\n      <td>2</td>\n      <td>9616</td>\n      <td>NaN</td>\n      <td>1</td>\n      <td>ju. ene. 2 10:04:13 2020</td>\n      <td>2020-01-02 10:04:13</td>\n    </tr>\n    <tr>\n      <td>73</td>\n      <td>4G</td>\n      <td>EC-Movistar(Telefónica)-00</td>\n      <td>700</td>\n      <td>7.400001e+14</td>\n      <td>NaN</td>\n      <td>NaN</td>\n      <td>-112.1</td>\n      <td>2</td>\n      <td>9616</td>\n      <td>NaN</td>\n      <td>7</td>\n      <td>ju. ene. 2 11:46:25 2020</td>\n      <td>2020-01-02 11:46:25</td>\n    </tr>\n  </tbody>\n</table>\n<p>99 rows × 13 columns</p>\n</div>",
      "text/plain": "   RAT                    OPERATOR  CHANNEL          IMSI  IMEI TMSI  \\\n0   4G  EC-Claro(América Móvil)-01     2250  7.400102e+14   NaN  NaN   \n1   4G  EC-Claro(América Móvil)-01     2250  7.400102e+14   NaN  NaN   \n2   4G  EC-Claro(América Móvil)-01     2250  7.400102e+14   NaN  NaN   \n3   4G  EC-Claro(América Móvil)-01     2250  7.400102e+14   NaN  NaN   \n4   4G  EC-Claro(América Móvil)-01     2250  7.400102e+14   NaN  NaN   \n..  ..                         ...      ...           ...   ...  ...   \n69  4G  EC-Movistar(Telefónica)-00      700  7.400002e+14   NaN  NaN   \n70  4G  EC-Movistar(Telefónica)-00      700  7.400001e+14   NaN  NaN   \n71  4G  EC-Movistar(Telefónica)-00      700  7.400001e+14   NaN  NaN   \n72  4G  EC-Movistar(Telefónica)-00      700  7.400001e+14   NaN  NaN   \n73  4G  EC-Movistar(Telefónica)-00      700  7.400001e+14   NaN  NaN   \n\n    MS_POWER  TA  LAST_LAC  NAME  HITS                  DATE-TIME  \\\n0  -108819.0   2     60134   NaN     1  ma. dic. 31 16:30:03 2019   \n1  -975691.0   2     60134   NaN     1  ma. dic. 31 16:29:28 2019   \n2  -110616.0   2     60134   NaN     1  ma. dic. 31 16:28:54 2019   \n3  -115069.0   2        -1   NaN     1  ma. dic. 31 16:27:43 2019   \n4  -104444.0   2     60134   NaN     1  ma. dic. 31 16:20:54 2019   \n..       ...  ..       ...   ...   ...                        ...   \n69 -104757.0   2        -1   NaN    11   ju. ene. 2 13:48:39 2020   \n70 -116319.0   2      9616   NaN     1   ju. ene. 2 10:05:15 2020   \n71 -110616.0   2      9616   NaN     3   ju. ene. 2 13:49:10 2020   \n72 -104366.0   2      9616   NaN     1   ju. ene. 2 10:04:13 2020   \n73    -112.1   2      9616   NaN     7   ju. ene. 2 11:46:25 2020   \n\n             DATE_TIME  \n0  2019-12-31 16:30:03  \n1  2019-12-31 16:29:28  \n2  2019-12-31 16:28:54  \n3  2019-12-31 16:27:43  \n4  2019-12-31 16:20:54  \n..                 ...  \n69 2020-01-02 13:48:39  \n70 2020-01-02 10:05:15  \n71 2020-01-02 13:49:10  \n72 2020-01-02 10:04:13  \n73 2020-01-02 11:46:25  \n\n[99 rows x 13 columns]"
     },
     "execution_count": 63,
     "metadata": {},
     "output_type": "execute_result"
    }
   ],
   "source": [
    "def getDatosIncosistentes(df, cols=[]):\n",
    "    return df[df[cols[0]].isnull()]\n",
    "getDatosIncosistentes(allData, ['IMEI',])"
   ]
  },
  {
   "cell_type": "code",
   "execution_count": 16,
   "metadata": {},
   "outputs": [
    {
     "data": {
      "text/html": "<div>\n<style scoped>\n    .dataframe tbody tr th:only-of-type {\n        vertical-align: middle;\n    }\n\n    .dataframe tbody tr th {\n        vertical-align: top;\n    }\n\n    .dataframe thead th {\n        text-align: right;\n    }\n</style>\n<table border=\"1\" class=\"dataframe\">\n  <thead>\n    <tr style=\"text-align: right;\">\n      <th></th>\n      <th>RAT</th>\n      <th>OPERATOR</th>\n      <th>CHANNEL</th>\n      <th>IMSI</th>\n      <th>IMEI</th>\n      <th>TMSI</th>\n      <th>MS_POWER</th>\n      <th>TA</th>\n      <th>LAST_LAC</th>\n      <th>NAME</th>\n      <th>HITS</th>\n      <th>DATE</th>\n      <th>TIME</th>\n    </tr>\n  </thead>\n  <tbody>\n    <tr>\n      <td>724</td>\n      <td>3G</td>\n      <td>EC-Claro(América Móvil)-01</td>\n      <td>4387</td>\n      <td>7.400102e+14</td>\n      <td>8.612500e+14</td>\n      <td>BA129B0E</td>\n      <td>-94.0</td>\n      <td>3</td>\n      <td>50134</td>\n      <td>NaN</td>\n      <td>1</td>\n      <td>2019-12-31</td>\n      <td>15:24:18</td>\n    </tr>\n    <tr>\n      <td>292</td>\n      <td>3G</td>\n      <td>EC-Claro(América Móvil)-01</td>\n      <td>4387</td>\n      <td>7.400002e+14</td>\n      <td>3.517591e+14</td>\n      <td>A4C47315</td>\n      <td>-95.0</td>\n      <td>3</td>\n      <td>15251</td>\n      <td>NaN</td>\n      <td>1</td>\n      <td>2019-12-31</td>\n      <td>16:59:42</td>\n    </tr>\n    <tr>\n      <td>291</td>\n      <td>3G</td>\n      <td>EC-Claro(América Móvil)-01</td>\n      <td>587</td>\n      <td>7.400002e+14</td>\n      <td>3.517591e+14</td>\n      <td>A4C47315</td>\n      <td>-105.0</td>\n      <td>3</td>\n      <td>15251</td>\n      <td>NaN</td>\n      <td>1</td>\n      <td>2019-12-31</td>\n      <td>17:00:04</td>\n    </tr>\n    <tr>\n      <td>290</td>\n      <td>3G</td>\n      <td>EC-Claro(América Móvil)-01</td>\n      <td>587</td>\n      <td>7.400102e+14</td>\n      <td>3.557471e+14</td>\n      <td>FC483124</td>\n      <td>-66.0</td>\n      <td>3</td>\n      <td>50134</td>\n      <td>NaN</td>\n      <td>1</td>\n      <td>2019-12-31</td>\n      <td>17:00:40</td>\n    </tr>\n    <tr>\n      <td>289</td>\n      <td>3G</td>\n      <td>EC-Claro(América Móvil)-01</td>\n      <td>4387</td>\n      <td>7.400102e+14</td>\n      <td>8.648850e+14</td>\n      <td>DA430032</td>\n      <td>-43.0</td>\n      <td>3</td>\n      <td>50134</td>\n      <td>NaN</td>\n      <td>1</td>\n      <td>2019-12-31</td>\n      <td>17:00:43</td>\n    </tr>\n    <tr>\n      <td>...</td>\n      <td>...</td>\n      <td>...</td>\n      <td>...</td>\n      <td>...</td>\n      <td>...</td>\n      <td>...</td>\n      <td>...</td>\n      <td>...</td>\n      <td>...</td>\n      <td>...</td>\n      <td>...</td>\n      <td>...</td>\n      <td>...</td>\n    </tr>\n    <tr>\n      <td>653</td>\n      <td>3G</td>\n      <td>EC-Movistar(Telefónica)-00</td>\n      <td>512</td>\n      <td>7.400001e+14</td>\n      <td>3.526861e+14</td>\n      <td>EA026FB9</td>\n      <td>-109.0</td>\n      <td>3</td>\n      <td>32768</td>\n      <td>NaN</td>\n      <td>3</td>\n      <td>2020-01-03</td>\n      <td>00:19:34</td>\n    </tr>\n    <tr>\n      <td>52</td>\n      <td>3G</td>\n      <td>EC-Claro(América Móvil)-01</td>\n      <td>612</td>\n      <td>7.400102e+14</td>\n      <td>3.546141e+14</td>\n      <td>CF40806C</td>\n      <td>-95.0</td>\n      <td>3</td>\n      <td>50404</td>\n      <td>NaN</td>\n      <td>5</td>\n      <td>2020-01-03</td>\n      <td>00:04:58</td>\n    </tr>\n    <tr>\n      <td>660</td>\n      <td>3G</td>\n      <td>EC-Movistar(Telefónica)-00</td>\n      <td>512</td>\n      <td>7.400002e+14</td>\n      <td>8.698230e+14</td>\n      <td>C51AD745</td>\n      <td>-108.0</td>\n      <td>2</td>\n      <td>32768</td>\n      <td>NaN</td>\n      <td>3</td>\n      <td>2020-01-03</td>\n      <td>00:26:59</td>\n    </tr>\n    <tr>\n      <td>41</td>\n      <td>3G</td>\n      <td>EC-Claro(América Móvil)-01</td>\n      <td>612</td>\n      <td>7.400102e+14</td>\n      <td>8.698230e+14</td>\n      <td>DA434B7C</td>\n      <td>-92.0</td>\n      <td>3</td>\n      <td>32769</td>\n      <td>NaN</td>\n      <td>6</td>\n      <td>2020-01-03</td>\n      <td>00:07:18</td>\n    </tr>\n    <tr>\n      <td>33</td>\n      <td>3G</td>\n      <td>EC-Claro(América Móvil)-01</td>\n      <td>612</td>\n      <td>7.400102e+14</td>\n      <td>3.536411e+14</td>\n      <td>FFFFFFFF</td>\n      <td>-96.0</td>\n      <td>3</td>\n      <td>50134</td>\n      <td>NaN</td>\n      <td>4</td>\n      <td>2020-01-03</td>\n      <td>00:11:24</td>\n    </tr>\n  </tbody>\n</table>\n<p>3528 rows × 13 columns</p>\n</div>",
      "text/plain": "    RAT                    OPERATOR  CHANNEL          IMSI          IMEI  \\\n724  3G  EC-Claro(América Móvil)-01     4387  7.400102e+14  8.612500e+14   \n292  3G  EC-Claro(América Móvil)-01     4387  7.400002e+14  3.517591e+14   \n291  3G  EC-Claro(América Móvil)-01      587  7.400002e+14  3.517591e+14   \n290  3G  EC-Claro(América Móvil)-01      587  7.400102e+14  3.557471e+14   \n289  3G  EC-Claro(América Móvil)-01     4387  7.400102e+14  8.648850e+14   \n..   ..                         ...      ...           ...           ...   \n653  3G  EC-Movistar(Telefónica)-00      512  7.400001e+14  3.526861e+14   \n52   3G  EC-Claro(América Móvil)-01      612  7.400102e+14  3.546141e+14   \n660  3G  EC-Movistar(Telefónica)-00      512  7.400002e+14  8.698230e+14   \n41   3G  EC-Claro(América Móvil)-01      612  7.400102e+14  8.698230e+14   \n33   3G  EC-Claro(América Móvil)-01      612  7.400102e+14  3.536411e+14   \n\n         TMSI  MS_POWER  TA  LAST_LAC  NAME  HITS        DATE      TIME  \n724  BA129B0E     -94.0   3     50134   NaN     1  2019-12-31  15:24:18  \n292  A4C47315     -95.0   3     15251   NaN     1  2019-12-31  16:59:42  \n291  A4C47315    -105.0   3     15251   NaN     1  2019-12-31  17:00:04  \n290  FC483124     -66.0   3     50134   NaN     1  2019-12-31  17:00:40  \n289  DA430032     -43.0   3     50134   NaN     1  2019-12-31  17:00:43  \n..        ...       ...  ..       ...   ...   ...         ...       ...  \n653  EA026FB9    -109.0   3     32768   NaN     3  2020-01-03  00:19:34  \n52   CF40806C     -95.0   3     50404   NaN     5  2020-01-03  00:04:58  \n660  C51AD745    -108.0   2     32768   NaN     3  2020-01-03  00:26:59  \n41   DA434B7C     -92.0   3     32769   NaN     6  2020-01-03  00:07:18  \n33   FFFFFFFF     -96.0   3     50134   NaN     4  2020-01-03  00:11:24  \n\n[3528 rows x 13 columns]"
     },
     "execution_count": 16,
     "metadata": {},
     "output_type": "execute_result"
    }
   ],
   "source": [
    "def getDfCompletoEmaisOk(df: pd.DataFrame):\n",
    "    return df.loc[df['IMEI'].notnull()]\n",
    "getDfCompletoEmaisOk(allData)"
   ]
  },
  {
   "cell_type": "code",
   "execution_count": 17,
   "metadata": {},
   "outputs": [
    {
     "data": {
      "text/html": "<div>\n<style scoped>\n    .dataframe tbody tr th:only-of-type {\n        vertical-align: middle;\n    }\n\n    .dataframe tbody tr th {\n        vertical-align: top;\n    }\n\n    .dataframe thead th {\n        text-align: right;\n    }\n</style>\n<table border=\"1\" class=\"dataframe\">\n  <thead>\n    <tr style=\"text-align: right;\">\n      <th></th>\n      <th>RAT</th>\n      <th>OPERATOR</th>\n      <th>CHANNEL</th>\n      <th>IMSI</th>\n      <th>IMEI</th>\n      <th>TMSI</th>\n      <th>MS_POWER</th>\n      <th>TA</th>\n      <th>LAST_LAC</th>\n      <th>NAME</th>\n      <th>HITS</th>\n      <th>DATE</th>\n      <th>TIME</th>\n    </tr>\n  </thead>\n  <tbody>\n    <tr>\n      <td>724</td>\n      <td>3G</td>\n      <td>EC-Claro(América Móvil)-01</td>\n      <td>4387</td>\n      <td>7.400102e+14</td>\n      <td>8.612500e+14</td>\n      <td>BA129B0E</td>\n      <td>-94.0</td>\n      <td>3</td>\n      <td>50134</td>\n      <td>NaN</td>\n      <td>1</td>\n      <td>2019-12-31</td>\n      <td>15:24:18</td>\n    </tr>\n    <tr>\n      <td>292</td>\n      <td>3G</td>\n      <td>EC-Claro(América Móvil)-01</td>\n      <td>4387</td>\n      <td>7.400002e+14</td>\n      <td>3.517591e+14</td>\n      <td>A4C47315</td>\n      <td>-95.0</td>\n      <td>3</td>\n      <td>15251</td>\n      <td>NaN</td>\n      <td>1</td>\n      <td>2019-12-31</td>\n      <td>16:59:42</td>\n    </tr>\n  </tbody>\n</table>\n</div>",
      "text/plain": "    RAT                    OPERATOR  CHANNEL          IMSI          IMEI  \\\n724  3G  EC-Claro(América Móvil)-01     4387  7.400102e+14  8.612500e+14   \n292  3G  EC-Claro(América Móvil)-01     4387  7.400002e+14  3.517591e+14   \n\n         TMSI  MS_POWER  TA  LAST_LAC  NAME  HITS        DATE      TIME  \n724  BA129B0E     -94.0   3     50134   NaN     1  2019-12-31  15:24:18  \n292  A4C47315     -95.0   3     15251   NaN     1  2019-12-31  16:59:42  "
     },
     "execution_count": 17,
     "metadata": {},
     "output_type": "execute_result"
    }
   ],
   "source": [
    "allData.head(2)"
   ]
  },
  {
   "cell_type": "code",
   "execution_count": 77,
   "metadata": {},
   "outputs": [
    {
     "data": {
      "text/html": "<div>\n<style scoped>\n    .dataframe tbody tr th:only-of-type {\n        vertical-align: middle;\n    }\n\n    .dataframe tbody tr th {\n        vertical-align: top;\n    }\n\n    .dataframe thead th {\n        text-align: right;\n    }\n</style>\n<table border=\"1\" class=\"dataframe\">\n  <thead>\n    <tr style=\"text-align: right;\">\n      <th></th>\n      <th></th>\n      <th>IMEI</th>\n      <th>IMSI</th>\n    </tr>\n    <tr>\n      <th>IMSI</th>\n      <th></th>\n      <th></th>\n      <th></th>\n    </tr>\n  </thead>\n  <tbody>\n    <tr>\n      <td rowspan=\"5\" valign=\"top\">7.400001e+14</td>\n      <td>986</td>\n      <td>3.550301e+14</td>\n      <td>7.400001e+14</td>\n    </tr>\n    <tr>\n      <td>555</td>\n      <td>3.550301e+14</td>\n      <td>7.400001e+14</td>\n    </tr>\n    <tr>\n      <td>569</td>\n      <td>3.550301e+14</td>\n      <td>7.400001e+14</td>\n    </tr>\n    <tr>\n      <td>827</td>\n      <td>3.550301e+14</td>\n      <td>7.400001e+14</td>\n    </tr>\n    <tr>\n      <td>854</td>\n      <td>3.550301e+14</td>\n      <td>7.400001e+14</td>\n    </tr>\n    <tr>\n      <td>...</td>\n      <td>...</td>\n      <td>...</td>\n      <td>...</td>\n    </tr>\n    <tr>\n      <td rowspan=\"5\" valign=\"top\">7.400102e+14</td>\n      <td>498</td>\n      <td>8.679610e+14</td>\n      <td>7.400102e+14</td>\n    </tr>\n    <tr>\n      <td>12</td>\n      <td>NaN</td>\n      <td>7.400102e+14</td>\n    </tr>\n    <tr>\n      <td>464</td>\n      <td>3.590001e+14</td>\n      <td>7.400102e+14</td>\n    </tr>\n    <tr>\n      <td>466</td>\n      <td>3.590001e+14</td>\n      <td>7.400102e+14</td>\n    </tr>\n    <tr>\n      <td>47</td>\n      <td>NaN</td>\n      <td>7.400102e+14</td>\n    </tr>\n  </tbody>\n</table>\n<p>411 rows × 2 columns</p>\n</div>",
      "text/plain": "                          IMEI          IMSI\nIMSI                                        \n7.400001e+14 986  3.550301e+14  7.400001e+14\n             555  3.550301e+14  7.400001e+14\n             569  3.550301e+14  7.400001e+14\n             827  3.550301e+14  7.400001e+14\n             854  3.550301e+14  7.400001e+14\n...                        ...           ...\n7.400102e+14 498  8.679610e+14  7.400102e+14\n             12            NaN  7.400102e+14\n             464  3.590001e+14  7.400102e+14\n             466  3.590001e+14  7.400102e+14\n             47            NaN  7.400102e+14\n\n[411 rows x 2 columns]"
     },
     "execution_count": 77,
     "metadata": {},
     "output_type": "execute_result"
    }
   ],
   "source": [
    "def asignarEmais(refDf: pd.DataFrame, dfToAssign: pd.DataFrame):\n",
    "    \"\"\" Assigns Emais for the columns where the emais is null based on the historical data\"\"\"\n",
    "    def obtenerEmai(groupDf):\n",
    "        rCoincide = refDf[refDf['IMSI'].isin(groupDf['IMSI'].unique())]\n",
    "        return rCoincide[['IMEI','IMSI']]\n",
    "    return dfToAssign.groupby('IMSI').apply(obtenerEmai)\n",
    "asignarEmais(allData, getDatosIncosistentes(allData, ['IMEI',]))"
   ]
  },
  {
   "cell_type": "code",
   "execution_count": 33,
   "metadata": {},
   "outputs": [
    {
     "data": {
      "text/html": "<div>\n<style scoped>\n    .dataframe tbody tr th:only-of-type {\n        vertical-align: middle;\n    }\n\n    .dataframe tbody tr th {\n        vertical-align: top;\n    }\n\n    .dataframe thead th {\n        text-align: right;\n    }\n</style>\n<table border=\"1\" class=\"dataframe\">\n  <thead>\n    <tr style=\"text-align: right;\">\n      <th></th>\n      <th>RAT</th>\n      <th>OPERATOR</th>\n      <th>CHANNEL</th>\n      <th>IMSI</th>\n      <th>IMEI</th>\n      <th>TMSI</th>\n      <th>MS_POWER</th>\n      <th>TA</th>\n      <th>LAST_LAC</th>\n      <th>NAME</th>\n      <th>HITS</th>\n      <th>DATE-TIME</th>\n    </tr>\n  </thead>\n  <tbody>\n    <tr>\n      <td>0</td>\n      <td>2G</td>\n      <td>EC-Claro(América Móvil)-01</td>\n      <td>144</td>\n      <td>7.400202e+14</td>\n      <td>3.594591e+14</td>\n      <td>FFFFFFFF</td>\n      <td>-61.0</td>\n      <td>0</td>\n      <td>65534</td>\n      <td>NaN</td>\n      <td>1</td>\n      <td>2020-01-01 03:05:16</td>\n    </tr>\n    <tr>\n      <td>1</td>\n      <td>2G</td>\n      <td>EC-Claro(América Móvil)-01</td>\n      <td>144</td>\n      <td>7.400102e+14</td>\n      <td>3.578151e+14</td>\n      <td>FFFFFFFF</td>\n      <td>-62.0</td>\n      <td>0</td>\n      <td>65534</td>\n      <td>NaN</td>\n      <td>1</td>\n      <td>2020-01-01 03:04:51</td>\n    </tr>\n  </tbody>\n</table>\n</div>",
      "text/plain": "  RAT                    OPERATOR  CHANNEL          IMSI          IMEI  \\\n0  2G  EC-Claro(América Móvil)-01      144  7.400202e+14  3.594591e+14   \n1  2G  EC-Claro(América Móvil)-01      144  7.400102e+14  3.578151e+14   \n\n       TMSI  MS_POWER  TA  LAST_LAC  NAME  HITS           DATE-TIME  \n0  FFFFFFFF     -61.0   0     65534   NaN     1 2020-01-01 03:05:16  \n1  FFFFFFFF     -62.0   0     65534   NaN     1 2020-01-01 03:04:51  "
     },
     "execution_count": 33,
     "metadata": {},
     "output_type": "execute_result"
    }
   ],
   "source": [
    "allData.head(2)"
   ]
  },
  {
   "cell_type": "code",
   "execution_count": 42,
   "metadata": {},
   "outputs": [
    {
     "data": {
      "text/html": "<div>\n<style scoped>\n    .dataframe tbody tr th:only-of-type {\n        vertical-align: middle;\n    }\n\n    .dataframe tbody tr th {\n        vertical-align: top;\n    }\n\n    .dataframe thead tr th {\n        text-align: left;\n    }\n\n    .dataframe thead tr:last-of-type th {\n        text-align: right;\n    }\n</style>\n<table border=\"1\" class=\"dataframe\">\n  <thead>\n    <tr>\n      <th></th>\n      <th>RAT</th>\n      <th>OPERATOR</th>\n      <th>CHANNEL</th>\n      <th>IMSI</th>\n      <th>TMSI</th>\n      <th>MS_POWER</th>\n      <th>TA</th>\n      <th>LAST_LAC</th>\n      <th>NAME</th>\n      <th>HITS</th>\n      <th>DATE-TIME</th>\n    </tr>\n    <tr>\n      <th></th>\n      <th>joinValues</th>\n      <th>joinValues</th>\n      <th>joinValues</th>\n      <th>joinValues</th>\n      <th>joinValues</th>\n      <th>joinValues</th>\n      <th>joinValues</th>\n      <th>joinValues</th>\n      <th>joinValues</th>\n      <th>sum</th>\n      <th>joinValues</th>\n    </tr>\n    <tr>\n      <th>IMEI</th>\n      <th></th>\n      <th></th>\n      <th></th>\n      <th></th>\n      <th></th>\n      <th></th>\n      <th></th>\n      <th></th>\n      <th></th>\n      <th></th>\n      <th></th>\n    </tr>\n  </thead>\n  <tbody>\n    <tr>\n      <td>1.037300e+13</td>\n      <td>2G</td>\n      <td>EC-Claro(América Móvil)-01</td>\n      <td>144</td>\n      <td>740010181070661.0</td>\n      <td>AB1C32FB</td>\n      <td>-65.0</td>\n      <td>0</td>\n      <td>10228</td>\n      <td></td>\n      <td>1</td>\n      <td>2019-12-31T18:46:21.000000000</td>\n    </tr>\n    <tr>\n      <td>1.099701e+13</td>\n      <td>2G</td>\n      <td>EC-Claro(América Móvil)-01</td>\n      <td>144</td>\n      <td>740010105803527.0</td>\n      <td>BF14D9F6</td>\n      <td>-62.0</td>\n      <td>0</td>\n      <td>10228</td>\n      <td></td>\n      <td>1</td>\n      <td>2019-12-31T15:44:12.000000000</td>\n    </tr>\n    <tr>\n      <td>1.122300e+13</td>\n      <td>2G</td>\n      <td>EC-Claro(América Móvil)-01</td>\n      <td>144</td>\n      <td>740010166301956.0</td>\n      <td>B40F6169</td>\n      <td>-61.0</td>\n      <td>0</td>\n      <td>10228</td>\n      <td></td>\n      <td>1</td>\n      <td>2019-12-31T18:58:17.000000000</td>\n    </tr>\n    <tr>\n      <td>1.138700e+13</td>\n      <td>2G</td>\n      <td>EC-Claro(América Móvil)-01</td>\n      <td>144</td>\n      <td>740010132677246.0</td>\n      <td>A31FD61B</td>\n      <td>-63.0</td>\n      <td>0</td>\n      <td>10228</td>\n      <td></td>\n      <td>1</td>\n      <td>2019-12-31T18:53:45.000000000</td>\n    </tr>\n    <tr>\n      <td>1.138800e+13</td>\n      <td>2G</td>\n      <td>EC-Claro(América Móvil)-01</td>\n      <td>144</td>\n      <td>740010110407756.0</td>\n      <td>FFFFFFFF</td>\n      <td>-61.0</td>\n      <td>0</td>\n      <td>65534</td>\n      <td></td>\n      <td>1</td>\n      <td>2020-01-01T02:14:41.000000000</td>\n    </tr>\n    <tr>\n      <td>...</td>\n      <td>...</td>\n      <td>...</td>\n      <td>...</td>\n      <td>...</td>\n      <td>...</td>\n      <td>...</td>\n      <td>...</td>\n      <td>...</td>\n      <td>...</td>\n      <td>...</td>\n      <td>...</td>\n    </tr>\n    <tr>\n      <td>8.699710e+14</td>\n      <td>3G</td>\n      <td>EC-Claro(América Móvil)-01</td>\n      <td>587,4387</td>\n      <td>740010181741750.0</td>\n      <td>DD4ED891,E946992E</td>\n      <td>-109.0,-97.0</td>\n      <td>3</td>\n      <td>32769,50134</td>\n      <td></td>\n      <td>3</td>\n      <td>2019-12-31T16:56:35.000000000,2020-01-02T14:45...</td>\n    </tr>\n    <tr>\n      <td>8.699710e+14</td>\n      <td>3G</td>\n      <td>EC-Claro(América Móvil)-01,EC-Movistar(Telefón...</td>\n      <td>4387,4412,612</td>\n      <td>740010181033063.0</td>\n      <td>EE4F5166,0,DA467294</td>\n      <td>-94.0,-101.0,-96.0</td>\n      <td>3</td>\n      <td>50404,32769</td>\n      <td></td>\n      <td>4</td>\n      <td>2019-12-31T16:42:06.000000000,2019-12-31T12:45...</td>\n    </tr>\n    <tr>\n      <td>8.699710e+14</td>\n      <td>2G</td>\n      <td>EC-Claro(América Móvil)-01</td>\n      <td>144</td>\n      <td>740010174854075.0</td>\n      <td>72166056</td>\n      <td>-63.0</td>\n      <td>0</td>\n      <td>10228</td>\n      <td></td>\n      <td>1</td>\n      <td>2019-12-31T19:12:26.000000000</td>\n    </tr>\n    <tr>\n      <td>8.699720e+14</td>\n      <td>3G</td>\n      <td>EC-Movistar(Telefónica)-00</td>\n      <td>4412</td>\n      <td>740005115200520.0</td>\n      <td>D531C4B0</td>\n      <td>-100.0</td>\n      <td>3</td>\n      <td>32768</td>\n      <td></td>\n      <td>4</td>\n      <td>2019-12-31T13:29:32.000000000</td>\n    </tr>\n    <tr>\n      <td>9.900058e+14</td>\n      <td>2G</td>\n      <td>EC-Movistar(Telefónica)-00</td>\n      <td>245</td>\n      <td>740005216004772.0</td>\n      <td>93A0907D</td>\n      <td>-65.0</td>\n      <td>0</td>\n      <td>40202</td>\n      <td></td>\n      <td>1</td>\n      <td>2019-12-31T09:13:37.000000000</td>\n    </tr>\n  </tbody>\n</table>\n<p>2260 rows × 11 columns</p>\n</div>",
      "text/plain": "                    RAT                                           OPERATOR  \\\n             joinValues                                         joinValues   \nIMEI                                                                         \n1.037300e+13         2G                         EC-Claro(América Móvil)-01   \n1.099701e+13         2G                         EC-Claro(América Móvil)-01   \n1.122300e+13         2G                         EC-Claro(América Móvil)-01   \n1.138700e+13         2G                         EC-Claro(América Móvil)-01   \n1.138800e+13         2G                         EC-Claro(América Móvil)-01   \n...                 ...                                                ...   \n8.699710e+14         3G                         EC-Claro(América Móvil)-01   \n8.699710e+14         3G  EC-Claro(América Móvil)-01,EC-Movistar(Telefón...   \n8.699710e+14         2G                         EC-Claro(América Móvil)-01   \n8.699720e+14         3G                         EC-Movistar(Telefónica)-00   \n9.900058e+14         2G                         EC-Movistar(Telefónica)-00   \n\n                    CHANNEL               IMSI                 TMSI  \\\n                 joinValues         joinValues           joinValues   \nIMEI                                                                  \n1.037300e+13            144  740010181070661.0             AB1C32FB   \n1.099701e+13            144  740010105803527.0             BF14D9F6   \n1.122300e+13            144  740010166301956.0             B40F6169   \n1.138700e+13            144  740010132677246.0             A31FD61B   \n1.138800e+13            144  740010110407756.0             FFFFFFFF   \n...                     ...                ...                  ...   \n8.699710e+14       587,4387  740010181741750.0    DD4ED891,E946992E   \n8.699710e+14  4387,4412,612  740010181033063.0  EE4F5166,0,DA467294   \n8.699710e+14            144  740010174854075.0             72166056   \n8.699720e+14           4412  740005115200520.0             D531C4B0   \n9.900058e+14            245  740005216004772.0             93A0907D   \n\n                        MS_POWER         TA     LAST_LAC       NAME HITS  \\\n                      joinValues joinValues   joinValues joinValues  sum   \nIMEI                                                                       \n1.037300e+13               -65.0          0        10228               1   \n1.099701e+13               -62.0          0        10228               1   \n1.122300e+13               -61.0          0        10228               1   \n1.138700e+13               -63.0          0        10228               1   \n1.138800e+13               -61.0          0        65534               1   \n...                          ...        ...          ...        ...  ...   \n8.699710e+14        -109.0,-97.0          3  32769,50134               3   \n8.699710e+14  -94.0,-101.0,-96.0          3  50404,32769               4   \n8.699710e+14               -63.0          0        10228               1   \n8.699720e+14              -100.0          3        32768               4   \n9.900058e+14               -65.0          0        40202               1   \n\n                                                      DATE-TIME  \n                                                     joinValues  \nIMEI                                                             \n1.037300e+13                      2019-12-31T18:46:21.000000000  \n1.099701e+13                      2019-12-31T15:44:12.000000000  \n1.122300e+13                      2019-12-31T18:58:17.000000000  \n1.138700e+13                      2019-12-31T18:53:45.000000000  \n1.138800e+13                      2020-01-01T02:14:41.000000000  \n...                                                         ...  \n8.699710e+14  2019-12-31T16:56:35.000000000,2020-01-02T14:45...  \n8.699710e+14  2019-12-31T16:42:06.000000000,2019-12-31T12:45...  \n8.699710e+14                      2019-12-31T19:12:26.000000000  \n8.699720e+14                      2019-12-31T13:29:32.000000000  \n9.900058e+14                      2019-12-31T09:13:37.000000000  \n\n[2260 rows x 11 columns]"
     },
     "execution_count": 42,
     "metadata": {},
     "output_type": "execute_result"
    }
   ],
   "source": [
    "def getGroupedByEmais(df: pd.DataFrame):\n",
    "    # Returns a df with grouped and aggreagated values \n",
    "    def joinValues(series):\n",
    "        return ','.join(map(str,series[series.notnull()].unique()))\n",
    "    groupedDf = df.groupby('IMEI').agg({\n",
    "        'RAT':[joinValues],\n",
    "        'OPERATOR':[joinValues],\n",
    "        'CHANNEL':[joinValues],\n",
    "        'IMSI':[joinValues],\n",
    "        'TMSI':[joinValues],\n",
    "        'MS_POWER':[joinValues],\n",
    "        'TA':[joinValues],\n",
    "        'LAST_LAC':[joinValues],\n",
    "        'NAME':[joinValues],\n",
    "        'HITS':['sum'],\n",
    "        'DATE_TIME':[joinValues],\n",
    "    })\n",
    "    return groupedDf\n",
    "getGroupedByEmais(allData)\n",
    "\n"
   ]
  },
  {
   "cell_type": "code",
   "execution_count": 82,
   "metadata": {},
   "outputs": [
    {
     "data": {
      "text/html": "<div>\n<style scoped>\n    .dataframe tbody tr th:only-of-type {\n        vertical-align: middle;\n    }\n\n    .dataframe tbody tr th {\n        vertical-align: top;\n    }\n\n    .dataframe thead th {\n        text-align: right;\n    }\n</style>\n<table border=\"1\" class=\"dataframe\">\n  <thead>\n    <tr style=\"text-align: right;\">\n      <th></th>\n      <th>RAT</th>\n      <th>OPERATOR</th>\n      <th>CHANNEL</th>\n      <th>IMSI</th>\n      <th>TMSI</th>\n      <th>MS_POWER</th>\n      <th>TA</th>\n      <th>LAST_LAC</th>\n      <th>NAME</th>\n      <th>HITS</th>\n      <th>DATE_TIME</th>\n    </tr>\n    <tr>\n      <th>IMEI</th>\n      <th></th>\n      <th></th>\n      <th></th>\n      <th></th>\n      <th></th>\n      <th></th>\n      <th></th>\n      <th></th>\n      <th></th>\n      <th></th>\n      <th></th>\n    </tr>\n  </thead>\n  <tbody>\n    <tr>\n      <td>1.037300e+13</td>\n      <td>2G</td>\n      <td>EC-Claro(América Móvil)-01</td>\n      <td>144</td>\n      <td>740010181070661.0</td>\n      <td>AB1C32FB</td>\n      <td>-65.0</td>\n      <td>0</td>\n      <td>10228</td>\n      <td>618a4c100a195e186562ecb54ac3e823</td>\n      <td>1</td>\n      <td>2019-12-31T18:46:21.000000000</td>\n    </tr>\n    <tr>\n      <td>1.099701e+13</td>\n      <td>2G</td>\n      <td>EC-Claro(América Móvil)-01</td>\n      <td>144</td>\n      <td>740010105803527.0</td>\n      <td>BF14D9F6</td>\n      <td>-62.0</td>\n      <td>0</td>\n      <td>10228</td>\n      <td>c5bbe21e0a4e1d128dc8545e5bb48d23</td>\n      <td>1</td>\n      <td>2019-12-31T15:44:12.000000000</td>\n    </tr>\n    <tr>\n      <td>1.122300e+13</td>\n      <td>2G</td>\n      <td>EC-Claro(América Móvil)-01</td>\n      <td>144</td>\n      <td>740010166301956.0</td>\n      <td>B40F6169</td>\n      <td>-61.0</td>\n      <td>0</td>\n      <td>10228</td>\n      <td>0f9a4269fc7d47ef12c1397b6750fe60</td>\n      <td>1</td>\n      <td>2019-12-31T18:58:17.000000000</td>\n    </tr>\n    <tr>\n      <td>1.138700e+13</td>\n      <td>2G</td>\n      <td>EC-Claro(América Móvil)-01</td>\n      <td>144</td>\n      <td>740010132677246.0</td>\n      <td>A31FD61B</td>\n      <td>-63.0</td>\n      <td>0</td>\n      <td>10228</td>\n      <td>d2e4d079c1d871e8f06a476b653fe4d8</td>\n      <td>1</td>\n      <td>2019-12-31T18:53:45.000000000</td>\n    </tr>\n    <tr>\n      <td>1.138800e+13</td>\n      <td>2G</td>\n      <td>EC-Claro(América Móvil)-01</td>\n      <td>144</td>\n      <td>740010110407756.0</td>\n      <td>FFFFFFFF</td>\n      <td>-61.0</td>\n      <td>0</td>\n      <td>65534</td>\n      <td>9a15536d26cd0518c12d23a793d9cce6</td>\n      <td>1</td>\n      <td>2020-01-01T02:14:41.000000000</td>\n    </tr>\n    <tr>\n      <td>...</td>\n      <td>...</td>\n      <td>...</td>\n      <td>...</td>\n      <td>...</td>\n      <td>...</td>\n      <td>...</td>\n      <td>...</td>\n      <td>...</td>\n      <td>...</td>\n      <td>...</td>\n      <td>...</td>\n    </tr>\n    <tr>\n      <td>3.515861e+14</td>\n      <td>2G</td>\n      <td>EC-Movistar(Telefónica)-00</td>\n      <td>245</td>\n      <td>740005216298712.0</td>\n      <td>99B90ECD</td>\n      <td>-61.0</td>\n      <td>0</td>\n      <td>15251</td>\n      <td>d9d320f5d8e87f0f130dfcf02709ef99</td>\n      <td>1</td>\n      <td>2019-12-31T13:35:19.000000000</td>\n    </tr>\n    <tr>\n      <td>3.515951e+14</td>\n      <td>3G</td>\n      <td>EC-Claro(América Móvil)-01</td>\n      <td>587,4387</td>\n      <td>740010177606135.0</td>\n      <td>0,990A7051</td>\n      <td>-106.0,-94.0</td>\n      <td>2,3</td>\n      <td>32769</td>\n      <td>5d26f574a5b3777a481a4c68450c9f7d</td>\n      <td>2</td>\n      <td>2019-12-31T18:07:02.000000000,2019-12-31T18:06...</td>\n    </tr>\n    <tr>\n      <td>3.515961e+14</td>\n      <td>3G</td>\n      <td>EC-Claro(América Móvil)-01</td>\n      <td>4387</td>\n      <td>740010175262267.0</td>\n      <td>F9434965</td>\n      <td>-56.0</td>\n      <td>3</td>\n      <td>50134</td>\n      <td>53970d778404320086d47d5eab93496e</td>\n      <td>1</td>\n      <td>2019-12-31T15:42:27.000000000</td>\n    </tr>\n    <tr>\n      <td>3.515961e+14</td>\n      <td>3G</td>\n      <td>EC-Movistar(Telefónica)-00</td>\n      <td>4412,537</td>\n      <td>740005215974009.0</td>\n      <td>CC2A7F9C,C32A56BB</td>\n      <td>-100.0,-104.0</td>\n      <td>3</td>\n      <td>40202</td>\n      <td>35e44f97864c555aaf546ec10c462e69</td>\n      <td>2</td>\n      <td>2020-01-02T10:07:20.000000000,2020-01-02T10:05...</td>\n    </tr>\n    <tr>\n      <td>3.515961e+14</td>\n      <td>3G,2G</td>\n      <td>EC-Claro(América Móvil)-01</td>\n      <td>587,4387,136,612</td>\n      <td>740010175042355.0</td>\n      <td>BA11B5A6,A5157EA6,FFFFFFFF,75163AA6,6711CBCE,0</td>\n      <td>-105.0,-97.0,-66.0,-65.0,-103.0,-104.0,-95.0</td>\n      <td>3,0,2</td>\n      <td>50134,10228</td>\n      <td>483bfe6f4e00b346469c878a25259590</td>\n      <td>13</td>\n      <td>2019-12-31T15:24:51.000000000,2019-12-31T15:22...</td>\n    </tr>\n  </tbody>\n</table>\n<p>100 rows × 11 columns</p>\n</div>",
      "text/plain": "                RAT                    OPERATOR           CHANNEL  \\\nIMEI                                                                \n1.037300e+13     2G  EC-Claro(América Móvil)-01               144   \n1.099701e+13     2G  EC-Claro(América Móvil)-01               144   \n1.122300e+13     2G  EC-Claro(América Móvil)-01               144   \n1.138700e+13     2G  EC-Claro(América Móvil)-01               144   \n1.138800e+13     2G  EC-Claro(América Móvil)-01               144   \n...             ...                         ...               ...   \n3.515861e+14     2G  EC-Movistar(Telefónica)-00               245   \n3.515951e+14     3G  EC-Claro(América Móvil)-01          587,4387   \n3.515961e+14     3G  EC-Claro(América Móvil)-01              4387   \n3.515961e+14     3G  EC-Movistar(Telefónica)-00          4412,537   \n3.515961e+14  3G,2G  EC-Claro(América Móvil)-01  587,4387,136,612   \n\n                           IMSI  \\\nIMEI                              \n1.037300e+13  740010181070661.0   \n1.099701e+13  740010105803527.0   \n1.122300e+13  740010166301956.0   \n1.138700e+13  740010132677246.0   \n1.138800e+13  740010110407756.0   \n...                         ...   \n3.515861e+14  740005216298712.0   \n3.515951e+14  740010177606135.0   \n3.515961e+14  740010175262267.0   \n3.515961e+14  740005215974009.0   \n3.515961e+14  740010175042355.0   \n\n                                                        TMSI  \\\nIMEI                                                           \n1.037300e+13                                        AB1C32FB   \n1.099701e+13                                        BF14D9F6   \n1.122300e+13                                        B40F6169   \n1.138700e+13                                        A31FD61B   \n1.138800e+13                                        FFFFFFFF   \n...                                                      ...   \n3.515861e+14                                        99B90ECD   \n3.515951e+14                                      0,990A7051   \n3.515961e+14                                        F9434965   \n3.515961e+14                               CC2A7F9C,C32A56BB   \n3.515961e+14  BA11B5A6,A5157EA6,FFFFFFFF,75163AA6,6711CBCE,0   \n\n                                                  MS_POWER     TA  \\\nIMEI                                                                \n1.037300e+13                                         -65.0      0   \n1.099701e+13                                         -62.0      0   \n1.122300e+13                                         -61.0      0   \n1.138700e+13                                         -63.0      0   \n1.138800e+13                                         -61.0      0   \n...                                                    ...    ...   \n3.515861e+14                                         -61.0      0   \n3.515951e+14                                  -106.0,-94.0    2,3   \n3.515961e+14                                         -56.0      3   \n3.515961e+14                                 -100.0,-104.0      3   \n3.515961e+14  -105.0,-97.0,-66.0,-65.0,-103.0,-104.0,-95.0  3,0,2   \n\n                 LAST_LAC                              NAME  HITS  \\\nIMEI                                                                \n1.037300e+13        10228  618a4c100a195e186562ecb54ac3e823     1   \n1.099701e+13        10228  c5bbe21e0a4e1d128dc8545e5bb48d23     1   \n1.122300e+13        10228  0f9a4269fc7d47ef12c1397b6750fe60     1   \n1.138700e+13        10228  d2e4d079c1d871e8f06a476b653fe4d8     1   \n1.138800e+13        65534  9a15536d26cd0518c12d23a793d9cce6     1   \n...                   ...                               ...   ...   \n3.515861e+14        15251  d9d320f5d8e87f0f130dfcf02709ef99     1   \n3.515951e+14        32769  5d26f574a5b3777a481a4c68450c9f7d     2   \n3.515961e+14        50134  53970d778404320086d47d5eab93496e     1   \n3.515961e+14        40202  35e44f97864c555aaf546ec10c462e69     2   \n3.515961e+14  50134,10228  483bfe6f4e00b346469c878a25259590    13   \n\n                                                      DATE_TIME  \nIMEI                                                             \n1.037300e+13                      2019-12-31T18:46:21.000000000  \n1.099701e+13                      2019-12-31T15:44:12.000000000  \n1.122300e+13                      2019-12-31T18:58:17.000000000  \n1.138700e+13                      2019-12-31T18:53:45.000000000  \n1.138800e+13                      2020-01-01T02:14:41.000000000  \n...                                                         ...  \n3.515861e+14                      2019-12-31T13:35:19.000000000  \n3.515951e+14  2019-12-31T18:07:02.000000000,2019-12-31T18:06...  \n3.515961e+14                      2019-12-31T15:42:27.000000000  \n3.515961e+14  2020-01-02T10:07:20.000000000,2020-01-02T10:05...  \n3.515961e+14  2019-12-31T15:24:51.000000000,2019-12-31T15:22...  \n\n[100 rows x 11 columns]"
     },
     "execution_count": 82,
     "metadata": {},
     "output_type": "execute_result"
    }
   ],
   "source": [
    "def getGroupedByEmais(df: pd.DataFrame):\n",
    "    # Returns a df with grouped and aggregated values \n",
    "    def joinValues(series):\n",
    "        return ','.join(map(str,series[series.notnull()].unique()))\n",
    "    groupedDf = df.groupby('IMEI').agg(\n",
    "        RAT=pd.NamedAgg(column='RAT', aggfunc=joinValues), \n",
    "        OPERATOR=pd.NamedAgg(column='OPERATOR', aggfunc=joinValues), \n",
    "        CHANNEL=pd.NamedAgg(column='CHANNEL', aggfunc=joinValues), \n",
    "        IMSI=pd.NamedAgg(column='IMSI', aggfunc=joinValues), \n",
    "        TMSI=pd.NamedAgg(column='TMSI', aggfunc=joinValues), \n",
    "        MS_POWER=pd.NamedAgg(column='MS_POWER', aggfunc=joinValues), \n",
    "        TA=pd.NamedAgg(column='TA', aggfunc=joinValues), \n",
    "        LAST_LAC=pd.NamedAgg(column='LAST_LAC', aggfunc=joinValues), \n",
    "        NAME=pd.NamedAgg(column='NAME', aggfunc=joinValues), \n",
    "        HITS=pd.NamedAgg(column='HITS', aggfunc='sum'), \n",
    "        DATE_TIME=pd.NamedAgg(column='DATE_TIME', aggfunc=joinValues), \n",
    "    )\n",
    "    return groupedDf\n",
    "getGroupedByEmais(df1).head(100)"
   ]
  },
  {
   "cell_type": "code",
   "execution_count": null,
   "metadata": {},
   "outputs": [],
   "source": [
    "\n"
   ]
  },
  {
   "cell_type": "code",
   "execution_count": null,
   "metadata": {},
   "outputs": [],
   "source": []
  },
  {
   "cell_type": "code",
   "execution_count": null,
   "metadata": {},
   "outputs": [],
   "source": []
  }
 ],
 "metadata": {
  "kernelspec": {
   "display_name": "Python 3",
   "language": "python",
   "name": "python3"
  },
  "language_info": {
   "codemirror_mode": {
    "name": "ipython",
    "version": 3
   },
   "file_extension": ".py",
   "mimetype": "text/x-python",
   "name": "python",
   "nbconvert_exporter": "python",
   "pygments_lexer": "ipython3",
   "version": "3.7.4-final"
  }
 },
 "nbformat": 4,
 "nbformat_minor": 2
}