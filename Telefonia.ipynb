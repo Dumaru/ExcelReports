{
 "cells": [
  {
   "cell_type": "markdown",
   "execution_count": null,
   "metadata": {},
   "outputs": [],
   "source": [
    "Info Links: https://code.visualstudio.com/docs/python/jupyter-support  \n",
    "https://stackoverflow.com/questions/35226904/convert-spanish-date-in-string-format  \n",
    "https://stackabuse.com/how-to-format-dates-in-python/  \n",
    "Dateparser docs:https://dateparser.readthedocs.io/en/latest/\n"
   ]
  },
  {
   "cell_type": "markdown",
   "execution_count": null,
   "metadata": {},
   "outputs": [],
   "source": [
    "## Imports the necessary libraries"
   ]
  },
  {
   "cell_type": "code",
   "execution_count": 1,
   "metadata": {},
   "outputs": [],
   "source": [
    "import os\n",
    "import pandas as pd"
   ]
  },
  {
   "cell_type": "code",
   "execution_count": 49,
   "metadata": {},
   "outputs": [
    {
     "data": {
      "text/plain": "['Dic312019.xlsx', 'Ene022020.xlsx']"
     },
     "execution_count": 49,
     "metadata": {},
     "output_type": "execute_result"
    }
   ],
   "source": [
    "# Gets all the files from the dir\n",
    "baseDir = r\"C:\\\\Users\\\\robin\\\\Google Drive\\\\WORK\\\\ExcelsStuff\\\\files\"\n",
    "fileNames = []\n",
    "for filename in os.listdir(baseDir):\n",
    "    if(filename.startswith('~$')):\n",
    "        continue\n",
    "    fileNames.append(filename)\n",
    "fileNames"
   ]
  },
  {
   "cell_type": "markdown",
   "execution_count": null,
   "metadata": {},
   "outputs": [],
   "source": [
    "## Reads each excel file and saves all the sheets into a list with the specified columns"
   ]
  },
  {
   "cell_type": "code",
   "execution_count": 50,
   "metadata": {},
   "outputs": [
    {
     "data": {
      "text/plain": "2"
     },
     "execution_count": 50,
     "metadata": {},
     "output_type": "execute_result"
    }
   ],
   "source": [
    "\n",
    "dfs = []\n",
    "COLS = [\"RAT\",\"OPERATOR\",\"CHANNEL\",\"IMEI\",\"IMSI\",\"TMSI\",\n",
    "        \"MS POWER\",\"TA\",\"LAST LAC\",\"NAME\",\"HITS\",\"DATE-TIME\"]\n",
    "for filename in fileNames:\n",
    "    # dfs.append(pd.read_excel(f\"{baseDir}\\\\{filename}\"))\n",
    "    temd_dfs = [pd.read_excel(f\"{baseDir}\\\\{filename}\", sheet_name=0, usecols=COLS), #2G\n",
    "                pd.read_excel(f\"{baseDir}\\\\{filename}\", sheet_name=1, usecols=COLS), #3G\n",
    "                pd.read_excel(f\"{baseDir}\\\\{filename}\", sheet_name=2, usecols=COLS)] #4G\n",
    "    dfs.append(temd_dfs)\n",
    "len(dfs)"
   ]
  },
  {
   "cell_type": "code",
   "execution_count": 51,
   "metadata": {},
   "outputs": [
    {
     "data": {
      "text/html": "<div>\n<style scoped>\n    .dataframe tbody tr th:only-of-type {\n        vertical-align: middle;\n    }\n\n    .dataframe tbody tr th {\n        vertical-align: top;\n    }\n\n    .dataframe thead th {\n        text-align: right;\n    }\n</style>\n<table border=\"1\" class=\"dataframe\">\n  <thead>\n    <tr style=\"text-align: right;\">\n      <th></th>\n      <th>RAT</th>\n      <th>OPERATOR</th>\n      <th>CHANNEL</th>\n      <th>IMSI</th>\n      <th>IMEI</th>\n      <th>TMSI</th>\n      <th>MS POWER</th>\n      <th>TA</th>\n      <th>LAST LAC</th>\n      <th>NAME</th>\n      <th>HITS</th>\n      <th>DATE-TIME</th>\n    </tr>\n  </thead>\n  <tbody>\n    <tr>\n      <th>0</th>\n      <td>2G</td>\n      <td>EC-Claro(América Móvil)-01</td>\n      <td>144</td>\n      <td>740020170411491</td>\n      <td>359459077681588</td>\n      <td>FFFFFFFF</td>\n      <td>-61</td>\n      <td>0</td>\n      <td>65534</td>\n      <td>NaN</td>\n      <td>1</td>\n      <td>mi. ene. 1 03:05:16 2020</td>\n    </tr>\n    <tr>\n      <th>1</th>\n      <td>2G</td>\n      <td>EC-Claro(América Móvil)-01</td>\n      <td>144</td>\n      <td>740010164127419</td>\n      <td>357815081319451</td>\n      <td>FFFFFFFF</td>\n      <td>-62</td>\n      <td>0</td>\n      <td>65534</td>\n      <td>NaN</td>\n      <td>1</td>\n      <td>mi. ene. 1 03:04:51 2020</td>\n    </tr>\n    <tr>\n      <th>2</th>\n      <td>2G</td>\n      <td>EC-Claro(América Móvil)-01</td>\n      <td>144</td>\n      <td>740010177429066</td>\n      <td>863697045358438</td>\n      <td>151D1A53</td>\n      <td>-66</td>\n      <td>0</td>\n      <td>50134</td>\n      <td>NaN</td>\n      <td>1</td>\n      <td>mi. ene. 1 02:55:06 2020</td>\n    </tr>\n    <tr>\n      <th>3</th>\n      <td>2G</td>\n      <td>EC-Claro(América Móvil)-01</td>\n      <td>144</td>\n      <td>740010120727910</td>\n      <td>357084081525001</td>\n      <td>97155956</td>\n      <td>-62</td>\n      <td>0</td>\n      <td>10228</td>\n      <td>NaN</td>\n      <td>1</td>\n      <td>mi. ene. 1 02:54:44 2020</td>\n    </tr>\n    <tr>\n      <th>4</th>\n      <td>2G</td>\n      <td>EC-Claro(América Móvil)-01</td>\n      <td>144</td>\n      <td>740010180400328</td>\n      <td>358099104079272</td>\n      <td>FFFFFFFF</td>\n      <td>-64</td>\n      <td>0</td>\n      <td>65534</td>\n      <td>NaN</td>\n      <td>1</td>\n      <td>mi. ene. 1 02:37:15 2020</td>\n    </tr>\n  </tbody>\n</table>\n</div>",
      "text/plain": "  RAT                    OPERATOR  CHANNEL             IMSI             IMEI  \\\n0  2G  EC-Claro(América Móvil)-01      144  740020170411491  359459077681588   \n1  2G  EC-Claro(América Móvil)-01      144  740010164127419  357815081319451   \n2  2G  EC-Claro(América Móvil)-01      144  740010177429066  863697045358438   \n3  2G  EC-Claro(América Móvil)-01      144  740010120727910  357084081525001   \n4  2G  EC-Claro(América Móvil)-01      144  740010180400328  358099104079272   \n\n       TMSI  MS POWER  TA  LAST LAC  NAME  HITS                 DATE-TIME  \n0  FFFFFFFF       -61   0     65534   NaN     1  mi. ene. 1 03:05:16 2020  \n1  FFFFFFFF       -62   0     65534   NaN     1  mi. ene. 1 03:04:51 2020  \n2  151D1A53       -66   0     50134   NaN     1  mi. ene. 1 02:55:06 2020  \n3  97155956       -62   0     10228   NaN     1  mi. ene. 1 02:54:44 2020  \n4  FFFFFFFF       -64   0     65534   NaN     1  mi. ene. 1 02:37:15 2020  "
     },
     "execution_count": 51,
     "metadata": {},
     "output_type": "execute_result"
    }
   ],
   "source": [
    "dfs[0][0].head()"
   ]
  },
  {
   "cell_type": "code",
   "execution_count": 52,
   "metadata": {},
   "outputs": [
    {
     "data": {
      "text/plain": "3"
     },
     "execution_count": 52,
     "metadata": {},
     "output_type": "execute_result"
    }
   ],
   "source": [
    "# The dfs[0] means the excel file at index 0 with the 3 pages as dataframes\n",
    "len(dfs[0])\n",
    "# The fisrt index is a list of dataframes that has everydataframe"
   ]
  },
  {
   "cell_type": "code",
   "execution_count": 53,
   "metadata": {},
   "outputs": [
    {
     "data": {
      "text/plain": "6"
     },
     "execution_count": 53,
     "metadata": {},
     "output_type": "execute_result"
    }
   ],
   "source": [
    "len([df for dflist in dfs for df in dflist])"
   ]
  },
  {
   "cell_type": "code",
   "execution_count": 60,
   "metadata": {},
   "outputs": [
    {
     "name": "stdout",
     "output_type": "stream",
     "text": "<class 'pandas.core.frame.DataFrame'>\nInt64Index: 3627 entries, 96 to 61\nData columns (total 12 columns):\nRAT          3627 non-null object\nOPERATOR     3627 non-null object\nCHANNEL      3627 non-null int64\nIMSI         3524 non-null float64\nIMEI         3528 non-null float64\nTMSI         3528 non-null object\nMS POWER     3627 non-null float64\nTA           3627 non-null int64\nLAST LAC     3627 non-null int64\nNAME         0 non-null float64\nHITS         3627 non-null int64\nDATE-TIME    3627 non-null object\ndtypes: float64(4), int64(4), object(4)\nmemory usage: 368.4+ KB\n"
    }
   ],
   "source": [
    "allData = pd.concat([df for dflist in dfs for df in dflist])\n",
    "allData.sort_values(by=[\"DATE-TIME\"], inplace=True, ascending=False)\n",
    "allData.info() # 3633-6 filas sin contar los headers"
   ]
  },
  {
   "cell_type": "code",
   "execution_count": 61,
   "metadata": {},
   "outputs": [
    {
     "data": {
      "text/html": "<div>\n<style scoped>\n    .dataframe tbody tr th:only-of-type {\n        vertical-align: middle;\n    }\n\n    .dataframe tbody tr th {\n        vertical-align: top;\n    }\n\n    .dataframe thead th {\n        text-align: right;\n    }\n</style>\n<table border=\"1\" class=\"dataframe\">\n  <thead>\n    <tr style=\"text-align: right;\">\n      <th></th>\n      <th>RAT</th>\n      <th>OPERATOR</th>\n      <th>CHANNEL</th>\n      <th>IMSI</th>\n      <th>IMEI</th>\n      <th>TMSI</th>\n      <th>MS POWER</th>\n      <th>TA</th>\n      <th>LAST LAC</th>\n      <th>NAME</th>\n      <th>HITS</th>\n      <th>DATE-TIME</th>\n    </tr>\n  </thead>\n  <tbody>\n    <tr>\n      <th>96</th>\n      <td>2G</td>\n      <td>EC-Claro(América Móvil)-01</td>\n      <td>136</td>\n      <td>7.400102e+14</td>\n      <td>3.558591e+14</td>\n      <td>2809ED09</td>\n      <td>-63.0</td>\n      <td>0</td>\n      <td>10228</td>\n      <td>NaN</td>\n      <td>3</td>\n      <td>vi. ene. 3 04:11:09 2020</td>\n    </tr>\n    <tr>\n      <th>6</th>\n      <td>2G</td>\n      <td>EC-Claro(América Móvil)-01</td>\n      <td>136</td>\n      <td>7.400102e+14</td>\n      <td>3.555441e+14</td>\n      <td>FFFFFFFF</td>\n      <td>-63.0</td>\n      <td>0</td>\n      <td>65534</td>\n      <td>NaN</td>\n      <td>4</td>\n      <td>vi. ene. 3 04:07:17 2020</td>\n    </tr>\n    <tr>\n      <th>109</th>\n      <td>2G</td>\n      <td>EC-Claro(América Móvil)-01</td>\n      <td>136</td>\n      <td>7.400102e+14</td>\n      <td>3.581911e+14</td>\n      <td>FFFFFFFF</td>\n      <td>-63.0</td>\n      <td>0</td>\n      <td>10228</td>\n      <td>NaN</td>\n      <td>2</td>\n      <td>vi. ene. 3 04:05:58 2020</td>\n    </tr>\n    <tr>\n      <th>266</th>\n      <td>2G</td>\n      <td>EC-Movistar(Telefónica)-00</td>\n      <td>245</td>\n      <td>7.400201e+14</td>\n      <td>3.533060e+14</td>\n      <td>FFFFFFFF</td>\n      <td>-61.0</td>\n      <td>0</td>\n      <td>65534</td>\n      <td>NaN</td>\n      <td>457</td>\n      <td>vi. ene. 3 02:41:33 2020</td>\n    </tr>\n    <tr>\n      <th>650</th>\n      <td>3G</td>\n      <td>EC-Movistar(Telefónica)-00</td>\n      <td>512</td>\n      <td>7.400001e+14</td>\n      <td>8.679030e+14</td>\n      <td>DA300ECC</td>\n      <td>-107.0</td>\n      <td>2</td>\n      <td>32768</td>\n      <td>NaN</td>\n      <td>2</td>\n      <td>vi. ene. 3 02:21:24 2020</td>\n    </tr>\n  </tbody>\n</table>\n</div>",
      "text/plain": "    RAT                    OPERATOR  CHANNEL          IMSI          IMEI  \\\n96   2G  EC-Claro(América Móvil)-01      136  7.400102e+14  3.558591e+14   \n6    2G  EC-Claro(América Móvil)-01      136  7.400102e+14  3.555441e+14   \n109  2G  EC-Claro(América Móvil)-01      136  7.400102e+14  3.581911e+14   \n266  2G  EC-Movistar(Telefónica)-00      245  7.400201e+14  3.533060e+14   \n650  3G  EC-Movistar(Telefónica)-00      512  7.400001e+14  8.679030e+14   \n\n         TMSI  MS POWER  TA  LAST LAC  NAME  HITS                 DATE-TIME  \n96   2809ED09     -63.0   0     10228   NaN     3  vi. ene. 3 04:11:09 2020  \n6    FFFFFFFF     -63.0   0     65534   NaN     4  vi. ene. 3 04:07:17 2020  \n109  FFFFFFFF     -63.0   0     10228   NaN     2  vi. ene. 3 04:05:58 2020  \n266  FFFFFFFF     -61.0   0     65534   NaN   457  vi. ene. 3 02:41:33 2020  \n650  DA300ECC    -107.0   2     32768   NaN     2  vi. ene. 3 02:21:24 2020  "
     },
     "execution_count": 61,
     "metadata": {},
     "output_type": "execute_result"
    }
   ],
   "source": [
    "allData.head()"
   ]
  },
  {
   "cell_type": "markdown",
   "execution_count": null,
   "metadata": {},
   "outputs": [],
   "source": [
    "### Returns a datetime object from a string representation"
   ]
  },
  {
   "cell_type": "code",
   "execution_count": 43,
   "metadata": {},
   "outputs": [
    {
     "name": "stdout",
     "output_type": "stream",
     "text": "2019-12-31 23:50:11\n"
    },
    {
     "data": {
      "text/plain": "pandas._libs.tslibs.timestamps.Timestamp"
     },
     "execution_count": 43,
     "metadata": {},
     "output_type": "execute_result"
    }
   ],
   "source": [
    "def getMonthInt(strMonth):\n",
    "    if(strMonth.lower() in [\"ene\"]):\n",
    "        return 1\n",
    "    elif(strMonth.lower() in [\"feb\"]):\n",
    "        return 2\n",
    "    elif(strMonth.lower() in [\"mar\"]):\n",
    "        return 3\n",
    "    elif(strMonth.lower() in [\"abr\"]):\n",
    "        return 4\n",
    "    elif(strMonth.lower() in [\"may\"]):\n",
    "        return 5\n",
    "    elif(strMonth.lower() in [\"jun\"]):\n",
    "        return 6\n",
    "    elif(strMonth.lower() in [\"jul\"]):\n",
    "        return 7\n",
    "    elif(strMonth.lower() in [\"ago\"]):\n",
    "        return 8\n",
    "    elif(strMonth.lower() in [\"sep\"]):\n",
    "        return 9\n",
    "    elif(strMonth.lower() in [\"oct\"]):\n",
    "        return 10\n",
    "    elif(strMonth.lower() in [\"nov\"]):\n",
    "        return 11\n",
    "    elif(strMonth.lower() in [\"dic\"]):\n",
    "        return 12\n",
    "\n",
    "def toDatetime(dateStr):\n",
    "    # Date string example-> ma. dic. 31 23:50:11 2019\n",
    "    _, month,t_year = list(map(str.strip, dateStr.split('.')))\n",
    "    day, t, year = t_year.split(' ') \n",
    "    month = getMonthInt(month)\n",
    "    dateStr = f\"{year}-{month}-{day} {t}\"\n",
    "    return pd.to_datetime(dateStr, format=\"%Y-%m-%d %X\")\n",
    "result = toDatetime(\"ma. dic. 31 23:50:11 2019\")\n",
    "print(result)\n",
    "type(result)"
   ]
  },
  {
   "cell_type": "code",
   "execution_count": 44,
   "metadata": {},
   "outputs": [
    {
     "data": {
      "text/html": "<div>\n<style scoped>\n    .dataframe tbody tr th:only-of-type {\n        vertical-align: middle;\n    }\n\n    .dataframe tbody tr th {\n        vertical-align: top;\n    }\n\n    .dataframe thead th {\n        text-align: right;\n    }\n</style>\n<table border=\"1\" class=\"dataframe\">\n  <thead>\n    <tr style=\"text-align: right;\">\n      <th></th>\n      <th>RAT</th>\n      <th>OPERATOR</th>\n      <th>CHANNEL</th>\n      <th>IMSI</th>\n      <th>IMEI</th>\n      <th>TMSI</th>\n      <th>MS POWER</th>\n      <th>TA</th>\n      <th>LAST LAC</th>\n      <th>NAME</th>\n      <th>HITS</th>\n      <th>DATE-TIME</th>\n    </tr>\n  </thead>\n  <tbody>\n    <tr>\n      <th>0</th>\n      <td>2G</td>\n      <td>EC-Claro(América Móvil)-01</td>\n      <td>144</td>\n      <td>7.400202e+14</td>\n      <td>3.594591e+14</td>\n      <td>FFFFFFFF</td>\n      <td>-61.0</td>\n      <td>0</td>\n      <td>65534</td>\n      <td>NaN</td>\n      <td>1</td>\n      <td>2020-01-01 03:05:16</td>\n    </tr>\n    <tr>\n      <th>1</th>\n      <td>2G</td>\n      <td>EC-Claro(América Móvil)-01</td>\n      <td>144</td>\n      <td>7.400102e+14</td>\n      <td>3.578151e+14</td>\n      <td>FFFFFFFF</td>\n      <td>-62.0</td>\n      <td>0</td>\n      <td>65534</td>\n      <td>NaN</td>\n      <td>1</td>\n      <td>2020-01-01 03:04:51</td>\n    </tr>\n  </tbody>\n</table>\n</div>",
      "text/plain": "  RAT                    OPERATOR  CHANNEL          IMSI          IMEI  \\\n0  2G  EC-Claro(América Móvil)-01      144  7.400202e+14  3.594591e+14   \n1  2G  EC-Claro(América Móvil)-01      144  7.400102e+14  3.578151e+14   \n\n       TMSI  MS POWER  TA  LAST LAC  NAME  HITS           DATE-TIME  \n0  FFFFFFFF     -61.0   0     65534   NaN     1 2020-01-01 03:05:16  \n1  FFFFFFFF     -62.0   0     65534   NaN     1 2020-01-01 03:04:51  "
     },
     "execution_count": 44,
     "metadata": {},
     "output_type": "execute_result"
    }
   ],
   "source": [
    "allData['DATE-TIME'] = allData['DATE-TIME'].apply(toDatetime)\n",
    "allData.head(2)"
   ]
  },
  {
   "cell_type": "code",
   "execution_count": 45,
   "metadata": {},
   "outputs": [
    {
     "name": "stdout",
     "output_type": "stream",
     "text": "<class 'pandas.core.frame.DataFrame'>\nInt64Index: 3627 entries, 0 to 73\nData columns (total 12 columns):\nRAT          3627 non-null object\nOPERATOR     3627 non-null object\nCHANNEL      3627 non-null int64\nIMSI         3524 non-null float64\nIMEI         3528 non-null float64\nTMSI         3528 non-null object\nMS POWER     3627 non-null float64\nTA           3627 non-null int64\nLAST LAC     3627 non-null int64\nNAME         0 non-null float64\nHITS         3627 non-null int64\nDATE-TIME    3627 non-null datetime64[ns]\ndtypes: datetime64[ns](1), float64(4), int64(4), object(3)\nmemory usage: 368.4+ KB\n"
    }
   ],
   "source": [
    "allData.info()"
   ]
  },
  {
   "cell_type": "code",
   "execution_count": 47,
   "metadata": {},
   "outputs": [
    {
     "data": {
      "text/html": "<div>\n<style scoped>\n    .dataframe tbody tr th:only-of-type {\n        vertical-align: middle;\n    }\n\n    .dataframe tbody tr th {\n        vertical-align: top;\n    }\n\n    .dataframe thead th {\n        text-align: right;\n    }\n</style>\n<table border=\"1\" class=\"dataframe\">\n  <thead>\n    <tr style=\"text-align: right;\">\n      <th></th>\n      <th>RAT</th>\n      <th>OPERATOR</th>\n      <th>CHANNEL</th>\n      <th>IMSI</th>\n      <th>IMEI</th>\n      <th>TMSI</th>\n      <th>MS POWER</th>\n      <th>TA</th>\n      <th>LAST LAC</th>\n      <th>NAME</th>\n      <th>HITS</th>\n      <th>DATE-TIME</th>\n    </tr>\n  </thead>\n  <tbody>\n  </tbody>\n</table>\n</div>",
      "text/plain": "Empty DataFrame\nColumns: [RAT, OPERATOR, CHANNEL, IMSI, IMEI, TMSI, MS POWER, TA, LAST LAC, NAME, HITS, DATE-TIME]\nIndex: []"
     },
     "execution_count": 47,
     "metadata": {},
     "output_type": "execute_result"
    }
   ],
   "source": [
    "allData[allData['DATE-TIME'].isnull()]"
   ]
  },
  {
   "cell_type": "code",
   "execution_count": 48,
   "metadata": {},
   "outputs": [
    {
     "data": {
      "text/html": "<div>\n<style scoped>\n    .dataframe tbody tr th:only-of-type {\n        vertical-align: middle;\n    }\n\n    .dataframe tbody tr th {\n        vertical-align: top;\n    }\n\n    .dataframe thead th {\n        text-align: right;\n    }\n</style>\n<table border=\"1\" class=\"dataframe\">\n  <thead>\n    <tr style=\"text-align: right;\">\n      <th></th>\n      <th>RAT</th>\n      <th>OPERATOR</th>\n      <th>CHANNEL</th>\n      <th>IMSI</th>\n      <th>IMEI</th>\n      <th>TMSI</th>\n      <th>MS POWER</th>\n      <th>TA</th>\n      <th>LAST LAC</th>\n      <th>NAME</th>\n      <th>HITS</th>\n      <th>DATE-TIME</th>\n    </tr>\n  </thead>\n  <tbody>\n    <tr>\n      <th>0</th>\n      <td>2G</td>\n      <td>EC-Claro(América Móvil)-01</td>\n      <td>144</td>\n      <td>7.400202e+14</td>\n      <td>3.594591e+14</td>\n      <td>FFFFFFFF</td>\n      <td>-61.00</td>\n      <td>0</td>\n      <td>65534</td>\n      <td>NaN</td>\n      <td>1</td>\n      <td>2020-01-01 03:05:16</td>\n    </tr>\n    <tr>\n      <th>1</th>\n      <td>2G</td>\n      <td>EC-Claro(América Móvil)-01</td>\n      <td>144</td>\n      <td>7.400102e+14</td>\n      <td>3.578151e+14</td>\n      <td>FFFFFFFF</td>\n      <td>-62.00</td>\n      <td>0</td>\n      <td>65534</td>\n      <td>NaN</td>\n      <td>1</td>\n      <td>2020-01-01 03:04:51</td>\n    </tr>\n    <tr>\n      <th>2</th>\n      <td>2G</td>\n      <td>EC-Claro(América Móvil)-01</td>\n      <td>144</td>\n      <td>7.400102e+14</td>\n      <td>8.636970e+14</td>\n      <td>151D1A53</td>\n      <td>-66.00</td>\n      <td>0</td>\n      <td>50134</td>\n      <td>NaN</td>\n      <td>1</td>\n      <td>2020-01-01 02:55:06</td>\n    </tr>\n    <tr>\n      <th>3</th>\n      <td>2G</td>\n      <td>EC-Claro(América Móvil)-01</td>\n      <td>144</td>\n      <td>7.400101e+14</td>\n      <td>3.570841e+14</td>\n      <td>97155956</td>\n      <td>-62.00</td>\n      <td>0</td>\n      <td>10228</td>\n      <td>NaN</td>\n      <td>1</td>\n      <td>2020-01-01 02:54:44</td>\n    </tr>\n    <tr>\n      <th>4</th>\n      <td>2G</td>\n      <td>EC-Claro(América Móvil)-01</td>\n      <td>144</td>\n      <td>7.400102e+14</td>\n      <td>3.580991e+14</td>\n      <td>FFFFFFFF</td>\n      <td>-64.00</td>\n      <td>0</td>\n      <td>65534</td>\n      <td>NaN</td>\n      <td>1</td>\n      <td>2020-01-01 02:37:15</td>\n    </tr>\n    <tr>\n      <th>5</th>\n      <td>2G</td>\n      <td>EC-Claro(América Móvil)-01</td>\n      <td>144</td>\n      <td>7.400102e+14</td>\n      <td>3.516281e+14</td>\n      <td>171EA43B</td>\n      <td>-63.00</td>\n      <td>0</td>\n      <td>10228</td>\n      <td>NaN</td>\n      <td>1</td>\n      <td>2020-01-01 02:36:04</td>\n    </tr>\n    <tr>\n      <th>6</th>\n      <td>2G</td>\n      <td>EC-Claro(América Móvil)-01</td>\n      <td>144</td>\n      <td>7.400102e+14</td>\n      <td>3.542621e+14</td>\n      <td>AE082241</td>\n      <td>-60.00</td>\n      <td>0</td>\n      <td>10227</td>\n      <td>NaN</td>\n      <td>1</td>\n      <td>2020-01-01 02:23:45</td>\n    </tr>\n    <tr>\n      <th>7</th>\n      <td>2G</td>\n      <td>EC-Claro(América Móvil)-01</td>\n      <td>144</td>\n      <td>7.400102e+14</td>\n      <td>1.396101e+13</td>\n      <td>190A62B1</td>\n      <td>-61.00</td>\n      <td>0</td>\n      <td>10228</td>\n      <td>NaN</td>\n      <td>1</td>\n      <td>2020-01-01 02:19:02</td>\n    </tr>\n    <tr>\n      <th>8</th>\n      <td>2G</td>\n      <td>EC-Claro(América Móvil)-01</td>\n      <td>144</td>\n      <td>7.400102e+14</td>\n      <td>3.572871e+14</td>\n      <td>B60B0041</td>\n      <td>-62.00</td>\n      <td>0</td>\n      <td>10228</td>\n      <td>NaN</td>\n      <td>1</td>\n      <td>2020-01-01 02:15:32</td>\n    </tr>\n    <tr>\n      <th>9</th>\n      <td>2G</td>\n      <td>EC-Claro(América Móvil)-01</td>\n      <td>144</td>\n      <td>7.400101e+14</td>\n      <td>1.138800e+13</td>\n      <td>FFFFFFFF</td>\n      <td>-61.00</td>\n      <td>0</td>\n      <td>65534</td>\n      <td>NaN</td>\n      <td>1</td>\n      <td>2020-01-01 02:14:41</td>\n    </tr>\n    <tr>\n      <th>10</th>\n      <td>2G</td>\n      <td>EC-Claro(América Móvil)-01</td>\n      <td>144</td>\n      <td>7.400102e+14</td>\n      <td>3.568891e+14</td>\n      <td>871A0CAB</td>\n      <td>-64.00</td>\n      <td>0</td>\n      <td>10294</td>\n      <td>NaN</td>\n      <td>1</td>\n      <td>2019-12-31 23:50:11</td>\n    </tr>\n    <tr>\n      <th>11</th>\n      <td>2G</td>\n      <td>EC-Claro(América Móvil)-01</td>\n      <td>144</td>\n      <td>7.400102e+14</td>\n      <td>3.525171e+14</td>\n      <td>FFFFFFFF</td>\n      <td>-62.00</td>\n      <td>0</td>\n      <td>65534</td>\n      <td>NaN</td>\n      <td>1</td>\n      <td>2019-12-31 23:48:48</td>\n    </tr>\n    <tr>\n      <th>12</th>\n      <td>2G</td>\n      <td>EC-Claro(América Móvil)-01</td>\n      <td>144</td>\n      <td>7.400102e+14</td>\n      <td>3.519671e+14</td>\n      <td>371BFCE3</td>\n      <td>-65.00</td>\n      <td>0</td>\n      <td>10228</td>\n      <td>NaN</td>\n      <td>1</td>\n      <td>2019-12-31 23:47:34</td>\n    </tr>\n    <tr>\n      <th>13</th>\n      <td>2G</td>\n      <td>EC-Claro(América Móvil)-01</td>\n      <td>144</td>\n      <td>7.400102e+14</td>\n      <td>3.568131e+14</td>\n      <td>FFFFFFFF</td>\n      <td>-63.00</td>\n      <td>0</td>\n      <td>65534</td>\n      <td>NaN</td>\n      <td>1</td>\n      <td>2019-12-31 23:45:31</td>\n    </tr>\n    <tr>\n      <th>14</th>\n      <td>2G</td>\n      <td>EC-Claro(América Móvil)-01</td>\n      <td>144</td>\n      <td>7.400102e+14</td>\n      <td>3.541691e+14</td>\n      <td>3F1194F6</td>\n      <td>-65.00</td>\n      <td>0</td>\n      <td>10228</td>\n      <td>NaN</td>\n      <td>1</td>\n      <td>2019-12-31 23:45:05</td>\n    </tr>\n    <tr>\n      <th>15</th>\n      <td>2G</td>\n      <td>EC-Claro(América Móvil)-01</td>\n      <td>144</td>\n      <td>7.400102e+14</td>\n      <td>3.564301e+14</td>\n      <td>870EE471</td>\n      <td>-62.00</td>\n      <td>0</td>\n      <td>10228</td>\n      <td>NaN</td>\n      <td>1</td>\n      <td>2019-12-31 23:43:38</td>\n    </tr>\n    <tr>\n      <th>16</th>\n      <td>2G</td>\n      <td>EC-Claro(América Móvil)-01</td>\n      <td>144</td>\n      <td>7.400102e+14</td>\n      <td>8.687890e+14</td>\n      <td>3E17D7F6</td>\n      <td>-66.00</td>\n      <td>0</td>\n      <td>10228</td>\n      <td>NaN</td>\n      <td>1</td>\n      <td>2019-12-31 23:43:32</td>\n    </tr>\n    <tr>\n      <th>17</th>\n      <td>2G</td>\n      <td>EC-Claro(América Móvil)-01</td>\n      <td>144</td>\n      <td>7.400202e+14</td>\n      <td>3.529361e+14</td>\n      <td>ADC2733D</td>\n      <td>-61.00</td>\n      <td>0</td>\n      <td>15251</td>\n      <td>NaN</td>\n      <td>5</td>\n      <td>2019-12-31 23:41:05</td>\n    </tr>\n    <tr>\n      <th>18</th>\n      <td>2G</td>\n      <td>EC-Claro(América Móvil)-01</td>\n      <td>144</td>\n      <td>7.400102e+14</td>\n      <td>3.582841e+14</td>\n      <td>840E69A9</td>\n      <td>-63.00</td>\n      <td>0</td>\n      <td>10228</td>\n      <td>NaN</td>\n      <td>1</td>\n      <td>2019-12-31 23:37:53</td>\n    </tr>\n    <tr>\n      <th>19</th>\n      <td>2G</td>\n      <td>EC-Claro(América Móvil)-01</td>\n      <td>144</td>\n      <td>7.400102e+14</td>\n      <td>3.582481e+14</td>\n      <td>FFFFFFFF</td>\n      <td>-65.00</td>\n      <td>0</td>\n      <td>65534</td>\n      <td>NaN</td>\n      <td>1</td>\n      <td>2019-12-31 23:30:19</td>\n    </tr>\n    <tr>\n      <th>20</th>\n      <td>2G</td>\n      <td>EC-Claro(América Móvil)-01</td>\n      <td>144</td>\n      <td>7.400102e+14</td>\n      <td>3.593931e+14</td>\n      <td>81089989</td>\n      <td>-66.00</td>\n      <td>0</td>\n      <td>10228</td>\n      <td>NaN</td>\n      <td>1</td>\n      <td>2019-12-31 23:29:35</td>\n    </tr>\n    <tr>\n      <th>21</th>\n      <td>2G</td>\n      <td>EC-Claro(América Móvil)-01</td>\n      <td>144</td>\n      <td>7.400102e+14</td>\n      <td>3.577151e+14</td>\n      <td>FFFFFFFF</td>\n      <td>-64.00</td>\n      <td>0</td>\n      <td>65534</td>\n      <td>NaN</td>\n      <td>1</td>\n      <td>2019-12-31 23:28:20</td>\n    </tr>\n    <tr>\n      <th>22</th>\n      <td>2G</td>\n      <td>EC-Claro(América Móvil)-01</td>\n      <td>144</td>\n      <td>7.400102e+14</td>\n      <td>3.582151e+14</td>\n      <td>FFFFFFFF</td>\n      <td>-62.00</td>\n      <td>0</td>\n      <td>65534</td>\n      <td>NaN</td>\n      <td>1</td>\n      <td>2019-12-31 23:27:07</td>\n    </tr>\n    <tr>\n      <th>23</th>\n      <td>2G</td>\n      <td>EC-Claro(América Móvil)-01</td>\n      <td>144</td>\n      <td>7.400102e+14</td>\n      <td>3.545531e+14</td>\n      <td>7F0A0879</td>\n      <td>-62.00</td>\n      <td>0</td>\n      <td>10228</td>\n      <td>NaN</td>\n      <td>1</td>\n      <td>2019-12-31 23:25:56</td>\n    </tr>\n    <tr>\n      <th>24</th>\n      <td>2G</td>\n      <td>EC-Claro(América Móvil)-01</td>\n      <td>144</td>\n      <td>7.400102e+14</td>\n      <td>3.542781e+14</td>\n      <td>7C0B9241</td>\n      <td>-63.00</td>\n      <td>0</td>\n      <td>10228</td>\n      <td>NaN</td>\n      <td>1</td>\n      <td>2019-12-31 23:22:46</td>\n    </tr>\n    <tr>\n      <th>25</th>\n      <td>2G</td>\n      <td>EC-Claro(América Móvil)-01</td>\n      <td>144</td>\n      <td>7.400102e+14</td>\n      <td>3.570841e+14</td>\n      <td>31115596</td>\n      <td>-60.00</td>\n      <td>0</td>\n      <td>10228</td>\n      <td>NaN</td>\n      <td>1</td>\n      <td>2019-12-31 23:21:55</td>\n    </tr>\n    <tr>\n      <th>26</th>\n      <td>2G</td>\n      <td>EC-Claro(América Móvil)-01</td>\n      <td>144</td>\n      <td>7.400102e+14</td>\n      <td>3.526491e+14</td>\n      <td>741DA89B</td>\n      <td>-63.00</td>\n      <td>0</td>\n      <td>10228</td>\n      <td>NaN</td>\n      <td>1</td>\n      <td>2019-12-31 23:21:40</td>\n    </tr>\n    <tr>\n      <th>27</th>\n      <td>2G</td>\n      <td>EC-Claro(América Móvil)-01</td>\n      <td>144</td>\n      <td>7.400102e+14</td>\n      <td>3.558341e+14</td>\n      <td>FFFFFFFF</td>\n      <td>-64.00</td>\n      <td>0</td>\n      <td>65534</td>\n      <td>NaN</td>\n      <td>1</td>\n      <td>2019-12-31 23:20:46</td>\n    </tr>\n    <tr>\n      <th>28</th>\n      <td>2G</td>\n      <td>EC-Claro(América Móvil)-01</td>\n      <td>144</td>\n      <td>7.400102e+14</td>\n      <td>3.518221e+14</td>\n      <td>FFFFFFFF</td>\n      <td>-61.00</td>\n      <td>0</td>\n      <td>65534</td>\n      <td>NaN</td>\n      <td>1</td>\n      <td>2019-12-31 23:20:09</td>\n    </tr>\n    <tr>\n      <th>29</th>\n      <td>2G</td>\n      <td>EC-Claro(América Móvil)-01</td>\n      <td>144</td>\n      <td>7.400202e+14</td>\n      <td>1.436501e+13</td>\n      <td>8D1EB453</td>\n      <td>-64.00</td>\n      <td>0</td>\n      <td>10228</td>\n      <td>NaN</td>\n      <td>1</td>\n      <td>2019-12-31 23:19:36</td>\n    </tr>\n    <tr>\n      <th>...</th>\n      <td>...</td>\n      <td>...</td>\n      <td>...</td>\n      <td>...</td>\n      <td>...</td>\n      <td>...</td>\n      <td>...</td>\n      <td>...</td>\n      <td>...</td>\n      <td>...</td>\n      <td>...</td>\n      <td>...</td>\n    </tr>\n    <tr>\n      <th>44</th>\n      <td>4G</td>\n      <td>EC-Claro(América Móvil)-01</td>\n      <td>2250</td>\n      <td>7.400102e+14</td>\n      <td>NaN</td>\n      <td>NaN</td>\n      <td>-114835.00</td>\n      <td>2</td>\n      <td>60136</td>\n      <td>NaN</td>\n      <td>9</td>\n      <td>2020-01-02 10:00:33</td>\n    </tr>\n    <tr>\n      <th>45</th>\n      <td>4G</td>\n      <td>EC-Claro(América Móvil)-01</td>\n      <td>2250</td>\n      <td>7.400102e+14</td>\n      <td>NaN</td>\n      <td>NaN</td>\n      <td>-113975.00</td>\n      <td>2</td>\n      <td>60134</td>\n      <td>NaN</td>\n      <td>9</td>\n      <td>2020-01-02 09:57:25</td>\n    </tr>\n    <tr>\n      <th>46</th>\n      <td>4G</td>\n      <td>EC-Claro(América Móvil)-01</td>\n      <td>2250</td>\n      <td>7.400102e+14</td>\n      <td>NaN</td>\n      <td>NaN</td>\n      <td>-106944.00</td>\n      <td>2</td>\n      <td>60134</td>\n      <td>NaN</td>\n      <td>1</td>\n      <td>2020-01-02 08:20:10</td>\n    </tr>\n    <tr>\n      <th>47</th>\n      <td>4G</td>\n      <td>EC-Claro(América Móvil)-01</td>\n      <td>2250</td>\n      <td>7.400102e+14</td>\n      <td>NaN</td>\n      <td>NaN</td>\n      <td>-114444.00</td>\n      <td>2</td>\n      <td>60134</td>\n      <td>NaN</td>\n      <td>1</td>\n      <td>2020-01-02 08:17:57</td>\n    </tr>\n    <tr>\n      <th>48</th>\n      <td>4G</td>\n      <td>EC-Claro(América Móvil)-01</td>\n      <td>2250</td>\n      <td>7.400102e+14</td>\n      <td>NaN</td>\n      <td>NaN</td>\n      <td>-953034.00</td>\n      <td>2</td>\n      <td>60134</td>\n      <td>NaN</td>\n      <td>10</td>\n      <td>2020-01-02 09:00:21</td>\n    </tr>\n    <tr>\n      <th>49</th>\n      <td>4G</td>\n      <td>EC-Claro(América Móvil)-01</td>\n      <td>2250</td>\n      <td>7.400102e+14</td>\n      <td>NaN</td>\n      <td>NaN</td>\n      <td>-120694.00</td>\n      <td>2</td>\n      <td>60134</td>\n      <td>NaN</td>\n      <td>1</td>\n      <td>2020-01-02 08:11:52</td>\n    </tr>\n    <tr>\n      <th>50</th>\n      <td>4G</td>\n      <td>EC-Claro(América Móvil)-01</td>\n      <td>2250</td>\n      <td>7.400102e+14</td>\n      <td>NaN</td>\n      <td>NaN</td>\n      <td>-107725.00</td>\n      <td>2</td>\n      <td>60134</td>\n      <td>NaN</td>\n      <td>1</td>\n      <td>2020-01-02 08:07:48</td>\n    </tr>\n    <tr>\n      <th>51</th>\n      <td>4G</td>\n      <td>EC-Claro(América Móvil)-01</td>\n      <td>2250</td>\n      <td>7.400102e+14</td>\n      <td>NaN</td>\n      <td>NaN</td>\n      <td>-105303.00</td>\n      <td>2</td>\n      <td>60134</td>\n      <td>NaN</td>\n      <td>1</td>\n      <td>2020-01-02 08:07:37</td>\n    </tr>\n    <tr>\n      <th>52</th>\n      <td>4G</td>\n      <td>EC-Claro(América Móvil)-01</td>\n      <td>2250</td>\n      <td>7.400102e+14</td>\n      <td>NaN</td>\n      <td>NaN</td>\n      <td>-116397.00</td>\n      <td>2</td>\n      <td>60134</td>\n      <td>NaN</td>\n      <td>4</td>\n      <td>2020-01-02 08:39:47</td>\n    </tr>\n    <tr>\n      <th>53</th>\n      <td>4G</td>\n      <td>EC-Claro(América Móvil)-01</td>\n      <td>2250</td>\n      <td>7.400102e+14</td>\n      <td>NaN</td>\n      <td>NaN</td>\n      <td>-114991.00</td>\n      <td>2</td>\n      <td>60134</td>\n      <td>NaN</td>\n      <td>1</td>\n      <td>2020-01-02 08:05:33</td>\n    </tr>\n    <tr>\n      <th>54</th>\n      <td>4G</td>\n      <td>EC-Claro(América Móvil)-01</td>\n      <td>2250</td>\n      <td>7.400102e+14</td>\n      <td>NaN</td>\n      <td>NaN</td>\n      <td>-109132.00</td>\n      <td>2</td>\n      <td>60134</td>\n      <td>NaN</td>\n      <td>2</td>\n      <td>2020-01-02 09:29:47</td>\n    </tr>\n    <tr>\n      <th>55</th>\n      <td>4G</td>\n      <td>EC-Claro(América Móvil)-01</td>\n      <td>2250</td>\n      <td>7.400102e+14</td>\n      <td>NaN</td>\n      <td>NaN</td>\n      <td>-111163.00</td>\n      <td>2</td>\n      <td>60134</td>\n      <td>NaN</td>\n      <td>2</td>\n      <td>2020-01-02 08:03:21</td>\n    </tr>\n    <tr>\n      <th>56</th>\n      <td>4G</td>\n      <td>EC-Claro(América Móvil)-01</td>\n      <td>2250</td>\n      <td>7.400102e+14</td>\n      <td>NaN</td>\n      <td>NaN</td>\n      <td>-937409.00</td>\n      <td>2</td>\n      <td>-1</td>\n      <td>NaN</td>\n      <td>3</td>\n      <td>2020-01-02 09:03:44</td>\n    </tr>\n    <tr>\n      <th>57</th>\n      <td>4G</td>\n      <td>EC-Claro(América Móvil)-01</td>\n      <td>2250</td>\n      <td>7.400102e+14</td>\n      <td>NaN</td>\n      <td>NaN</td>\n      <td>-110694.00</td>\n      <td>2</td>\n      <td>60134</td>\n      <td>NaN</td>\n      <td>3</td>\n      <td>2020-01-02 09:28:30</td>\n    </tr>\n    <tr>\n      <th>58</th>\n      <td>4G</td>\n      <td>EC-Claro(América Móvil)-01</td>\n      <td>2250</td>\n      <td>7.400102e+14</td>\n      <td>NaN</td>\n      <td>NaN</td>\n      <td>-109.21</td>\n      <td>2</td>\n      <td>60134</td>\n      <td>NaN</td>\n      <td>4</td>\n      <td>2020-01-02 08:52:17</td>\n    </tr>\n    <tr>\n      <th>59</th>\n      <td>4G</td>\n      <td>EC-Claro(América Móvil)-01</td>\n      <td>2250</td>\n      <td>7.400102e+14</td>\n      <td>NaN</td>\n      <td>NaN</td>\n      <td>-107882.00</td>\n      <td>2</td>\n      <td>60134</td>\n      <td>NaN</td>\n      <td>1</td>\n      <td>2020-01-02 08:01:59</td>\n    </tr>\n    <tr>\n      <th>60</th>\n      <td>4G</td>\n      <td>EC-Claro(América Móvil)-01</td>\n      <td>2250</td>\n      <td>7.400102e+14</td>\n      <td>NaN</td>\n      <td>NaN</td>\n      <td>-108038.00</td>\n      <td>2</td>\n      <td>60134</td>\n      <td>NaN</td>\n      <td>1</td>\n      <td>2020-01-02 08:00:31</td>\n    </tr>\n    <tr>\n      <th>61</th>\n      <td>4G</td>\n      <td>EC-Claro(América Móvil)-01</td>\n      <td>2250</td>\n      <td>7.400102e+14</td>\n      <td>NaN</td>\n      <td>NaN</td>\n      <td>-112491.00</td>\n      <td>2</td>\n      <td>60134</td>\n      <td>NaN</td>\n      <td>1</td>\n      <td>2020-01-02 08:00:27</td>\n    </tr>\n    <tr>\n      <th>62</th>\n      <td>4G</td>\n      <td>EC-Movistar(Telefónica)-00</td>\n      <td>700</td>\n      <td>7.400102e+14</td>\n      <td>NaN</td>\n      <td>NaN</td>\n      <td>-109991.00</td>\n      <td>2</td>\n      <td>60134</td>\n      <td>NaN</td>\n      <td>1</td>\n      <td>2020-01-02 10:29:06</td>\n    </tr>\n    <tr>\n      <th>63</th>\n      <td>4G</td>\n      <td>EC-Movistar(Telefónica)-00</td>\n      <td>700</td>\n      <td>7.400002e+14</td>\n      <td>NaN</td>\n      <td>NaN</td>\n      <td>-100.85</td>\n      <td>2</td>\n      <td>-1</td>\n      <td>NaN</td>\n      <td>5</td>\n      <td>2020-01-02 11:44:59</td>\n    </tr>\n    <tr>\n      <th>64</th>\n      <td>4G</td>\n      <td>EC-Movistar(Telefónica)-00</td>\n      <td>700</td>\n      <td>7.400001e+14</td>\n      <td>NaN</td>\n      <td>NaN</td>\n      <td>-104678.00</td>\n      <td>2</td>\n      <td>-1</td>\n      <td>NaN</td>\n      <td>1</td>\n      <td>2020-01-02 10:18:30</td>\n    </tr>\n    <tr>\n      <th>65</th>\n      <td>4G</td>\n      <td>EC-Movistar(Telefónica)-00</td>\n      <td>700</td>\n      <td>7.400001e+14</td>\n      <td>NaN</td>\n      <td>NaN</td>\n      <td>-106241.00</td>\n      <td>2</td>\n      <td>9616</td>\n      <td>NaN</td>\n      <td>6</td>\n      <td>2020-01-02 12:07:11</td>\n    </tr>\n    <tr>\n      <th>66</th>\n      <td>4G</td>\n      <td>EC-Movistar(Telefónica)-00</td>\n      <td>700</td>\n      <td>7.400002e+14</td>\n      <td>NaN</td>\n      <td>NaN</td>\n      <td>-102022.00</td>\n      <td>2</td>\n      <td>9616</td>\n      <td>NaN</td>\n      <td>5</td>\n      <td>2020-01-02 13:48:47</td>\n    </tr>\n    <tr>\n      <th>67</th>\n      <td>4G</td>\n      <td>EC-Movistar(Telefónica)-00</td>\n      <td>700</td>\n      <td>7.400001e+14</td>\n      <td>NaN</td>\n      <td>NaN</td>\n      <td>-103116.00</td>\n      <td>2</td>\n      <td>9616</td>\n      <td>NaN</td>\n      <td>15</td>\n      <td>2020-01-02 13:49:05</td>\n    </tr>\n    <tr>\n      <th>68</th>\n      <td>4G</td>\n      <td>EC-Movistar(Telefónica)-00</td>\n      <td>700</td>\n      <td>7.400002e+14</td>\n      <td>NaN</td>\n      <td>NaN</td>\n      <td>-117413.00</td>\n      <td>2</td>\n      <td>9616</td>\n      <td>NaN</td>\n      <td>1</td>\n      <td>2020-01-02 10:05:28</td>\n    </tr>\n    <tr>\n      <th>69</th>\n      <td>4G</td>\n      <td>EC-Movistar(Telefónica)-00</td>\n      <td>700</td>\n      <td>7.400002e+14</td>\n      <td>NaN</td>\n      <td>NaN</td>\n      <td>-104757.00</td>\n      <td>2</td>\n      <td>-1</td>\n      <td>NaN</td>\n      <td>11</td>\n      <td>2020-01-02 13:48:39</td>\n    </tr>\n    <tr>\n      <th>70</th>\n      <td>4G</td>\n      <td>EC-Movistar(Telefónica)-00</td>\n      <td>700</td>\n      <td>7.400001e+14</td>\n      <td>NaN</td>\n      <td>NaN</td>\n      <td>-116319.00</td>\n      <td>2</td>\n      <td>9616</td>\n      <td>NaN</td>\n      <td>1</td>\n      <td>2020-01-02 10:05:15</td>\n    </tr>\n    <tr>\n      <th>71</th>\n      <td>4G</td>\n      <td>EC-Movistar(Telefónica)-00</td>\n      <td>700</td>\n      <td>7.400001e+14</td>\n      <td>NaN</td>\n      <td>NaN</td>\n      <td>-110616.00</td>\n      <td>2</td>\n      <td>9616</td>\n      <td>NaN</td>\n      <td>3</td>\n      <td>2020-01-02 13:49:10</td>\n    </tr>\n    <tr>\n      <th>72</th>\n      <td>4G</td>\n      <td>EC-Movistar(Telefónica)-00</td>\n      <td>700</td>\n      <td>7.400001e+14</td>\n      <td>NaN</td>\n      <td>NaN</td>\n      <td>-104366.00</td>\n      <td>2</td>\n      <td>9616</td>\n      <td>NaN</td>\n      <td>1</td>\n      <td>2020-01-02 10:04:13</td>\n    </tr>\n    <tr>\n      <th>73</th>\n      <td>4G</td>\n      <td>EC-Movistar(Telefónica)-00</td>\n      <td>700</td>\n      <td>7.400001e+14</td>\n      <td>NaN</td>\n      <td>NaN</td>\n      <td>-112.10</td>\n      <td>2</td>\n      <td>9616</td>\n      <td>NaN</td>\n      <td>7</td>\n      <td>2020-01-02 11:46:25</td>\n    </tr>\n  </tbody>\n</table>\n<p>3627 rows × 12 columns</p>\n</div>",
      "text/plain": "   RAT                    OPERATOR  CHANNEL          IMSI          IMEI  \\\n0   2G  EC-Claro(América Móvil)-01      144  7.400202e+14  3.594591e+14   \n1   2G  EC-Claro(América Móvil)-01      144  7.400102e+14  3.578151e+14   \n2   2G  EC-Claro(América Móvil)-01      144  7.400102e+14  8.636970e+14   \n3   2G  EC-Claro(América Móvil)-01      144  7.400101e+14  3.570841e+14   \n4   2G  EC-Claro(América Móvil)-01      144  7.400102e+14  3.580991e+14   \n5   2G  EC-Claro(América Móvil)-01      144  7.400102e+14  3.516281e+14   \n6   2G  EC-Claro(América Móvil)-01      144  7.400102e+14  3.542621e+14   \n7   2G  EC-Claro(América Móvil)-01      144  7.400102e+14  1.396101e+13   \n8   2G  EC-Claro(América Móvil)-01      144  7.400102e+14  3.572871e+14   \n9   2G  EC-Claro(América Móvil)-01      144  7.400101e+14  1.138800e+13   \n10  2G  EC-Claro(América Móvil)-01      144  7.400102e+14  3.568891e+14   \n11  2G  EC-Claro(América Móvil)-01      144  7.400102e+14  3.525171e+14   \n12  2G  EC-Claro(América Móvil)-01      144  7.400102e+14  3.519671e+14   \n13  2G  EC-Claro(América Móvil)-01      144  7.400102e+14  3.568131e+14   \n14  2G  EC-Claro(América Móvil)-01      144  7.400102e+14  3.541691e+14   \n15  2G  EC-Claro(América Móvil)-01      144  7.400102e+14  3.564301e+14   \n16  2G  EC-Claro(América Móvil)-01      144  7.400102e+14  8.687890e+14   \n17  2G  EC-Claro(América Móvil)-01      144  7.400202e+14  3.529361e+14   \n18  2G  EC-Claro(América Móvil)-01      144  7.400102e+14  3.582841e+14   \n19  2G  EC-Claro(América Móvil)-01      144  7.400102e+14  3.582481e+14   \n20  2G  EC-Claro(América Móvil)-01      144  7.400102e+14  3.593931e+14   \n21  2G  EC-Claro(América Móvil)-01      144  7.400102e+14  3.577151e+14   \n22  2G  EC-Claro(América Móvil)-01      144  7.400102e+14  3.582151e+14   \n23  2G  EC-Claro(América Móvil)-01      144  7.400102e+14  3.545531e+14   \n24  2G  EC-Claro(América Móvil)-01      144  7.400102e+14  3.542781e+14   \n25  2G  EC-Claro(América Móvil)-01      144  7.400102e+14  3.570841e+14   \n26  2G  EC-Claro(América Móvil)-01      144  7.400102e+14  3.526491e+14   \n27  2G  EC-Claro(América Móvil)-01      144  7.400102e+14  3.558341e+14   \n28  2G  EC-Claro(América Móvil)-01      144  7.400102e+14  3.518221e+14   \n29  2G  EC-Claro(América Móvil)-01      144  7.400202e+14  1.436501e+13   \n..  ..                         ...      ...           ...           ...   \n44  4G  EC-Claro(América Móvil)-01     2250  7.400102e+14           NaN   \n45  4G  EC-Claro(América Móvil)-01     2250  7.400102e+14           NaN   \n46  4G  EC-Claro(América Móvil)-01     2250  7.400102e+14           NaN   \n47  4G  EC-Claro(América Móvil)-01     2250  7.400102e+14           NaN   \n48  4G  EC-Claro(América Móvil)-01     2250  7.400102e+14           NaN   \n49  4G  EC-Claro(América Móvil)-01     2250  7.400102e+14           NaN   \n50  4G  EC-Claro(América Móvil)-01     2250  7.400102e+14           NaN   \n51  4G  EC-Claro(América Móvil)-01     2250  7.400102e+14           NaN   \n52  4G  EC-Claro(América Móvil)-01     2250  7.400102e+14           NaN   \n53  4G  EC-Claro(América Móvil)-01     2250  7.400102e+14           NaN   \n54  4G  EC-Claro(América Móvil)-01     2250  7.400102e+14           NaN   \n55  4G  EC-Claro(América Móvil)-01     2250  7.400102e+14           NaN   \n56  4G  EC-Claro(América Móvil)-01     2250  7.400102e+14           NaN   \n57  4G  EC-Claro(América Móvil)-01     2250  7.400102e+14           NaN   \n58  4G  EC-Claro(América Móvil)-01     2250  7.400102e+14           NaN   \n59  4G  EC-Claro(América Móvil)-01     2250  7.400102e+14           NaN   \n60  4G  EC-Claro(América Móvil)-01     2250  7.400102e+14           NaN   \n61  4G  EC-Claro(América Móvil)-01     2250  7.400102e+14           NaN   \n62  4G  EC-Movistar(Telefónica)-00      700  7.400102e+14           NaN   \n63  4G  EC-Movistar(Telefónica)-00      700  7.400002e+14           NaN   \n64  4G  EC-Movistar(Telefónica)-00      700  7.400001e+14           NaN   \n65  4G  EC-Movistar(Telefónica)-00      700  7.400001e+14           NaN   \n66  4G  EC-Movistar(Telefónica)-00      700  7.400002e+14           NaN   \n67  4G  EC-Movistar(Telefónica)-00      700  7.400001e+14           NaN   \n68  4G  EC-Movistar(Telefónica)-00      700  7.400002e+14           NaN   \n69  4G  EC-Movistar(Telefónica)-00      700  7.400002e+14           NaN   \n70  4G  EC-Movistar(Telefónica)-00      700  7.400001e+14           NaN   \n71  4G  EC-Movistar(Telefónica)-00      700  7.400001e+14           NaN   \n72  4G  EC-Movistar(Telefónica)-00      700  7.400001e+14           NaN   \n73  4G  EC-Movistar(Telefónica)-00      700  7.400001e+14           NaN   \n\n        TMSI   MS POWER  TA  LAST LAC  NAME  HITS           DATE-TIME  \n0   FFFFFFFF     -61.00   0     65534   NaN     1 2020-01-01 03:05:16  \n1   FFFFFFFF     -62.00   0     65534   NaN     1 2020-01-01 03:04:51  \n2   151D1A53     -66.00   0     50134   NaN     1 2020-01-01 02:55:06  \n3   97155956     -62.00   0     10228   NaN     1 2020-01-01 02:54:44  \n4   FFFFFFFF     -64.00   0     65534   NaN     1 2020-01-01 02:37:15  \n5   171EA43B     -63.00   0     10228   NaN     1 2020-01-01 02:36:04  \n6   AE082241     -60.00   0     10227   NaN     1 2020-01-01 02:23:45  \n7   190A62B1     -61.00   0     10228   NaN     1 2020-01-01 02:19:02  \n8   B60B0041     -62.00   0     10228   NaN     1 2020-01-01 02:15:32  \n9   FFFFFFFF     -61.00   0     65534   NaN     1 2020-01-01 02:14:41  \n10  871A0CAB     -64.00   0     10294   NaN     1 2019-12-31 23:50:11  \n11  FFFFFFFF     -62.00   0     65534   NaN     1 2019-12-31 23:48:48  \n12  371BFCE3     -65.00   0     10228   NaN     1 2019-12-31 23:47:34  \n13  FFFFFFFF     -63.00   0     65534   NaN     1 2019-12-31 23:45:31  \n14  3F1194F6     -65.00   0     10228   NaN     1 2019-12-31 23:45:05  \n15  870EE471     -62.00   0     10228   NaN     1 2019-12-31 23:43:38  \n16  3E17D7F6     -66.00   0     10228   NaN     1 2019-12-31 23:43:32  \n17  ADC2733D     -61.00   0     15251   NaN     5 2019-12-31 23:41:05  \n18  840E69A9     -63.00   0     10228   NaN     1 2019-12-31 23:37:53  \n19  FFFFFFFF     -65.00   0     65534   NaN     1 2019-12-31 23:30:19  \n20  81089989     -66.00   0     10228   NaN     1 2019-12-31 23:29:35  \n21  FFFFFFFF     -64.00   0     65534   NaN     1 2019-12-31 23:28:20  \n22  FFFFFFFF     -62.00   0     65534   NaN     1 2019-12-31 23:27:07  \n23  7F0A0879     -62.00   0     10228   NaN     1 2019-12-31 23:25:56  \n24  7C0B9241     -63.00   0     10228   NaN     1 2019-12-31 23:22:46  \n25  31115596     -60.00   0     10228   NaN     1 2019-12-31 23:21:55  \n26  741DA89B     -63.00   0     10228   NaN     1 2019-12-31 23:21:40  \n27  FFFFFFFF     -64.00   0     65534   NaN     1 2019-12-31 23:20:46  \n28  FFFFFFFF     -61.00   0     65534   NaN     1 2019-12-31 23:20:09  \n29  8D1EB453     -64.00   0     10228   NaN     1 2019-12-31 23:19:36  \n..       ...        ...  ..       ...   ...   ...                 ...  \n44       NaN -114835.00   2     60136   NaN     9 2020-01-02 10:00:33  \n45       NaN -113975.00   2     60134   NaN     9 2020-01-02 09:57:25  \n46       NaN -106944.00   2     60134   NaN     1 2020-01-02 08:20:10  \n47       NaN -114444.00   2     60134   NaN     1 2020-01-02 08:17:57  \n48       NaN -953034.00   2     60134   NaN    10 2020-01-02 09:00:21  \n49       NaN -120694.00   2     60134   NaN     1 2020-01-02 08:11:52  \n50       NaN -107725.00   2     60134   NaN     1 2020-01-02 08:07:48  \n51       NaN -105303.00   2     60134   NaN     1 2020-01-02 08:07:37  \n52       NaN -116397.00   2     60134   NaN     4 2020-01-02 08:39:47  \n53       NaN -114991.00   2     60134   NaN     1 2020-01-02 08:05:33  \n54       NaN -109132.00   2     60134   NaN     2 2020-01-02 09:29:47  \n55       NaN -111163.00   2     60134   NaN     2 2020-01-02 08:03:21  \n56       NaN -937409.00   2        -1   NaN     3 2020-01-02 09:03:44  \n57       NaN -110694.00   2     60134   NaN     3 2020-01-02 09:28:30  \n58       NaN    -109.21   2     60134   NaN     4 2020-01-02 08:52:17  \n59       NaN -107882.00   2     60134   NaN     1 2020-01-02 08:01:59  \n60       NaN -108038.00   2     60134   NaN     1 2020-01-02 08:00:31  \n61       NaN -112491.00   2     60134   NaN     1 2020-01-02 08:00:27  \n62       NaN -109991.00   2     60134   NaN     1 2020-01-02 10:29:06  \n63       NaN    -100.85   2        -1   NaN     5 2020-01-02 11:44:59  \n64       NaN -104678.00   2        -1   NaN     1 2020-01-02 10:18:30  \n65       NaN -106241.00   2      9616   NaN     6 2020-01-02 12:07:11  \n66       NaN -102022.00   2      9616   NaN     5 2020-01-02 13:48:47  \n67       NaN -103116.00   2      9616   NaN    15 2020-01-02 13:49:05  \n68       NaN -117413.00   2      9616   NaN     1 2020-01-02 10:05:28  \n69       NaN -104757.00   2        -1   NaN    11 2020-01-02 13:48:39  \n70       NaN -116319.00   2      9616   NaN     1 2020-01-02 10:05:15  \n71       NaN -110616.00   2      9616   NaN     3 2020-01-02 13:49:10  \n72       NaN -104366.00   2      9616   NaN     1 2020-01-02 10:04:13  \n73       NaN    -112.10   2      9616   NaN     7 2020-01-02 11:46:25  \n\n[3627 rows x 12 columns]"
     },
     "execution_count": 48,
     "metadata": {},
     "output_type": "execute_result"
    }
   ],
   "source": [
    "allData"
   ]
  },
  {
   "cell_type": "code",
   "execution_count": null,
   "metadata": {},
   "outputs": [],
   "source": [
    "allData.groupby('RAT').count()"
   ]
  },
  {
   "cell_type": "code",
   "execution_count": null,
   "metadata": {},
   "outputs": [],
   "source": [
    "allData.info()"
   ]
  },
  {
   "cell_type": "code",
   "execution_count": null,
   "metadata": {},
   "outputs": [],
   "source": [
    "allData.groupby('IMSI').count()"
   ]
  },
  {
   "cell_type": "code",
   "execution_count": null,
   "metadata": {},
   "outputs": [],
   "source": [
    "allData.groupby('IMSI').count()['IMEI']"
   ]
  },
  {
   "cell_type": "code",
   "execution_count": null,
   "metadata": {},
   "outputs": [],
   "source": [
    "allData.groupby('IMSI').count()['IMEI'].sort_values(ascending=False).head(20).plot.bar()"
   ]
  },
  {
   "cell_type": "code",
   "execution_count": null,
   "metadata": {},
   "outputs": [],
   "source": []
  }
 ],
 "metadata": {
  "kernelspec": {
   "display_name": "Python 3",
   "language": "python",
   "name": "python3"
  },
  "language_info": {
   "codemirror_mode": {
    "name": "ipython",
    "version": 3
   },
   "file_extension": ".py",
   "mimetype": "text/x-python",
   "name": "python",
   "nbconvert_exporter": "python",
   "pygments_lexer": "ipython3",
   "version": "3.7.3-final"
  }
 },
 "nbformat": 4,
 "nbformat_minor": 2
}