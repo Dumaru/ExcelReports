{
 "cells": [
  {
   "cell_type": "markdown",
   "execution_count": null,
   "metadata": {},
   "outputs": [],
   "source": [
    "Info Links: https://code.visualstudio.com/docs/python/jupyter-support  \n",
    "https://stackoverflow.com/questions/35226904/convert-spanish-date-in-string-format  \n",
    "https://stackabuse.com/how-to-format-dates-in-python/  \n",
    "Dateparser docs:https://dateparser.readthedocs.io/en/latest/  \n",
    "\n",
    "Threads:https://stackoverflow.com/questions/34386561/pyqt-not-responding  \n",
    "Thread and return:https://stackoverflow.com/questions/6893968/how-to-get-the-return-value-from-a-thread-in-python \n",
    "\n",
    "\n",
    "Tuto threads:http://www.laurentluce.com/posts/python-threads-synchronization-locks-rlocks-semaphores-conditions-events-and-queues/  \n",
    "Threads PyQT5: https://stackoverflow.com/questions/42357656/pyqt5-timers-cannot-be-started-from-another-thread-error-when-changing-size-of\n",
    "\n",
    "\n",
    "RESPUESTA FINAL: https://stackoverflow.com/questions/42357656/pyqt5-timers-cannot-be-started-from-another-thread-error-when-changing-size-of\n",
    "\n",
    "\n",
    "Problema cierre de ventanas por que los recolecta pa basura: https://www.reddit.com/r/Python/comments/7cml65/pyqt_second_screen_closes_immediately/\n"
   ]
  },
  {
   "cell_type": "markdown",
   "execution_count": null,
   "metadata": {},
   "outputs": [],
   "source": [
    "## Imports the necessary libraries"
   ]
  },
  {
   "cell_type": "code",
   "execution_count": 1,
   "metadata": {},
   "outputs": [],
   "source": [
    "import os\n",
    "import pandas as pd\n",
    "import numpy as np"
   ]
  },
  {
   "cell_type": "code",
   "execution_count": 2,
   "metadata": {},
   "outputs": [
    {
     "data": {
      "text/plain": "['Dic312019.xlsx', 'Ene022020.xlsx']"
     },
     "execution_count": 2,
     "metadata": {},
     "output_type": "execute_result"
    }
   ],
   "source": [
    "# Gets all the files from the dir\n",
    "baseDir = r\"C:\\\\Users\\\\robin\\\\Google Drive\\\\WORK\\\\ExcelsStuff\\\\files\"\n",
    "fileNames = []\n",
    "for filename in os.listdir(baseDir):\n",
    "    if(filename.startswith('~$')):\n",
    "        continue\n",
    "    fileNames.append(filename)\n",
    "fileNames"
   ]
  },
  {
   "cell_type": "markdown",
   "execution_count": null,
   "metadata": {},
   "outputs": [],
   "source": [
    "## Reads each excel file and saves all the sheets into a list with the specified columns"
   ]
  },
  {
   "cell_type": "code",
   "execution_count": 3,
   "metadata": {},
   "outputs": [
    {
     "data": {
      "text/plain": "2"
     },
     "execution_count": 3,
     "metadata": {},
     "output_type": "execute_result"
    }
   ],
   "source": [
    "\n",
    "dfs = []\n",
    "COLS = [\"RAT\",\"OPERATOR\",\"CHANNEL\",\"IMEI\",\"IMSI\",\"TMSI\",\n",
    "        \"MS POWER\",\"TA\",\"LAST LAC\",\"NAME\",\"HITS\",\"DATE-TIME\"]\n",
    "for filename in fileNames:\n",
    "    # dfs.append(pd.read_excel(f\"{baseDir}\\\\{filename}\"))\n",
    "    temd_dfs = [pd.read_excel(f\"{baseDir}\\\\{filename}\", sheet_name=0, usecols=COLS), #2G\n",
    "                pd.read_excel(f\"{baseDir}\\\\{filename}\", sheet_name=1, usecols=COLS), #3G\n",
    "                pd.read_excel(f\"{baseDir}\\\\{filename}\", sheet_name=2, usecols=COLS)] #4G\n",
    "    dfs.append(temd_dfs)\n",
    "len(dfs)"
   ]
  },
  {
   "cell_type": "code",
   "execution_count": 4,
   "metadata": {},
   "outputs": [
    {
     "data": {
      "text/html": "<div>\n<style scoped>\n    .dataframe tbody tr th:only-of-type {\n        vertical-align: middle;\n    }\n\n    .dataframe tbody tr th {\n        vertical-align: top;\n    }\n\n    .dataframe thead th {\n        text-align: right;\n    }\n</style>\n<table border=\"1\" class=\"dataframe\">\n  <thead>\n    <tr style=\"text-align: right;\">\n      <th></th>\n      <th>RAT</th>\n      <th>OPERATOR</th>\n      <th>CHANNEL</th>\n      <th>IMSI</th>\n      <th>IMEI</th>\n      <th>TMSI</th>\n      <th>MS POWER</th>\n      <th>TA</th>\n      <th>LAST LAC</th>\n      <th>NAME</th>\n      <th>HITS</th>\n      <th>DATE-TIME</th>\n    </tr>\n  </thead>\n  <tbody>\n    <tr>\n      <td>0</td>\n      <td>2G</td>\n      <td>EC-Claro(América Móvil)-01</td>\n      <td>144</td>\n      <td>740020170411491</td>\n      <td>359459077681588</td>\n      <td>FFFFFFFF</td>\n      <td>-61</td>\n      <td>0</td>\n      <td>65534</td>\n      <td>NaN</td>\n      <td>1</td>\n      <td>mi. ene. 1 03:05:16 2020</td>\n    </tr>\n    <tr>\n      <td>1</td>\n      <td>2G</td>\n      <td>EC-Claro(América Móvil)-01</td>\n      <td>144</td>\n      <td>740010164127419</td>\n      <td>357815081319451</td>\n      <td>FFFFFFFF</td>\n      <td>-62</td>\n      <td>0</td>\n      <td>65534</td>\n      <td>NaN</td>\n      <td>1</td>\n      <td>mi. ene. 1 03:04:51 2020</td>\n    </tr>\n    <tr>\n      <td>2</td>\n      <td>2G</td>\n      <td>EC-Claro(América Móvil)-01</td>\n      <td>144</td>\n      <td>740010177429066</td>\n      <td>863697045358438</td>\n      <td>151D1A53</td>\n      <td>-66</td>\n      <td>0</td>\n      <td>50134</td>\n      <td>NaN</td>\n      <td>1</td>\n      <td>mi. ene. 1 02:55:06 2020</td>\n    </tr>\n    <tr>\n      <td>3</td>\n      <td>2G</td>\n      <td>EC-Claro(América Móvil)-01</td>\n      <td>144</td>\n      <td>740010120727910</td>\n      <td>357084081525001</td>\n      <td>97155956</td>\n      <td>-62</td>\n      <td>0</td>\n      <td>10228</td>\n      <td>NaN</td>\n      <td>1</td>\n      <td>mi. ene. 1 02:54:44 2020</td>\n    </tr>\n    <tr>\n      <td>4</td>\n      <td>2G</td>\n      <td>EC-Claro(América Móvil)-01</td>\n      <td>144</td>\n      <td>740010180400328</td>\n      <td>358099104079272</td>\n      <td>FFFFFFFF</td>\n      <td>-64</td>\n      <td>0</td>\n      <td>65534</td>\n      <td>NaN</td>\n      <td>1</td>\n      <td>mi. ene. 1 02:37:15 2020</td>\n    </tr>\n  </tbody>\n</table>\n</div>",
      "text/plain": "  RAT                    OPERATOR  CHANNEL             IMSI             IMEI  \\\n0  2G  EC-Claro(América Móvil)-01      144  740020170411491  359459077681588   \n1  2G  EC-Claro(América Móvil)-01      144  740010164127419  357815081319451   \n2  2G  EC-Claro(América Móvil)-01      144  740010177429066  863697045358438   \n3  2G  EC-Claro(América Móvil)-01      144  740010120727910  357084081525001   \n4  2G  EC-Claro(América Móvil)-01      144  740010180400328  358099104079272   \n\n       TMSI  MS POWER  TA  LAST LAC  NAME  HITS                 DATE-TIME  \n0  FFFFFFFF       -61   0     65534   NaN     1  mi. ene. 1 03:05:16 2020  \n1  FFFFFFFF       -62   0     65534   NaN     1  mi. ene. 1 03:04:51 2020  \n2  151D1A53       -66   0     50134   NaN     1  mi. ene. 1 02:55:06 2020  \n3  97155956       -62   0     10228   NaN     1  mi. ene. 1 02:54:44 2020  \n4  FFFFFFFF       -64   0     65534   NaN     1  mi. ene. 1 02:37:15 2020  "
     },
     "execution_count": 4,
     "metadata": {},
     "output_type": "execute_result"
    }
   ],
   "source": [
    "dfs[0][0].head()"
   ]
  },
  {
   "cell_type": "code",
   "execution_count": 8,
   "metadata": {},
   "outputs": [
    {
     "data": {
      "text/plain": "3"
     },
     "execution_count": 8,
     "metadata": {},
     "output_type": "execute_result"
    }
   ],
   "source": [
    "# The dfs[0] means the excel file at index 0 with the 3 pages as dataframes\n",
    "len(dfs[0])\n",
    "# The fisrt index is a list of dataframes that has everydataframe"
   ]
  },
  {
   "cell_type": "code",
   "execution_count": 5,
   "metadata": {},
   "outputs": [
    {
     "data": {
      "text/plain": "6"
     },
     "execution_count": 5,
     "metadata": {},
     "output_type": "execute_result"
    }
   ],
   "source": [
    "len([df for dflist in dfs for df in dflist])"
   ]
  },
  {
   "cell_type": "code",
   "execution_count": 6,
   "metadata": {},
   "outputs": [
    {
     "name": "stdout",
     "output_type": "stream",
     "text": "<class 'pandas.core.frame.DataFrame'>\nInt64Index: 3627 entries, 0 to 73\nData columns (total 12 columns):\nRAT          3627 non-null object\nOPERATOR     3627 non-null object\nCHANNEL      3627 non-null int64\nIMSI         3524 non-null float64\nIMEI         3528 non-null float64\nTMSI         3528 non-null object\nMS POWER     3627 non-null float64\nTA           3627 non-null int64\nLAST LAC     3627 non-null int64\nNAME         0 non-null float64\nHITS         3627 non-null int64\nDATE-TIME    3627 non-null object\ndtypes: float64(4), int64(4), object(4)\nmemory usage: 368.4+ KB\n"
    }
   ],
   "source": [
    "allData = pd.concat([df for dflist in dfs for df in dflist])\n",
    "allData.info() # 3633-6 filas sin contar los headers"
   ]
  },
  {
   "cell_type": "code",
   "execution_count": 65,
   "metadata": {},
   "outputs": [],
   "source": [
    "# Renaming columns\n",
    "cols = allData.columns\n",
    "cols = cols.map(lambda x: x.replace(' ', '_').strip() if isinstance(x, (str, )) else x)\n",
    "allData.columns = cols"
   ]
  },
  {
   "cell_type": "code",
   "execution_count": 66,
   "metadata": {},
   "outputs": [
    {
     "data": {
      "text/html": "<div>\n<style scoped>\n    .dataframe tbody tr th:only-of-type {\n        vertical-align: middle;\n    }\n\n    .dataframe tbody tr th {\n        vertical-align: top;\n    }\n\n    .dataframe thead th {\n        text-align: right;\n    }\n</style>\n<table border=\"1\" class=\"dataframe\">\n  <thead>\n    <tr style=\"text-align: right;\">\n      <th></th>\n      <th>RAT</th>\n      <th>OPERATOR</th>\n      <th>CHANNEL</th>\n      <th>IMSI</th>\n      <th>IMEI</th>\n      <th>TMSI</th>\n      <th>MS_POWER</th>\n      <th>TA</th>\n      <th>LAST_LAC</th>\n      <th>NAME</th>\n      <th>HITS</th>\n      <th>DATE</th>\n      <th>TIME</th>\n    </tr>\n  </thead>\n  <tbody>\n    <tr>\n      <td>724</td>\n      <td>3G</td>\n      <td>EC-Claro(América Móvil)-01</td>\n      <td>4387</td>\n      <td>7.400102e+14</td>\n      <td>8.612500e+14</td>\n      <td>BA129B0E</td>\n      <td>-94.0</td>\n      <td>3</td>\n      <td>50134</td>\n      <td>NaN</td>\n      <td>1</td>\n      <td>2019-12-31</td>\n      <td>15:24:18</td>\n    </tr>\n    <tr>\n      <td>292</td>\n      <td>3G</td>\n      <td>EC-Claro(América Móvil)-01</td>\n      <td>4387</td>\n      <td>7.400002e+14</td>\n      <td>3.517591e+14</td>\n      <td>A4C47315</td>\n      <td>-95.0</td>\n      <td>3</td>\n      <td>15251</td>\n      <td>NaN</td>\n      <td>1</td>\n      <td>2019-12-31</td>\n      <td>16:59:42</td>\n    </tr>\n    <tr>\n      <td>291</td>\n      <td>3G</td>\n      <td>EC-Claro(América Móvil)-01</td>\n      <td>587</td>\n      <td>7.400002e+14</td>\n      <td>3.517591e+14</td>\n      <td>A4C47315</td>\n      <td>-105.0</td>\n      <td>3</td>\n      <td>15251</td>\n      <td>NaN</td>\n      <td>1</td>\n      <td>2019-12-31</td>\n      <td>17:00:04</td>\n    </tr>\n    <tr>\n      <td>290</td>\n      <td>3G</td>\n      <td>EC-Claro(América Móvil)-01</td>\n      <td>587</td>\n      <td>7.400102e+14</td>\n      <td>3.557471e+14</td>\n      <td>FC483124</td>\n      <td>-66.0</td>\n      <td>3</td>\n      <td>50134</td>\n      <td>NaN</td>\n      <td>1</td>\n      <td>2019-12-31</td>\n      <td>17:00:40</td>\n    </tr>\n    <tr>\n      <td>289</td>\n      <td>3G</td>\n      <td>EC-Claro(América Móvil)-01</td>\n      <td>4387</td>\n      <td>7.400102e+14</td>\n      <td>8.648850e+14</td>\n      <td>DA430032</td>\n      <td>-43.0</td>\n      <td>3</td>\n      <td>50134</td>\n      <td>NaN</td>\n      <td>1</td>\n      <td>2019-12-31</td>\n      <td>17:00:43</td>\n    </tr>\n  </tbody>\n</table>\n</div>",
      "text/plain": "    RAT                    OPERATOR  CHANNEL          IMSI          IMEI  \\\n724  3G  EC-Claro(América Móvil)-01     4387  7.400102e+14  8.612500e+14   \n292  3G  EC-Claro(América Móvil)-01     4387  7.400002e+14  3.517591e+14   \n291  3G  EC-Claro(América Móvil)-01      587  7.400002e+14  3.517591e+14   \n290  3G  EC-Claro(América Móvil)-01      587  7.400102e+14  3.557471e+14   \n289  3G  EC-Claro(América Móvil)-01     4387  7.400102e+14  8.648850e+14   \n\n         TMSI  MS_POWER  TA  LAST_LAC  NAME  HITS        DATE      TIME  \n724  BA129B0E     -94.0   3     50134   NaN     1  2019-12-31  15:24:18  \n292  A4C47315     -95.0   3     15251   NaN     1  2019-12-31  16:59:42  \n291  A4C47315    -105.0   3     15251   NaN     1  2019-12-31  17:00:04  \n290  FC483124     -66.0   3     50134   NaN     1  2019-12-31  17:00:40  \n289  DA430032     -43.0   3     50134   NaN     1  2019-12-31  17:00:43  "
     },
     "execution_count": 66,
     "metadata": {},
     "output_type": "execute_result"
    }
   ],
   "source": [
    "allData.head()"
   ]
  },
  {
   "cell_type": "markdown",
   "execution_count": null,
   "metadata": {},
   "outputs": [],
   "source": [
    "### Returns a datetime object from a string representation"
   ]
  },
  {
   "cell_type": "code",
   "execution_count": 9,
   "metadata": {},
   "outputs": [
    {
     "name": "stdout",
     "output_type": "stream",
     "text": "2019-12-31 23:50:11\n"
    },
    {
     "data": {
      "text/plain": "pandas._libs.tslibs.timestamps.Timestamp"
     },
     "execution_count": 9,
     "metadata": {},
     "output_type": "execute_result"
    }
   ],
   "source": [
    "def getMonthInt(strMonth):\n",
    "    if(strMonth.lower() in [\"ene\"]):\n",
    "        return 1\n",
    "    elif(strMonth.lower() in [\"feb\"]):\n",
    "        return 2\n",
    "    elif(strMonth.lower() in [\"mar\"]):\n",
    "        return 3\n",
    "    elif(strMonth.lower() in [\"abr\"]):\n",
    "        return 4\n",
    "    elif(strMonth.lower() in [\"may\"]):\n",
    "        return 5\n",
    "    elif(strMonth.lower() in [\"jun\"]):\n",
    "        return 6\n",
    "    elif(strMonth.lower() in [\"jul\"]):\n",
    "        return 7\n",
    "    elif(strMonth.lower() in [\"ago\"]):\n",
    "        return 8\n",
    "    elif(strMonth.lower() in [\"sep\"]):\n",
    "        return 9\n",
    "    elif(strMonth.lower() in [\"oct\"]):\n",
    "        return 10\n",
    "    elif(strMonth.lower() in [\"nov\"]):\n",
    "        return 11\n",
    "    elif(strMonth.lower() in [\"dic\"]):\n",
    "        return 12\n",
    "\n",
    "def toDatetime(dateStr):\n",
    "    # Date string example-> ma. dic. 31 23:50:11 2019\n",
    "    _, month,t_year = list(map(str.strip, dateStr.split('.')))\n",
    "    day, t, year = t_year.split(' ') \n",
    "    month = getMonthInt(month)\n",
    "    dateStr = f\"{year}-{month}-{day} {t}\"\n",
    "    return pd.to_datetime(dateStr, format=\"%Y-%m-%d %X\")\n",
    "result = toDatetime(\"ma. dic. 31 23:50:11 2019\")\n",
    "print(result)\n",
    "type(result)"
   ]
  },
  {
   "cell_type": "code",
   "execution_count": 10,
   "metadata": {},
   "outputs": [
    {
     "data": {
      "text/html": "<div>\n<style scoped>\n    .dataframe tbody tr th:only-of-type {\n        vertical-align: middle;\n    }\n\n    .dataframe tbody tr th {\n        vertical-align: top;\n    }\n\n    .dataframe thead th {\n        text-align: right;\n    }\n</style>\n<table border=\"1\" class=\"dataframe\">\n  <thead>\n    <tr style=\"text-align: right;\">\n      <th></th>\n      <th>RAT</th>\n      <th>OPERATOR</th>\n      <th>CHANNEL</th>\n      <th>IMSI</th>\n      <th>IMEI</th>\n      <th>TMSI</th>\n      <th>MS POWER</th>\n      <th>TA</th>\n      <th>LAST LAC</th>\n      <th>NAME</th>\n      <th>HITS</th>\n      <th>DATE-TIME</th>\n    </tr>\n  </thead>\n  <tbody>\n    <tr>\n      <td>0</td>\n      <td>2G</td>\n      <td>EC-Claro(América Móvil)-01</td>\n      <td>144</td>\n      <td>7.400202e+14</td>\n      <td>3.594591e+14</td>\n      <td>FFFFFFFF</td>\n      <td>-61.0</td>\n      <td>0</td>\n      <td>65534</td>\n      <td>NaN</td>\n      <td>1</td>\n      <td>2020-01-01 03:05:16</td>\n    </tr>\n    <tr>\n      <td>1</td>\n      <td>2G</td>\n      <td>EC-Claro(América Móvil)-01</td>\n      <td>144</td>\n      <td>7.400102e+14</td>\n      <td>3.578151e+14</td>\n      <td>FFFFFFFF</td>\n      <td>-62.0</td>\n      <td>0</td>\n      <td>65534</td>\n      <td>NaN</td>\n      <td>1</td>\n      <td>2020-01-01 03:04:51</td>\n    </tr>\n  </tbody>\n</table>\n</div>",
      "text/plain": "  RAT                    OPERATOR  CHANNEL          IMSI          IMEI  \\\n0  2G  EC-Claro(América Móvil)-01      144  7.400202e+14  3.594591e+14   \n1  2G  EC-Claro(América Móvil)-01      144  7.400102e+14  3.578151e+14   \n\n       TMSI  MS POWER  TA  LAST LAC  NAME  HITS           DATE-TIME  \n0  FFFFFFFF     -61.0   0     65534   NaN     1 2020-01-01 03:05:16  \n1  FFFFFFFF     -62.0   0     65534   NaN     1 2020-01-01 03:04:51  "
     },
     "execution_count": 10,
     "metadata": {},
     "output_type": "execute_result"
    }
   ],
   "source": [
    "allData['DATE-TIME'] = allData['DATE-TIME'].apply(toDatetime)\n",
    "allData.head(2)"
   ]
  },
  {
   "cell_type": "code",
   "execution_count": 11,
   "metadata": {},
   "outputs": [],
   "source": [
    "allData['DATE'] = pd.to_datetime(allData['DATE-TIME'], format=\"%Y-%m-%d\").dt.date\n",
    "allData['TIME'] = pd.to_datetime(allData['DATE-TIME']).dt.time\n",
    "allData.sort_values(by=[\"DATE\"], inplace=True, ascending=True)"
   ]
  },
  {
   "cell_type": "code",
   "execution_count": 12,
   "metadata": {},
   "outputs": [],
   "source": [
    "allData.drop('DATE-TIME', axis=1, inplace=True)"
   ]
  },
  {
   "cell_type": "code",
   "execution_count": 13,
   "metadata": {},
   "outputs": [
    {
     "data": {
      "text/html": "<div>\n<style scoped>\n    .dataframe tbody tr th:only-of-type {\n        vertical-align: middle;\n    }\n\n    .dataframe tbody tr th {\n        vertical-align: top;\n    }\n\n    .dataframe thead th {\n        text-align: right;\n    }\n</style>\n<table border=\"1\" class=\"dataframe\">\n  <thead>\n    <tr style=\"text-align: right;\">\n      <th></th>\n      <th>RAT</th>\n      <th>OPERATOR</th>\n      <th>CHANNEL</th>\n      <th>IMSI</th>\n      <th>IMEI</th>\n      <th>TMSI</th>\n      <th>MS POWER</th>\n      <th>TA</th>\n      <th>LAST LAC</th>\n      <th>NAME</th>\n      <th>HITS</th>\n      <th>DATE</th>\n      <th>TIME</th>\n    </tr>\n  </thead>\n  <tbody>\n    <tr>\n      <td>724</td>\n      <td>3G</td>\n      <td>EC-Claro(América Móvil)-01</td>\n      <td>4387</td>\n      <td>7.400102e+14</td>\n      <td>8.612500e+14</td>\n      <td>BA129B0E</td>\n      <td>-94.0</td>\n      <td>3</td>\n      <td>50134</td>\n      <td>NaN</td>\n      <td>1</td>\n      <td>2019-12-31</td>\n      <td>15:24:18</td>\n    </tr>\n    <tr>\n      <td>292</td>\n      <td>3G</td>\n      <td>EC-Claro(América Móvil)-01</td>\n      <td>4387</td>\n      <td>7.400002e+14</td>\n      <td>3.517591e+14</td>\n      <td>A4C47315</td>\n      <td>-95.0</td>\n      <td>3</td>\n      <td>15251</td>\n      <td>NaN</td>\n      <td>1</td>\n      <td>2019-12-31</td>\n      <td>16:59:42</td>\n    </tr>\n  </tbody>\n</table>\n</div>",
      "text/plain": "    RAT                    OPERATOR  CHANNEL          IMSI          IMEI  \\\n724  3G  EC-Claro(América Móvil)-01     4387  7.400102e+14  8.612500e+14   \n292  3G  EC-Claro(América Móvil)-01     4387  7.400002e+14  3.517591e+14   \n\n         TMSI  MS POWER  TA  LAST LAC  NAME  HITS        DATE      TIME  \n724  BA129B0E     -94.0   3     50134   NaN     1  2019-12-31  15:24:18  \n292  A4C47315     -95.0   3     15251   NaN     1  2019-12-31  16:59:42  "
     },
     "execution_count": 13,
     "metadata": {},
     "output_type": "execute_result"
    }
   ],
   "source": [
    "allData.head(2)"
   ]
  },
  {
   "cell_type": "code",
   "execution_count": 14,
   "metadata": {},
   "outputs": [
    {
     "data": {
      "text/html": "<div>\n<style scoped>\n    .dataframe tbody tr th:only-of-type {\n        vertical-align: middle;\n    }\n\n    .dataframe tbody tr th {\n        vertical-align: top;\n    }\n\n    .dataframe thead th {\n        text-align: right;\n    }\n</style>\n<table border=\"1\" class=\"dataframe\">\n  <thead>\n    <tr style=\"text-align: right;\">\n      <th></th>\n      <th>OPERATOR</th>\n      <th>CHANNEL</th>\n      <th>IMSI</th>\n      <th>IMEI</th>\n      <th>TMSI</th>\n      <th>MS POWER</th>\n      <th>TA</th>\n      <th>LAST LAC</th>\n      <th>NAME</th>\n      <th>HITS</th>\n      <th>DATE</th>\n      <th>TIME</th>\n    </tr>\n    <tr>\n      <th>RAT</th>\n      <th></th>\n      <th></th>\n      <th></th>\n      <th></th>\n      <th></th>\n      <th></th>\n      <th></th>\n      <th></th>\n      <th></th>\n      <th></th>\n      <th></th>\n      <th></th>\n    </tr>\n  </thead>\n  <tbody>\n    <tr>\n      <td>2G</td>\n      <td>1457</td>\n      <td>1457</td>\n      <td>1456</td>\n      <td>1457</td>\n      <td>1457</td>\n      <td>1457</td>\n      <td>1457</td>\n      <td>1457</td>\n      <td>0</td>\n      <td>1457</td>\n      <td>1457</td>\n      <td>1457</td>\n    </tr>\n    <tr>\n      <td>3G</td>\n      <td>2071</td>\n      <td>2071</td>\n      <td>1969</td>\n      <td>2071</td>\n      <td>2071</td>\n      <td>2071</td>\n      <td>2071</td>\n      <td>2071</td>\n      <td>0</td>\n      <td>2071</td>\n      <td>2071</td>\n      <td>2071</td>\n    </tr>\n    <tr>\n      <td>4G</td>\n      <td>99</td>\n      <td>99</td>\n      <td>99</td>\n      <td>0</td>\n      <td>0</td>\n      <td>99</td>\n      <td>99</td>\n      <td>99</td>\n      <td>0</td>\n      <td>99</td>\n      <td>99</td>\n      <td>99</td>\n    </tr>\n  </tbody>\n</table>\n</div>",
      "text/plain": "     OPERATOR  CHANNEL  IMSI  IMEI  TMSI  MS POWER    TA  LAST LAC  NAME  \\\nRAT                                                                        \n2G       1457     1457  1456  1457  1457      1457  1457      1457     0   \n3G       2071     2071  1969  2071  2071      2071  2071      2071     0   \n4G         99       99    99     0     0        99    99        99     0   \n\n     HITS  DATE  TIME  \nRAT                    \n2G   1457  1457  1457  \n3G   2071  2071  2071  \n4G     99    99    99  "
     },
     "execution_count": 14,
     "metadata": {},
     "output_type": "execute_result"
    }
   ],
   "source": [
    "allData.groupby('RAT').count()"
   ]
  },
  {
   "cell_type": "code",
   "execution_count": 15,
   "metadata": {},
   "outputs": [
    {
     "data": {
      "text/html": "<div>\n<style scoped>\n    .dataframe tbody tr th:only-of-type {\n        vertical-align: middle;\n    }\n\n    .dataframe tbody tr th {\n        vertical-align: top;\n    }\n\n    .dataframe thead th {\n        text-align: right;\n    }\n</style>\n<table border=\"1\" class=\"dataframe\">\n  <thead>\n    <tr style=\"text-align: right;\">\n      <th></th>\n      <th>RAT</th>\n      <th>OPERATOR</th>\n      <th>CHANNEL</th>\n      <th>IMSI</th>\n      <th>TMSI</th>\n      <th>MS POWER</th>\n      <th>TA</th>\n      <th>LAST LAC</th>\n      <th>NAME</th>\n      <th>HITS</th>\n      <th>DATE</th>\n      <th>TIME</th>\n    </tr>\n    <tr>\n      <th>IMEI</th>\n      <th></th>\n      <th></th>\n      <th></th>\n      <th></th>\n      <th></th>\n      <th></th>\n      <th></th>\n      <th></th>\n      <th></th>\n      <th></th>\n      <th></th>\n      <th></th>\n    </tr>\n  </thead>\n  <tbody>\n    <tr>\n      <td>1.037300e+13</td>\n      <td>1</td>\n      <td>1</td>\n      <td>1</td>\n      <td>1</td>\n      <td>1</td>\n      <td>1</td>\n      <td>1</td>\n      <td>1</td>\n      <td>0</td>\n      <td>1</td>\n      <td>1</td>\n      <td>1</td>\n    </tr>\n    <tr>\n      <td>1.099701e+13</td>\n      <td>1</td>\n      <td>1</td>\n      <td>1</td>\n      <td>1</td>\n      <td>1</td>\n      <td>1</td>\n      <td>1</td>\n      <td>1</td>\n      <td>0</td>\n      <td>1</td>\n      <td>1</td>\n      <td>1</td>\n    </tr>\n    <tr>\n      <td>1.122300e+13</td>\n      <td>1</td>\n      <td>1</td>\n      <td>1</td>\n      <td>1</td>\n      <td>1</td>\n      <td>1</td>\n      <td>1</td>\n      <td>1</td>\n      <td>0</td>\n      <td>1</td>\n      <td>1</td>\n      <td>1</td>\n    </tr>\n    <tr>\n      <td>1.138700e+13</td>\n      <td>1</td>\n      <td>1</td>\n      <td>1</td>\n      <td>1</td>\n      <td>1</td>\n      <td>1</td>\n      <td>1</td>\n      <td>1</td>\n      <td>0</td>\n      <td>1</td>\n      <td>1</td>\n      <td>1</td>\n    </tr>\n    <tr>\n      <td>1.138800e+13</td>\n      <td>1</td>\n      <td>1</td>\n      <td>1</td>\n      <td>1</td>\n      <td>1</td>\n      <td>1</td>\n      <td>1</td>\n      <td>1</td>\n      <td>0</td>\n      <td>1</td>\n      <td>1</td>\n      <td>1</td>\n    </tr>\n    <tr>\n      <td>...</td>\n      <td>...</td>\n      <td>...</td>\n      <td>...</td>\n      <td>...</td>\n      <td>...</td>\n      <td>...</td>\n      <td>...</td>\n      <td>...</td>\n      <td>...</td>\n      <td>...</td>\n      <td>...</td>\n      <td>...</td>\n    </tr>\n    <tr>\n      <td>8.699710e+14</td>\n      <td>2</td>\n      <td>2</td>\n      <td>2</td>\n      <td>2</td>\n      <td>2</td>\n      <td>2</td>\n      <td>2</td>\n      <td>2</td>\n      <td>0</td>\n      <td>2</td>\n      <td>2</td>\n      <td>2</td>\n    </tr>\n    <tr>\n      <td>8.699710e+14</td>\n      <td>3</td>\n      <td>3</td>\n      <td>3</td>\n      <td>2</td>\n      <td>3</td>\n      <td>3</td>\n      <td>3</td>\n      <td>3</td>\n      <td>0</td>\n      <td>3</td>\n      <td>3</td>\n      <td>3</td>\n    </tr>\n    <tr>\n      <td>8.699710e+14</td>\n      <td>1</td>\n      <td>1</td>\n      <td>1</td>\n      <td>1</td>\n      <td>1</td>\n      <td>1</td>\n      <td>1</td>\n      <td>1</td>\n      <td>0</td>\n      <td>1</td>\n      <td>1</td>\n      <td>1</td>\n    </tr>\n    <tr>\n      <td>8.699720e+14</td>\n      <td>1</td>\n      <td>1</td>\n      <td>1</td>\n      <td>1</td>\n      <td>1</td>\n      <td>1</td>\n      <td>1</td>\n      <td>1</td>\n      <td>0</td>\n      <td>1</td>\n      <td>1</td>\n      <td>1</td>\n    </tr>\n    <tr>\n      <td>9.900058e+14</td>\n      <td>1</td>\n      <td>1</td>\n      <td>1</td>\n      <td>1</td>\n      <td>1</td>\n      <td>1</td>\n      <td>1</td>\n      <td>1</td>\n      <td>0</td>\n      <td>1</td>\n      <td>1</td>\n      <td>1</td>\n    </tr>\n  </tbody>\n</table>\n<p>2260 rows × 12 columns</p>\n</div>",
      "text/plain": "              RAT  OPERATOR  CHANNEL  IMSI  TMSI  MS POWER  TA  LAST LAC  \\\nIMEI                                                                       \n1.037300e+13    1         1        1     1     1         1   1         1   \n1.099701e+13    1         1        1     1     1         1   1         1   \n1.122300e+13    1         1        1     1     1         1   1         1   \n1.138700e+13    1         1        1     1     1         1   1         1   \n1.138800e+13    1         1        1     1     1         1   1         1   \n...           ...       ...      ...   ...   ...       ...  ..       ...   \n8.699710e+14    2         2        2     2     2         2   2         2   \n8.699710e+14    3         3        3     2     3         3   3         3   \n8.699710e+14    1         1        1     1     1         1   1         1   \n8.699720e+14    1         1        1     1     1         1   1         1   \n9.900058e+14    1         1        1     1     1         1   1         1   \n\n              NAME  HITS  DATE  TIME  \nIMEI                                  \n1.037300e+13     0     1     1     1  \n1.099701e+13     0     1     1     1  \n1.122300e+13     0     1     1     1  \n1.138700e+13     0     1     1     1  \n1.138800e+13     0     1     1     1  \n...            ...   ...   ...   ...  \n8.699710e+14     0     2     2     2  \n8.699710e+14     0     3     3     3  \n8.699710e+14     0     1     1     1  \n8.699720e+14     0     1     1     1  \n9.900058e+14     0     1     1     1  \n\n[2260 rows x 12 columns]"
     },
     "execution_count": 15,
     "metadata": {},
     "output_type": "execute_result"
    }
   ],
   "source": [
    "allData.groupby('IMEI').count()"
   ]
  },
  {
   "cell_type": "code",
   "execution_count": 16,
   "metadata": {},
   "outputs": [
    {
     "data": {
      "text/plain": "IMEI\n1.037300e+13    1\n1.099701e+13    1\n1.122300e+13    1\n1.138700e+13    1\n1.138800e+13    1\n               ..\n8.699710e+14    2\n8.699710e+14    2\n8.699710e+14    1\n8.699720e+14    1\n9.900058e+14    1\nName: IMSI, Length: 2260, dtype: int64"
     },
     "execution_count": 16,
     "metadata": {},
     "output_type": "execute_result"
    }
   ],
   "source": [
    "allData.groupby('IMEI').count()['IMSI']"
   ]
  },
  {
   "cell_type": "code",
   "execution_count": 17,
   "metadata": {},
   "outputs": [
    {
     "data": {
      "text/plain": "<matplotlib.axes._subplots.AxesSubplot at 0x1afa5b6efc8>"
     },
     "execution_count": 17,
     "metadata": {},
     "output_type": "execute_result"
    }
   ],
   "source": [
    "allData.groupby('IMEI').count()['IMSI'].sort_values(ascending=False).head(20).plot.bar()"
   ]
  },
  {
   "cell_type": "code",
   "execution_count": 18,
   "metadata": {},
   "outputs": [
    {
     "ename": "NameError",
     "evalue": "name 'tiempoAvance' is not defined",
     "output_type": "error",
     "traceback": [
      "\u001b[1;31m---------------------------------------------------------------------------\u001b[0m",
      "\u001b[1;31mNameError\u001b[0m                                 Traceback (most recent call last)",
      "\u001b[1;32m<ipython-input-18-bf614aeba182>\u001b[0m in \u001b[0;36m<module>\u001b[1;34m\u001b[0m\n\u001b[0;32m      2\u001b[0m     \u001b[1;34m\"\"\" Filters the df by the values on the TA column\"\"\"\u001b[0m\u001b[1;33m\u001b[0m\u001b[1;33m\u001b[0m\u001b[0m\n\u001b[0;32m      3\u001b[0m     \u001b[1;32mreturn\u001b[0m \u001b[0mdf\u001b[0m\u001b[1;33m[\u001b[0m\u001b[0mdf\u001b[0m\u001b[1;33m[\u001b[0m\u001b[1;34m'TA'\u001b[0m\u001b[1;33m]\u001b[0m\u001b[1;33m.\u001b[0m\u001b[0misin\u001b[0m\u001b[1;33m(\u001b[0m\u001b[0mvaluesList\u001b[0m\u001b[1;33m)\u001b[0m\u001b[1;33m]\u001b[0m\u001b[1;33m\u001b[0m\u001b[1;33m\u001b[0m\u001b[0m\n\u001b[1;32m----> 4\u001b[1;33m \u001b[0mtiempoAvance\u001b[0m\u001b[1;33m(\u001b[0m\u001b[0mallData\u001b[0m\u001b[1;33m,\u001b[0m \u001b[1;33m[\u001b[0m\u001b[1;36m1\u001b[0m\u001b[1;33m,\u001b[0m\u001b[1;36m2\u001b[0m\u001b[1;33m,\u001b[0m\u001b[1;36m3\u001b[0m\u001b[1;33m,\u001b[0m\u001b[1;36m4\u001b[0m\u001b[1;33m,\u001b[0m\u001b[1;36m5\u001b[0m\u001b[1;33m,\u001b[0m\u001b[1;36m6\u001b[0m\u001b[1;33m]\u001b[0m\u001b[1;33m)\u001b[0m\u001b[1;33m\u001b[0m\u001b[1;33m\u001b[0m\u001b[0m\n\u001b[0m",
      "\u001b[1;31mNameError\u001b[0m: name 'tiempoAvance' is not defined"
     ]
    }
   ],
   "source": [
    "def tiempoAvanceFilter(df, valuesList):\n",
    "    \"\"\" Filters the df by the values on the TA column\"\"\"\n",
    "    return df[df['TA'].isin(valuesList)]\n",
    "tiempoAvance(allData, [1,2,3,4,5,6])"
   ]
  },
  {
   "cell_type": "code",
   "execution_count": 0,
   "metadata": {},
   "outputs": [],
   "source": [
    "def msPowerRangeFilter(df, fromN, toN):\n",
    "    \"\"\" Filters the df in the column MS POWER with the given boundaries\"\"\"\n",
    "    return df[df['MS POWER'].between(fromN, toN)]\n",
    "msPower(allData, -100, 60)"
   ]
  },
  {
   "cell_type": "code",
   "execution_count": 0,
   "metadata": {},
   "outputs": [],
   "source": [
    "def lastLacRangeFilter(df, fromN, toN):\n",
    "    \"\"\" Filters the df in the column LAST LAC within the given boundaries\"\"\"\n",
    "    return df[df['LAST LAC'].between(fromN, toN)]\n",
    "lastLac(allData, -100, 60000)"
   ]
  },
  {
   "cell_type": "code",
   "execution_count": 0,
   "metadata": {},
   "outputs": [],
   "source": [
    "def getHitsAmounForEmais(df, n=None):\n",
    "    \"\"\" Gets the frecuency of each IMEI in the df and returns a n length series\"\"\"\n",
    "    # return df.groupby('IMEI')['HITS'].sum().sort_values(ascending=False).head(n=n)\n",
    "    return df.groupby('IMEI')['HITS'].transform(\n",
    "        lambda x: sum(x)\n",
    "    )\n",
    "getFrecuencyForEmais(allData)"
   ]
  },
  {
   "cell_type": "code",
   "execution_count": 0,
   "metadata": {},
   "outputs": [],
   "source": [
    "def getUniqueNameIdColumn(df):\n",
    "    \"\"\" Updates the NAME with a unique incremental KEY\"\"\"\n",
    "    fn = lambda row: row['IMEI'].astype(str).apply(hash) + row['IMEI'].astype(str).apply(hash)\n",
    "    return df.groupby('IMEI').apply(fn)\n",
    "# Como asignarlo para que no de warning y SI lo pegue \n",
    "# df = df.assign(c=col.values) # assign values to column 'c'\n",
    "getUniqueNameIdColumn(allData)"
   ]
  },
  {
   "cell_type": "code",
   "execution_count": 0,
   "metadata": {},
   "outputs": [],
   "source": [
    "def filterByRat(df, rats = []):\n",
    "    \"\"\" Returns a df with the seleccted rats \"\"\"\n",
    "    groupedRats = df.groupby('RAT')\n",
    "    ratDfs = [groupedRats.get_group(gn) for gn in rats]\n",
    "    return pd.concat(ratDfs)\n",
    "filterByRat(allData, [\"3G\"]).shape"
   ]
  },
  {
   "cell_type": "code",
   "execution_count": 28,
   "metadata": {},
   "outputs": [
    {
     "data": {
      "text/plain": "3528"
     },
     "execution_count": 28,
     "metadata": {},
     "output_type": "execute_result"
    }
   ],
   "source": [
    "allData['IMEI'].count()"
   ]
  },
  {
   "cell_type": "code",
   "execution_count": 51,
   "metadata": {},
   "outputs": [
    {
     "data": {
      "text/plain": "Int64Index([724, 292, 291, 290, 289, 288, 287, 286, 285, 284,\n            ...\n            670, 650, 651, 666,   8, 653,  52, 660,  41,  33],\n           dtype='int64', length=3627)"
     },
     "execution_count": 51,
     "metadata": {},
     "output_type": "execute_result"
    }
   ],
   "source": [
    "allData.index"
   ]
  },
  {
   "cell_type": "code",
   "execution_count": 52,
   "metadata": {},
   "outputs": [
    {
     "data": {
      "text/html": "<div>\n<style scoped>\n    .dataframe tbody tr th:only-of-type {\n        vertical-align: middle;\n    }\n\n    .dataframe tbody tr th {\n        vertical-align: top;\n    }\n\n    .dataframe thead th {\n        text-align: right;\n    }\n</style>\n<table border=\"1\" class=\"dataframe\">\n  <thead>\n    <tr style=\"text-align: right;\">\n      <th></th>\n      <th>RAT</th>\n      <th>OPERATOR</th>\n      <th>CHANNEL</th>\n      <th>IMSI</th>\n      <th>IMEI</th>\n      <th>TMSI</th>\n      <th>MS POWER</th>\n      <th>TA</th>\n      <th>LAST LAC</th>\n      <th>NAME</th>\n      <th>HITS</th>\n      <th>DATE</th>\n      <th>TIME</th>\n    </tr>\n  </thead>\n  <tbody>\n    <tr>\n      <td>724</td>\n      <td>3G</td>\n      <td>EC-Claro(América Móvil)-01</td>\n      <td>4387</td>\n      <td>7.400102e+14</td>\n      <td>8.612500e+14</td>\n      <td>BA129B0E</td>\n      <td>-94.0</td>\n      <td>3</td>\n      <td>50134</td>\n      <td>NaN</td>\n      <td>1</td>\n      <td>2019-12-31</td>\n      <td>15:24:18</td>\n    </tr>\n    <tr>\n      <td>292</td>\n      <td>3G</td>\n      <td>EC-Claro(América Móvil)-01</td>\n      <td>4387</td>\n      <td>7.400002e+14</td>\n      <td>3.517591e+14</td>\n      <td>A4C47315</td>\n      <td>-95.0</td>\n      <td>3</td>\n      <td>15251</td>\n      <td>NaN</td>\n      <td>1</td>\n      <td>2019-12-31</td>\n      <td>16:59:42</td>\n    </tr>\n    <tr>\n      <td>291</td>\n      <td>3G</td>\n      <td>EC-Claro(América Móvil)-01</td>\n      <td>587</td>\n      <td>7.400002e+14</td>\n      <td>3.517591e+14</td>\n      <td>A4C47315</td>\n      <td>-105.0</td>\n      <td>3</td>\n      <td>15251</td>\n      <td>NaN</td>\n      <td>1</td>\n      <td>2019-12-31</td>\n      <td>17:00:04</td>\n    </tr>\n    <tr>\n      <td>290</td>\n      <td>3G</td>\n      <td>EC-Claro(América Móvil)-01</td>\n      <td>587</td>\n      <td>7.400102e+14</td>\n      <td>3.557471e+14</td>\n      <td>FC483124</td>\n      <td>-66.0</td>\n      <td>3</td>\n      <td>50134</td>\n      <td>NaN</td>\n      <td>1</td>\n      <td>2019-12-31</td>\n      <td>17:00:40</td>\n    </tr>\n    <tr>\n      <td>289</td>\n      <td>3G</td>\n      <td>EC-Claro(América Móvil)-01</td>\n      <td>4387</td>\n      <td>7.400102e+14</td>\n      <td>8.648850e+14</td>\n      <td>DA430032</td>\n      <td>-43.0</td>\n      <td>3</td>\n      <td>50134</td>\n      <td>NaN</td>\n      <td>1</td>\n      <td>2019-12-31</td>\n      <td>17:00:43</td>\n    </tr>\n  </tbody>\n</table>\n</div>",
      "text/plain": "    RAT                    OPERATOR  CHANNEL          IMSI          IMEI  \\\n724  3G  EC-Claro(América Móvil)-01     4387  7.400102e+14  8.612500e+14   \n292  3G  EC-Claro(América Móvil)-01     4387  7.400002e+14  3.517591e+14   \n291  3G  EC-Claro(América Móvil)-01      587  7.400002e+14  3.517591e+14   \n290  3G  EC-Claro(América Móvil)-01      587  7.400102e+14  3.557471e+14   \n289  3G  EC-Claro(América Móvil)-01     4387  7.400102e+14  8.648850e+14   \n\n         TMSI  MS POWER  TA  LAST LAC  NAME  HITS        DATE      TIME  \n724  BA129B0E     -94.0   3     50134   NaN     1  2019-12-31  15:24:18  \n292  A4C47315     -95.0   3     15251   NaN     1  2019-12-31  16:59:42  \n291  A4C47315    -105.0   3     15251   NaN     1  2019-12-31  17:00:04  \n290  FC483124     -66.0   3     50134   NaN     1  2019-12-31  17:00:40  \n289  DA430032     -43.0   3     50134   NaN     1  2019-12-31  17:00:43  "
     },
     "execution_count": 52,
     "metadata": {},
     "output_type": "execute_result"
    }
   ],
   "source": [
    "allData.head()"
   ]
  },
  {
   "cell_type": "code",
   "execution_count": 63,
   "metadata": {},
   "outputs": [
    {
     "name": "stdout",
     "output_type": "stream",
     "text": "Pandas(Index=724, RAT='3G', OPERATOR='EC-Claro(América Móvil)-01', CHANNEL=4387, IMSI=740010179601340.0, IMEI=861250040773912.0, TMSI='BA129B0E', _7=-94.0, TA=3, _9=50134, NAME=nan, HITS=1, DATE=datetime.date(2019, 12, 31), TIME=datetime.time(15, 24, 18))\n3G\nEC-Claro(América Móvil)-01\n4387\n740010179601340.0\n861250040773912.0\nBA129B0E\n"
    },
    {
     "ename": "KeyError",
     "evalue": "'MS POWER'",
     "output_type": "error",
     "traceback": [
      "\u001b[1;31m---------------------------------------------------------------------------\u001b[0m",
      "\u001b[1;31mKeyError\u001b[0m                                  Traceback (most recent call last)",
      "\u001b[1;32m<ipython-input-63-6c7298127ece>\u001b[0m in \u001b[0;36m<module>\u001b[1;34m\u001b[0m\n\u001b[0;32m      5\u001b[0m     \u001b[0mr\u001b[0m \u001b[1;33m=\u001b[0m \u001b[1;33m[\u001b[0m\u001b[1;33m]\u001b[0m\u001b[1;33m\u001b[0m\u001b[1;33m\u001b[0m\u001b[0m\n\u001b[0;32m      6\u001b[0m     \u001b[1;32mfor\u001b[0m \u001b[0mi\u001b[0m\u001b[1;33m,\u001b[0m\u001b[0mcolumnName\u001b[0m \u001b[1;32min\u001b[0m \u001b[0menumerate\u001b[0m\u001b[1;33m(\u001b[0m\u001b[0mheaderList\u001b[0m\u001b[1;33m)\u001b[0m\u001b[1;33m:\u001b[0m\u001b[1;33m\u001b[0m\u001b[1;33m\u001b[0m\u001b[0m\n\u001b[1;32m----> 7\u001b[1;33m         \u001b[0mr\u001b[0m\u001b[1;33m.\u001b[0m\u001b[0mappend\u001b[0m\u001b[1;33m(\u001b[0m\u001b[0mrow\u001b[0m\u001b[1;33m.\u001b[0m\u001b[0m_asdict\u001b[0m\u001b[1;33m(\u001b[0m\u001b[1;33m)\u001b[0m\u001b[1;33m[\u001b[0m\u001b[0mstr\u001b[0m\u001b[1;33m(\u001b[0m\u001b[0mcolumnName\u001b[0m\u001b[1;33m)\u001b[0m\u001b[1;33m]\u001b[0m\u001b[1;33m)\u001b[0m\u001b[1;33m\u001b[0m\u001b[1;33m\u001b[0m\u001b[0m\n\u001b[0m\u001b[0;32m      8\u001b[0m         \u001b[0mprint\u001b[0m\u001b[1;33m(\u001b[0m\u001b[0mr\u001b[0m\u001b[1;33m[\u001b[0m\u001b[0mi\u001b[0m\u001b[1;33m]\u001b[0m\u001b[1;33m)\u001b[0m\u001b[1;33m\u001b[0m\u001b[1;33m\u001b[0m\u001b[0m\n\u001b[0;32m      9\u001b[0m     \u001b[0mprint\u001b[0m\u001b[1;33m(\u001b[0m\u001b[0mr\u001b[0m\u001b[1;33m)\u001b[0m\u001b[1;33m\u001b[0m\u001b[1;33m\u001b[0m\u001b[0m\n",
      "\u001b[1;31mKeyError\u001b[0m: 'MS POWER'"
     ]
    }
   ],
   "source": [
    "headerList = tuple(allData.columns.values)\n",
    "\n",
    "for i,row in enumerate(allData.itertuples()):\n",
    "    print(row)\n",
    "    r = []\n",
    "    for i,columnName in enumerate(headerList):\n",
    "        r.append(row._asdict()[str(columnName)])\n",
    "        print(r[i])\n",
    "    print(r)\n",
    "    print(\"------------------------------------------------------------------------------\\n\\n\")"
   ]
  },
  {
   "cell_type": "code",
   "execution_count": 35,
   "metadata": {},
   "outputs": [
    {
     "data": {
      "text/plain": "['RAT',\n 'OPERATOR',\n 'CHANNEL',\n 'IMSI',\n 'IMEI',\n 'TMSI',\n 'MS POWER',\n 'TA',\n 'LAST LAC',\n 'NAME',\n 'HITS',\n 'DATE',\n 'TIME']"
     },
     "execution_count": 35,
     "metadata": {},
     "output_type": "execute_result"
    }
   ],
   "source": [
    "list(allData.columns.values)"
   ]
  },
  {
   "cell_type": "code",
   "execution_count": 145,
   "metadata": {},
   "outputs": [
    {
     "data": {
      "text/html": "<div>\n<style scoped>\n    .dataframe tbody tr th:only-of-type {\n        vertical-align: middle;\n    }\n\n    .dataframe tbody tr th {\n        vertical-align: top;\n    }\n\n    .dataframe thead th {\n        text-align: right;\n    }\n</style>\n<table border=\"1\" class=\"dataframe\">\n  <thead>\n    <tr style=\"text-align: right;\">\n      <th></th>\n      <th></th>\n      <th>HITS</th>\n    </tr>\n    <tr>\n      <th>IMEI</th>\n      <th>IMSI</th>\n      <th></th>\n    </tr>\n  </thead>\n  <tbody>\n    <tr>\n      <th>1.037300e+13</th>\n      <th>7.400102e+14</th>\n      <td>1</td>\n    </tr>\n    <tr>\n      <th>1.099701e+13</th>\n      <th>7.400101e+14</th>\n      <td>1</td>\n    </tr>\n    <tr>\n      <th>1.122300e+13</th>\n      <th>7.400102e+14</th>\n      <td>1</td>\n    </tr>\n    <tr>\n      <th>1.138700e+13</th>\n      <th>7.400101e+14</th>\n      <td>1</td>\n    </tr>\n    <tr>\n      <th>1.138800e+13</th>\n      <th>7.400101e+14</th>\n      <td>1</td>\n    </tr>\n    <tr>\n      <th rowspan=\"2\" valign=\"top\">1.167201e+13</th>\n      <th>7.400102e+14</th>\n      <td>1</td>\n    </tr>\n    <tr>\n      <th>7.400202e+14</th>\n      <td>1</td>\n    </tr>\n    <tr>\n      <th>1.176901e+13</th>\n      <th>7.400102e+14</th>\n      <td>1</td>\n    </tr>\n    <tr>\n      <th>1.185101e+13</th>\n      <th>7.400101e+14</th>\n      <td>1</td>\n    </tr>\n    <tr>\n      <th>1.196900e+13</th>\n      <th>7.400002e+14</th>\n      <td>1</td>\n    </tr>\n    <tr>\n      <th>1.201701e+13</th>\n      <th>7.400202e+14</th>\n      <td>1</td>\n    </tr>\n    <tr>\n      <th>1.240101e+13</th>\n      <th>7.400102e+14</th>\n      <td>1</td>\n    </tr>\n    <tr>\n      <th>1.245600e+13</th>\n      <th>7.400102e+14</th>\n      <td>1</td>\n    </tr>\n    <tr>\n      <th>1.245601e+13</th>\n      <th>7.400101e+14</th>\n      <td>1</td>\n    </tr>\n    <tr>\n      <th>1.250400e+13</th>\n      <th>7.400202e+14</th>\n      <td>1</td>\n    </tr>\n    <tr>\n      <th>1.282101e+13</th>\n      <th>7.400102e+14</th>\n      <td>1</td>\n    </tr>\n    <tr>\n      <th>1.285901e+13</th>\n      <th>7.400102e+14</th>\n      <td>1</td>\n    </tr>\n    <tr>\n      <th>1.323600e+13</th>\n      <th>7.400102e+14</th>\n      <td>1</td>\n    </tr>\n    <tr>\n      <th>1.334400e+13</th>\n      <th>7.400102e+14</th>\n      <td>1</td>\n    </tr>\n    <tr>\n      <th>1.340100e+13</th>\n      <th>7.400102e+14</th>\n      <td>1</td>\n    </tr>\n    <tr>\n      <th>1.353701e+13</th>\n      <th>7.400102e+14</th>\n      <td>1</td>\n    </tr>\n    <tr>\n      <th>1.385201e+13</th>\n      <th>7.400102e+14</th>\n      <td>1</td>\n    </tr>\n    <tr>\n      <th rowspan=\"8\" valign=\"top\">1.396101e+13</th>\n      <th>7.400052e+14</th>\n      <td>2</td>\n    </tr>\n    <tr>\n      <th>7.400102e+14</th>\n      <td>1</td>\n    </tr>\n    <tr>\n      <th>7.400102e+14</th>\n      <td>1</td>\n    </tr>\n    <tr>\n      <th>7.400101e+14</th>\n      <td>2</td>\n    </tr>\n    <tr>\n      <th>7.400101e+14</th>\n      <td>2</td>\n    </tr>\n    <tr>\n      <th>7.400202e+14</th>\n      <td>1</td>\n    </tr>\n    <tr>\n      <th>7.400052e+14</th>\n      <td>1</td>\n    </tr>\n    <tr>\n      <th>7.400102e+14</th>\n      <td>1</td>\n    </tr>\n    <tr>\n      <th>...</th>\n      <th>...</th>\n      <td>...</td>\n    </tr>\n    <tr>\n      <th>8.691700e+14</th>\n      <th>7.400202e+14</th>\n      <td>1</td>\n    </tr>\n    <tr>\n      <th>8.692310e+14</th>\n      <th>7.400101e+14</th>\n      <td>1</td>\n    </tr>\n    <tr>\n      <th rowspan=\"4\" valign=\"top\">8.693960e+14</th>\n      <th>7.400001e+14</th>\n      <td>1</td>\n    </tr>\n    <tr>\n      <th>7.400102e+14</th>\n      <td>6</td>\n    </tr>\n    <tr>\n      <th>7.400102e+14</th>\n      <td>1</td>\n    </tr>\n    <tr>\n      <th>7.400001e+14</th>\n      <td>1</td>\n    </tr>\n    <tr>\n      <th>8.694280e+14</th>\n      <th>7.400102e+14</th>\n      <td>24</td>\n    </tr>\n    <tr>\n      <th>8.694560e+14</th>\n      <th>7.400052e+14</th>\n      <td>1</td>\n    </tr>\n    <tr>\n      <th>8.696220e+14</th>\n      <th>7.400102e+14</th>\n      <td>1</td>\n    </tr>\n    <tr>\n      <th>8.697940e+14</th>\n      <th>7.400001e+14</th>\n      <td>1</td>\n    </tr>\n    <tr>\n      <th>8.698100e+14</th>\n      <th>7.400102e+14</th>\n      <td>1</td>\n    </tr>\n    <tr>\n      <th rowspan=\"8\" valign=\"top\">8.698230e+14</th>\n      <th>7.400202e+14</th>\n      <td>2</td>\n    </tr>\n    <tr>\n      <th>7.400102e+14</th>\n      <td>2</td>\n    </tr>\n    <tr>\n      <th>7.400102e+14</th>\n      <td>1</td>\n    </tr>\n    <tr>\n      <th>7.400102e+14</th>\n      <td>19</td>\n    </tr>\n    <tr>\n      <th>7.400052e+14</th>\n      <td>1</td>\n    </tr>\n    <tr>\n      <th>7.400002e+14</th>\n      <td>15</td>\n    </tr>\n    <tr>\n      <th>7.400002e+14</th>\n      <td>38</td>\n    </tr>\n    <tr>\n      <th>7.400001e+14</th>\n      <td>11</td>\n    </tr>\n    <tr>\n      <th rowspan=\"2\" valign=\"top\">8.698240e+14</th>\n      <th>7.400052e+14</th>\n      <td>3</td>\n    </tr>\n    <tr>\n      <th>7.400001e+14</th>\n      <td>1</td>\n    </tr>\n    <tr>\n      <th rowspan=\"2\" valign=\"top\">8.699690e+14</th>\n      <th>7.400001e+14</th>\n      <td>1</td>\n    </tr>\n    <tr>\n      <th>7.400001e+14</th>\n      <td>1</td>\n    </tr>\n    <tr>\n      <th rowspan=\"5\" valign=\"top\">8.699710e+14</th>\n      <th>7.400102e+14</th>\n      <td>10</td>\n    </tr>\n    <tr>\n      <th>7.400102e+14</th>\n      <td>5</td>\n    </tr>\n    <tr>\n      <th>7.400102e+14</th>\n      <td>3</td>\n    </tr>\n    <tr>\n      <th>7.400102e+14</th>\n      <td>3</td>\n    </tr>\n    <tr>\n      <th>7.400102e+14</th>\n      <td>1</td>\n    </tr>\n    <tr>\n      <th>8.699720e+14</th>\n      <th>7.400051e+14</th>\n      <td>4</td>\n    </tr>\n    <tr>\n      <th>9.900058e+14</th>\n      <th>7.400052e+14</th>\n      <td>1</td>\n    </tr>\n  </tbody>\n</table>\n<p>2263 rows × 1 columns</p>\n</div>",
      "text/plain": "                           HITS\nIMEI         IMSI              \n1.037300e+13 7.400102e+14     1\n1.099701e+13 7.400101e+14     1\n1.122300e+13 7.400102e+14     1\n1.138700e+13 7.400101e+14     1\n1.138800e+13 7.400101e+14     1\n1.167201e+13 7.400102e+14     1\n             7.400202e+14     1\n1.176901e+13 7.400102e+14     1\n1.185101e+13 7.400101e+14     1\n1.196900e+13 7.400002e+14     1\n1.201701e+13 7.400202e+14     1\n1.240101e+13 7.400102e+14     1\n1.245600e+13 7.400102e+14     1\n1.245601e+13 7.400101e+14     1\n1.250400e+13 7.400202e+14     1\n1.282101e+13 7.400102e+14     1\n1.285901e+13 7.400102e+14     1\n1.323600e+13 7.400102e+14     1\n1.334400e+13 7.400102e+14     1\n1.340100e+13 7.400102e+14     1\n1.353701e+13 7.400102e+14     1\n1.385201e+13 7.400102e+14     1\n1.396101e+13 7.400052e+14     2\n             7.400102e+14     1\n             7.400102e+14     1\n             7.400101e+14     2\n             7.400101e+14     2\n             7.400202e+14     1\n             7.400052e+14     1\n             7.400102e+14     1\n...                         ...\n8.691700e+14 7.400202e+14     1\n8.692310e+14 7.400101e+14     1\n8.693960e+14 7.400001e+14     1\n             7.400102e+14     6\n             7.400102e+14     1\n             7.400001e+14     1\n8.694280e+14 7.400102e+14    24\n8.694560e+14 7.400052e+14     1\n8.696220e+14 7.400102e+14     1\n8.697940e+14 7.400001e+14     1\n8.698100e+14 7.400102e+14     1\n8.698230e+14 7.400202e+14     2\n             7.400102e+14     2\n             7.400102e+14     1\n             7.400102e+14    19\n             7.400052e+14     1\n             7.400002e+14    15\n             7.400002e+14    38\n             7.400001e+14    11\n8.698240e+14 7.400052e+14     3\n             7.400001e+14     1\n8.699690e+14 7.400001e+14     1\n             7.400001e+14     1\n8.699710e+14 7.400102e+14    10\n             7.400102e+14     5\n             7.400102e+14     3\n             7.400102e+14     3\n             7.400102e+14     1\n8.699720e+14 7.400051e+14     4\n9.900058e+14 7.400052e+14     1\n\n[2263 rows x 1 columns]"
     },
     "execution_count": 145,
     "metadata": {},
     "output_type": "execute_result"
    }
   ],
   "source": [
    "# Prueba\n",
    "import numpy as np\n",
    "pivotTable = pd.pivot_table(allData, values=\"HITS\", index=['IMEI', 'IMSI'], aggfunc=np.sum)\n",
    "pivotTable"
   ]
  },
  {
   "cell_type": "code",
   "execution_count": 147,
   "metadata": {},
   "outputs": [
    {
     "data": {
      "text/html": "<div>\n<style scoped>\n    .dataframe tbody tr th:only-of-type {\n        vertical-align: middle;\n    }\n\n    .dataframe tbody tr th {\n        vertical-align: top;\n    }\n\n    .dataframe thead th {\n        text-align: right;\n    }\n</style>\n<table border=\"1\" class=\"dataframe\">\n  <thead>\n    <tr style=\"text-align: right;\">\n      <th></th>\n      <th>RAT</th>\n      <th>OPERATOR</th>\n      <th>CHANNEL</th>\n      <th>IMSI</th>\n      <th>IMEI</th>\n      <th>TMSI</th>\n      <th>MS POWER</th>\n      <th>TA</th>\n      <th>LAST LAC</th>\n      <th>NAME</th>\n      <th>HITS</th>\n      <th>DATE</th>\n      <th>TIME</th>\n    </tr>\n  </thead>\n  <tbody>\n    <tr>\n      <th>24</th>\n      <td>4G</td>\n      <td>EC-Movistar(Telefónica)-00</td>\n      <td>700</td>\n      <td>7.400001e+14</td>\n      <td>NaN</td>\n      <td>NaN</td>\n      <td>-104522.00</td>\n      <td>2</td>\n      <td>9616</td>\n      <td>NaN</td>\n      <td>3</td>\n      <td>2019-12-31</td>\n      <td>12:07:42</td>\n    </tr>\n    <tr>\n      <th>23</th>\n      <td>4G</td>\n      <td>EC-Movistar(Telefónica)-00</td>\n      <td>700</td>\n      <td>7.400002e+14</td>\n      <td>NaN</td>\n      <td>NaN</td>\n      <td>-107257.00</td>\n      <td>2</td>\n      <td>9616</td>\n      <td>NaN</td>\n      <td>1</td>\n      <td>2019-12-31</td>\n      <td>08:07:22</td>\n    </tr>\n    <tr>\n      <th>22</th>\n      <td>4G</td>\n      <td>EC-Movistar(Telefónica)-00</td>\n      <td>700</td>\n      <td>7.400051e+14</td>\n      <td>NaN</td>\n      <td>NaN</td>\n      <td>-109835.00</td>\n      <td>2</td>\n      <td>9616</td>\n      <td>NaN</td>\n      <td>1</td>\n      <td>2019-12-31</td>\n      <td>08:07:31</td>\n    </tr>\n    <tr>\n      <th>21</th>\n      <td>4G</td>\n      <td>EC-Movistar(Telefónica)-00</td>\n      <td>700</td>\n      <td>7.400001e+14</td>\n      <td>NaN</td>\n      <td>NaN</td>\n      <td>-115382.00</td>\n      <td>2</td>\n      <td>-1</td>\n      <td>NaN</td>\n      <td>1</td>\n      <td>2019-12-31</td>\n      <td>08:07:56</td>\n    </tr>\n    <tr>\n      <th>20</th>\n      <td>4G</td>\n      <td>EC-Movistar(Telefónica)-00</td>\n      <td>700</td>\n      <td>7.400002e+14</td>\n      <td>NaN</td>\n      <td>NaN</td>\n      <td>-110147.00</td>\n      <td>2</td>\n      <td>9616</td>\n      <td>NaN</td>\n      <td>3</td>\n      <td>2019-12-31</td>\n      <td>12:20:57</td>\n    </tr>\n    <tr>\n      <th>19</th>\n      <td>4G</td>\n      <td>EC-Movistar(Telefónica)-00</td>\n      <td>700</td>\n      <td>7.400051e+14</td>\n      <td>NaN</td>\n      <td>NaN</td>\n      <td>-110069.00</td>\n      <td>2</td>\n      <td>9616</td>\n      <td>NaN</td>\n      <td>1</td>\n      <td>2019-12-31</td>\n      <td>08:24:48</td>\n    </tr>\n    <tr>\n      <th>18</th>\n      <td>4G</td>\n      <td>EC-Movistar(Telefónica)-00</td>\n      <td>700</td>\n      <td>7.400052e+14</td>\n      <td>NaN</td>\n      <td>NaN</td>\n      <td>-112178.00</td>\n      <td>2</td>\n      <td>9616</td>\n      <td>NaN</td>\n      <td>1</td>\n      <td>2019-12-31</td>\n      <td>09:25:04</td>\n    </tr>\n    <tr>\n      <th>17</th>\n      <td>4G</td>\n      <td>EC-Movistar(Telefónica)-00</td>\n      <td>700</td>\n      <td>7.400002e+14</td>\n      <td>NaN</td>\n      <td>NaN</td>\n      <td>-115069.00</td>\n      <td>2</td>\n      <td>-1</td>\n      <td>NaN</td>\n      <td>1</td>\n      <td>2019-12-31</td>\n      <td>10:09:22</td>\n    </tr>\n    <tr>\n      <th>16</th>\n      <td>4G</td>\n      <td>EC-Movistar(Telefónica)-00</td>\n      <td>700</td>\n      <td>7.400102e+14</td>\n      <td>NaN</td>\n      <td>NaN</td>\n      <td>-115147.00</td>\n      <td>2</td>\n      <td>-1</td>\n      <td>NaN</td>\n      <td>1</td>\n      <td>2019-12-31</td>\n      <td>10:50:09</td>\n    </tr>\n    <tr>\n      <th>15</th>\n      <td>4G</td>\n      <td>EC-Movistar(Telefónica)-00</td>\n      <td>700</td>\n      <td>7.400001e+14</td>\n      <td>NaN</td>\n      <td>NaN</td>\n      <td>-112491.00</td>\n      <td>2</td>\n      <td>-1</td>\n      <td>NaN</td>\n      <td>1</td>\n      <td>2019-12-31</td>\n      <td>11:11:05</td>\n    </tr>\n    <tr>\n      <th>14</th>\n      <td>4G</td>\n      <td>EC-Movistar(Telefónica)-00</td>\n      <td>700</td>\n      <td>7.400052e+14</td>\n      <td>NaN</td>\n      <td>NaN</td>\n      <td>-112413.00</td>\n      <td>2</td>\n      <td>9616</td>\n      <td>NaN</td>\n      <td>1</td>\n      <td>2019-12-31</td>\n      <td>12:04:39</td>\n    </tr>\n    <tr>\n      <th>13</th>\n      <td>4G</td>\n      <td>EC-Movistar(Telefónica)-00</td>\n      <td>700</td>\n      <td>7.400001e+14</td>\n      <td>NaN</td>\n      <td>NaN</td>\n      <td>-111866.00</td>\n      <td>2</td>\n      <td>9616</td>\n      <td>NaN</td>\n      <td>1</td>\n      <td>2019-12-31</td>\n      <td>12:04:57</td>\n    </tr>\n    <tr>\n      <th>12</th>\n      <td>4G</td>\n      <td>EC-Claro(América Móvil)-01</td>\n      <td>2250</td>\n      <td>7.400102e+14</td>\n      <td>NaN</td>\n      <td>NaN</td>\n      <td>-101397.00</td>\n      <td>2</td>\n      <td>60134</td>\n      <td>NaN</td>\n      <td>2</td>\n      <td>2019-12-31</td>\n      <td>16:22:20</td>\n    </tr>\n    <tr>\n      <th>11</th>\n      <td>4G</td>\n      <td>EC-Claro(América Móvil)-01</td>\n      <td>2250</td>\n      <td>7.400102e+14</td>\n      <td>NaN</td>\n      <td>NaN</td>\n      <td>-107647.00</td>\n      <td>2</td>\n      <td>60134</td>\n      <td>NaN</td>\n      <td>1</td>\n      <td>2019-12-31</td>\n      <td>16:14:07</td>\n    </tr>\n    <tr>\n      <th>10</th>\n      <td>4G</td>\n      <td>EC-Claro(América Móvil)-01</td>\n      <td>2250</td>\n      <td>7.400102e+14</td>\n      <td>NaN</td>\n      <td>NaN</td>\n      <td>-103975.00</td>\n      <td>2</td>\n      <td>60134</td>\n      <td>NaN</td>\n      <td>2</td>\n      <td>2019-12-31</td>\n      <td>16:14:36</td>\n    </tr>\n    <tr>\n      <th>9</th>\n      <td>4G</td>\n      <td>EC-Claro(América Móvil)-01</td>\n      <td>2250</td>\n      <td>7.400102e+14</td>\n      <td>NaN</td>\n      <td>NaN</td>\n      <td>-111319.00</td>\n      <td>2</td>\n      <td>60134</td>\n      <td>NaN</td>\n      <td>1</td>\n      <td>2019-12-31</td>\n      <td>16:14:15</td>\n    </tr>\n    <tr>\n      <th>8</th>\n      <td>4G</td>\n      <td>EC-Claro(América Móvil)-01</td>\n      <td>2250</td>\n      <td>7.400102e+14</td>\n      <td>NaN</td>\n      <td>NaN</td>\n      <td>-113975.00</td>\n      <td>2</td>\n      <td>60134</td>\n      <td>NaN</td>\n      <td>1</td>\n      <td>2019-12-31</td>\n      <td>16:14:16</td>\n    </tr>\n    <tr>\n      <th>7</th>\n      <td>4G</td>\n      <td>EC-Claro(América Móvil)-01</td>\n      <td>2250</td>\n      <td>7.400102e+14</td>\n      <td>NaN</td>\n      <td>NaN</td>\n      <td>-111.71</td>\n      <td>2</td>\n      <td>60134</td>\n      <td>NaN</td>\n      <td>1</td>\n      <td>2019-12-31</td>\n      <td>16:14:33</td>\n    </tr>\n    <tr>\n      <th>6</th>\n      <td>4G</td>\n      <td>EC-Claro(América Móvil)-01</td>\n      <td>2250</td>\n      <td>7.400102e+14</td>\n      <td>NaN</td>\n      <td>NaN</td>\n      <td>-112.10</td>\n      <td>2</td>\n      <td>60134</td>\n      <td>NaN</td>\n      <td>1</td>\n      <td>2019-12-31</td>\n      <td>16:14:43</td>\n    </tr>\n    <tr>\n      <th>5</th>\n      <td>4G</td>\n      <td>EC-Claro(América Móvil)-01</td>\n      <td>2250</td>\n      <td>7.400102e+14</td>\n      <td>NaN</td>\n      <td>NaN</td>\n      <td>-110147.00</td>\n      <td>2</td>\n      <td>60134</td>\n      <td>NaN</td>\n      <td>1</td>\n      <td>2019-12-31</td>\n      <td>16:16:04</td>\n    </tr>\n    <tr>\n      <th>4</th>\n      <td>4G</td>\n      <td>EC-Claro(América Móvil)-01</td>\n      <td>2250</td>\n      <td>7.400102e+14</td>\n      <td>NaN</td>\n      <td>NaN</td>\n      <td>-104444.00</td>\n      <td>2</td>\n      <td>60134</td>\n      <td>NaN</td>\n      <td>1</td>\n      <td>2019-12-31</td>\n      <td>16:20:54</td>\n    </tr>\n    <tr>\n      <th>3</th>\n      <td>4G</td>\n      <td>EC-Claro(América Móvil)-01</td>\n      <td>2250</td>\n      <td>7.400102e+14</td>\n      <td>NaN</td>\n      <td>NaN</td>\n      <td>-115069.00</td>\n      <td>2</td>\n      <td>-1</td>\n      <td>NaN</td>\n      <td>1</td>\n      <td>2019-12-31</td>\n      <td>16:27:43</td>\n    </tr>\n    <tr>\n      <th>2</th>\n      <td>4G</td>\n      <td>EC-Claro(América Móvil)-01</td>\n      <td>2250</td>\n      <td>7.400102e+14</td>\n      <td>NaN</td>\n      <td>NaN</td>\n      <td>-110616.00</td>\n      <td>2</td>\n      <td>60134</td>\n      <td>NaN</td>\n      <td>1</td>\n      <td>2019-12-31</td>\n      <td>16:28:54</td>\n    </tr>\n    <tr>\n      <th>1</th>\n      <td>4G</td>\n      <td>EC-Claro(América Móvil)-01</td>\n      <td>2250</td>\n      <td>7.400102e+14</td>\n      <td>NaN</td>\n      <td>NaN</td>\n      <td>-975691.00</td>\n      <td>2</td>\n      <td>60134</td>\n      <td>NaN</td>\n      <td>1</td>\n      <td>2019-12-31</td>\n      <td>16:29:28</td>\n    </tr>\n    <tr>\n      <th>0</th>\n      <td>4G</td>\n      <td>EC-Claro(América Móvil)-01</td>\n      <td>2250</td>\n      <td>7.400102e+14</td>\n      <td>NaN</td>\n      <td>NaN</td>\n      <td>-108819.00</td>\n      <td>2</td>\n      <td>60134</td>\n      <td>NaN</td>\n      <td>1</td>\n      <td>2019-12-31</td>\n      <td>16:30:03</td>\n    </tr>\n    <tr>\n      <th>91</th>\n      <td>3G</td>\n      <td>EC-Claro(América Móvil)-01</td>\n      <td>612</td>\n      <td>NaN</td>\n      <td>3.583801e+14</td>\n      <td>0</td>\n      <td>-95.00</td>\n      <td>2</td>\n      <td>32769</td>\n      <td>NaN</td>\n      <td>1</td>\n      <td>2019-12-31</td>\n      <td>19:48:03</td>\n    </tr>\n    <tr>\n      <th>142</th>\n      <td>3G</td>\n      <td>EC-Claro(América Móvil)-01</td>\n      <td>4387</td>\n      <td>NaN</td>\n      <td>3.552161e+14</td>\n      <td>0</td>\n      <td>-52.00</td>\n      <td>2</td>\n      <td>32769</td>\n      <td>NaN</td>\n      <td>1</td>\n      <td>2019-12-31</td>\n      <td>18:30:47</td>\n    </tr>\n    <tr>\n      <th>143</th>\n      <td>3G</td>\n      <td>EC-Claro(América Móvil)-01</td>\n      <td>587</td>\n      <td>NaN</td>\n      <td>3.552161e+14</td>\n      <td>0</td>\n      <td>-105.00</td>\n      <td>2</td>\n      <td>32769</td>\n      <td>NaN</td>\n      <td>1</td>\n      <td>2019-12-31</td>\n      <td>18:30:39</td>\n    </tr>\n    <tr>\n      <th>152</th>\n      <td>3G</td>\n      <td>EC-Claro(América Móvil)-01</td>\n      <td>587</td>\n      <td>NaN</td>\n      <td>8.636970e+14</td>\n      <td>0</td>\n      <td>-107.00</td>\n      <td>2</td>\n      <td>32769</td>\n      <td>NaN</td>\n      <td>1</td>\n      <td>2019-12-31</td>\n      <td>18:24:00</td>\n    </tr>\n    <tr>\n      <th>153</th>\n      <td>3G</td>\n      <td>EC-Claro(América Móvil)-01</td>\n      <td>4387</td>\n      <td>NaN</td>\n      <td>8.671290e+14</td>\n      <td>0</td>\n      <td>-97.00</td>\n      <td>3</td>\n      <td>32768</td>\n      <td>NaN</td>\n      <td>1</td>\n      <td>2019-12-31</td>\n      <td>18:23:10</td>\n    </tr>\n    <tr>\n      <th>...</th>\n      <td>...</td>\n      <td>...</td>\n      <td>...</td>\n      <td>...</td>\n      <td>...</td>\n      <td>...</td>\n      <td>...</td>\n      <td>...</td>\n      <td>...</td>\n      <td>...</td>\n      <td>...</td>\n      <td>...</td>\n      <td>...</td>\n    </tr>\n    <tr>\n      <th>42</th>\n      <td>4G</td>\n      <td>EC-Claro(América Móvil)-01</td>\n      <td>2250</td>\n      <td>7.400002e+14</td>\n      <td>NaN</td>\n      <td>NaN</td>\n      <td>-107882.00</td>\n      <td>2</td>\n      <td>9616</td>\n      <td>NaN</td>\n      <td>1</td>\n      <td>2020-01-02</td>\n      <td>08:50:20</td>\n    </tr>\n    <tr>\n      <th>54</th>\n      <td>4G</td>\n      <td>EC-Claro(América Móvil)-01</td>\n      <td>2250</td>\n      <td>7.400102e+14</td>\n      <td>NaN</td>\n      <td>NaN</td>\n      <td>-109132.00</td>\n      <td>2</td>\n      <td>60134</td>\n      <td>NaN</td>\n      <td>2</td>\n      <td>2020-01-02</td>\n      <td>09:29:47</td>\n    </tr>\n    <tr>\n      <th>45</th>\n      <td>4G</td>\n      <td>EC-Claro(América Móvil)-01</td>\n      <td>2250</td>\n      <td>7.400102e+14</td>\n      <td>NaN</td>\n      <td>NaN</td>\n      <td>-113975.00</td>\n      <td>2</td>\n      <td>60134</td>\n      <td>NaN</td>\n      <td>9</td>\n      <td>2020-01-02</td>\n      <td>09:57:25</td>\n    </tr>\n    <tr>\n      <th>46</th>\n      <td>4G</td>\n      <td>EC-Claro(América Móvil)-01</td>\n      <td>2250</td>\n      <td>7.400102e+14</td>\n      <td>NaN</td>\n      <td>NaN</td>\n      <td>-106944.00</td>\n      <td>2</td>\n      <td>60134</td>\n      <td>NaN</td>\n      <td>1</td>\n      <td>2020-01-02</td>\n      <td>08:20:10</td>\n    </tr>\n    <tr>\n      <th>47</th>\n      <td>4G</td>\n      <td>EC-Claro(América Móvil)-01</td>\n      <td>2250</td>\n      <td>7.400102e+14</td>\n      <td>NaN</td>\n      <td>NaN</td>\n      <td>-114444.00</td>\n      <td>2</td>\n      <td>60134</td>\n      <td>NaN</td>\n      <td>1</td>\n      <td>2020-01-02</td>\n      <td>08:17:57</td>\n    </tr>\n    <tr>\n      <th>48</th>\n      <td>4G</td>\n      <td>EC-Claro(América Móvil)-01</td>\n      <td>2250</td>\n      <td>7.400102e+14</td>\n      <td>NaN</td>\n      <td>NaN</td>\n      <td>-953034.00</td>\n      <td>2</td>\n      <td>60134</td>\n      <td>NaN</td>\n      <td>10</td>\n      <td>2020-01-02</td>\n      <td>09:00:21</td>\n    </tr>\n    <tr>\n      <th>49</th>\n      <td>4G</td>\n      <td>EC-Claro(América Móvil)-01</td>\n      <td>2250</td>\n      <td>7.400102e+14</td>\n      <td>NaN</td>\n      <td>NaN</td>\n      <td>-120694.00</td>\n      <td>2</td>\n      <td>60134</td>\n      <td>NaN</td>\n      <td>1</td>\n      <td>2020-01-02</td>\n      <td>08:11:52</td>\n    </tr>\n    <tr>\n      <th>43</th>\n      <td>4G</td>\n      <td>EC-Claro(América Móvil)-01</td>\n      <td>2250</td>\n      <td>7.400102e+14</td>\n      <td>NaN</td>\n      <td>NaN</td>\n      <td>-102725.00</td>\n      <td>2</td>\n      <td>60134</td>\n      <td>NaN</td>\n      <td>1</td>\n      <td>2020-01-02</td>\n      <td>08:50:08</td>\n    </tr>\n    <tr>\n      <th>32</th>\n      <td>4G</td>\n      <td>EC-Claro(América Móvil)-01</td>\n      <td>925</td>\n      <td>7.400102e+14</td>\n      <td>NaN</td>\n      <td>NaN</td>\n      <td>-101475.00</td>\n      <td>2</td>\n      <td>60136</td>\n      <td>NaN</td>\n      <td>25</td>\n      <td>2020-01-02</td>\n      <td>16:40:40</td>\n    </tr>\n    <tr>\n      <th>44</th>\n      <td>4G</td>\n      <td>EC-Claro(América Móvil)-01</td>\n      <td>2250</td>\n      <td>7.400102e+14</td>\n      <td>NaN</td>\n      <td>NaN</td>\n      <td>-114835.00</td>\n      <td>2</td>\n      <td>60136</td>\n      <td>NaN</td>\n      <td>9</td>\n      <td>2020-01-02</td>\n      <td>10:00:33</td>\n    </tr>\n    <tr>\n      <th>31</th>\n      <td>4G</td>\n      <td>EC-Claro(América Móvil)-01</td>\n      <td>925</td>\n      <td>7.400102e+14</td>\n      <td>NaN</td>\n      <td>NaN</td>\n      <td>-101319.00</td>\n      <td>2</td>\n      <td>-1</td>\n      <td>NaN</td>\n      <td>34</td>\n      <td>2020-01-02</td>\n      <td>16:35:21</td>\n    </tr>\n    <tr>\n      <th>40</th>\n      <td>4G</td>\n      <td>EC-Claro(América Móvil)-01</td>\n      <td>2250</td>\n      <td>7.400102e+14</td>\n      <td>NaN</td>\n      <td>NaN</td>\n      <td>-111.71</td>\n      <td>2</td>\n      <td>60134</td>\n      <td>NaN</td>\n      <td>1</td>\n      <td>2020-01-02</td>\n      <td>09:12:32</td>\n    </tr>\n    <tr>\n      <th>56</th>\n      <td>4G</td>\n      <td>EC-Claro(América Móvil)-01</td>\n      <td>2250</td>\n      <td>7.400102e+14</td>\n      <td>NaN</td>\n      <td>NaN</td>\n      <td>-937409.00</td>\n      <td>2</td>\n      <td>-1</td>\n      <td>NaN</td>\n      <td>3</td>\n      <td>2020-01-02</td>\n      <td>09:03:44</td>\n    </tr>\n    <tr>\n      <th>57</th>\n      <td>4G</td>\n      <td>EC-Claro(América Móvil)-01</td>\n      <td>2250</td>\n      <td>7.400102e+14</td>\n      <td>NaN</td>\n      <td>NaN</td>\n      <td>-110694.00</td>\n      <td>2</td>\n      <td>60134</td>\n      <td>NaN</td>\n      <td>3</td>\n      <td>2020-01-02</td>\n      <td>09:28:30</td>\n    </tr>\n    <tr>\n      <th>58</th>\n      <td>4G</td>\n      <td>EC-Claro(América Móvil)-01</td>\n      <td>2250</td>\n      <td>7.400102e+14</td>\n      <td>NaN</td>\n      <td>NaN</td>\n      <td>-109.21</td>\n      <td>2</td>\n      <td>60134</td>\n      <td>NaN</td>\n      <td>4</td>\n      <td>2020-01-02</td>\n      <td>08:52:17</td>\n    </tr>\n    <tr>\n      <th>60</th>\n      <td>4G</td>\n      <td>EC-Claro(América Móvil)-01</td>\n      <td>2250</td>\n      <td>7.400102e+14</td>\n      <td>NaN</td>\n      <td>NaN</td>\n      <td>-108038.00</td>\n      <td>2</td>\n      <td>60134</td>\n      <td>NaN</td>\n      <td>1</td>\n      <td>2020-01-02</td>\n      <td>08:00:31</td>\n    </tr>\n    <tr>\n      <th>61</th>\n      <td>4G</td>\n      <td>EC-Claro(América Móvil)-01</td>\n      <td>2250</td>\n      <td>7.400102e+14</td>\n      <td>NaN</td>\n      <td>NaN</td>\n      <td>-112491.00</td>\n      <td>2</td>\n      <td>60134</td>\n      <td>NaN</td>\n      <td>1</td>\n      <td>2020-01-02</td>\n      <td>08:00:27</td>\n    </tr>\n    <tr>\n      <th>63</th>\n      <td>4G</td>\n      <td>EC-Movistar(Telefónica)-00</td>\n      <td>700</td>\n      <td>7.400002e+14</td>\n      <td>NaN</td>\n      <td>NaN</td>\n      <td>-100.85</td>\n      <td>2</td>\n      <td>-1</td>\n      <td>NaN</td>\n      <td>5</td>\n      <td>2020-01-02</td>\n      <td>11:44:59</td>\n    </tr>\n    <tr>\n      <th>52</th>\n      <td>4G</td>\n      <td>EC-Claro(América Móvil)-01</td>\n      <td>2250</td>\n      <td>7.400102e+14</td>\n      <td>NaN</td>\n      <td>NaN</td>\n      <td>-116397.00</td>\n      <td>2</td>\n      <td>60134</td>\n      <td>NaN</td>\n      <td>4</td>\n      <td>2020-01-02</td>\n      <td>08:39:47</td>\n    </tr>\n    <tr>\n      <th>64</th>\n      <td>4G</td>\n      <td>EC-Movistar(Telefónica)-00</td>\n      <td>700</td>\n      <td>7.400001e+14</td>\n      <td>NaN</td>\n      <td>NaN</td>\n      <td>-104678.00</td>\n      <td>2</td>\n      <td>-1</td>\n      <td>NaN</td>\n      <td>1</td>\n      <td>2020-01-02</td>\n      <td>10:18:30</td>\n    </tr>\n    <tr>\n      <th>59</th>\n      <td>4G</td>\n      <td>EC-Claro(América Móvil)-01</td>\n      <td>2250</td>\n      <td>7.400102e+14</td>\n      <td>NaN</td>\n      <td>NaN</td>\n      <td>-107882.00</td>\n      <td>2</td>\n      <td>60134</td>\n      <td>NaN</td>\n      <td>1</td>\n      <td>2020-01-02</td>\n      <td>08:01:59</td>\n    </tr>\n    <tr>\n      <th>66</th>\n      <td>4G</td>\n      <td>EC-Movistar(Telefónica)-00</td>\n      <td>700</td>\n      <td>7.400002e+14</td>\n      <td>NaN</td>\n      <td>NaN</td>\n      <td>-102022.00</td>\n      <td>2</td>\n      <td>9616</td>\n      <td>NaN</td>\n      <td>5</td>\n      <td>2020-01-02</td>\n      <td>13:48:47</td>\n    </tr>\n    <tr>\n      <th>67</th>\n      <td>4G</td>\n      <td>EC-Movistar(Telefónica)-00</td>\n      <td>700</td>\n      <td>7.400001e+14</td>\n      <td>NaN</td>\n      <td>NaN</td>\n      <td>-103116.00</td>\n      <td>2</td>\n      <td>9616</td>\n      <td>NaN</td>\n      <td>15</td>\n      <td>2020-01-02</td>\n      <td>13:49:05</td>\n    </tr>\n    <tr>\n      <th>68</th>\n      <td>4G</td>\n      <td>EC-Movistar(Telefónica)-00</td>\n      <td>700</td>\n      <td>7.400002e+14</td>\n      <td>NaN</td>\n      <td>NaN</td>\n      <td>-117413.00</td>\n      <td>2</td>\n      <td>9616</td>\n      <td>NaN</td>\n      <td>1</td>\n      <td>2020-01-02</td>\n      <td>10:05:28</td>\n    </tr>\n    <tr>\n      <th>69</th>\n      <td>4G</td>\n      <td>EC-Movistar(Telefónica)-00</td>\n      <td>700</td>\n      <td>7.400002e+14</td>\n      <td>NaN</td>\n      <td>NaN</td>\n      <td>-104757.00</td>\n      <td>2</td>\n      <td>-1</td>\n      <td>NaN</td>\n      <td>11</td>\n      <td>2020-01-02</td>\n      <td>13:48:39</td>\n    </tr>\n    <tr>\n      <th>70</th>\n      <td>4G</td>\n      <td>EC-Movistar(Telefónica)-00</td>\n      <td>700</td>\n      <td>7.400001e+14</td>\n      <td>NaN</td>\n      <td>NaN</td>\n      <td>-116319.00</td>\n      <td>2</td>\n      <td>9616</td>\n      <td>NaN</td>\n      <td>1</td>\n      <td>2020-01-02</td>\n      <td>10:05:15</td>\n    </tr>\n    <tr>\n      <th>71</th>\n      <td>4G</td>\n      <td>EC-Movistar(Telefónica)-00</td>\n      <td>700</td>\n      <td>7.400001e+14</td>\n      <td>NaN</td>\n      <td>NaN</td>\n      <td>-110616.00</td>\n      <td>2</td>\n      <td>9616</td>\n      <td>NaN</td>\n      <td>3</td>\n      <td>2020-01-02</td>\n      <td>13:49:10</td>\n    </tr>\n    <tr>\n      <th>53</th>\n      <td>4G</td>\n      <td>EC-Claro(América Móvil)-01</td>\n      <td>2250</td>\n      <td>7.400102e+14</td>\n      <td>NaN</td>\n      <td>NaN</td>\n      <td>-114991.00</td>\n      <td>2</td>\n      <td>60134</td>\n      <td>NaN</td>\n      <td>1</td>\n      <td>2020-01-02</td>\n      <td>08:05:33</td>\n    </tr>\n    <tr>\n      <th>65</th>\n      <td>4G</td>\n      <td>EC-Movistar(Telefónica)-00</td>\n      <td>700</td>\n      <td>7.400001e+14</td>\n      <td>NaN</td>\n      <td>NaN</td>\n      <td>-106241.00</td>\n      <td>2</td>\n      <td>9616</td>\n      <td>NaN</td>\n      <td>6</td>\n      <td>2020-01-02</td>\n      <td>12:07:11</td>\n    </tr>\n    <tr>\n      <th>51</th>\n      <td>4G</td>\n      <td>EC-Claro(América Móvil)-01</td>\n      <td>2250</td>\n      <td>7.400102e+14</td>\n      <td>NaN</td>\n      <td>NaN</td>\n      <td>-105303.00</td>\n      <td>2</td>\n      <td>60134</td>\n      <td>NaN</td>\n      <td>1</td>\n      <td>2020-01-02</td>\n      <td>08:07:37</td>\n    </tr>\n  </tbody>\n</table>\n<p>202 rows × 13 columns</p>\n</div>",
      "text/plain": "    RAT                    OPERATOR  CHANNEL          IMSI          IMEI TMSI  \\\n24   4G  EC-Movistar(Telefónica)-00      700  7.400001e+14           NaN  NaN   \n23   4G  EC-Movistar(Telefónica)-00      700  7.400002e+14           NaN  NaN   \n22   4G  EC-Movistar(Telefónica)-00      700  7.400051e+14           NaN  NaN   \n21   4G  EC-Movistar(Telefónica)-00      700  7.400001e+14           NaN  NaN   \n20   4G  EC-Movistar(Telefónica)-00      700  7.400002e+14           NaN  NaN   \n19   4G  EC-Movistar(Telefónica)-00      700  7.400051e+14           NaN  NaN   \n18   4G  EC-Movistar(Telefónica)-00      700  7.400052e+14           NaN  NaN   \n17   4G  EC-Movistar(Telefónica)-00      700  7.400002e+14           NaN  NaN   \n16   4G  EC-Movistar(Telefónica)-00      700  7.400102e+14           NaN  NaN   \n15   4G  EC-Movistar(Telefónica)-00      700  7.400001e+14           NaN  NaN   \n14   4G  EC-Movistar(Telefónica)-00      700  7.400052e+14           NaN  NaN   \n13   4G  EC-Movistar(Telefónica)-00      700  7.400001e+14           NaN  NaN   \n12   4G  EC-Claro(América Móvil)-01     2250  7.400102e+14           NaN  NaN   \n11   4G  EC-Claro(América Móvil)-01     2250  7.400102e+14           NaN  NaN   \n10   4G  EC-Claro(América Móvil)-01     2250  7.400102e+14           NaN  NaN   \n9    4G  EC-Claro(América Móvil)-01     2250  7.400102e+14           NaN  NaN   \n8    4G  EC-Claro(América Móvil)-01     2250  7.400102e+14           NaN  NaN   \n7    4G  EC-Claro(América Móvil)-01     2250  7.400102e+14           NaN  NaN   \n6    4G  EC-Claro(América Móvil)-01     2250  7.400102e+14           NaN  NaN   \n5    4G  EC-Claro(América Móvil)-01     2250  7.400102e+14           NaN  NaN   \n4    4G  EC-Claro(América Móvil)-01     2250  7.400102e+14           NaN  NaN   \n3    4G  EC-Claro(América Móvil)-01     2250  7.400102e+14           NaN  NaN   \n2    4G  EC-Claro(América Móvil)-01     2250  7.400102e+14           NaN  NaN   \n1    4G  EC-Claro(América Móvil)-01     2250  7.400102e+14           NaN  NaN   \n0    4G  EC-Claro(América Móvil)-01     2250  7.400102e+14           NaN  NaN   \n91   3G  EC-Claro(América Móvil)-01      612           NaN  3.583801e+14    0   \n142  3G  EC-Claro(América Móvil)-01     4387           NaN  3.552161e+14    0   \n143  3G  EC-Claro(América Móvil)-01      587           NaN  3.552161e+14    0   \n152  3G  EC-Claro(América Móvil)-01      587           NaN  8.636970e+14    0   \n153  3G  EC-Claro(América Móvil)-01     4387           NaN  8.671290e+14    0   \n..   ..                         ...      ...           ...           ...  ...   \n42   4G  EC-Claro(América Móvil)-01     2250  7.400002e+14           NaN  NaN   \n54   4G  EC-Claro(América Móvil)-01     2250  7.400102e+14           NaN  NaN   \n45   4G  EC-Claro(América Móvil)-01     2250  7.400102e+14           NaN  NaN   \n46   4G  EC-Claro(América Móvil)-01     2250  7.400102e+14           NaN  NaN   \n47   4G  EC-Claro(América Móvil)-01     2250  7.400102e+14           NaN  NaN   \n48   4G  EC-Claro(América Móvil)-01     2250  7.400102e+14           NaN  NaN   \n49   4G  EC-Claro(América Móvil)-01     2250  7.400102e+14           NaN  NaN   \n43   4G  EC-Claro(América Móvil)-01     2250  7.400102e+14           NaN  NaN   \n32   4G  EC-Claro(América Móvil)-01      925  7.400102e+14           NaN  NaN   \n44   4G  EC-Claro(América Móvil)-01     2250  7.400102e+14           NaN  NaN   \n31   4G  EC-Claro(América Móvil)-01      925  7.400102e+14           NaN  NaN   \n40   4G  EC-Claro(América Móvil)-01     2250  7.400102e+14           NaN  NaN   \n56   4G  EC-Claro(América Móvil)-01     2250  7.400102e+14           NaN  NaN   \n57   4G  EC-Claro(América Móvil)-01     2250  7.400102e+14           NaN  NaN   \n58   4G  EC-Claro(América Móvil)-01     2250  7.400102e+14           NaN  NaN   \n60   4G  EC-Claro(América Móvil)-01     2250  7.400102e+14           NaN  NaN   \n61   4G  EC-Claro(América Móvil)-01     2250  7.400102e+14           NaN  NaN   \n63   4G  EC-Movistar(Telefónica)-00      700  7.400002e+14           NaN  NaN   \n52   4G  EC-Claro(América Móvil)-01     2250  7.400102e+14           NaN  NaN   \n64   4G  EC-Movistar(Telefónica)-00      700  7.400001e+14           NaN  NaN   \n59   4G  EC-Claro(América Móvil)-01     2250  7.400102e+14           NaN  NaN   \n66   4G  EC-Movistar(Telefónica)-00      700  7.400002e+14           NaN  NaN   \n67   4G  EC-Movistar(Telefónica)-00      700  7.400001e+14           NaN  NaN   \n68   4G  EC-Movistar(Telefónica)-00      700  7.400002e+14           NaN  NaN   \n69   4G  EC-Movistar(Telefónica)-00      700  7.400002e+14           NaN  NaN   \n70   4G  EC-Movistar(Telefónica)-00      700  7.400001e+14           NaN  NaN   \n71   4G  EC-Movistar(Telefónica)-00      700  7.400001e+14           NaN  NaN   \n53   4G  EC-Claro(América Móvil)-01     2250  7.400102e+14           NaN  NaN   \n65   4G  EC-Movistar(Telefónica)-00      700  7.400001e+14           NaN  NaN   \n51   4G  EC-Claro(América Móvil)-01     2250  7.400102e+14           NaN  NaN   \n\n      MS POWER  TA  LAST LAC  NAME  HITS        DATE      TIME  \n24  -104522.00   2      9616   NaN     3  2019-12-31  12:07:42  \n23  -107257.00   2      9616   NaN     1  2019-12-31  08:07:22  \n22  -109835.00   2      9616   NaN     1  2019-12-31  08:07:31  \n21  -115382.00   2        -1   NaN     1  2019-12-31  08:07:56  \n20  -110147.00   2      9616   NaN     3  2019-12-31  12:20:57  \n19  -110069.00   2      9616   NaN     1  2019-12-31  08:24:48  \n18  -112178.00   2      9616   NaN     1  2019-12-31  09:25:04  \n17  -115069.00   2        -1   NaN     1  2019-12-31  10:09:22  \n16  -115147.00   2        -1   NaN     1  2019-12-31  10:50:09  \n15  -112491.00   2        -1   NaN     1  2019-12-31  11:11:05  \n14  -112413.00   2      9616   NaN     1  2019-12-31  12:04:39  \n13  -111866.00   2      9616   NaN     1  2019-12-31  12:04:57  \n12  -101397.00   2     60134   NaN     2  2019-12-31  16:22:20  \n11  -107647.00   2     60134   NaN     1  2019-12-31  16:14:07  \n10  -103975.00   2     60134   NaN     2  2019-12-31  16:14:36  \n9   -111319.00   2     60134   NaN     1  2019-12-31  16:14:15  \n8   -113975.00   2     60134   NaN     1  2019-12-31  16:14:16  \n7      -111.71   2     60134   NaN     1  2019-12-31  16:14:33  \n6      -112.10   2     60134   NaN     1  2019-12-31  16:14:43  \n5   -110147.00   2     60134   NaN     1  2019-12-31  16:16:04  \n4   -104444.00   2     60134   NaN     1  2019-12-31  16:20:54  \n3   -115069.00   2        -1   NaN     1  2019-12-31  16:27:43  \n2   -110616.00   2     60134   NaN     1  2019-12-31  16:28:54  \n1   -975691.00   2     60134   NaN     1  2019-12-31  16:29:28  \n0   -108819.00   2     60134   NaN     1  2019-12-31  16:30:03  \n91      -95.00   2     32769   NaN     1  2019-12-31  19:48:03  \n142     -52.00   2     32769   NaN     1  2019-12-31  18:30:47  \n143    -105.00   2     32769   NaN     1  2019-12-31  18:30:39  \n152    -107.00   2     32769   NaN     1  2019-12-31  18:24:00  \n153     -97.00   3     32768   NaN     1  2019-12-31  18:23:10  \n..         ...  ..       ...   ...   ...         ...       ...  \n42  -107882.00   2      9616   NaN     1  2020-01-02  08:50:20  \n54  -109132.00   2     60134   NaN     2  2020-01-02  09:29:47  \n45  -113975.00   2     60134   NaN     9  2020-01-02  09:57:25  \n46  -106944.00   2     60134   NaN     1  2020-01-02  08:20:10  \n47  -114444.00   2     60134   NaN     1  2020-01-02  08:17:57  \n48  -953034.00   2     60134   NaN    10  2020-01-02  09:00:21  \n49  -120694.00   2     60134   NaN     1  2020-01-02  08:11:52  \n43  -102725.00   2     60134   NaN     1  2020-01-02  08:50:08  \n32  -101475.00   2     60136   NaN    25  2020-01-02  16:40:40  \n44  -114835.00   2     60136   NaN     9  2020-01-02  10:00:33  \n31  -101319.00   2        -1   NaN    34  2020-01-02  16:35:21  \n40     -111.71   2     60134   NaN     1  2020-01-02  09:12:32  \n56  -937409.00   2        -1   NaN     3  2020-01-02  09:03:44  \n57  -110694.00   2     60134   NaN     3  2020-01-02  09:28:30  \n58     -109.21   2     60134   NaN     4  2020-01-02  08:52:17  \n60  -108038.00   2     60134   NaN     1  2020-01-02  08:00:31  \n61  -112491.00   2     60134   NaN     1  2020-01-02  08:00:27  \n63     -100.85   2        -1   NaN     5  2020-01-02  11:44:59  \n52  -116397.00   2     60134   NaN     4  2020-01-02  08:39:47  \n64  -104678.00   2        -1   NaN     1  2020-01-02  10:18:30  \n59  -107882.00   2     60134   NaN     1  2020-01-02  08:01:59  \n66  -102022.00   2      9616   NaN     5  2020-01-02  13:48:47  \n67  -103116.00   2      9616   NaN    15  2020-01-02  13:49:05  \n68  -117413.00   2      9616   NaN     1  2020-01-02  10:05:28  \n69  -104757.00   2        -1   NaN    11  2020-01-02  13:48:39  \n70  -116319.00   2      9616   NaN     1  2020-01-02  10:05:15  \n71  -110616.00   2      9616   NaN     3  2020-01-02  13:49:10  \n53  -114991.00   2     60134   NaN     1  2020-01-02  08:05:33  \n65  -106241.00   2      9616   NaN     6  2020-01-02  12:07:11  \n51  -105303.00   2     60134   NaN     1  2020-01-02  08:07:37  \n\n[202 rows x 13 columns]"
     },
     "execution_count": 147,
     "metadata": {},
     "output_type": "execute_result"
    }
   ],
   "source": [
    "def getDatosIncosistentes(df, cols=[]):\n",
    "    return df[df[cols[0]].isnull() | df[cols[1]].isnull()]\n",
    "getDatosIncosistentes(allData, ['IMEI', 'IMSI'])"
   ]
  },
  {
   "cell_type": "code",
   "execution_count": 148,
   "metadata": {},
   "outputs": [
    {
     "ename": "ValueError",
     "evalue": "Length mismatch: Expected axis has 3528 elements, new values have 3627 elements",
     "output_type": "error",
     "traceback": [
      "\u001b[1;31m---------------------------------------------------------------------------\u001b[0m",
      "\u001b[1;31mValueError\u001b[0m                                Traceback (most recent call last)",
      "\u001b[1;32m<ipython-input-148-40b7eb3e732e>\u001b[0m in \u001b[0;36m<module>\u001b[1;34m\u001b[0m\n\u001b[0;32m      2\u001b[0m     return  df.groupby('IMEI')['HITS'].transform(lambda x: sum(x)\n\u001b[0;32m      3\u001b[0m )\n\u001b[1;32m----> 4\u001b[1;33m \u001b[0mobtenerHitsEmai\u001b[0m\u001b[1;33m(\u001b[0m\u001b[0mallData\u001b[0m\u001b[1;33m)\u001b[0m\u001b[1;33m\u001b[0m\u001b[1;33m\u001b[0m\u001b[0m\n\u001b[0m",
      "\u001b[1;32m<ipython-input-148-40b7eb3e732e>\u001b[0m in \u001b[0;36mobtenerHitsEmai\u001b[1;34m(df)\u001b[0m\n\u001b[0;32m      1\u001b[0m \u001b[1;32mdef\u001b[0m \u001b[0mobtenerHitsEmai\u001b[0m\u001b[1;33m(\u001b[0m\u001b[0mdf\u001b[0m\u001b[1;33m)\u001b[0m\u001b[1;33m:\u001b[0m\u001b[1;33m\u001b[0m\u001b[1;33m\u001b[0m\u001b[0m\n\u001b[1;32m----> 2\u001b[1;33m     return  df.groupby('IMEI')['HITS'].transform(lambda x: sum(x)\n\u001b[0m\u001b[0;32m      3\u001b[0m )\n\u001b[0;32m      4\u001b[0m \u001b[0mobtenerHitsEmai\u001b[0m\u001b[1;33m(\u001b[0m\u001b[0mallData\u001b[0m\u001b[1;33m)\u001b[0m\u001b[1;33m\u001b[0m\u001b[1;33m\u001b[0m\u001b[0m\n",
      "\u001b[1;32m~\\AppData\\Local\\Continuum\\anaconda3\\lib\\site-packages\\pandas\\core\\groupby\\generic.py\u001b[0m in \u001b[0;36mtransform\u001b[1;34m(self, func, *args, **kwargs)\u001b[0m\n\u001b[0;32m    953\u001b[0m \u001b[1;33m\u001b[0m\u001b[0m\n\u001b[0;32m    954\u001b[0m         \u001b[0mresult\u001b[0m\u001b[1;33m.\u001b[0m\u001b[0mname\u001b[0m \u001b[1;33m=\u001b[0m \u001b[0mself\u001b[0m\u001b[1;33m.\u001b[0m\u001b[0m_selected_obj\u001b[0m\u001b[1;33m.\u001b[0m\u001b[0mname\u001b[0m\u001b[1;33m\u001b[0m\u001b[1;33m\u001b[0m\u001b[0m\n\u001b[1;32m--> 955\u001b[1;33m         \u001b[0mresult\u001b[0m\u001b[1;33m.\u001b[0m\u001b[0mindex\u001b[0m \u001b[1;33m=\u001b[0m \u001b[0mself\u001b[0m\u001b[1;33m.\u001b[0m\u001b[0m_selected_obj\u001b[0m\u001b[1;33m.\u001b[0m\u001b[0mindex\u001b[0m\u001b[1;33m\u001b[0m\u001b[1;33m\u001b[0m\u001b[0m\n\u001b[0m\u001b[0;32m    956\u001b[0m         \u001b[1;32mreturn\u001b[0m \u001b[0mresult\u001b[0m\u001b[1;33m\u001b[0m\u001b[1;33m\u001b[0m\u001b[0m\n\u001b[0;32m    957\u001b[0m \u001b[1;33m\u001b[0m\u001b[0m\n",
      "\u001b[1;32m~\\AppData\\Local\\Continuum\\anaconda3\\lib\\site-packages\\pandas\\core\\generic.py\u001b[0m in \u001b[0;36m__setattr__\u001b[1;34m(self, name, value)\u001b[0m\n\u001b[0;32m   5078\u001b[0m         \u001b[1;32mtry\u001b[0m\u001b[1;33m:\u001b[0m\u001b[1;33m\u001b[0m\u001b[1;33m\u001b[0m\u001b[0m\n\u001b[0;32m   5079\u001b[0m             \u001b[0mobject\u001b[0m\u001b[1;33m.\u001b[0m\u001b[0m__getattribute__\u001b[0m\u001b[1;33m(\u001b[0m\u001b[0mself\u001b[0m\u001b[1;33m,\u001b[0m \u001b[0mname\u001b[0m\u001b[1;33m)\u001b[0m\u001b[1;33m\u001b[0m\u001b[1;33m\u001b[0m\u001b[0m\n\u001b[1;32m-> 5080\u001b[1;33m             \u001b[1;32mreturn\u001b[0m \u001b[0mobject\u001b[0m\u001b[1;33m.\u001b[0m\u001b[0m__setattr__\u001b[0m\u001b[1;33m(\u001b[0m\u001b[0mself\u001b[0m\u001b[1;33m,\u001b[0m \u001b[0mname\u001b[0m\u001b[1;33m,\u001b[0m \u001b[0mvalue\u001b[0m\u001b[1;33m)\u001b[0m\u001b[1;33m\u001b[0m\u001b[1;33m\u001b[0m\u001b[0m\n\u001b[0m\u001b[0;32m   5081\u001b[0m         \u001b[1;32mexcept\u001b[0m \u001b[0mAttributeError\u001b[0m\u001b[1;33m:\u001b[0m\u001b[1;33m\u001b[0m\u001b[1;33m\u001b[0m\u001b[0m\n\u001b[0;32m   5082\u001b[0m             \u001b[1;32mpass\u001b[0m\u001b[1;33m\u001b[0m\u001b[1;33m\u001b[0m\u001b[0m\n",
      "\u001b[1;32mpandas/_libs/properties.pyx\u001b[0m in \u001b[0;36mpandas._libs.properties.AxisProperty.__set__\u001b[1;34m()\u001b[0m\n",
      "\u001b[1;32m~\\AppData\\Local\\Continuum\\anaconda3\\lib\\site-packages\\pandas\\core\\series.py\u001b[0m in \u001b[0;36m_set_axis\u001b[1;34m(self, axis, labels, fastpath)\u001b[0m\n\u001b[0;32m    378\u001b[0m         \u001b[0mobject\u001b[0m\u001b[1;33m.\u001b[0m\u001b[0m__setattr__\u001b[0m\u001b[1;33m(\u001b[0m\u001b[0mself\u001b[0m\u001b[1;33m,\u001b[0m \u001b[1;34m'_index'\u001b[0m\u001b[1;33m,\u001b[0m \u001b[0mlabels\u001b[0m\u001b[1;33m)\u001b[0m\u001b[1;33m\u001b[0m\u001b[1;33m\u001b[0m\u001b[0m\n\u001b[0;32m    379\u001b[0m         \u001b[1;32mif\u001b[0m \u001b[1;32mnot\u001b[0m \u001b[0mfastpath\u001b[0m\u001b[1;33m:\u001b[0m\u001b[1;33m\u001b[0m\u001b[1;33m\u001b[0m\u001b[0m\n\u001b[1;32m--> 380\u001b[1;33m             \u001b[0mself\u001b[0m\u001b[1;33m.\u001b[0m\u001b[0m_data\u001b[0m\u001b[1;33m.\u001b[0m\u001b[0mset_axis\u001b[0m\u001b[1;33m(\u001b[0m\u001b[0maxis\u001b[0m\u001b[1;33m,\u001b[0m \u001b[0mlabels\u001b[0m\u001b[1;33m)\u001b[0m\u001b[1;33m\u001b[0m\u001b[1;33m\u001b[0m\u001b[0m\n\u001b[0m\u001b[0;32m    381\u001b[0m \u001b[1;33m\u001b[0m\u001b[0m\n\u001b[0;32m    382\u001b[0m     \u001b[1;32mdef\u001b[0m \u001b[0m_set_subtyp\u001b[0m\u001b[1;33m(\u001b[0m\u001b[0mself\u001b[0m\u001b[1;33m,\u001b[0m \u001b[0mis_all_dates\u001b[0m\u001b[1;33m)\u001b[0m\u001b[1;33m:\u001b[0m\u001b[1;33m\u001b[0m\u001b[1;33m\u001b[0m\u001b[0m\n",
      "\u001b[1;32m~\\AppData\\Local\\Continuum\\anaconda3\\lib\\site-packages\\pandas\\core\\internals\\managers.py\u001b[0m in \u001b[0;36mset_axis\u001b[1;34m(self, axis, new_labels)\u001b[0m\n\u001b[0;32m    153\u001b[0m             raise ValueError(\n\u001b[0;32m    154\u001b[0m                 \u001b[1;34m'Length mismatch: Expected axis has {old} elements, new '\u001b[0m\u001b[1;33m\u001b[0m\u001b[1;33m\u001b[0m\u001b[0m\n\u001b[1;32m--> 155\u001b[1;33m                 'values have {new} elements'.format(old=old_len, new=new_len))\n\u001b[0m\u001b[0;32m    156\u001b[0m \u001b[1;33m\u001b[0m\u001b[0m\n\u001b[0;32m    157\u001b[0m         \u001b[0mself\u001b[0m\u001b[1;33m.\u001b[0m\u001b[0maxes\u001b[0m\u001b[1;33m[\u001b[0m\u001b[0maxis\u001b[0m\u001b[1;33m]\u001b[0m \u001b[1;33m=\u001b[0m \u001b[0mnew_labels\u001b[0m\u001b[1;33m\u001b[0m\u001b[1;33m\u001b[0m\u001b[0m\n",
      "\u001b[1;31mValueError\u001b[0m: Length mismatch: Expected axis has 3528 elements, new values have 3627 elements"
     ]
    }
   ],
   "source": [
    "def obtenerHitsEmai(df):\n",
    "    return  df.groupby('IMEI')['HITS'].transform(lambda x: sum(x)\n",
    ")\n",
    "obtenerHitsEmai(allData)"
   ]
  },
  {
   "cell_type": "code",
   "execution_count": 17,
   "metadata": {},
   "outputs": [
    {
     "data": {
      "text/plain": "['EC-Claro(América Móvil)-01', 'EC-Movistar(Telefónica)-00']"
     },
     "execution_count": 17,
     "metadata": {},
     "output_type": "execute_result"
    }
   ],
   "source": [
    "def getUniqueColumnValues(df, column):\n",
    "    return df[column].unique()\n",
    "getUniqueRows(allData,'OPERATOR').tolist()"
   ]
  },
  {
   "cell_type": "code",
   "execution_count": null,
   "metadata": {},
   "outputs": [],
   "source": []
  }
 ],
 "metadata": {
  "kernelspec": {
   "display_name": "Python 3",
   "language": "python",
   "name": "python3"
  },
  "language_info": {
   "codemirror_mode": {
    "name": "ipython",
    "version": 3
   },
   "file_extension": ".py",
   "mimetype": "text/x-python",
   "name": "python",
   "nbconvert_exporter": "python",
   "pygments_lexer": "ipython3",
   "version": "3.7.4-final"
  }
 },
 "nbformat": 4,
 "nbformat_minor": 2
}