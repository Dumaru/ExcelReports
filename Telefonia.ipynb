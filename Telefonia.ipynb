{
 "cells": [
  {
   "cell_type": "markdown",
   "execution_count": null,
   "metadata": {},
   "outputs": [],
   "source": [
    "Info Links: https://code.visualstudio.com/docs/python/jupyter-support  \n",
    "https://stackoverflow.com/questions/35226904/convert-spanish-date-in-string-format  \n",
    "https://stackabuse.com/how-to-format-dates-in-python/  \n",
    "Dateparser docs:https://dateparser.readthedocs.io/en/latest/  \n",
    "\n",
    "Threads:https://stackoverflow.com/questions/34386561/pyqt-not-responding  \n",
    "Thread and return:https://stackoverflow.com/questions/6893968/how-to-get-the-return-value-from-a-thread-in-python \n",
    "\n",
    "\n",
    "Tuto threads:http://www.laurentluce.com/posts/python-threads-synchronization-locks-rlocks-semaphores-conditions-events-and-queues/  \n",
    "Threads PyQT5: https://stackoverflow.com/questions/42357656/pyqt5-timers-cannot-be-started-from-another-thread-error-when-changing-size-of\n",
    "\n",
    "\n",
    "RESPUESTA FINAL: https://stackoverflow.com/questions/42357656/pyqt5-timers-cannot-be-started-from-another-thread-error-when-changing-size-of\n",
    "\n",
    "\n",
    "Problema cierre de ventanas por que los recolecta pa basura: https://www.reddit.com/r/Python/comments/7cml65/pyqt_second_screen_closes_immediately/\n",
    "\n",
    "PyQT COMPORTAMIENTO:https://doc.qt.io/archives/qt-4.8/qapplication.html#lastWindowClosed\n"
   ]
  },
  {
   "cell_type": "markdown",
   "execution_count": null,
   "metadata": {},
   "outputs": [],
   "source": [
    "## Imports the necessary libraries"
   ]
  },
  {
   "cell_type": "code",
   "execution_count": 1,
   "metadata": {},
   "outputs": [],
   "source": [
    "import os\n",
    "import pandas as pd\n",
    "import numpy as np"
   ]
  },
  {
   "cell_type": "code",
   "execution_count": 2,
   "metadata": {},
   "outputs": [
    {
     "data": {
      "text/plain": "['Dic312019.xlsx', 'Ene022020.xlsx']"
     },
     "execution_count": 2,
     "metadata": {},
     "output_type": "execute_result"
    }
   ],
   "source": [
    "# Gets all the files from the dir\n",
    "baseDir = r\"C:\\\\Users\\\\robin\\\\Google Drive\\\\WORK\\\\ExcelsStuff\\\\files\"\n",
    "fileNames = []\n",
    "for filename in os.listdir(baseDir):\n",
    "    if(filename.startswith('~$')):\n",
    "        continue\n",
    "    fileNames.append(filename)\n",
    "fileNames"
   ]
  },
  {
   "cell_type": "markdown",
   "execution_count": null,
   "metadata": {},
   "outputs": [],
   "source": [
    "## Reads each excel file and saves all the sheets into a list with the specified columns"
   ]
  },
  {
   "cell_type": "code",
   "execution_count": 3,
   "metadata": {},
   "outputs": [
    {
     "data": {
      "text/plain": "2"
     },
     "execution_count": 3,
     "metadata": {},
     "output_type": "execute_result"
    }
   ],
   "source": [
    "\n",
    "dfs = []\n",
    "COLS = [\"RAT\",\"OPERATOR\",\"CHANNEL\",\"IMEI\",\"IMSI\",\"TMSI\",\n",
    "        \"MS POWER\",\"TA\",\"LAST LAC\",\"NAME\",\"HITS\",\"DATE-TIME\"]\n",
    "for filename in fileNames:\n",
    "    # dfs.append(pd.read_excel(f\"{baseDir}\\\\{filename}\"))\n",
    "    temd_dfs = [pd.read_excel(f\"{baseDir}\\\\{filename}\", sheet_name=0, usecols=COLS), #2G\n",
    "                pd.read_excel(f\"{baseDir}\\\\{filename}\", sheet_name=1, usecols=COLS), #3G\n",
    "                pd.read_excel(f\"{baseDir}\\\\{filename}\", sheet_name=2, usecols=COLS)] #4G\n",
    "    dfs.append(temd_dfs)\n",
    "len(dfs)"
   ]
  },
  {
   "cell_type": "code",
   "execution_count": 4,
   "metadata": {},
   "outputs": [
    {
     "data": {
      "text/html": "<div>\n<style scoped>\n    .dataframe tbody tr th:only-of-type {\n        vertical-align: middle;\n    }\n\n    .dataframe tbody tr th {\n        vertical-align: top;\n    }\n\n    .dataframe thead th {\n        text-align: right;\n    }\n</style>\n<table border=\"1\" class=\"dataframe\">\n  <thead>\n    <tr style=\"text-align: right;\">\n      <th></th>\n      <th>RAT</th>\n      <th>OPERATOR</th>\n      <th>CHANNEL</th>\n      <th>IMSI</th>\n      <th>IMEI</th>\n      <th>TMSI</th>\n      <th>MS POWER</th>\n      <th>TA</th>\n      <th>LAST LAC</th>\n      <th>NAME</th>\n      <th>HITS</th>\n      <th>DATE-TIME</th>\n    </tr>\n  </thead>\n  <tbody>\n    <tr>\n      <td>0</td>\n      <td>2G</td>\n      <td>EC-Claro(América Móvil)-01</td>\n      <td>144</td>\n      <td>740020170411491</td>\n      <td>359459077681588</td>\n      <td>FFFFFFFF</td>\n      <td>-61</td>\n      <td>0</td>\n      <td>65534</td>\n      <td>NaN</td>\n      <td>1</td>\n      <td>mi. ene. 1 03:05:16 2020</td>\n    </tr>\n    <tr>\n      <td>1</td>\n      <td>2G</td>\n      <td>EC-Claro(América Móvil)-01</td>\n      <td>144</td>\n      <td>740010164127419</td>\n      <td>357815081319451</td>\n      <td>FFFFFFFF</td>\n      <td>-62</td>\n      <td>0</td>\n      <td>65534</td>\n      <td>NaN</td>\n      <td>1</td>\n      <td>mi. ene. 1 03:04:51 2020</td>\n    </tr>\n    <tr>\n      <td>2</td>\n      <td>2G</td>\n      <td>EC-Claro(América Móvil)-01</td>\n      <td>144</td>\n      <td>740010177429066</td>\n      <td>863697045358438</td>\n      <td>151D1A53</td>\n      <td>-66</td>\n      <td>0</td>\n      <td>50134</td>\n      <td>NaN</td>\n      <td>1</td>\n      <td>mi. ene. 1 02:55:06 2020</td>\n    </tr>\n    <tr>\n      <td>3</td>\n      <td>2G</td>\n      <td>EC-Claro(América Móvil)-01</td>\n      <td>144</td>\n      <td>740010120727910</td>\n      <td>357084081525001</td>\n      <td>97155956</td>\n      <td>-62</td>\n      <td>0</td>\n      <td>10228</td>\n      <td>NaN</td>\n      <td>1</td>\n      <td>mi. ene. 1 02:54:44 2020</td>\n    </tr>\n    <tr>\n      <td>4</td>\n      <td>2G</td>\n      <td>EC-Claro(América Móvil)-01</td>\n      <td>144</td>\n      <td>740010180400328</td>\n      <td>358099104079272</td>\n      <td>FFFFFFFF</td>\n      <td>-64</td>\n      <td>0</td>\n      <td>65534</td>\n      <td>NaN</td>\n      <td>1</td>\n      <td>mi. ene. 1 02:37:15 2020</td>\n    </tr>\n  </tbody>\n</table>\n</div>",
      "text/plain": "  RAT                    OPERATOR  CHANNEL             IMSI             IMEI  \\\n0  2G  EC-Claro(América Móvil)-01      144  740020170411491  359459077681588   \n1  2G  EC-Claro(América Móvil)-01      144  740010164127419  357815081319451   \n2  2G  EC-Claro(América Móvil)-01      144  740010177429066  863697045358438   \n3  2G  EC-Claro(América Móvil)-01      144  740010120727910  357084081525001   \n4  2G  EC-Claro(América Móvil)-01      144  740010180400328  358099104079272   \n\n       TMSI  MS POWER  TA  LAST LAC  NAME  HITS                 DATE-TIME  \n0  FFFFFFFF       -61   0     65534   NaN     1  mi. ene. 1 03:05:16 2020  \n1  FFFFFFFF       -62   0     65534   NaN     1  mi. ene. 1 03:04:51 2020  \n2  151D1A53       -66   0     50134   NaN     1  mi. ene. 1 02:55:06 2020  \n3  97155956       -62   0     10228   NaN     1  mi. ene. 1 02:54:44 2020  \n4  FFFFFFFF       -64   0     65534   NaN     1  mi. ene. 1 02:37:15 2020  "
     },
     "execution_count": 4,
     "metadata": {},
     "output_type": "execute_result"
    }
   ],
   "source": [
    "dfs[0][0].head()"
   ]
  },
  {
   "cell_type": "code",
   "execution_count": 5,
   "metadata": {},
   "outputs": [
    {
     "data": {
      "text/plain": "3"
     },
     "execution_count": 5,
     "metadata": {},
     "output_type": "execute_result"
    }
   ],
   "source": [
    "# The dfs[0] means the excel file at index 0 with the 3 pages as dataframes\n",
    "len(dfs[0])\n",
    "# The fisrt index is a list of dataframes that has everydataframe"
   ]
  },
  {
   "cell_type": "code",
   "execution_count": 6,
   "metadata": {},
   "outputs": [
    {
     "data": {
      "text/plain": "6"
     },
     "execution_count": 6,
     "metadata": {},
     "output_type": "execute_result"
    }
   ],
   "source": [
    "len([df for dflist in dfs for df in dflist])"
   ]
  },
  {
   "cell_type": "code",
   "execution_count": 7,
   "metadata": {},
   "outputs": [
    {
     "name": "stdout",
     "output_type": "stream",
     "text": "<class 'pandas.core.frame.DataFrame'>\nInt64Index: 3627 entries, 0 to 73\nData columns (total 12 columns):\nRAT          3627 non-null object\nOPERATOR     3627 non-null object\nCHANNEL      3627 non-null int64\nIMSI         3524 non-null float64\nIMEI         3528 non-null float64\nTMSI         3528 non-null object\nMS POWER     3627 non-null float64\nTA           3627 non-null int64\nLAST LAC     3627 non-null int64\nNAME         0 non-null float64\nHITS         3627 non-null int64\nDATE-TIME    3627 non-null object\ndtypes: float64(4), int64(4), object(4)\nmemory usage: 368.4+ KB\n"
    }
   ],
   "source": [
    "allData = pd.concat([df for dflist in dfs for df in dflist])\n",
    "allData.info() # 3633-6 filas sin contar los headers"
   ]
  },
  {
   "cell_type": "code",
   "execution_count": 9,
   "metadata": {},
   "outputs": [],
   "source": [
    "# Renaming columns\n",
    "cols = allData.columns\n",
    "cols = cols.map(lambda x: x.strip().replace(' ', '_').strip() if isinstance(x, (str, )) else x)\n",
    "allData.columns = cols"
   ]
  },
  {
   "cell_type": "code",
   "execution_count": 8,
   "metadata": {},
   "outputs": [
    {
     "data": {
      "text/html": "<div>\n<style scoped>\n    .dataframe tbody tr th:only-of-type {\n        vertical-align: middle;\n    }\n\n    .dataframe tbody tr th {\n        vertical-align: top;\n    }\n\n    .dataframe thead th {\n        text-align: right;\n    }\n</style>\n<table border=\"1\" class=\"dataframe\">\n  <thead>\n    <tr style=\"text-align: right;\">\n      <th></th>\n      <th>RAT</th>\n      <th>OPERATOR</th>\n      <th>CHANNEL</th>\n      <th>IMSI</th>\n      <th>IMEI</th>\n      <th>TMSI</th>\n      <th>MS POWER</th>\n      <th>TA</th>\n      <th>LAST LAC</th>\n      <th>NAME</th>\n      <th>HITS</th>\n      <th>DATE-TIME</th>\n    </tr>\n  </thead>\n  <tbody>\n    <tr>\n      <td>0</td>\n      <td>2G</td>\n      <td>EC-Claro(América Móvil)-01</td>\n      <td>144</td>\n      <td>7.400202e+14</td>\n      <td>3.594591e+14</td>\n      <td>FFFFFFFF</td>\n      <td>-61.0</td>\n      <td>0</td>\n      <td>65534</td>\n      <td>NaN</td>\n      <td>1</td>\n      <td>mi. ene. 1 03:05:16 2020</td>\n    </tr>\n    <tr>\n      <td>1</td>\n      <td>2G</td>\n      <td>EC-Claro(América Móvil)-01</td>\n      <td>144</td>\n      <td>7.400102e+14</td>\n      <td>3.578151e+14</td>\n      <td>FFFFFFFF</td>\n      <td>-62.0</td>\n      <td>0</td>\n      <td>65534</td>\n      <td>NaN</td>\n      <td>1</td>\n      <td>mi. ene. 1 03:04:51 2020</td>\n    </tr>\n    <tr>\n      <td>2</td>\n      <td>2G</td>\n      <td>EC-Claro(América Móvil)-01</td>\n      <td>144</td>\n      <td>7.400102e+14</td>\n      <td>8.636970e+14</td>\n      <td>151D1A53</td>\n      <td>-66.0</td>\n      <td>0</td>\n      <td>50134</td>\n      <td>NaN</td>\n      <td>1</td>\n      <td>mi. ene. 1 02:55:06 2020</td>\n    </tr>\n    <tr>\n      <td>3</td>\n      <td>2G</td>\n      <td>EC-Claro(América Móvil)-01</td>\n      <td>144</td>\n      <td>7.400101e+14</td>\n      <td>3.570841e+14</td>\n      <td>97155956</td>\n      <td>-62.0</td>\n      <td>0</td>\n      <td>10228</td>\n      <td>NaN</td>\n      <td>1</td>\n      <td>mi. ene. 1 02:54:44 2020</td>\n    </tr>\n    <tr>\n      <td>4</td>\n      <td>2G</td>\n      <td>EC-Claro(América Móvil)-01</td>\n      <td>144</td>\n      <td>7.400102e+14</td>\n      <td>3.580991e+14</td>\n      <td>FFFFFFFF</td>\n      <td>-64.0</td>\n      <td>0</td>\n      <td>65534</td>\n      <td>NaN</td>\n      <td>1</td>\n      <td>mi. ene. 1 02:37:15 2020</td>\n    </tr>\n  </tbody>\n</table>\n</div>",
      "text/plain": "  RAT                    OPERATOR  CHANNEL          IMSI          IMEI  \\\n0  2G  EC-Claro(América Móvil)-01      144  7.400202e+14  3.594591e+14   \n1  2G  EC-Claro(América Móvil)-01      144  7.400102e+14  3.578151e+14   \n2  2G  EC-Claro(América Móvil)-01      144  7.400102e+14  8.636970e+14   \n3  2G  EC-Claro(América Móvil)-01      144  7.400101e+14  3.570841e+14   \n4  2G  EC-Claro(América Móvil)-01      144  7.400102e+14  3.580991e+14   \n\n       TMSI  MS POWER  TA  LAST LAC  NAME  HITS                 DATE-TIME  \n0  FFFFFFFF     -61.0   0     65534   NaN     1  mi. ene. 1 03:05:16 2020  \n1  FFFFFFFF     -62.0   0     65534   NaN     1  mi. ene. 1 03:04:51 2020  \n2  151D1A53     -66.0   0     50134   NaN     1  mi. ene. 1 02:55:06 2020  \n3  97155956     -62.0   0     10228   NaN     1  mi. ene. 1 02:54:44 2020  \n4  FFFFFFFF     -64.0   0     65534   NaN     1  mi. ene. 1 02:37:15 2020  "
     },
     "execution_count": 8,
     "metadata": {},
     "output_type": "execute_result"
    }
   ],
   "source": [
    "allData.head()"
   ]
  },
  {
   "cell_type": "markdown",
   "execution_count": null,
   "metadata": {},
   "outputs": [],
   "source": [
    "### Returns a datetime object from a string representation"
   ]
  },
  {
   "cell_type": "code",
   "execution_count": 10,
   "metadata": {},
   "outputs": [
    {
     "name": "stdout",
     "output_type": "stream",
     "text": "2019-12-31 23:50:11\n"
    },
    {
     "data": {
      "text/plain": "pandas._libs.tslibs.timestamps.Timestamp"
     },
     "execution_count": 10,
     "metadata": {},
     "output_type": "execute_result"
    }
   ],
   "source": [
    "def getMonthInt(strMonth):\n",
    "    if(strMonth.lower() in [\"ene\"]):\n",
    "        return 1\n",
    "    elif(strMonth.lower() in [\"feb\"]):\n",
    "        return 2\n",
    "    elif(strMonth.lower() in [\"mar\"]):\n",
    "        return 3\n",
    "    elif(strMonth.lower() in [\"abr\"]):\n",
    "        return 4\n",
    "    elif(strMonth.lower() in [\"may\"]):\n",
    "        return 5\n",
    "    elif(strMonth.lower() in [\"jun\"]):\n",
    "        return 6\n",
    "    elif(strMonth.lower() in [\"jul\"]):\n",
    "        return 7\n",
    "    elif(strMonth.lower() in [\"ago\"]):\n",
    "        return 8\n",
    "    elif(strMonth.lower() in [\"sep\"]):\n",
    "        return 9\n",
    "    elif(strMonth.lower() in [\"oct\"]):\n",
    "        return 10\n",
    "    elif(strMonth.lower() in [\"nov\"]):\n",
    "        return 11\n",
    "    elif(strMonth.lower() in [\"dic\"]):\n",
    "        return 12\n",
    "\n",
    "def toDatetime(dateStr):\n",
    "    # Date string example-> ma. dic. 31 23:50:11 2019\n",
    "    _, month,t_year = list(map(str.strip, dateStr.split('.')))\n",
    "    day, t, year = t_year.split(' ') \n",
    "    month = getMonthInt(month)\n",
    "    dateStr = f\"{year}-{month}-{day} {t}\"\n",
    "    return pd.to_datetime(dateStr, format=\"%Y-%m-%d %X\")\n",
    "result = toDatetime(\"ma. dic. 31 23:50:11 2019\")\n",
    "print(result)\n",
    "type(result)"
   ]
  },
  {
   "cell_type": "code",
   "execution_count": 11,
   "metadata": {},
   "outputs": [
    {
     "data": {
      "text/html": "<div>\n<style scoped>\n    .dataframe tbody tr th:only-of-type {\n        vertical-align: middle;\n    }\n\n    .dataframe tbody tr th {\n        vertical-align: top;\n    }\n\n    .dataframe thead th {\n        text-align: right;\n    }\n</style>\n<table border=\"1\" class=\"dataframe\">\n  <thead>\n    <tr style=\"text-align: right;\">\n      <th></th>\n      <th>RAT</th>\n      <th>OPERATOR</th>\n      <th>CHANNEL</th>\n      <th>IMSI</th>\n      <th>IMEI</th>\n      <th>TMSI</th>\n      <th>MS_POWER</th>\n      <th>TA</th>\n      <th>LAST_LAC</th>\n      <th>NAME</th>\n      <th>HITS</th>\n      <th>DATE-TIME</th>\n    </tr>\n  </thead>\n  <tbody>\n    <tr>\n      <td>0</td>\n      <td>2G</td>\n      <td>EC-Claro(América Móvil)-01</td>\n      <td>144</td>\n      <td>7.400202e+14</td>\n      <td>3.594591e+14</td>\n      <td>FFFFFFFF</td>\n      <td>-61.0</td>\n      <td>0</td>\n      <td>65534</td>\n      <td>NaN</td>\n      <td>1</td>\n      <td>2020-01-01 03:05:16</td>\n    </tr>\n    <tr>\n      <td>1</td>\n      <td>2G</td>\n      <td>EC-Claro(América Móvil)-01</td>\n      <td>144</td>\n      <td>7.400102e+14</td>\n      <td>3.578151e+14</td>\n      <td>FFFFFFFF</td>\n      <td>-62.0</td>\n      <td>0</td>\n      <td>65534</td>\n      <td>NaN</td>\n      <td>1</td>\n      <td>2020-01-01 03:04:51</td>\n    </tr>\n  </tbody>\n</table>\n</div>",
      "text/plain": "  RAT                    OPERATOR  CHANNEL          IMSI          IMEI  \\\n0  2G  EC-Claro(América Móvil)-01      144  7.400202e+14  3.594591e+14   \n1  2G  EC-Claro(América Móvil)-01      144  7.400102e+14  3.578151e+14   \n\n       TMSI  MS_POWER  TA  LAST_LAC  NAME  HITS           DATE-TIME  \n0  FFFFFFFF     -61.0   0     65534   NaN     1 2020-01-01 03:05:16  \n1  FFFFFFFF     -62.0   0     65534   NaN     1 2020-01-01 03:04:51  "
     },
     "execution_count": 11,
     "metadata": {},
     "output_type": "execute_result"
    }
   ],
   "source": [
    "allData['DATE-TIME'] = allData['DATE-TIME'].apply(toDatetime)\n",
    "allData.head(2)"
   ]
  },
  {
   "cell_type": "code",
   "execution_count": 12,
   "metadata": {},
   "outputs": [],
   "source": [
    "allData['DATE'] = pd.to_datetime(allData['DATE-TIME'], format=\"%Y-%m-%d\").dt.date\n",
    "allData['TIME'] = pd.to_datetime(allData['DATE-TIME']).dt.time\n",
    "allData.sort_values(by=[\"DATE\"], inplace=True, ascending=True)"
   ]
  },
  {
   "cell_type": "code",
   "execution_count": 13,
   "metadata": {},
   "outputs": [],
   "source": [
    "allData.drop('DATE-TIME', axis=1, inplace=True)"
   ]
  },
  {
   "cell_type": "code",
   "execution_count": 14,
   "metadata": {},
   "outputs": [
    {
     "data": {
      "text/html": "<div>\n<style scoped>\n    .dataframe tbody tr th:only-of-type {\n        vertical-align: middle;\n    }\n\n    .dataframe tbody tr th {\n        vertical-align: top;\n    }\n\n    .dataframe thead th {\n        text-align: right;\n    }\n</style>\n<table border=\"1\" class=\"dataframe\">\n  <thead>\n    <tr style=\"text-align: right;\">\n      <th></th>\n      <th>RAT</th>\n      <th>OPERATOR</th>\n      <th>CHANNEL</th>\n      <th>IMSI</th>\n      <th>IMEI</th>\n      <th>TMSI</th>\n      <th>MS_POWER</th>\n      <th>TA</th>\n      <th>LAST_LAC</th>\n      <th>NAME</th>\n      <th>HITS</th>\n      <th>DATE</th>\n      <th>TIME</th>\n    </tr>\n  </thead>\n  <tbody>\n    <tr>\n      <td>724</td>\n      <td>3G</td>\n      <td>EC-Claro(América Móvil)-01</td>\n      <td>4387</td>\n      <td>7.400102e+14</td>\n      <td>8.612500e+14</td>\n      <td>BA129B0E</td>\n      <td>-94.0</td>\n      <td>3</td>\n      <td>50134</td>\n      <td>NaN</td>\n      <td>1</td>\n      <td>2019-12-31</td>\n      <td>15:24:18</td>\n    </tr>\n    <tr>\n      <td>292</td>\n      <td>3G</td>\n      <td>EC-Claro(América Móvil)-01</td>\n      <td>4387</td>\n      <td>7.400002e+14</td>\n      <td>3.517591e+14</td>\n      <td>A4C47315</td>\n      <td>-95.0</td>\n      <td>3</td>\n      <td>15251</td>\n      <td>NaN</td>\n      <td>1</td>\n      <td>2019-12-31</td>\n      <td>16:59:42</td>\n    </tr>\n  </tbody>\n</table>\n</div>",
      "text/plain": "    RAT                    OPERATOR  CHANNEL          IMSI          IMEI  \\\n724  3G  EC-Claro(América Móvil)-01     4387  7.400102e+14  8.612500e+14   \n292  3G  EC-Claro(América Móvil)-01     4387  7.400002e+14  3.517591e+14   \n\n         TMSI  MS_POWER  TA  LAST_LAC  NAME  HITS        DATE      TIME  \n724  BA129B0E     -94.0   3     50134   NaN     1  2019-12-31  15:24:18  \n292  A4C47315     -95.0   3     15251   NaN     1  2019-12-31  16:59:42  "
     },
     "execution_count": 14,
     "metadata": {},
     "output_type": "execute_result"
    }
   ],
   "source": [
    "allData.head(2)"
   ]
  },
  {
   "cell_type": "code",
   "execution_count": 15,
   "metadata": {},
   "outputs": [
    {
     "data": {
      "text/html": "<div>\n<style scoped>\n    .dataframe tbody tr th:only-of-type {\n        vertical-align: middle;\n    }\n\n    .dataframe tbody tr th {\n        vertical-align: top;\n    }\n\n    .dataframe thead th {\n        text-align: right;\n    }\n</style>\n<table border=\"1\" class=\"dataframe\">\n  <thead>\n    <tr style=\"text-align: right;\">\n      <th></th>\n      <th>OPERATOR</th>\n      <th>CHANNEL</th>\n      <th>IMSI</th>\n      <th>IMEI</th>\n      <th>TMSI</th>\n      <th>MS_POWER</th>\n      <th>TA</th>\n      <th>LAST_LAC</th>\n      <th>NAME</th>\n      <th>HITS</th>\n      <th>DATE</th>\n      <th>TIME</th>\n    </tr>\n    <tr>\n      <th>RAT</th>\n      <th></th>\n      <th></th>\n      <th></th>\n      <th></th>\n      <th></th>\n      <th></th>\n      <th></th>\n      <th></th>\n      <th></th>\n      <th></th>\n      <th></th>\n      <th></th>\n    </tr>\n  </thead>\n  <tbody>\n    <tr>\n      <td>2G</td>\n      <td>1457</td>\n      <td>1457</td>\n      <td>1456</td>\n      <td>1457</td>\n      <td>1457</td>\n      <td>1457</td>\n      <td>1457</td>\n      <td>1457</td>\n      <td>0</td>\n      <td>1457</td>\n      <td>1457</td>\n      <td>1457</td>\n    </tr>\n    <tr>\n      <td>3G</td>\n      <td>2071</td>\n      <td>2071</td>\n      <td>1969</td>\n      <td>2071</td>\n      <td>2071</td>\n      <td>2071</td>\n      <td>2071</td>\n      <td>2071</td>\n      <td>0</td>\n      <td>2071</td>\n      <td>2071</td>\n      <td>2071</td>\n    </tr>\n    <tr>\n      <td>4G</td>\n      <td>99</td>\n      <td>99</td>\n      <td>99</td>\n      <td>0</td>\n      <td>0</td>\n      <td>99</td>\n      <td>99</td>\n      <td>99</td>\n      <td>0</td>\n      <td>99</td>\n      <td>99</td>\n      <td>99</td>\n    </tr>\n  </tbody>\n</table>\n</div>",
      "text/plain": "     OPERATOR  CHANNEL  IMSI  IMEI  TMSI  MS_POWER    TA  LAST_LAC  NAME  \\\nRAT                                                                        \n2G       1457     1457  1456  1457  1457      1457  1457      1457     0   \n3G       2071     2071  1969  2071  2071      2071  2071      2071     0   \n4G         99       99    99     0     0        99    99        99     0   \n\n     HITS  DATE  TIME  \nRAT                    \n2G   1457  1457  1457  \n3G   2071  2071  2071  \n4G     99    99    99  "
     },
     "execution_count": 15,
     "metadata": {},
     "output_type": "execute_result"
    }
   ],
   "source": [
    "allData.groupby('RAT').count()"
   ]
  },
  {
   "cell_type": "code",
   "execution_count": 16,
   "metadata": {},
   "outputs": [
    {
     "data": {
      "text/html": "<div>\n<style scoped>\n    .dataframe tbody tr th:only-of-type {\n        vertical-align: middle;\n    }\n\n    .dataframe tbody tr th {\n        vertical-align: top;\n    }\n\n    .dataframe thead th {\n        text-align: right;\n    }\n</style>\n<table border=\"1\" class=\"dataframe\">\n  <thead>\n    <tr style=\"text-align: right;\">\n      <th></th>\n      <th>RAT</th>\n      <th>OPERATOR</th>\n      <th>CHANNEL</th>\n      <th>IMSI</th>\n      <th>TMSI</th>\n      <th>MS_POWER</th>\n      <th>TA</th>\n      <th>LAST_LAC</th>\n      <th>NAME</th>\n      <th>HITS</th>\n      <th>DATE</th>\n      <th>TIME</th>\n    </tr>\n    <tr>\n      <th>IMEI</th>\n      <th></th>\n      <th></th>\n      <th></th>\n      <th></th>\n      <th></th>\n      <th></th>\n      <th></th>\n      <th></th>\n      <th></th>\n      <th></th>\n      <th></th>\n      <th></th>\n    </tr>\n  </thead>\n  <tbody>\n    <tr>\n      <td>1.037300e+13</td>\n      <td>1</td>\n      <td>1</td>\n      <td>1</td>\n      <td>1</td>\n      <td>1</td>\n      <td>1</td>\n      <td>1</td>\n      <td>1</td>\n      <td>0</td>\n      <td>1</td>\n      <td>1</td>\n      <td>1</td>\n    </tr>\n    <tr>\n      <td>1.099701e+13</td>\n      <td>1</td>\n      <td>1</td>\n      <td>1</td>\n      <td>1</td>\n      <td>1</td>\n      <td>1</td>\n      <td>1</td>\n      <td>1</td>\n      <td>0</td>\n      <td>1</td>\n      <td>1</td>\n      <td>1</td>\n    </tr>\n    <tr>\n      <td>1.122300e+13</td>\n      <td>1</td>\n      <td>1</td>\n      <td>1</td>\n      <td>1</td>\n      <td>1</td>\n      <td>1</td>\n      <td>1</td>\n      <td>1</td>\n      <td>0</td>\n      <td>1</td>\n      <td>1</td>\n      <td>1</td>\n    </tr>\n    <tr>\n      <td>1.138700e+13</td>\n      <td>1</td>\n      <td>1</td>\n      <td>1</td>\n      <td>1</td>\n      <td>1</td>\n      <td>1</td>\n      <td>1</td>\n      <td>1</td>\n      <td>0</td>\n      <td>1</td>\n      <td>1</td>\n      <td>1</td>\n    </tr>\n    <tr>\n      <td>1.138800e+13</td>\n      <td>1</td>\n      <td>1</td>\n      <td>1</td>\n      <td>1</td>\n      <td>1</td>\n      <td>1</td>\n      <td>1</td>\n      <td>1</td>\n      <td>0</td>\n      <td>1</td>\n      <td>1</td>\n      <td>1</td>\n    </tr>\n    <tr>\n      <td>...</td>\n      <td>...</td>\n      <td>...</td>\n      <td>...</td>\n      <td>...</td>\n      <td>...</td>\n      <td>...</td>\n      <td>...</td>\n      <td>...</td>\n      <td>...</td>\n      <td>...</td>\n      <td>...</td>\n      <td>...</td>\n    </tr>\n    <tr>\n      <td>8.699710e+14</td>\n      <td>2</td>\n      <td>2</td>\n      <td>2</td>\n      <td>2</td>\n      <td>2</td>\n      <td>2</td>\n      <td>2</td>\n      <td>2</td>\n      <td>0</td>\n      <td>2</td>\n      <td>2</td>\n      <td>2</td>\n    </tr>\n    <tr>\n      <td>8.699710e+14</td>\n      <td>3</td>\n      <td>3</td>\n      <td>3</td>\n      <td>2</td>\n      <td>3</td>\n      <td>3</td>\n      <td>3</td>\n      <td>3</td>\n      <td>0</td>\n      <td>3</td>\n      <td>3</td>\n      <td>3</td>\n    </tr>\n    <tr>\n      <td>8.699710e+14</td>\n      <td>1</td>\n      <td>1</td>\n      <td>1</td>\n      <td>1</td>\n      <td>1</td>\n      <td>1</td>\n      <td>1</td>\n      <td>1</td>\n      <td>0</td>\n      <td>1</td>\n      <td>1</td>\n      <td>1</td>\n    </tr>\n    <tr>\n      <td>8.699720e+14</td>\n      <td>1</td>\n      <td>1</td>\n      <td>1</td>\n      <td>1</td>\n      <td>1</td>\n      <td>1</td>\n      <td>1</td>\n      <td>1</td>\n      <td>0</td>\n      <td>1</td>\n      <td>1</td>\n      <td>1</td>\n    </tr>\n    <tr>\n      <td>9.900058e+14</td>\n      <td>1</td>\n      <td>1</td>\n      <td>1</td>\n      <td>1</td>\n      <td>1</td>\n      <td>1</td>\n      <td>1</td>\n      <td>1</td>\n      <td>0</td>\n      <td>1</td>\n      <td>1</td>\n      <td>1</td>\n    </tr>\n  </tbody>\n</table>\n<p>2260 rows × 12 columns</p>\n</div>",
      "text/plain": "              RAT  OPERATOR  CHANNEL  IMSI  TMSI  MS_POWER  TA  LAST_LAC  \\\nIMEI                                                                       \n1.037300e+13    1         1        1     1     1         1   1         1   \n1.099701e+13    1         1        1     1     1         1   1         1   \n1.122300e+13    1         1        1     1     1         1   1         1   \n1.138700e+13    1         1        1     1     1         1   1         1   \n1.138800e+13    1         1        1     1     1         1   1         1   \n...           ...       ...      ...   ...   ...       ...  ..       ...   \n8.699710e+14    2         2        2     2     2         2   2         2   \n8.699710e+14    3         3        3     2     3         3   3         3   \n8.699710e+14    1         1        1     1     1         1   1         1   \n8.699720e+14    1         1        1     1     1         1   1         1   \n9.900058e+14    1         1        1     1     1         1   1         1   \n\n              NAME  HITS  DATE  TIME  \nIMEI                                  \n1.037300e+13     0     1     1     1  \n1.099701e+13     0     1     1     1  \n1.122300e+13     0     1     1     1  \n1.138700e+13     0     1     1     1  \n1.138800e+13     0     1     1     1  \n...            ...   ...   ...   ...  \n8.699710e+14     0     2     2     2  \n8.699710e+14     0     3     3     3  \n8.699710e+14     0     1     1     1  \n8.699720e+14     0     1     1     1  \n9.900058e+14     0     1     1     1  \n\n[2260 rows x 12 columns]"
     },
     "execution_count": 16,
     "metadata": {},
     "output_type": "execute_result"
    }
   ],
   "source": [
    "allData.groupby('IMEI').count()"
   ]
  },
  {
   "cell_type": "code",
   "execution_count": 17,
   "metadata": {},
   "outputs": [
    {
     "data": {
      "text/plain": "IMEI\n1.037300e+13    1\n1.099701e+13    1\n1.122300e+13    1\n1.138700e+13    1\n1.138800e+13    1\n               ..\n8.699710e+14    2\n8.699710e+14    2\n8.699710e+14    1\n8.699720e+14    1\n9.900058e+14    1\nName: IMSI, Length: 2260, dtype: int64"
     },
     "execution_count": 17,
     "metadata": {},
     "output_type": "execute_result"
    }
   ],
   "source": [
    "allData.groupby('IMEI').count()['IMSI']"
   ]
  },
  {
   "cell_type": "code",
   "execution_count": 18,
   "metadata": {},
   "outputs": [
    {
     "data": {
      "text/plain": "<matplotlib.axes._subplots.AxesSubplot at 0x2cabe0d3f08>"
     },
     "execution_count": 18,
     "metadata": {},
     "output_type": "execute_result"
    }
   ],
   "source": [
    "allData.groupby('IMEI').count()['IMSI'].sort_values(ascending=False).head(20).plot.bar()"
   ]
  },
  {
   "cell_type": "code",
   "execution_count": 19,
   "metadata": {},
   "outputs": [
    {
     "ename": "NameError",
     "evalue": "name 'tiempoAvance' is not defined",
     "output_type": "error",
     "traceback": [
      "\u001b[1;31m---------------------------------------------------------------------------\u001b[0m",
      "\u001b[1;31mNameError\u001b[0m                                 Traceback (most recent call last)",
      "\u001b[1;32m<ipython-input-19-bf614aeba182>\u001b[0m in \u001b[0;36m<module>\u001b[1;34m\u001b[0m\n\u001b[0;32m      2\u001b[0m     \u001b[1;34m\"\"\" Filters the df by the values on the TA column\"\"\"\u001b[0m\u001b[1;33m\u001b[0m\u001b[1;33m\u001b[0m\u001b[0m\n\u001b[0;32m      3\u001b[0m     \u001b[1;32mreturn\u001b[0m \u001b[0mdf\u001b[0m\u001b[1;33m[\u001b[0m\u001b[0mdf\u001b[0m\u001b[1;33m[\u001b[0m\u001b[1;34m'TA'\u001b[0m\u001b[1;33m]\u001b[0m\u001b[1;33m.\u001b[0m\u001b[0misin\u001b[0m\u001b[1;33m(\u001b[0m\u001b[0mvaluesList\u001b[0m\u001b[1;33m)\u001b[0m\u001b[1;33m]\u001b[0m\u001b[1;33m\u001b[0m\u001b[1;33m\u001b[0m\u001b[0m\n\u001b[1;32m----> 4\u001b[1;33m \u001b[0mtiempoAvance\u001b[0m\u001b[1;33m(\u001b[0m\u001b[0mallData\u001b[0m\u001b[1;33m,\u001b[0m \u001b[1;33m[\u001b[0m\u001b[1;36m1\u001b[0m\u001b[1;33m,\u001b[0m\u001b[1;36m2\u001b[0m\u001b[1;33m,\u001b[0m\u001b[1;36m3\u001b[0m\u001b[1;33m,\u001b[0m\u001b[1;36m4\u001b[0m\u001b[1;33m,\u001b[0m\u001b[1;36m5\u001b[0m\u001b[1;33m,\u001b[0m\u001b[1;36m6\u001b[0m\u001b[1;33m]\u001b[0m\u001b[1;33m)\u001b[0m\u001b[1;33m\u001b[0m\u001b[1;33m\u001b[0m\u001b[0m\n\u001b[0m",
      "\u001b[1;31mNameError\u001b[0m: name 'tiempoAvance' is not defined"
     ]
    }
   ],
   "source": [
    "def tiempoAvanceFilter(df, valuesList):\n",
    "    \"\"\" Filters the df by the values on the TA column\"\"\"\n",
    "    return df[df['TA'].isin(valuesList)]\n",
    "tiempoAvance(allData, [1,2,3,4,5,6])"
   ]
  },
  {
   "cell_type": "code",
   "execution_count": 0,
   "metadata": {},
   "outputs": [],
   "source": [
    "def msPowerRangeFilter(df, fromN, toN):\n",
    "    \"\"\" Filters the df in the column MS POWER with the given boundaries\"\"\"\n",
    "    return df[df['MS POWER'].between(fromN, toN)]\n",
    "msPower(allData, -100, 60)"
   ]
  },
  {
   "cell_type": "code",
   "execution_count": 0,
   "metadata": {},
   "outputs": [],
   "source": [
    "def lastLacRangeFilter(df, fromN, toN):\n",
    "    \"\"\" Filters the df in the column LAST LAC within the given boundaries\"\"\"\n",
    "    return df[df['LAST LAC'].between(fromN, toN)]\n",
    "lastLac(allData, -100, 60000)"
   ]
  },
  {
   "cell_type": "code",
   "execution_count": 0,
   "metadata": {},
   "outputs": [],
   "source": [
    "def getHitsAmounForEmais(df, n=None):\n",
    "    \"\"\" Gets the frecuency of each IMEI in the df and returns a n length series\"\"\"\n",
    "    # return df.groupby('IMEI')['HITS'].sum().sort_values(ascending=False).head(n=n)\n",
    "    return df.groupby('IMEI')['HITS'].transform(\n",
    "        lambda x: sum(x)\n",
    "    )\n",
    "getFrecuencyForEmais(allData)"
   ]
  },
  {
   "cell_type": "code",
   "execution_count": 0,
   "metadata": {},
   "outputs": [],
   "source": [
    "def getUniqueNameIdColumn(df):\n",
    "    \"\"\" Updates the NAME with a unique incremental KEY\"\"\"\n",
    "    fn = lambda row: row['IMEI'].astype(str).apply(hash) + row['IMEI'].astype(str).apply(hash)\n",
    "    return df.groupby('IMEI').apply(fn)\n",
    "# Como asignarlo para que no de warning y SI lo pegue \n",
    "# df = df.assign(c=col.values) # assign values to column 'c'\n",
    "getUniqueNameIdColumn(allData)"
   ]
  },
  {
   "cell_type": "code",
   "execution_count": 43,
   "metadata": {},
   "outputs": [
    {
     "data": {
      "text/html": "<div>\n<style scoped>\n    .dataframe tbody tr th:only-of-type {\n        vertical-align: middle;\n    }\n\n    .dataframe tbody tr th {\n        vertical-align: top;\n    }\n\n    .dataframe thead th {\n        text-align: right;\n    }\n</style>\n<table border=\"1\" class=\"dataframe\">\n  <thead>\n    <tr style=\"text-align: right;\">\n      <th></th>\n      <th>RAT</th>\n      <th>OPERATOR</th>\n      <th>CHANNEL</th>\n      <th>IMSI</th>\n      <th>IMEI</th>\n      <th>TMSI</th>\n      <th>MS_POWER</th>\n      <th>TA</th>\n      <th>LAST_LAC</th>\n      <th>NAME</th>\n      <th>HITS</th>\n      <th>DATE</th>\n      <th>TIME</th>\n    </tr>\n  </thead>\n  <tbody>\n    <tr>\n      <td>724</td>\n      <td>3G</td>\n      <td>EC-Claro(América Móvil)-01</td>\n      <td>4387</td>\n      <td>7.400102e+14</td>\n      <td>8.612500e+14</td>\n      <td>BA129B0E</td>\n      <td>-94.0</td>\n      <td>3</td>\n      <td>50134</td>\n      <td>NaN</td>\n      <td>1</td>\n      <td>2019-12-31</td>\n      <td>15:24:18</td>\n    </tr>\n    <tr>\n      <td>292</td>\n      <td>3G</td>\n      <td>EC-Claro(América Móvil)-01</td>\n      <td>4387</td>\n      <td>7.400002e+14</td>\n      <td>3.517591e+14</td>\n      <td>A4C47315</td>\n      <td>-95.0</td>\n      <td>3</td>\n      <td>15251</td>\n      <td>NaN</td>\n      <td>1</td>\n      <td>2019-12-31</td>\n      <td>16:59:42</td>\n    </tr>\n    <tr>\n      <td>291</td>\n      <td>3G</td>\n      <td>EC-Claro(América Móvil)-01</td>\n      <td>587</td>\n      <td>7.400002e+14</td>\n      <td>3.517591e+14</td>\n      <td>A4C47315</td>\n      <td>-105.0</td>\n      <td>3</td>\n      <td>15251</td>\n      <td>NaN</td>\n      <td>1</td>\n      <td>2019-12-31</td>\n      <td>17:00:04</td>\n    </tr>\n    <tr>\n      <td>290</td>\n      <td>3G</td>\n      <td>EC-Claro(América Móvil)-01</td>\n      <td>587</td>\n      <td>7.400102e+14</td>\n      <td>3.557471e+14</td>\n      <td>FC483124</td>\n      <td>-66.0</td>\n      <td>3</td>\n      <td>50134</td>\n      <td>NaN</td>\n      <td>1</td>\n      <td>2019-12-31</td>\n      <td>17:00:40</td>\n    </tr>\n    <tr>\n      <td>289</td>\n      <td>3G</td>\n      <td>EC-Claro(América Móvil)-01</td>\n      <td>4387</td>\n      <td>7.400102e+14</td>\n      <td>8.648850e+14</td>\n      <td>DA430032</td>\n      <td>-43.0</td>\n      <td>3</td>\n      <td>50134</td>\n      <td>NaN</td>\n      <td>1</td>\n      <td>2019-12-31</td>\n      <td>17:00:43</td>\n    </tr>\n    <tr>\n      <td>...</td>\n      <td>...</td>\n      <td>...</td>\n      <td>...</td>\n      <td>...</td>\n      <td>...</td>\n      <td>...</td>\n      <td>...</td>\n      <td>...</td>\n      <td>...</td>\n      <td>...</td>\n      <td>...</td>\n      <td>...</td>\n      <td>...</td>\n    </tr>\n    <tr>\n      <td>653</td>\n      <td>3G</td>\n      <td>EC-Movistar(Telefónica)-00</td>\n      <td>512</td>\n      <td>7.400001e+14</td>\n      <td>3.526861e+14</td>\n      <td>EA026FB9</td>\n      <td>-109.0</td>\n      <td>3</td>\n      <td>32768</td>\n      <td>NaN</td>\n      <td>3</td>\n      <td>2020-01-03</td>\n      <td>00:19:34</td>\n    </tr>\n    <tr>\n      <td>52</td>\n      <td>3G</td>\n      <td>EC-Claro(América Móvil)-01</td>\n      <td>612</td>\n      <td>7.400102e+14</td>\n      <td>3.546141e+14</td>\n      <td>CF40806C</td>\n      <td>-95.0</td>\n      <td>3</td>\n      <td>50404</td>\n      <td>NaN</td>\n      <td>5</td>\n      <td>2020-01-03</td>\n      <td>00:04:58</td>\n    </tr>\n    <tr>\n      <td>660</td>\n      <td>3G</td>\n      <td>EC-Movistar(Telefónica)-00</td>\n      <td>512</td>\n      <td>7.400002e+14</td>\n      <td>8.698230e+14</td>\n      <td>C51AD745</td>\n      <td>-108.0</td>\n      <td>2</td>\n      <td>32768</td>\n      <td>NaN</td>\n      <td>3</td>\n      <td>2020-01-03</td>\n      <td>00:26:59</td>\n    </tr>\n    <tr>\n      <td>41</td>\n      <td>3G</td>\n      <td>EC-Claro(América Móvil)-01</td>\n      <td>612</td>\n      <td>7.400102e+14</td>\n      <td>8.698230e+14</td>\n      <td>DA434B7C</td>\n      <td>-92.0</td>\n      <td>3</td>\n      <td>32769</td>\n      <td>NaN</td>\n      <td>6</td>\n      <td>2020-01-03</td>\n      <td>00:07:18</td>\n    </tr>\n    <tr>\n      <td>33</td>\n      <td>3G</td>\n      <td>EC-Claro(América Móvil)-01</td>\n      <td>612</td>\n      <td>7.400102e+14</td>\n      <td>3.536411e+14</td>\n      <td>FFFFFFFF</td>\n      <td>-96.0</td>\n      <td>3</td>\n      <td>50134</td>\n      <td>NaN</td>\n      <td>4</td>\n      <td>2020-01-03</td>\n      <td>00:11:24</td>\n    </tr>\n  </tbody>\n</table>\n<p>2071 rows × 13 columns</p>\n</div>",
      "text/plain": "    RAT                    OPERATOR  CHANNEL          IMSI          IMEI  \\\n724  3G  EC-Claro(América Móvil)-01     4387  7.400102e+14  8.612500e+14   \n292  3G  EC-Claro(América Móvil)-01     4387  7.400002e+14  3.517591e+14   \n291  3G  EC-Claro(América Móvil)-01      587  7.400002e+14  3.517591e+14   \n290  3G  EC-Claro(América Móvil)-01      587  7.400102e+14  3.557471e+14   \n289  3G  EC-Claro(América Móvil)-01     4387  7.400102e+14  8.648850e+14   \n..   ..                         ...      ...           ...           ...   \n653  3G  EC-Movistar(Telefónica)-00      512  7.400001e+14  3.526861e+14   \n52   3G  EC-Claro(América Móvil)-01      612  7.400102e+14  3.546141e+14   \n660  3G  EC-Movistar(Telefónica)-00      512  7.400002e+14  8.698230e+14   \n41   3G  EC-Claro(América Móvil)-01      612  7.400102e+14  8.698230e+14   \n33   3G  EC-Claro(América Móvil)-01      612  7.400102e+14  3.536411e+14   \n\n         TMSI  MS_POWER  TA  LAST_LAC  NAME  HITS        DATE      TIME  \n724  BA129B0E     -94.0   3     50134   NaN     1  2019-12-31  15:24:18  \n292  A4C47315     -95.0   3     15251   NaN     1  2019-12-31  16:59:42  \n291  A4C47315    -105.0   3     15251   NaN     1  2019-12-31  17:00:04  \n290  FC483124     -66.0   3     50134   NaN     1  2019-12-31  17:00:40  \n289  DA430032     -43.0   3     50134   NaN     1  2019-12-31  17:00:43  \n..        ...       ...  ..       ...   ...   ...         ...       ...  \n653  EA026FB9    -109.0   3     32768   NaN     3  2020-01-03  00:19:34  \n52   CF40806C     -95.0   3     50404   NaN     5  2020-01-03  00:04:58  \n660  C51AD745    -108.0   2     32768   NaN     3  2020-01-03  00:26:59  \n41   DA434B7C     -92.0   3     32769   NaN     6  2020-01-03  00:07:18  \n33   FFFFFFFF     -96.0   3     50134   NaN     4  2020-01-03  00:11:24  \n\n[2071 rows x 13 columns]"
     },
     "execution_count": 43,
     "metadata": {},
     "output_type": "execute_result"
    }
   ],
   "source": [
    "def filterByRat(df, rats = []):\n",
    "    \"\"\" Returns a df with the seleccted rats \"\"\"\n",
    "    groupedRats = df.groupby('RAT')\n",
    "    ratDfs = [groupedRats.get_group(gn) for gn in rats]\n",
    "    return pd.concat(ratDfs)\n",
    "filterByRat(allData, [\"3G\"])"
   ]
  },
  {
   "cell_type": "code",
   "execution_count": 45,
   "metadata": {},
   "outputs": [],
   "source": [
    "def filterDfByColumnVlaues(df, column: str, columnValues: list):\n",
    "    \"\"\"\n",
    "    Groups the df by the column parameters and gets the groups in the columnValues list\n",
    "    \"\"\"\n",
    "    groupedRats = df.groupby(column)\n",
    "    ratDfs = [groupedRats.get_group(gn) for gn in columnValues]\n",
    "    return pd.concat(ratDfs)"
   ]
  },
  {
   "cell_type": "code",
   "execution_count": 0,
   "metadata": {},
   "outputs": [],
   "source": [
    "allData['IMEI'].count()"
   ]
  },
  {
   "cell_type": "code",
   "execution_count": 0,
   "metadata": {},
   "outputs": [],
   "source": [
    "allData.index"
   ]
  },
  {
   "cell_type": "code",
   "execution_count": 0,
   "metadata": {},
   "outputs": [],
   "source": [
    "allData.head()"
   ]
  },
  {
   "cell_type": "code",
   "execution_count": 73,
   "metadata": {},
   "outputs": [
    {
     "name": "stdout",
     "output_type": "stream",
     "text": "(2020, 1, 2), datetime.time(11, 46, 25)]\n------------------------------------------------------------------------------\n\n\nRaw raow  Pandas(Index=96, RAT='3G', OPERATOR='EC-Claro(América Móvil)-01', CHANNEL=612, IMSI=740010175855617.0, IMEI=351713102242099.0, TMSI=0, MS_POWER=-100.0, TA=3, LAST_LAC=65534, NAME=nan, HITS=1, DATE=datetime.date(2020, 1, 2), TIME=datetime.time(18, 29, 26))\n['3G', 'EC-Claro(América Móvil)-01', 612, 740010175855617.0, 351713102242099.0, 0, -100.0, 3, 65534, nan, 1, datetime.date(2020, 1, 2), datetime.time(18, 29, 26)]\n------------------------------------------------------------------------------\n\n\nRaw raow  Pandas(Index=103, RAT='3G', OPERATOR='EC-Claro(América Móvil)-01', CHANNEL=612, IMSI=740010174662611.0, IMEI=867259020236992.0, TMSI='FB4E02C0', MS_POWER=-102.0, TA=3, LAST_LAC=50134, NAME=nan, HITS=1, DATE=datetime.date(2020, 1, 2), TIME=datetime.time(18, 20, 59))\n['3G', 'EC-Claro(América Móvil)-01', 612, 740010174662611.0, 867259020236992.0, 'FB4E02C0', -102.0, 3, 50134, nan, 1, datetime.date(2020, 1, 2), datetime.time(18, 20, 59)]\n------------------------------------------------------------------------------\n\n\nRaw raow  Pandas(Index=104, RAT='3G', OPERATOR='EC-Claro(América Móvil)-01', CHANNEL=612, IMSI=740010180174857.0, IMEI=357716085807444.0, TMSI=0, MS_POWER=-59.0, TA=3, LAST_LAC=65534, NAME=nan, HITS=1, DATE=datetime.date(2020, 1, 2), TIME=datetime.time(18, 20, 53))\n['3G', 'EC-Claro(América Móvil)-01', 612, 740010180174857.0, 357716085807444.0, 0, -59.0, 3, 65534, nan, 1, datetime.date(2020, 1, 2), datetime.time(18, 20, 53)]\n------------------------------------------------------------------------------\n\n\nRaw raow  Pandas(Index=101, RAT='3G', OPERATOR='EC-Claro(América Móvil)-01', CHANNEL=612, IMSI=740010177429117.0, IMEI=866128043621905.0, TMSI='1F19BC6B', MS_POWER=-94.0, TA=3, LAST_LAC=32769, NAME=nan, HITS=3, DATE=datetime.date(2020, 1, 2), TIME=datetime.time(20, 20, 34))\n['3G', 'EC-Claro(América Móvil)-01', 612, 740010177429117.0, 866128043621905.0, '1F19BC6B', -94.0, 3, 32769, nan, 3, datetime.date(2020, 1, 2), datetime.time(20, 20, 34)]\n------------------------------------------------------------------------------\n\n\nRaw raow  Pandas(Index=100, RAT='3G', OPERATOR='EC-Claro(América Móvil)-01', CHANNEL=612, IMSI=740010175838876.0, IMEI=357716086731742.0, TMSI='4E1A6543', MS_POWER=-99.0, TA=3, LAST_LAC=50404, NAME=nan, HITS=9, DATE=datetime.date(2020, 1, 2), TIME=datetime.time(22, 14, 29))\n['3G', 'EC-Claro(América Móvil)-01', 612, 740010175838876.0, 357716086731742.0, '4E1A6543', -99.0, 3, 50404, nan, 9, datetime.date(2020, 1, 2), datetime.time(22, 14, 29)]\n------------------------------------------------------------------------------\n\n\nRaw raow  Pandas(Index=106, RAT='3G', OPERATOR='EC-Claro(América Móvil)-01', CHANNEL=612, IMSI=740010178257854.0, IMEI=861586044319248.0, TMSI='9F1DD10B', MS_POWER=-103.0, TA=3, LAST_LAC=50134, NAME=nan, HITS=2, DATE=datetime.date(2020, 1, 2), TIME=datetime.time(18, 46, 12))\n['3G', 'EC-Claro(América Móvil)-01', 612, 740010178257854.0, 861586044319248.0, '9F1DD10B', -103.0, 3, 50134, nan, 2, datetime.date(2020, 1, 2), datetime.time(18, 46, 12)]\n------------------------------------------------------------------------------\n\n\nRaw raow  Pandas(Index=99, RAT='3G', OPERATOR='EC-Claro(América Móvil)-01', CHANNEL=612, IMSI=740010180577878.0, IMEI=865842030180581.0, TMSI='E441C094', MS_POWER=-99.0, TA=3, LAST_LAC=50134, NAME=nan, HITS=5, DATE=datetime.date(2020, 1, 2), TIME=datetime.time(21, 53, 18))\n['3G', 'EC-Claro(América Móvil)-01', 612, 740010180577878.0, 865842030180581.0, 'E441C094', -99.0, 3, 50134, nan, 5, datetime.date(2020, 1, 2), datetime.time(21, 53, 18)]\n------------------------------------------------------------------------------\n\n\nRaw raow  Pandas(Index=105, RAT='3G', OPERATOR='EC-Claro(América Móvil)-01', CHANNEL=612, IMSI=740010181033525.0, IMEI=351758104278989.0, TMSI='070DD1E9', MS_POWER=-99.0, TA=2, LAST_LAC=50134, NAME=nan, HITS=1, DATE=datetime.date(2020, 1, 2), TIME=datetime.time(18, 19, 52))\n['3G', 'EC-Claro(América Móvil)-01', 612, 740010181033525.0, 351758104278989.0, '070DD1E9', -99.0, 2, 50134, nan, 1, datetime.date(2020, 1, 2), datetime.time(18, 19, 52)]\n------------------------------------------------------------------------------\n\n\nRaw raow  Pandas(Index=107, RAT='3G', OPERATOR='EC-Claro(América Móvil)-01', CHANNEL=612, IMSI=740010180577876.0, IMEI=351704110995174.0, TMSI=0, MS_POWER=-99.0, TA=3, LAST_LAC=65534, NAME=nan, HITS=1, DATE=datetime.date(2020, 1, 2), TIME=datetime.time(18, 19, 10))\n['3G', 'EC-Claro(América Móvil)-01', 612, 740010180577876.0, 351704110995174.0, 0, -99.0, 3, 65534, nan, 1, datetime.date(2020, 1, 2), datetime.time(18, 19, 10)]\n------------------------------------------------------------------------------\n\n\nRaw raow  Pandas(Index=108, RAT='3G', OPERATOR='EC-Claro(América Móvil)-01', CHANNEL=612, IMSI=740010179393545.0, IMEI=352242102738780.0, TMSI='FE444033', MS_POWER=-101.0, TA=3, LAST_LAC=50404, NAME=nan, HITS=1, DATE=datetime.date(2020, 1, 2), TIME=datetime.time(18, 19, 9))\n['3G', 'EC-Claro(América Móvil)-01', 612, 740010179393545.0, 352242102738780.0, 'FE444033', -101.0, 3, 50404, nan, 1, datetime.date(2020, 1, 2), datetime.time(18, 19, 9)]\n------------------------------------------------------------------------------\n\n\nRaw raow  Pandas(Index=98, RAT='3G', OPERATOR='EC-Claro(América Móvil)-01', CHANNEL=612, IMSI=740010181033040.0, IMEI=867265039160867.0, TMSI='6E1660AE', MS_POWER=-100.0, TA=3, LAST_LAC=32769, NAME=nan, HITS=1, DATE=datetime.date(2020, 1, 2), TIME=datetime.time(18, 27, 56))\n['3G', 'EC-Claro(América Móvil)-01', 612, 740010181033040.0, 867265039160867.0, '6E1660AE', -100.0, 3, 32769, nan, 1, datetime.date(2020, 1, 2), datetime.time(18, 27, 56)]\n------------------------------------------------------------------------------\n\n\nRaw raow  Pandas(Index=97, RAT='3G', OPERATOR='EC-Claro(América Móvil)-01', CHANNEL=612, IMSI=740010158461736.0, IMEI=868219041679462.0, TMSI='FB424019', MS_POWER=-94.0, TA=3, LAST_LAC=32769, NAME=nan, HITS=2, DATE=datetime.date(2020, 1, 2), TIME=datetime.time(19, 33, 17))\n['3G', 'EC-Claro(América Móvil)-01', 612, 740010158461736.0, 868219041679462.0, 'FB424019', -94.0, 3, 32769, nan, 2, datetime.date(2020, 1, 2), datetime.time(19, 33, 17)]\n------------------------------------------------------------------------------\n\n\nRaw raow  Pandas(Index=109, RAT='3G', OPERATOR='EC-Claro(América Móvil)-01', CHANNEL=612, IMSI=740010178573351.0, IMEI=356709076403175.0, TMSI='E940E982', MS_POWER=-94.0, TA=2, LAST_LAC=50134, NAME=nan, HITS=2, DATE=datetime.date(2020, 1, 2), TIME=datetime.time(19, 54, 53))\n['3G', 'EC-Claro(América Móvil)-01', 612, 740010178573351.0, 356709076403175.0, 'E940E982', -94.0, 2, 50134, nan, 2, datetime.date(2020, 1, 2), datetime.time(19, 54, 53)]\n------------------------------------------------------------------------------\n\n\nRaw raow  Pandas(Index=677, RAT='3G', OPERATOR='EC-Movistar(Telefónica)-00', CHANNEL=512, IMSI=740000121755568.0, IMEI=351553059503782.0, TMSI='F4300022', MS_POWER=-107.0, TA=3, LAST_LAC=15251, NAME=nan, HITS=6, DATE=datetime.date(2020, 1, 3), TIME=datetime.time(0, 25, 8))\n['3G', 'EC-Movistar(Telefónica)-00', 512, 740000121755568.0, 351553059503782.0, 'F4300022', -107.0, 3, 15251, nan, 6, datetime.date(2020, 1, 3), datetime.time(0, 25, 8)]\n------------------------------------------------------------------------------\n\n\nRaw raow  Pandas(Index=6, RAT='2G', OPERATOR='EC-Claro(América Móvil)-01', CHANNEL=136, IMSI=740010165765121.0, IMEI=355544065010652.0, TMSI='FFFFFFFF', MS_POWER=-63.0, TA=0, LAST_LAC=65534, NAME=nan, HITS=4, DATE=datetime.date(2020, 1, 3), TIME=datetime.time(4, 7, 17))\n['2G', 'EC-Claro(América Móvil)-01', 136, 740010165765121.0, 355544065010652.0, 'FFFFFFFF', -63.0, 0, 65534, nan, 4, datetime.date(2020, 1, 3), datetime.time(4, 7, 17)]\n------------------------------------------------------------------------------\n\n\nRaw raow  Pandas(Index=699, RAT='3G', OPERATOR='EC-Movistar(Telefónica)-00', CHANNEL=512, IMSI=740010181033521.0, IMEI=867903032651926.0, TMSI=0, MS_POWER=-104.0, TA=3, LAST_LAC=32769, NAME=nan, HITS=4, DATE=datetime.date(2020, 1, 3), TIME=datetime.time(0, 4, 31))\n['3G', 'EC-Movistar(Telefónica)-00', 512, 740010181033521.0, 867903032651926.0, 0, -104.0, 3, 32769, nan, 4, datetime.date(2020, 1, 3), datetime.time(0, 4, 31)]\n------------------------------------------------------------------------------\n\n\nRaw raow  Pandas(Index=680, RAT='3G', OPERATOR='EC-Movistar(Telefónica)-00', CHANNEL=512, IMSI=740000117684942.0, IMEI=867903032860162.0, TMSI=0, MS_POWER=-104.0, TA=2, LAST_LAC=15251, NAME=nan, HITS=6, DATE=datetime.date(2020, 1, 3), TIME=datetime.time(0, 19, 20))\n['3G', 'EC-Movistar(Telefónica)-00', 512, 740000117684942.0, 867903032860162.0, 0, -104.0, 2, 15251, nan, 6, datetime.date(2020, 1, 3), datetime.time(0, 19, 20)]\n------------------------------------------------------------------------------\n\n\nRaw raow  Pandas(Index=701, RAT='3G', OPERATOR='EC-Movistar(Telefónica)-00', CHANNEL=512, IMSI=740005116264255.0, IMEI=867265034721580.0, TMSI='F12A6063', MS_POWER=-108.0, TA=3, LAST_LAC=32768, NAME=nan, HITS=2, DATE=datetime.date(2020, 1, 3), TIME=datetime.time(1, 13, 35))\n['3G', 'EC-Movistar(Telefónica)-00', 512, 740005116264255.0, 867265034721580.0, 'F12A6063', -108.0, 3, 32768, nan, 2, datetime.date(2020, 1, 3), datetime.time(1, 13, 35)]\n------------------------------------------------------------------------------\n\n\nRaw raow  Pandas(Index=96, RAT='2G', OPERATOR='EC-Claro(América Móvil)-01', CHANNEL=136, IMSI=740010173404126.0, IMEI=355859108255571.0, TMSI='2809ED09', MS_POWER=-63.0, TA=0, LAST_LAC=10228, NAME=nan, HITS=3, DATE=datetime.date(2020, 1, 3), TIME=datetime.time(4, 11, 9))\n['2G', 'EC-Claro(América Móvil)-01', 136, 740010173404126.0, 355859108255571.0, '2809ED09', -63.0, 0, 10228, nan, 3, datetime.date(2020, 1, 3), datetime.time(4, 11, 9)]\n------------------------------------------------------------------------------\n\n\nRaw raow  Pandas(Index=266, RAT='2G', OPERATOR='EC-Movistar(Telefónica)-00', CHANNEL=245, IMSI=740020120357822.0, IMEI=353306027604440.0, TMSI='FFFFFFFF', MS_POWER=-61.0, TA=0, LAST_LAC=65534, NAME=nan, HITS=457, DATE=datetime.date(2020, 1, 3), TIME=datetime.time(2, 41, 33))\n['2G', 'EC-Movistar(Telefónica)-00', 245, 740020120357822.0, 353306027604440.0, 'FFFFFFFF', -61.0, 0, 65534, nan, 457, datetime.date(2020, 1, 3), datetime.time(2, 41, 33)]\n------------------------------------------------------------------------------\n\n\nRaw raow  Pandas(Index=109, RAT='2G', OPERATOR='EC-Claro(América Móvil)-01', CHANNEL=136, IMSI=740010177429078.0, IMEI=358191103783176.0, TMSI='FFFFFFFF', MS_POWER=-63.0, TA=0, LAST_LAC=10228, NAME=nan, HITS=2, DATE=datetime.date(2020, 1, 3), TIME=datetime.time(4, 5, 58))\n['2G', 'EC-Claro(América Móvil)-01', 136, 740010177429078.0, 358191103783176.0, 'FFFFFFFF', -63.0, 0, 10228, nan, 2, datetime.date(2020, 1, 3), datetime.time(4, 5, 58)]\n------------------------------------------------------------------------------\n\n\nRaw raow  Pandas(Index=708, RAT='3G', OPERATOR='EC-Movistar(Telefónica)-00', CHANNEL=512, IMSI=740000221361683.0, IMEI=359041089036629.0, TMSI='431A31ED', MS_POWER=-108.0, TA=2, LAST_LAC=32768, NAME=nan, HITS=3, DATE=datetime.date(2020, 1, 3), TIME=datetime.time(0, 48, 3))\n['3G', 'EC-Movistar(Telefónica)-00', 512, 740000221361683.0, 359041089036629.0, '431A31ED', -108.0, 2, 32768, nan, 3, datetime.date(2020, 1, 3), datetime.time(0, 48, 3)]\n------------------------------------------------------------------------------\n\n\nRaw raow  Pandas(Index=102, RAT='3G', OPERATOR='EC-Claro(América Móvil)-01', CHANNEL=612, IMSI=740010175855615.0, IMEI=866861046806657.0, TMSI='E7424AC0', MS_POWER=-94.0, TA=3, LAST_LAC=32769, NAME=nan, HITS=5, DATE=datetime.date(2020, 1, 3), TIME=datetime.time(0, 0, 49))\n['3G', 'EC-Claro(América Móvil)-01', 612, 740010175855615.0, 866861046806657.0, 'E7424AC0', -94.0, 3, 32769, nan, 5, datetime.date(2020, 1, 3), datetime.time(0, 0, 49)]\n------------------------------------------------------------------------------\n\n\nRaw raow  Pandas(Index=95, RAT='3G', OPERATOR='EC-Claro(América Móvil)-01', CHANNEL=612, IMSI=740010177429205.0, IMEI=866264040042405.0, TMSI='EF4EC02C', MS_POWER=-96.0, TA=3, LAST_LAC=32769, NAME=nan, HITS=16, DATE=datetime.date(2020, 1, 3), TIME=datetime.time(0, 4, 56))\n['3G', 'EC-Claro(América Móvil)-01', 612, 740010177429205.0, 866264040042405.0, 'EF4EC02C', -96.0, 3, 32769, nan, 16, datetime.date(2020, 1, 3), datetime.time(0, 4, 56)]\n------------------------------------------------------------------------------\n\n\nRaw raow  Pandas(Index=709, RAT='3G', OPERATOR='EC-Movistar(Telefónica)-00', CHANNEL=512, IMSI=740000120974860.0, IMEI=867961040629755.0, TMSI='D9290D42', MS_POWER=-108.0, TA=2, LAST_LAC=40202, NAME=nan, HITS=7, DATE=datetime.date(2020, 1, 3), TIME=datetime.time(0, 58, 19))\n['3G', 'EC-Movistar(Telefónica)-00', 512, 740000120974860.0, 867961040629755.0, 'D9290D42', -108.0, 2, 40202, nan, 7, datetime.date(2020, 1, 3), datetime.time(0, 58, 19)]\n------------------------------------------------------------------------------\n\n\nRaw raow  Pandas(Index=710, RAT='3G', OPERATOR='EC-Movistar(Telefónica)-00', CHANNEL=512, IMSI=740000121842609.0, IMEI=358099102061751.0, TMSI='C7290972', MS_POWER=-108.0, TA=2, LAST_LAC=40202, NAME=nan, HITS=8, DATE=datetime.date(2020, 1, 3), TIME=datetime.time(0, 22, 13))\n['3G', 'EC-Movistar(Telefónica)-00', 512, 740000121842609.0, 358099102061751.0, 'C7290972', -108.0, 2, 40202, nan, 8, datetime.date(2020, 1, 3), datetime.time(0, 22, 13)]\n------------------------------------------------------------------------------\n\n\nRaw raow  Pandas(Index=61, RAT='3G', OPERATOR='EC-Claro(América Móvil)-01', CHANNEL=612, IMSI=740010171063479.0, IMEI=355612088351559.0, TMSI='D44F7813', MS_POWER=-95.0, TA=3, LAST_LAC=50134, NAME=nan, HITS=5, DATE=datetime.date(2020, 1, 3), TIME=datetime.time(0, 5))\n['3G', 'EC-Claro(América Móvil)-01', 612, 740010171063479.0, 355612088351559.0, 'D44F7813', -95.0, 3, 50134, nan, 5, datetime.date(2020, 1, 3), datetime.time(0, 5)]\n------------------------------------------------------------------------------\n\n\nRaw raow  Pandas(Index=713, RAT='3G', OPERATOR='EC-Movistar(Telefónica)-00', CHANNEL=512, IMSI=740000221937843.0, IMEI=867129031848582.0, TMSI='E92A188F', MS_POWER=-110.0, TA=2, LAST_LAC=15251, NAME=nan, HITS=9, DATE=datetime.date(2020, 1, 3), TIME=datetime.time(1, 43, 44))\n['3G', 'EC-Movistar(Telefónica)-00', 512, 740000221937843.0, 867129031848582.0, 'E92A188F', -110.0, 2, 15251, nan, 9, datetime.date(2020, 1, 3), datetime.time(1, 43, 44)]\n------------------------------------------------------------------------------\n\n\nRaw raow  Pandas(Index=670, RAT='3G', OPERATOR='EC-Movistar(Telefónica)-00', CHANNEL=512, IMSI=740010181261321.0, IMEI=866224035441962.0, TMSI='FC4748D1', MS_POWER=-108.0, TA=3, LAST_LAC=50134, NAME=nan, HITS=2, DATE=datetime.date(2020, 1, 3), TIME=datetime.time(1, 14, 8))\n['3G', 'EC-Movistar(Telefónica)-00', 512, 740010181261321.0, 866224035441962.0, 'FC4748D1', -108.0, 3, 50134, nan, 2, datetime.date(2020, 1, 3), datetime.time(1, 14, 8)]\n------------------------------------------------------------------------------\n\n\nRaw raow  Pandas(Index=650, RAT='3G', OPERATOR='EC-Movistar(Telefónica)-00', CHANNEL=512, IMSI=740000121573947.0, IMEI=867903032522150.0, TMSI='DA300ECC', MS_POWER=-107.0, TA=2, LAST_LAC=32768, NAME=nan, HITS=2, DATE=datetime.date(2020, 1, 3), TIME=datetime.time(2, 21, 24))\n['3G', 'EC-Movistar(Telefónica)-00', 512, 740000121573947.0, 867903032522150.0, 'DA300ECC', -107.0, 2, 32768, nan, 2, datetime.date(2020, 1, 3), datetime.time(2, 21, 24)]\n------------------------------------------------------------------------------\n\n\nRaw raow  Pandas(Index=651, RAT='3G', OPERATOR='EC-Movistar(Telefónica)-00', CHANNEL=512, IMSI=740010181237129.0, IMEI=354728084970779.0, TMSI='FC48309C', MS_POWER=-108.0, TA=2, LAST_LAC=50134, NAME=nan, HITS=1, DATE=datetime.date(2020, 1, 3), TIME=datetime.time(0, 59, 24))\n['3G', 'EC-Movistar(Telefónica)-00', 512, 740010181237129.0, 354728084970779.0, 'FC48309C', -108.0, 2, 50134, nan, 1, datetime.date(2020, 1, 3), datetime.time(0, 59, 24)]\n------------------------------------------------------------------------------\n\n\nRaw raow  Pandas(Index=666, RAT='3G', OPERATOR='EC-Movistar(Telefónica)-00', CHANNEL=512, IMSI=740000222510480.0, IMEI=865011041438376.0, TMSI='EC29CF58', MS_POWER=-99.0, TA=3, LAST_LAC=40202, NAME=nan, HITS=3, DATE=datetime.date(2020, 1, 3), TIME=datetime.time(1, 52, 2))\n['3G', 'EC-Movistar(Telefónica)-00', 512, 740000222510480.0, 865011041438376.0, 'EC29CF58', -99.0, 3, 40202, nan, 3, datetime.date(2020, 1, 3), datetime.time(1, 52, 2)]\n------------------------------------------------------------------------------\n\n\nRaw raow  Pandas(Index=8, RAT='3G', OPERATOR='EC-Claro(América Móvil)-01', CHANNEL=612, IMSI=740010170344050.0, IMEI=869428040023171.0, TMSI='D64179B3', MS_POWER=-98.0, TA=2, LAST_LAC=32769, NAME=nan, HITS=4, DATE=datetime.date(2020, 1, 3), TIME=datetime.time(0, 15, 59))\n['3G', 'EC-Claro(América Móvil)-01', 612, 740010170344050.0, 869428040023171.0, 'D64179B3', -98.0, 2, 32769, nan, 4, datetime.date(2020, 1, 3), datetime.time(0, 15, 59)]\n------------------------------------------------------------------------------\n\n\nRaw raow  Pandas(Index=653, RAT='3G', OPERATOR='EC-Movistar(Telefónica)-00', CHANNEL=512, IMSI=740000118919732.0, IMEI=352686100005081.0, TMSI='EA026FB9', MS_POWER=-109.0, TA=3, LAST_LAC=32768, NAME=nan, HITS=3, DATE=datetime.date(2020, 1, 3), TIME=datetime.time(0, 19, 34))\n['3G', 'EC-Movistar(Telefónica)-00', 512, 740000118919732.0, 352686100005081.0, 'EA026FB9', -109.0, 3, 32768, nan, 3, datetime.date(2020, 1, 3), datetime.time(0, 19, 34)]\n------------------------------------------------------------------------------\n\n\nRaw raow  Pandas(Index=52, RAT='3G', OPERATOR='EC-Claro(América Móvil)-01', CHANNEL=612, IMSI=740010174937055.0, IMEI=354614080047640.0, TMSI='CF40806C', MS_POWER=-95.0, TA=3, LAST_LAC=50404, NAME=nan, HITS=5, DATE=datetime.date(2020, 1, 3), TIME=datetime.time(0, 4, 58))\n['3G', 'EC-Claro(América Móvil)-01', 612, 740010174937055.0, 354614080047640.0, 'CF40806C', -95.0, 3, 50404, nan, 5, datetime.date(2020, 1, 3), datetime.time(0, 4, 58)]\n------------------------------------------------------------------------------\n\n\nRaw raow  Pandas(Index=660, RAT='3G', OPERATOR='EC-Movistar(Telefónica)-00', CHANNEL=512, IMSI=740000221937788.0, IMEI=869823037821597.0, TMSI='C51AD745', MS_POWER=-108.0, TA=2, LAST_LAC=32768, NAME=nan, HITS=3, DATE=datetime.date(2020, 1, 3), TIME=datetime.time(0, 26, 59))\n['3G', 'EC-Movistar(Telefónica)-00', 512, 740000221937788.0, 869823037821597.0, 'C51AD745', -108.0, 2, 32768, nan, 3, datetime.date(2020, 1, 3), datetime.time(0, 26, 59)]\n------------------------------------------------------------------------------\n\n\nRaw raow  Pandas(Index=41, RAT='3G', OPERATOR='EC-Claro(América Móvil)-01', CHANNEL=612, IMSI=740010177429195.0, IMEI=869823034198387.0, TMSI='DA434B7C', MS_POWER=-92.0, TA=3, LAST_LAC=32769, NAME=nan, HITS=6, DATE=datetime.date(2020, 1, 3), TIME=datetime.time(0, 7, 18))\n['3G', 'EC-Claro(América Móvil)-01', 612, 740010177429195.0, 869823034198387.0, 'DA434B7C', -92.0, 3, 32769, nan, 6, datetime.date(2020, 1, 3), datetime.time(0, 7, 18)]\n------------------------------------------------------------------------------\n\n\nRaw raow  Pandas(Index=33, RAT='3G', OPERATOR='EC-Claro(América Móvil)-01', CHANNEL=612, IMSI=740010180121229.0, IMEI=353641100017957.0, TMSI='FFFFFFFF', MS_POWER=-96.0, TA=3, LAST_LAC=50134, NAME=nan, HITS=4, DATE=datetime.date(2020, 1, 3), TIME=datetime.time(0, 11, 24))\n['3G', 'EC-Claro(América Móvil)-01', 612, 740010180121229.0, 353641100017957.0, 'FFFFFFFF', -96.0, 3, 50134, nan, 4, datetime.date(2020, 1, 3), datetime.time(0, 11, 24)]\n------------------------------------------------------------------------------\n\n\n"
    }
   ],
   "source": [
    "headerList = tuple(allData.columns.values)\n",
    "\n",
    "for i,row in enumerate(allData.itertuples()):\n",
    "    print(\"Raw raow \",row)\n",
    "    r = []\n",
    "    for i,columnName in enumerate(headerList):\n",
    "        r.append(row._asdict()[str(columnName)])\n",
    "    print(r)\n",
    "    print(\"------------------------------------------------------------------------------\\n\\n\")"
   ]
  },
  {
   "cell_type": "code",
   "execution_count": 35,
   "metadata": {},
   "outputs": [
    {
     "data": {
      "text/plain": "['RAT',\n 'OPERATOR',\n 'CHANNEL',\n 'IMSI',\n 'IMEI',\n 'TMSI',\n 'MS POWER',\n 'TA',\n 'LAST LAC',\n 'NAME',\n 'HITS',\n 'DATE',\n 'TIME']"
     },
     "execution_count": 35,
     "metadata": {},
     "output_type": "execute_result"
    }
   ],
   "source": [
    "list(allData.columns.values)"
   ]
  },
  {
   "cell_type": "code",
   "execution_count": 145,
   "metadata": {},
   "outputs": [
    {
     "data": {
      "text/html": "<div>\n<style scoped>\n    .dataframe tbody tr th:only-of-type {\n        vertical-align: middle;\n    }\n\n    .dataframe tbody tr th {\n        vertical-align: top;\n    }\n\n    .dataframe thead th {\n        text-align: right;\n    }\n</style>\n<table border=\"1\" class=\"dataframe\">\n  <thead>\n    <tr style=\"text-align: right;\">\n      <th></th>\n      <th></th>\n      <th>HITS</th>\n    </tr>\n    <tr>\n      <th>IMEI</th>\n      <th>IMSI</th>\n      <th></th>\n    </tr>\n  </thead>\n  <tbody>\n    <tr>\n      <th>1.037300e+13</th>\n      <th>7.400102e+14</th>\n      <td>1</td>\n    </tr>\n    <tr>\n      <th>1.099701e+13</th>\n      <th>7.400101e+14</th>\n      <td>1</td>\n    </tr>\n    <tr>\n      <th>1.122300e+13</th>\n      <th>7.400102e+14</th>\n      <td>1</td>\n    </tr>\n    <tr>\n      <th>1.138700e+13</th>\n      <th>7.400101e+14</th>\n      <td>1</td>\n    </tr>\n    <tr>\n      <th>1.138800e+13</th>\n      <th>7.400101e+14</th>\n      <td>1</td>\n    </tr>\n    <tr>\n      <th rowspan=\"2\" valign=\"top\">1.167201e+13</th>\n      <th>7.400102e+14</th>\n      <td>1</td>\n    </tr>\n    <tr>\n      <th>7.400202e+14</th>\n      <td>1</td>\n    </tr>\n    <tr>\n      <th>1.176901e+13</th>\n      <th>7.400102e+14</th>\n      <td>1</td>\n    </tr>\n    <tr>\n      <th>1.185101e+13</th>\n      <th>7.400101e+14</th>\n      <td>1</td>\n    </tr>\n    <tr>\n      <th>1.196900e+13</th>\n      <th>7.400002e+14</th>\n      <td>1</td>\n    </tr>\n    <tr>\n      <th>1.201701e+13</th>\n      <th>7.400202e+14</th>\n      <td>1</td>\n    </tr>\n    <tr>\n      <th>1.240101e+13</th>\n      <th>7.400102e+14</th>\n      <td>1</td>\n    </tr>\n    <tr>\n      <th>1.245600e+13</th>\n      <th>7.400102e+14</th>\n      <td>1</td>\n    </tr>\n    <tr>\n      <th>1.245601e+13</th>\n      <th>7.400101e+14</th>\n      <td>1</td>\n    </tr>\n    <tr>\n      <th>1.250400e+13</th>\n      <th>7.400202e+14</th>\n      <td>1</td>\n    </tr>\n    <tr>\n      <th>1.282101e+13</th>\n      <th>7.400102e+14</th>\n      <td>1</td>\n    </tr>\n    <tr>\n      <th>1.285901e+13</th>\n      <th>7.400102e+14</th>\n      <td>1</td>\n    </tr>\n    <tr>\n      <th>1.323600e+13</th>\n      <th>7.400102e+14</th>\n      <td>1</td>\n    </tr>\n    <tr>\n      <th>1.334400e+13</th>\n      <th>7.400102e+14</th>\n      <td>1</td>\n    </tr>\n    <tr>\n      <th>1.340100e+13</th>\n      <th>7.400102e+14</th>\n      <td>1</td>\n    </tr>\n    <tr>\n      <th>1.353701e+13</th>\n      <th>7.400102e+14</th>\n      <td>1</td>\n    </tr>\n    <tr>\n      <th>1.385201e+13</th>\n      <th>7.400102e+14</th>\n      <td>1</td>\n    </tr>\n    <tr>\n      <th rowspan=\"8\" valign=\"top\">1.396101e+13</th>\n      <th>7.400052e+14</th>\n      <td>2</td>\n    </tr>\n    <tr>\n      <th>7.400102e+14</th>\n      <td>1</td>\n    </tr>\n    <tr>\n      <th>7.400102e+14</th>\n      <td>1</td>\n    </tr>\n    <tr>\n      <th>7.400101e+14</th>\n      <td>2</td>\n    </tr>\n    <tr>\n      <th>7.400101e+14</th>\n      <td>2</td>\n    </tr>\n    <tr>\n      <th>7.400202e+14</th>\n      <td>1</td>\n    </tr>\n    <tr>\n      <th>7.400052e+14</th>\n      <td>1</td>\n    </tr>\n    <tr>\n      <th>7.400102e+14</th>\n      <td>1</td>\n    </tr>\n    <tr>\n      <th>...</th>\n      <th>...</th>\n      <td>...</td>\n    </tr>\n    <tr>\n      <th>8.691700e+14</th>\n      <th>7.400202e+14</th>\n      <td>1</td>\n    </tr>\n    <tr>\n      <th>8.692310e+14</th>\n      <th>7.400101e+14</th>\n      <td>1</td>\n    </tr>\n    <tr>\n      <th rowspan=\"4\" valign=\"top\">8.693960e+14</th>\n      <th>7.400001e+14</th>\n      <td>1</td>\n    </tr>\n    <tr>\n      <th>7.400102e+14</th>\n      <td>6</td>\n    </tr>\n    <tr>\n      <th>7.400102e+14</th>\n      <td>1</td>\n    </tr>\n    <tr>\n      <th>7.400001e+14</th>\n      <td>1</td>\n    </tr>\n    <tr>\n      <th>8.694280e+14</th>\n      <th>7.400102e+14</th>\n      <td>24</td>\n    </tr>\n    <tr>\n      <th>8.694560e+14</th>\n      <th>7.400052e+14</th>\n      <td>1</td>\n    </tr>\n    <tr>\n      <th>8.696220e+14</th>\n      <th>7.400102e+14</th>\n      <td>1</td>\n    </tr>\n    <tr>\n      <th>8.697940e+14</th>\n      <th>7.400001e+14</th>\n      <td>1</td>\n    </tr>\n    <tr>\n      <th>8.698100e+14</th>\n      <th>7.400102e+14</th>\n      <td>1</td>\n    </tr>\n    <tr>\n      <th rowspan=\"8\" valign=\"top\">8.698230e+14</th>\n      <th>7.400202e+14</th>\n      <td>2</td>\n    </tr>\n    <tr>\n      <th>7.400102e+14</th>\n      <td>2</td>\n    </tr>\n    <tr>\n      <th>7.400102e+14</th>\n      <td>1</td>\n    </tr>\n    <tr>\n      <th>7.400102e+14</th>\n      <td>19</td>\n    </tr>\n    <tr>\n      <th>7.400052e+14</th>\n      <td>1</td>\n    </tr>\n    <tr>\n      <th>7.400002e+14</th>\n      <td>15</td>\n    </tr>\n    <tr>\n      <th>7.400002e+14</th>\n      <td>38</td>\n    </tr>\n    <tr>\n      <th>7.400001e+14</th>\n      <td>11</td>\n    </tr>\n    <tr>\n      <th rowspan=\"2\" valign=\"top\">8.698240e+14</th>\n      <th>7.400052e+14</th>\n      <td>3</td>\n    </tr>\n    <tr>\n      <th>7.400001e+14</th>\n      <td>1</td>\n    </tr>\n    <tr>\n      <th rowspan=\"2\" valign=\"top\">8.699690e+14</th>\n      <th>7.400001e+14</th>\n      <td>1</td>\n    </tr>\n    <tr>\n      <th>7.400001e+14</th>\n      <td>1</td>\n    </tr>\n    <tr>\n      <th rowspan=\"5\" valign=\"top\">8.699710e+14</th>\n      <th>7.400102e+14</th>\n      <td>10</td>\n    </tr>\n    <tr>\n      <th>7.400102e+14</th>\n      <td>5</td>\n    </tr>\n    <tr>\n      <th>7.400102e+14</th>\n      <td>3</td>\n    </tr>\n    <tr>\n      <th>7.400102e+14</th>\n      <td>3</td>\n    </tr>\n    <tr>\n      <th>7.400102e+14</th>\n      <td>1</td>\n    </tr>\n    <tr>\n      <th>8.699720e+14</th>\n      <th>7.400051e+14</th>\n      <td>4</td>\n    </tr>\n    <tr>\n      <th>9.900058e+14</th>\n      <th>7.400052e+14</th>\n      <td>1</td>\n    </tr>\n  </tbody>\n</table>\n<p>2263 rows × 1 columns</p>\n</div>",
      "text/plain": "                           HITS\nIMEI         IMSI              \n1.037300e+13 7.400102e+14     1\n1.099701e+13 7.400101e+14     1\n1.122300e+13 7.400102e+14     1\n1.138700e+13 7.400101e+14     1\n1.138800e+13 7.400101e+14     1\n1.167201e+13 7.400102e+14     1\n             7.400202e+14     1\n1.176901e+13 7.400102e+14     1\n1.185101e+13 7.400101e+14     1\n1.196900e+13 7.400002e+14     1\n1.201701e+13 7.400202e+14     1\n1.240101e+13 7.400102e+14     1\n1.245600e+13 7.400102e+14     1\n1.245601e+13 7.400101e+14     1\n1.250400e+13 7.400202e+14     1\n1.282101e+13 7.400102e+14     1\n1.285901e+13 7.400102e+14     1\n1.323600e+13 7.400102e+14     1\n1.334400e+13 7.400102e+14     1\n1.340100e+13 7.400102e+14     1\n1.353701e+13 7.400102e+14     1\n1.385201e+13 7.400102e+14     1\n1.396101e+13 7.400052e+14     2\n             7.400102e+14     1\n             7.400102e+14     1\n             7.400101e+14     2\n             7.400101e+14     2\n             7.400202e+14     1\n             7.400052e+14     1\n             7.400102e+14     1\n...                         ...\n8.691700e+14 7.400202e+14     1\n8.692310e+14 7.400101e+14     1\n8.693960e+14 7.400001e+14     1\n             7.400102e+14     6\n             7.400102e+14     1\n             7.400001e+14     1\n8.694280e+14 7.400102e+14    24\n8.694560e+14 7.400052e+14     1\n8.696220e+14 7.400102e+14     1\n8.697940e+14 7.400001e+14     1\n8.698100e+14 7.400102e+14     1\n8.698230e+14 7.400202e+14     2\n             7.400102e+14     2\n             7.400102e+14     1\n             7.400102e+14    19\n             7.400052e+14     1\n             7.400002e+14    15\n             7.400002e+14    38\n             7.400001e+14    11\n8.698240e+14 7.400052e+14     3\n             7.400001e+14     1\n8.699690e+14 7.400001e+14     1\n             7.400001e+14     1\n8.699710e+14 7.400102e+14    10\n             7.400102e+14     5\n             7.400102e+14     3\n             7.400102e+14     3\n             7.400102e+14     1\n8.699720e+14 7.400051e+14     4\n9.900058e+14 7.400052e+14     1\n\n[2263 rows x 1 columns]"
     },
     "execution_count": 145,
     "metadata": {},
     "output_type": "execute_result"
    }
   ],
   "source": [
    "# Prueba\n",
    "import numpy as np\n",
    "pivotTable = pd.pivot_table(allData, values=\"HITS\", index=['IMEI', 'IMSI'], aggfunc=np.sum)\n",
    "pivotTable"
   ]
  },
  {
   "cell_type": "code",
   "execution_count": 37,
   "metadata": {},
   "outputs": [
    {
     "data": {
      "text/html": "<div>\n<style scoped>\n    .dataframe tbody tr th:only-of-type {\n        vertical-align: middle;\n    }\n\n    .dataframe tbody tr th {\n        vertical-align: top;\n    }\n\n    .dataframe thead th {\n        text-align: right;\n    }\n</style>\n<table border=\"1\" class=\"dataframe\">\n  <thead>\n    <tr style=\"text-align: right;\">\n      <th></th>\n      <th>RAT</th>\n      <th>OPERATOR</th>\n      <th>CHANNEL</th>\n      <th>IMSI</th>\n      <th>IMEI</th>\n      <th>TMSI</th>\n      <th>MS_POWER</th>\n      <th>TA</th>\n      <th>LAST_LAC</th>\n      <th>NAME</th>\n      <th>HITS</th>\n      <th>DATE</th>\n      <th>TIME</th>\n    </tr>\n  </thead>\n  <tbody>\n    <tr>\n      <td>12</td>\n      <td>4G</td>\n      <td>EC-Claro(América Móvil)-01</td>\n      <td>2250</td>\n      <td>7.400102e+14</td>\n      <td>NaN</td>\n      <td>NaN</td>\n      <td>-101397.00</td>\n      <td>2</td>\n      <td>60134</td>\n      <td>NaN</td>\n      <td>2</td>\n      <td>2019-12-31</td>\n      <td>16:22:20</td>\n    </tr>\n    <tr>\n      <td>6</td>\n      <td>4G</td>\n      <td>EC-Claro(América Móvil)-01</td>\n      <td>2250</td>\n      <td>7.400102e+14</td>\n      <td>NaN</td>\n      <td>NaN</td>\n      <td>-112.10</td>\n      <td>2</td>\n      <td>60134</td>\n      <td>NaN</td>\n      <td>1</td>\n      <td>2019-12-31</td>\n      <td>16:14:43</td>\n    </tr>\n    <tr>\n      <td>7</td>\n      <td>4G</td>\n      <td>EC-Claro(América Móvil)-01</td>\n      <td>2250</td>\n      <td>7.400102e+14</td>\n      <td>NaN</td>\n      <td>NaN</td>\n      <td>-111.71</td>\n      <td>2</td>\n      <td>60134</td>\n      <td>NaN</td>\n      <td>1</td>\n      <td>2019-12-31</td>\n      <td>16:14:33</td>\n    </tr>\n    <tr>\n      <td>8</td>\n      <td>4G</td>\n      <td>EC-Claro(América Móvil)-01</td>\n      <td>2250</td>\n      <td>7.400102e+14</td>\n      <td>NaN</td>\n      <td>NaN</td>\n      <td>-113975.00</td>\n      <td>2</td>\n      <td>60134</td>\n      <td>NaN</td>\n      <td>1</td>\n      <td>2019-12-31</td>\n      <td>16:14:16</td>\n    </tr>\n    <tr>\n      <td>0</td>\n      <td>4G</td>\n      <td>EC-Claro(América Móvil)-01</td>\n      <td>2250</td>\n      <td>7.400102e+14</td>\n      <td>NaN</td>\n      <td>NaN</td>\n      <td>-108819.00</td>\n      <td>2</td>\n      <td>60134</td>\n      <td>NaN</td>\n      <td>1</td>\n      <td>2019-12-31</td>\n      <td>16:30:03</td>\n    </tr>\n    <tr>\n      <td>...</td>\n      <td>...</td>\n      <td>...</td>\n      <td>...</td>\n      <td>...</td>\n      <td>...</td>\n      <td>...</td>\n      <td>...</td>\n      <td>...</td>\n      <td>...</td>\n      <td>...</td>\n      <td>...</td>\n      <td>...</td>\n      <td>...</td>\n    </tr>\n    <tr>\n      <td>11</td>\n      <td>4G</td>\n      <td>EC-Claro(América Móvil)-01</td>\n      <td>925</td>\n      <td>7.400102e+14</td>\n      <td>NaN</td>\n      <td>NaN</td>\n      <td>-113507.00</td>\n      <td>2</td>\n      <td>-1</td>\n      <td>NaN</td>\n      <td>1</td>\n      <td>2020-01-02</td>\n      <td>14:35:54</td>\n    </tr>\n    <tr>\n      <td>10</td>\n      <td>4G</td>\n      <td>EC-Claro(América Móvil)-01</td>\n      <td>925</td>\n      <td>7.400102e+14</td>\n      <td>NaN</td>\n      <td>NaN</td>\n      <td>-112.96</td>\n      <td>1</td>\n      <td>60134</td>\n      <td>NaN</td>\n      <td>1</td>\n      <td>2020-01-02</td>\n      <td>14:42:28</td>\n    </tr>\n    <tr>\n      <td>18</td>\n      <td>4G</td>\n      <td>EC-Claro(América Móvil)-01</td>\n      <td>925</td>\n      <td>7.400102e+14</td>\n      <td>NaN</td>\n      <td>NaN</td>\n      <td>-101553.00</td>\n      <td>2</td>\n      <td>60134</td>\n      <td>NaN</td>\n      <td>1</td>\n      <td>2020-01-02</td>\n      <td>14:04:15</td>\n    </tr>\n    <tr>\n      <td>72</td>\n      <td>4G</td>\n      <td>EC-Movistar(Telefónica)-00</td>\n      <td>700</td>\n      <td>7.400001e+14</td>\n      <td>NaN</td>\n      <td>NaN</td>\n      <td>-104366.00</td>\n      <td>2</td>\n      <td>9616</td>\n      <td>NaN</td>\n      <td>1</td>\n      <td>2020-01-02</td>\n      <td>10:04:13</td>\n    </tr>\n    <tr>\n      <td>73</td>\n      <td>4G</td>\n      <td>EC-Movistar(Telefónica)-00</td>\n      <td>700</td>\n      <td>7.400001e+14</td>\n      <td>NaN</td>\n      <td>NaN</td>\n      <td>-112.10</td>\n      <td>2</td>\n      <td>9616</td>\n      <td>NaN</td>\n      <td>7</td>\n      <td>2020-01-02</td>\n      <td>11:46:25</td>\n    </tr>\n  </tbody>\n</table>\n<p>99 rows × 13 columns</p>\n</div>",
      "text/plain": "   RAT                    OPERATOR  CHANNEL          IMSI  IMEI TMSI  \\\n12  4G  EC-Claro(América Móvil)-01     2250  7.400102e+14   NaN  NaN   \n6   4G  EC-Claro(América Móvil)-01     2250  7.400102e+14   NaN  NaN   \n7   4G  EC-Claro(América Móvil)-01     2250  7.400102e+14   NaN  NaN   \n8   4G  EC-Claro(América Móvil)-01     2250  7.400102e+14   NaN  NaN   \n0   4G  EC-Claro(América Móvil)-01     2250  7.400102e+14   NaN  NaN   \n..  ..                         ...      ...           ...   ...  ...   \n11  4G  EC-Claro(América Móvil)-01      925  7.400102e+14   NaN  NaN   \n10  4G  EC-Claro(América Móvil)-01      925  7.400102e+14   NaN  NaN   \n18  4G  EC-Claro(América Móvil)-01      925  7.400102e+14   NaN  NaN   \n72  4G  EC-Movistar(Telefónica)-00      700  7.400001e+14   NaN  NaN   \n73  4G  EC-Movistar(Telefónica)-00      700  7.400001e+14   NaN  NaN   \n\n     MS_POWER  TA  LAST_LAC  NAME  HITS        DATE      TIME  \n12 -101397.00   2     60134   NaN     2  2019-12-31  16:22:20  \n6     -112.10   2     60134   NaN     1  2019-12-31  16:14:43  \n7     -111.71   2     60134   NaN     1  2019-12-31  16:14:33  \n8  -113975.00   2     60134   NaN     1  2019-12-31  16:14:16  \n0  -108819.00   2     60134   NaN     1  2019-12-31  16:30:03  \n..        ...  ..       ...   ...   ...         ...       ...  \n11 -113507.00   2        -1   NaN     1  2020-01-02  14:35:54  \n10    -112.96   1     60134   NaN     1  2020-01-02  14:42:28  \n18 -101553.00   2     60134   NaN     1  2020-01-02  14:04:15  \n72 -104366.00   2      9616   NaN     1  2020-01-02  10:04:13  \n73    -112.10   2      9616   NaN     7  2020-01-02  11:46:25  \n\n[99 rows x 13 columns]"
     },
     "execution_count": 37,
     "metadata": {},
     "output_type": "execute_result"
    }
   ],
   "source": [
    "def getDatosIncosistentes(df, cols=[]):\n",
    "    return df[df[cols[0]].isnull()]\n",
    "getDatosIncosistentes(allData, ['IMEI',])"
   ]
  },
  {
   "cell_type": "code",
   "execution_count": 148,
   "metadata": {},
   "outputs": [
    {
     "ename": "ValueError",
     "evalue": "Length mismatch: Expected axis has 3528 elements, new values have 3627 elements",
     "output_type": "error",
     "traceback": [
      "\u001b[1;31m---------------------------------------------------------------------------\u001b[0m",
      "\u001b[1;31mValueError\u001b[0m                                Traceback (most recent call last)",
      "\u001b[1;32m<ipython-input-148-40b7eb3e732e>\u001b[0m in \u001b[0;36m<module>\u001b[1;34m\u001b[0m\n\u001b[0;32m      2\u001b[0m     return  df.groupby('IMEI')['HITS'].transform(lambda x: sum(x)\n\u001b[0;32m      3\u001b[0m )\n\u001b[1;32m----> 4\u001b[1;33m \u001b[0mobtenerHitsEmai\u001b[0m\u001b[1;33m(\u001b[0m\u001b[0mallData\u001b[0m\u001b[1;33m)\u001b[0m\u001b[1;33m\u001b[0m\u001b[1;33m\u001b[0m\u001b[0m\n\u001b[0m",
      "\u001b[1;32m<ipython-input-148-40b7eb3e732e>\u001b[0m in \u001b[0;36mobtenerHitsEmai\u001b[1;34m(df)\u001b[0m\n\u001b[0;32m      1\u001b[0m \u001b[1;32mdef\u001b[0m \u001b[0mobtenerHitsEmai\u001b[0m\u001b[1;33m(\u001b[0m\u001b[0mdf\u001b[0m\u001b[1;33m)\u001b[0m\u001b[1;33m:\u001b[0m\u001b[1;33m\u001b[0m\u001b[1;33m\u001b[0m\u001b[0m\n\u001b[1;32m----> 2\u001b[1;33m     return  df.groupby('IMEI')['HITS'].transform(lambda x: sum(x)\n\u001b[0m\u001b[0;32m      3\u001b[0m )\n\u001b[0;32m      4\u001b[0m \u001b[0mobtenerHitsEmai\u001b[0m\u001b[1;33m(\u001b[0m\u001b[0mallData\u001b[0m\u001b[1;33m)\u001b[0m\u001b[1;33m\u001b[0m\u001b[1;33m\u001b[0m\u001b[0m\n",
      "\u001b[1;32m~\\AppData\\Local\\Continuum\\anaconda3\\lib\\site-packages\\pandas\\core\\groupby\\generic.py\u001b[0m in \u001b[0;36mtransform\u001b[1;34m(self, func, *args, **kwargs)\u001b[0m\n\u001b[0;32m    953\u001b[0m \u001b[1;33m\u001b[0m\u001b[0m\n\u001b[0;32m    954\u001b[0m         \u001b[0mresult\u001b[0m\u001b[1;33m.\u001b[0m\u001b[0mname\u001b[0m \u001b[1;33m=\u001b[0m \u001b[0mself\u001b[0m\u001b[1;33m.\u001b[0m\u001b[0m_selected_obj\u001b[0m\u001b[1;33m.\u001b[0m\u001b[0mname\u001b[0m\u001b[1;33m\u001b[0m\u001b[1;33m\u001b[0m\u001b[0m\n\u001b[1;32m--> 955\u001b[1;33m         \u001b[0mresult\u001b[0m\u001b[1;33m.\u001b[0m\u001b[0mindex\u001b[0m \u001b[1;33m=\u001b[0m \u001b[0mself\u001b[0m\u001b[1;33m.\u001b[0m\u001b[0m_selected_obj\u001b[0m\u001b[1;33m.\u001b[0m\u001b[0mindex\u001b[0m\u001b[1;33m\u001b[0m\u001b[1;33m\u001b[0m\u001b[0m\n\u001b[0m\u001b[0;32m    956\u001b[0m         \u001b[1;32mreturn\u001b[0m \u001b[0mresult\u001b[0m\u001b[1;33m\u001b[0m\u001b[1;33m\u001b[0m\u001b[0m\n\u001b[0;32m    957\u001b[0m \u001b[1;33m\u001b[0m\u001b[0m\n",
      "\u001b[1;32m~\\AppData\\Local\\Continuum\\anaconda3\\lib\\site-packages\\pandas\\core\\generic.py\u001b[0m in \u001b[0;36m__setattr__\u001b[1;34m(self, name, value)\u001b[0m\n\u001b[0;32m   5078\u001b[0m         \u001b[1;32mtry\u001b[0m\u001b[1;33m:\u001b[0m\u001b[1;33m\u001b[0m\u001b[1;33m\u001b[0m\u001b[0m\n\u001b[0;32m   5079\u001b[0m             \u001b[0mobject\u001b[0m\u001b[1;33m.\u001b[0m\u001b[0m__getattribute__\u001b[0m\u001b[1;33m(\u001b[0m\u001b[0mself\u001b[0m\u001b[1;33m,\u001b[0m \u001b[0mname\u001b[0m\u001b[1;33m)\u001b[0m\u001b[1;33m\u001b[0m\u001b[1;33m\u001b[0m\u001b[0m\n\u001b[1;32m-> 5080\u001b[1;33m             \u001b[1;32mreturn\u001b[0m \u001b[0mobject\u001b[0m\u001b[1;33m.\u001b[0m\u001b[0m__setattr__\u001b[0m\u001b[1;33m(\u001b[0m\u001b[0mself\u001b[0m\u001b[1;33m,\u001b[0m \u001b[0mname\u001b[0m\u001b[1;33m,\u001b[0m \u001b[0mvalue\u001b[0m\u001b[1;33m)\u001b[0m\u001b[1;33m\u001b[0m\u001b[1;33m\u001b[0m\u001b[0m\n\u001b[0m\u001b[0;32m   5081\u001b[0m         \u001b[1;32mexcept\u001b[0m \u001b[0mAttributeError\u001b[0m\u001b[1;33m:\u001b[0m\u001b[1;33m\u001b[0m\u001b[1;33m\u001b[0m\u001b[0m\n\u001b[0;32m   5082\u001b[0m             \u001b[1;32mpass\u001b[0m\u001b[1;33m\u001b[0m\u001b[1;33m\u001b[0m\u001b[0m\n",
      "\u001b[1;32mpandas/_libs/properties.pyx\u001b[0m in \u001b[0;36mpandas._libs.properties.AxisProperty.__set__\u001b[1;34m()\u001b[0m\n",
      "\u001b[1;32m~\\AppData\\Local\\Continuum\\anaconda3\\lib\\site-packages\\pandas\\core\\series.py\u001b[0m in \u001b[0;36m_set_axis\u001b[1;34m(self, axis, labels, fastpath)\u001b[0m\n\u001b[0;32m    378\u001b[0m         \u001b[0mobject\u001b[0m\u001b[1;33m.\u001b[0m\u001b[0m__setattr__\u001b[0m\u001b[1;33m(\u001b[0m\u001b[0mself\u001b[0m\u001b[1;33m,\u001b[0m \u001b[1;34m'_index'\u001b[0m\u001b[1;33m,\u001b[0m \u001b[0mlabels\u001b[0m\u001b[1;33m)\u001b[0m\u001b[1;33m\u001b[0m\u001b[1;33m\u001b[0m\u001b[0m\n\u001b[0;32m    379\u001b[0m         \u001b[1;32mif\u001b[0m \u001b[1;32mnot\u001b[0m \u001b[0mfastpath\u001b[0m\u001b[1;33m:\u001b[0m\u001b[1;33m\u001b[0m\u001b[1;33m\u001b[0m\u001b[0m\n\u001b[1;32m--> 380\u001b[1;33m             \u001b[0mself\u001b[0m\u001b[1;33m.\u001b[0m\u001b[0m_data\u001b[0m\u001b[1;33m.\u001b[0m\u001b[0mset_axis\u001b[0m\u001b[1;33m(\u001b[0m\u001b[0maxis\u001b[0m\u001b[1;33m,\u001b[0m \u001b[0mlabels\u001b[0m\u001b[1;33m)\u001b[0m\u001b[1;33m\u001b[0m\u001b[1;33m\u001b[0m\u001b[0m\n\u001b[0m\u001b[0;32m    381\u001b[0m \u001b[1;33m\u001b[0m\u001b[0m\n\u001b[0;32m    382\u001b[0m     \u001b[1;32mdef\u001b[0m \u001b[0m_set_subtyp\u001b[0m\u001b[1;33m(\u001b[0m\u001b[0mself\u001b[0m\u001b[1;33m,\u001b[0m \u001b[0mis_all_dates\u001b[0m\u001b[1;33m)\u001b[0m\u001b[1;33m:\u001b[0m\u001b[1;33m\u001b[0m\u001b[1;33m\u001b[0m\u001b[0m\n",
      "\u001b[1;32m~\\AppData\\Local\\Continuum\\anaconda3\\lib\\site-packages\\pandas\\core\\internals\\managers.py\u001b[0m in \u001b[0;36mset_axis\u001b[1;34m(self, axis, new_labels)\u001b[0m\n\u001b[0;32m    153\u001b[0m             raise ValueError(\n\u001b[0;32m    154\u001b[0m                 \u001b[1;34m'Length mismatch: Expected axis has {old} elements, new '\u001b[0m\u001b[1;33m\u001b[0m\u001b[1;33m\u001b[0m\u001b[0m\n\u001b[1;32m--> 155\u001b[1;33m                 'values have {new} elements'.format(old=old_len, new=new_len))\n\u001b[0m\u001b[0;32m    156\u001b[0m \u001b[1;33m\u001b[0m\u001b[0m\n\u001b[0;32m    157\u001b[0m         \u001b[0mself\u001b[0m\u001b[1;33m.\u001b[0m\u001b[0maxes\u001b[0m\u001b[1;33m[\u001b[0m\u001b[0maxis\u001b[0m\u001b[1;33m]\u001b[0m \u001b[1;33m=\u001b[0m \u001b[0mnew_labels\u001b[0m\u001b[1;33m\u001b[0m\u001b[1;33m\u001b[0m\u001b[0m\n",
      "\u001b[1;31mValueError\u001b[0m: Length mismatch: Expected axis has 3528 elements, new values have 3627 elements"
     ]
    }
   ],
   "source": [
    "def obtenerHitsEmai(df):\n",
    "    return  df.groupby('IMEI')['HITS'].transform(lambda x: sum(x)\n",
    ")\n",
    "obtenerHitsEmai(allData)"
   ]
  },
  {
   "cell_type": "code",
   "execution_count": 31,
   "metadata": {},
   "outputs": [
    {
     "data": {
      "text/plain": "['EC-Claro(América Móvil)-01', 'EC-Movistar(Telefónica)-00']"
     },
     "execution_count": 31,
     "metadata": {},
     "output_type": "execute_result"
    }
   ],
   "source": [
    "def getUniqueColumnValues(df, column):\n",
    "    return df[column].unique()\n",
    "getUniqueColumnValues(allData,'OPERATOR').tolist()"
   ]
  },
  {
   "cell_type": "code",
   "execution_count": 34,
   "metadata": {},
   "outputs": [
    {
     "name": "stdout",
     "output_type": "stream",
     "text": "<class 'pandas.core.frame.DataFrame'>\nInt64Index: 1 entries, 724 to 724\nData columns (total 13 columns):\nRAT         1 non-null object\nOPERATOR    1 non-null object\nCHANNEL     1 non-null int64\nIMSI        1 non-null float64\nIMEI        1 non-null float64\nTMSI        1 non-null object\nMS_POWER    1 non-null float64\nTA          1 non-null int64\nLAST_LAC    1 non-null int64\nNAME        0 non-null float64\nHITS        1 non-null int64\nDATE        1 non-null object\nTIME        1 non-null object\ndtypes: float64(4), int64(4), object(5)\nmemory usage: 112.0+ bytes\n"
    }
   ],
   "source": [
    "allData.head(1).info()"
   ]
  },
  {
   "cell_type": "code",
   "execution_count": 35,
   "metadata": {},
   "outputs": [
    {
     "data": {
      "text/html": "<div>\n<style scoped>\n    .dataframe tbody tr th:only-of-type {\n        vertical-align: middle;\n    }\n\n    .dataframe tbody tr th {\n        vertical-align: top;\n    }\n\n    .dataframe thead th {\n        text-align: right;\n    }\n</style>\n<table border=\"1\" class=\"dataframe\">\n  <thead>\n    <tr style=\"text-align: right;\">\n      <th></th>\n      <th>RAT</th>\n      <th>OPERATOR</th>\n      <th>CHANNEL</th>\n      <th>IMSI</th>\n      <th>IMEI</th>\n      <th>TMSI</th>\n      <th>MS_POWER</th>\n      <th>TA</th>\n      <th>LAST_LAC</th>\n      <th>NAME</th>\n      <th>HITS</th>\n      <th>DATE</th>\n      <th>TIME</th>\n    </tr>\n  </thead>\n  <tbody>\n    <tr>\n      <td>294</td>\n      <td>2G</td>\n      <td>EC-Movistar(Telefónica)-00</td>\n      <td>245</td>\n      <td>2.140742e+14</td>\n      <td>8.687890e+14</td>\n      <td>FFFFFFFF</td>\n      <td>-65.0</td>\n      <td>0</td>\n      <td>15251</td>\n      <td>NaN</td>\n      <td>2</td>\n      <td>2020-01-02</td>\n      <td>12:33:35</td>\n    </tr>\n    <tr>\n      <td>5</td>\n      <td>2G</td>\n      <td>EC-Claro(América Móvil)-01</td>\n      <td>136</td>\n      <td>7.400102e+14</td>\n      <td>8.687890e+14</td>\n      <td>540C8DA9</td>\n      <td>-65.0</td>\n      <td>0</td>\n      <td>50134</td>\n      <td>NaN</td>\n      <td>1</td>\n      <td>2020-01-02</td>\n      <td>23:19:17</td>\n    </tr>\n    <tr>\n      <td>4</td>\n      <td>2G</td>\n      <td>EC-Claro(América Móvil)-01</td>\n      <td>136</td>\n      <td>7.400102e+14</td>\n      <td>8.687890e+14</td>\n      <td>870C5759</td>\n      <td>-66.0</td>\n      <td>0</td>\n      <td>10228</td>\n      <td>NaN</td>\n      <td>1</td>\n      <td>2020-01-02</td>\n      <td>23:20:18</td>\n    </tr>\n    <tr>\n      <td>3</td>\n      <td>2G</td>\n      <td>EC-Claro(América Móvil)-01</td>\n      <td>136</td>\n      <td>7.400102e+14</td>\n      <td>8.687890e+14</td>\n      <td>301038EE</td>\n      <td>-66.0</td>\n      <td>0</td>\n      <td>10228</td>\n      <td>NaN</td>\n      <td>1</td>\n      <td>2020-01-02</td>\n      <td>23:27:23</td>\n    </tr>\n    <tr>\n      <td>2</td>\n      <td>2G</td>\n      <td>EC-Claro(América Móvil)-01</td>\n      <td>136</td>\n      <td>7.400102e+14</td>\n      <td>8.687890e+14</td>\n      <td>9B0D58C1</td>\n      <td>-65.0</td>\n      <td>0</td>\n      <td>10228</td>\n      <td>NaN</td>\n      <td>1</td>\n      <td>2020-01-02</td>\n      <td>23:41:19</td>\n    </tr>\n    <tr>\n      <td>1</td>\n      <td>2G</td>\n      <td>EC-Claro(América Móvil)-01</td>\n      <td>136</td>\n      <td>7.400102e+14</td>\n      <td>8.687890e+14</td>\n      <td>36129C46</td>\n      <td>-64.0</td>\n      <td>0</td>\n      <td>10228</td>\n      <td>NaN</td>\n      <td>1</td>\n      <td>2020-01-02</td>\n      <td>23:47:29</td>\n    </tr>\n    <tr>\n      <td>0</td>\n      <td>2G</td>\n      <td>EC-Claro(América Móvil)-01</td>\n      <td>136</td>\n      <td>2.140742e+14</td>\n      <td>8.687890e+14</td>\n      <td>FFFFFFFF</td>\n      <td>-64.0</td>\n      <td>0</td>\n      <td>65534</td>\n      <td>NaN</td>\n      <td>1</td>\n      <td>2020-01-02</td>\n      <td>23:53:29</td>\n    </tr>\n  </tbody>\n</table>\n</div>",
      "text/plain": "    RAT                    OPERATOR  CHANNEL          IMSI          IMEI  \\\n294  2G  EC-Movistar(Telefónica)-00      245  2.140742e+14  8.687890e+14   \n5    2G  EC-Claro(América Móvil)-01      136  7.400102e+14  8.687890e+14   \n4    2G  EC-Claro(América Móvil)-01      136  7.400102e+14  8.687890e+14   \n3    2G  EC-Claro(América Móvil)-01      136  7.400102e+14  8.687890e+14   \n2    2G  EC-Claro(América Móvil)-01      136  7.400102e+14  8.687890e+14   \n1    2G  EC-Claro(América Móvil)-01      136  7.400102e+14  8.687890e+14   \n0    2G  EC-Claro(América Móvil)-01      136  2.140742e+14  8.687890e+14   \n\n         TMSI  MS_POWER  TA  LAST_LAC  NAME  HITS        DATE      TIME  \n294  FFFFFFFF     -65.0   0     15251   NaN     2  2020-01-02  12:33:35  \n5    540C8DA9     -65.0   0     50134   NaN     1  2020-01-02  23:19:17  \n4    870C5759     -66.0   0     10228   NaN     1  2020-01-02  23:20:18  \n3    301038EE     -66.0   0     10228   NaN     1  2020-01-02  23:27:23  \n2    9B0D58C1     -65.0   0     10228   NaN     1  2020-01-02  23:41:19  \n1    36129C46     -64.0   0     10228   NaN     1  2020-01-02  23:47:29  \n0    FFFFFFFF     -64.0   0     65534   NaN     1  2020-01-02  23:53:29  "
     },
     "execution_count": 35,
     "metadata": {},
     "output_type": "execute_result"
    }
   ],
   "source": [
    "def filterDfByEmai(df, imei):\n",
    "    return df[df['IMEI']==imei]\n",
    "filterDfByEmai(allData, 868789022187230)"
   ]
  },
  {
   "cell_type": "code",
   "execution_count": null,
   "metadata": {},
   "outputs": [],
   "source": [
    "def getDatosIncosistentes(df: pd.DataFrame, cols=[]):\n",
    "    return df[df[cols[0]].()]\n",
    "getDatosIncosistentes(allData, ['IMEI',])"
   ]
  },
  {
   "cell_type": "code",
   "execution_count": 39,
   "metadata": {},
   "outputs": [
    {
     "data": {
      "text/html": "<div>\n<style scoped>\n    .dataframe tbody tr th:only-of-type {\n        vertical-align: middle;\n    }\n\n    .dataframe tbody tr th {\n        vertical-align: top;\n    }\n\n    .dataframe thead th {\n        text-align: right;\n    }\n</style>\n<table border=\"1\" class=\"dataframe\">\n  <thead>\n    <tr style=\"text-align: right;\">\n      <th></th>\n      <th>RAT</th>\n      <th>OPERATOR</th>\n      <th>CHANNEL</th>\n      <th>IMSI</th>\n      <th>IMEI</th>\n      <th>TMSI</th>\n      <th>MS_POWER</th>\n      <th>TA</th>\n      <th>LAST_LAC</th>\n      <th>NAME</th>\n      <th>HITS</th>\n      <th>DATE</th>\n      <th>TIME</th>\n    </tr>\n  </thead>\n  <tbody>\n    <tr>\n      <td>12</td>\n      <td>4G</td>\n      <td>EC-Claro(América Móvil)-01</td>\n      <td>2250</td>\n      <td>7.400102e+14</td>\n      <td>NaN</td>\n      <td>NaN</td>\n      <td>-101397.00</td>\n      <td>2</td>\n      <td>60134</td>\n      <td>NaN</td>\n      <td>2</td>\n      <td>2019-12-31</td>\n      <td>16:22:20</td>\n    </tr>\n    <tr>\n      <td>6</td>\n      <td>4G</td>\n      <td>EC-Claro(América Móvil)-01</td>\n      <td>2250</td>\n      <td>7.400102e+14</td>\n      <td>NaN</td>\n      <td>NaN</td>\n      <td>-112.10</td>\n      <td>2</td>\n      <td>60134</td>\n      <td>NaN</td>\n      <td>1</td>\n      <td>2019-12-31</td>\n      <td>16:14:43</td>\n    </tr>\n    <tr>\n      <td>7</td>\n      <td>4G</td>\n      <td>EC-Claro(América Móvil)-01</td>\n      <td>2250</td>\n      <td>7.400102e+14</td>\n      <td>NaN</td>\n      <td>NaN</td>\n      <td>-111.71</td>\n      <td>2</td>\n      <td>60134</td>\n      <td>NaN</td>\n      <td>1</td>\n      <td>2019-12-31</td>\n      <td>16:14:33</td>\n    </tr>\n    <tr>\n      <td>8</td>\n      <td>4G</td>\n      <td>EC-Claro(América Móvil)-01</td>\n      <td>2250</td>\n      <td>7.400102e+14</td>\n      <td>NaN</td>\n      <td>NaN</td>\n      <td>-113975.00</td>\n      <td>2</td>\n      <td>60134</td>\n      <td>NaN</td>\n      <td>1</td>\n      <td>2019-12-31</td>\n      <td>16:14:16</td>\n    </tr>\n    <tr>\n      <td>0</td>\n      <td>4G</td>\n      <td>EC-Claro(América Móvil)-01</td>\n      <td>2250</td>\n      <td>7.400102e+14</td>\n      <td>NaN</td>\n      <td>NaN</td>\n      <td>-108819.00</td>\n      <td>2</td>\n      <td>60134</td>\n      <td>NaN</td>\n      <td>1</td>\n      <td>2019-12-31</td>\n      <td>16:30:03</td>\n    </tr>\n    <tr>\n      <td>...</td>\n      <td>...</td>\n      <td>...</td>\n      <td>...</td>\n      <td>...</td>\n      <td>...</td>\n      <td>...</td>\n      <td>...</td>\n      <td>...</td>\n      <td>...</td>\n      <td>...</td>\n      <td>...</td>\n      <td>...</td>\n      <td>...</td>\n    </tr>\n    <tr>\n      <td>11</td>\n      <td>4G</td>\n      <td>EC-Claro(América Móvil)-01</td>\n      <td>925</td>\n      <td>7.400102e+14</td>\n      <td>NaN</td>\n      <td>NaN</td>\n      <td>-113507.00</td>\n      <td>2</td>\n      <td>-1</td>\n      <td>NaN</td>\n      <td>1</td>\n      <td>2020-01-02</td>\n      <td>14:35:54</td>\n    </tr>\n    <tr>\n      <td>10</td>\n      <td>4G</td>\n      <td>EC-Claro(América Móvil)-01</td>\n      <td>925</td>\n      <td>7.400102e+14</td>\n      <td>NaN</td>\n      <td>NaN</td>\n      <td>-112.96</td>\n      <td>1</td>\n      <td>60134</td>\n      <td>NaN</td>\n      <td>1</td>\n      <td>2020-01-02</td>\n      <td>14:42:28</td>\n    </tr>\n    <tr>\n      <td>18</td>\n      <td>4G</td>\n      <td>EC-Claro(América Móvil)-01</td>\n      <td>925</td>\n      <td>7.400102e+14</td>\n      <td>NaN</td>\n      <td>NaN</td>\n      <td>-101553.00</td>\n      <td>2</td>\n      <td>60134</td>\n      <td>NaN</td>\n      <td>1</td>\n      <td>2020-01-02</td>\n      <td>14:04:15</td>\n    </tr>\n    <tr>\n      <td>72</td>\n      <td>4G</td>\n      <td>EC-Movistar(Telefónica)-00</td>\n      <td>700</td>\n      <td>7.400001e+14</td>\n      <td>NaN</td>\n      <td>NaN</td>\n      <td>-104366.00</td>\n      <td>2</td>\n      <td>9616</td>\n      <td>NaN</td>\n      <td>1</td>\n      <td>2020-01-02</td>\n      <td>10:04:13</td>\n    </tr>\n    <tr>\n      <td>73</td>\n      <td>4G</td>\n      <td>EC-Movistar(Telefónica)-00</td>\n      <td>700</td>\n      <td>7.400001e+14</td>\n      <td>NaN</td>\n      <td>NaN</td>\n      <td>-112.10</td>\n      <td>2</td>\n      <td>9616</td>\n      <td>NaN</td>\n      <td>7</td>\n      <td>2020-01-02</td>\n      <td>11:46:25</td>\n    </tr>\n  </tbody>\n</table>\n<p>99 rows × 13 columns</p>\n</div>",
      "text/plain": "   RAT                    OPERATOR  CHANNEL          IMSI  IMEI TMSI  \\\n12  4G  EC-Claro(América Móvil)-01     2250  7.400102e+14   NaN  NaN   \n6   4G  EC-Claro(América Móvil)-01     2250  7.400102e+14   NaN  NaN   \n7   4G  EC-Claro(América Móvil)-01     2250  7.400102e+14   NaN  NaN   \n8   4G  EC-Claro(América Móvil)-01     2250  7.400102e+14   NaN  NaN   \n0   4G  EC-Claro(América Móvil)-01     2250  7.400102e+14   NaN  NaN   \n..  ..                         ...      ...           ...   ...  ...   \n11  4G  EC-Claro(América Móvil)-01      925  7.400102e+14   NaN  NaN   \n10  4G  EC-Claro(América Móvil)-01      925  7.400102e+14   NaN  NaN   \n18  4G  EC-Claro(América Móvil)-01      925  7.400102e+14   NaN  NaN   \n72  4G  EC-Movistar(Telefónica)-00      700  7.400001e+14   NaN  NaN   \n73  4G  EC-Movistar(Telefónica)-00      700  7.400001e+14   NaN  NaN   \n\n     MS_POWER  TA  LAST_LAC  NAME  HITS        DATE      TIME  \n12 -101397.00   2     60134   NaN     2  2019-12-31  16:22:20  \n6     -112.10   2     60134   NaN     1  2019-12-31  16:14:43  \n7     -111.71   2     60134   NaN     1  2019-12-31  16:14:33  \n8  -113975.00   2     60134   NaN     1  2019-12-31  16:14:16  \n0  -108819.00   2     60134   NaN     1  2019-12-31  16:30:03  \n..        ...  ..       ...   ...   ...         ...       ...  \n11 -113507.00   2        -1   NaN     1  2020-01-02  14:35:54  \n10    -112.96   1     60134   NaN     1  2020-01-02  14:42:28  \n18 -101553.00   2     60134   NaN     1  2020-01-02  14:04:15  \n72 -104366.00   2      9616   NaN     1  2020-01-02  10:04:13  \n73    -112.10   2      9616   NaN     7  2020-01-02  11:46:25  \n\n[99 rows x 13 columns]"
     },
     "execution_count": 39,
     "metadata": {},
     "output_type": "execute_result"
    }
   ],
   "source": [
    "def getDatosIncosistentes(df, cols=[]):\n",
    "    return df[df[cols[0]].isnull()]\n",
    "getDatosIncosistentes(allData, ['IMEI',])"
   ]
  },
  {
   "cell_type": "code",
   "execution_count": 40,
   "metadata": {},
   "outputs": [
    {
     "data": {
      "text/html": "<div>\n<style scoped>\n    .dataframe tbody tr th:only-of-type {\n        vertical-align: middle;\n    }\n\n    .dataframe tbody tr th {\n        vertical-align: top;\n    }\n\n    .dataframe thead th {\n        text-align: right;\n    }\n</style>\n<table border=\"1\" class=\"dataframe\">\n  <thead>\n    <tr style=\"text-align: right;\">\n      <th></th>\n      <th>RAT</th>\n      <th>OPERATOR</th>\n      <th>CHANNEL</th>\n      <th>IMSI</th>\n      <th>IMEI</th>\n      <th>TMSI</th>\n      <th>MS_POWER</th>\n      <th>TA</th>\n      <th>LAST_LAC</th>\n      <th>NAME</th>\n      <th>HITS</th>\n      <th>DATE</th>\n      <th>TIME</th>\n    </tr>\n  </thead>\n  <tbody>\n    <tr>\n      <td>724</td>\n      <td>3G</td>\n      <td>EC-Claro(América Móvil)-01</td>\n      <td>4387</td>\n      <td>7.400102e+14</td>\n      <td>8.612500e+14</td>\n      <td>BA129B0E</td>\n      <td>-94.0</td>\n      <td>3</td>\n      <td>50134</td>\n      <td>NaN</td>\n      <td>1</td>\n      <td>2019-12-31</td>\n      <td>15:24:18</td>\n    </tr>\n    <tr>\n      <td>292</td>\n      <td>3G</td>\n      <td>EC-Claro(América Móvil)-01</td>\n      <td>4387</td>\n      <td>7.400002e+14</td>\n      <td>3.517591e+14</td>\n      <td>A4C47315</td>\n      <td>-95.0</td>\n      <td>3</td>\n      <td>15251</td>\n      <td>NaN</td>\n      <td>1</td>\n      <td>2019-12-31</td>\n      <td>16:59:42</td>\n    </tr>\n    <tr>\n      <td>291</td>\n      <td>3G</td>\n      <td>EC-Claro(América Móvil)-01</td>\n      <td>587</td>\n      <td>7.400002e+14</td>\n      <td>3.517591e+14</td>\n      <td>A4C47315</td>\n      <td>-105.0</td>\n      <td>3</td>\n      <td>15251</td>\n      <td>NaN</td>\n      <td>1</td>\n      <td>2019-12-31</td>\n      <td>17:00:04</td>\n    </tr>\n    <tr>\n      <td>290</td>\n      <td>3G</td>\n      <td>EC-Claro(América Móvil)-01</td>\n      <td>587</td>\n      <td>7.400102e+14</td>\n      <td>3.557471e+14</td>\n      <td>FC483124</td>\n      <td>-66.0</td>\n      <td>3</td>\n      <td>50134</td>\n      <td>NaN</td>\n      <td>1</td>\n      <td>2019-12-31</td>\n      <td>17:00:40</td>\n    </tr>\n    <tr>\n      <td>289</td>\n      <td>3G</td>\n      <td>EC-Claro(América Móvil)-01</td>\n      <td>4387</td>\n      <td>7.400102e+14</td>\n      <td>8.648850e+14</td>\n      <td>DA430032</td>\n      <td>-43.0</td>\n      <td>3</td>\n      <td>50134</td>\n      <td>NaN</td>\n      <td>1</td>\n      <td>2019-12-31</td>\n      <td>17:00:43</td>\n    </tr>\n    <tr>\n      <td>...</td>\n      <td>...</td>\n      <td>...</td>\n      <td>...</td>\n      <td>...</td>\n      <td>...</td>\n      <td>...</td>\n      <td>...</td>\n      <td>...</td>\n      <td>...</td>\n      <td>...</td>\n      <td>...</td>\n      <td>...</td>\n      <td>...</td>\n    </tr>\n    <tr>\n      <td>653</td>\n      <td>3G</td>\n      <td>EC-Movistar(Telefónica)-00</td>\n      <td>512</td>\n      <td>7.400001e+14</td>\n      <td>3.526861e+14</td>\n      <td>EA026FB9</td>\n      <td>-109.0</td>\n      <td>3</td>\n      <td>32768</td>\n      <td>NaN</td>\n      <td>3</td>\n      <td>2020-01-03</td>\n      <td>00:19:34</td>\n    </tr>\n    <tr>\n      <td>52</td>\n      <td>3G</td>\n      <td>EC-Claro(América Móvil)-01</td>\n      <td>612</td>\n      <td>7.400102e+14</td>\n      <td>3.546141e+14</td>\n      <td>CF40806C</td>\n      <td>-95.0</td>\n      <td>3</td>\n      <td>50404</td>\n      <td>NaN</td>\n      <td>5</td>\n      <td>2020-01-03</td>\n      <td>00:04:58</td>\n    </tr>\n    <tr>\n      <td>660</td>\n      <td>3G</td>\n      <td>EC-Movistar(Telefónica)-00</td>\n      <td>512</td>\n      <td>7.400002e+14</td>\n      <td>8.698230e+14</td>\n      <td>C51AD745</td>\n      <td>-108.0</td>\n      <td>2</td>\n      <td>32768</td>\n      <td>NaN</td>\n      <td>3</td>\n      <td>2020-01-03</td>\n      <td>00:26:59</td>\n    </tr>\n    <tr>\n      <td>41</td>\n      <td>3G</td>\n      <td>EC-Claro(América Móvil)-01</td>\n      <td>612</td>\n      <td>7.400102e+14</td>\n      <td>8.698230e+14</td>\n      <td>DA434B7C</td>\n      <td>-92.0</td>\n      <td>3</td>\n      <td>32769</td>\n      <td>NaN</td>\n      <td>6</td>\n      <td>2020-01-03</td>\n      <td>00:07:18</td>\n    </tr>\n    <tr>\n      <td>33</td>\n      <td>3G</td>\n      <td>EC-Claro(América Móvil)-01</td>\n      <td>612</td>\n      <td>7.400102e+14</td>\n      <td>3.536411e+14</td>\n      <td>FFFFFFFF</td>\n      <td>-96.0</td>\n      <td>3</td>\n      <td>50134</td>\n      <td>NaN</td>\n      <td>4</td>\n      <td>2020-01-03</td>\n      <td>00:11:24</td>\n    </tr>\n  </tbody>\n</table>\n<p>3528 rows × 13 columns</p>\n</div>",
      "text/plain": "    RAT                    OPERATOR  CHANNEL          IMSI          IMEI  \\\n724  3G  EC-Claro(América Móvil)-01     4387  7.400102e+14  8.612500e+14   \n292  3G  EC-Claro(América Móvil)-01     4387  7.400002e+14  3.517591e+14   \n291  3G  EC-Claro(América Móvil)-01      587  7.400002e+14  3.517591e+14   \n290  3G  EC-Claro(América Móvil)-01      587  7.400102e+14  3.557471e+14   \n289  3G  EC-Claro(América Móvil)-01     4387  7.400102e+14  8.648850e+14   \n..   ..                         ...      ...           ...           ...   \n653  3G  EC-Movistar(Telefónica)-00      512  7.400001e+14  3.526861e+14   \n52   3G  EC-Claro(América Móvil)-01      612  7.400102e+14  3.546141e+14   \n660  3G  EC-Movistar(Telefónica)-00      512  7.400002e+14  8.698230e+14   \n41   3G  EC-Claro(América Móvil)-01      612  7.400102e+14  8.698230e+14   \n33   3G  EC-Claro(América Móvil)-01      612  7.400102e+14  3.536411e+14   \n\n         TMSI  MS_POWER  TA  LAST_LAC  NAME  HITS        DATE      TIME  \n724  BA129B0E     -94.0   3     50134   NaN     1  2019-12-31  15:24:18  \n292  A4C47315     -95.0   3     15251   NaN     1  2019-12-31  16:59:42  \n291  A4C47315    -105.0   3     15251   NaN     1  2019-12-31  17:00:04  \n290  FC483124     -66.0   3     50134   NaN     1  2019-12-31  17:00:40  \n289  DA430032     -43.0   3     50134   NaN     1  2019-12-31  17:00:43  \n..        ...       ...  ..       ...   ...   ...         ...       ...  \n653  EA026FB9    -109.0   3     32768   NaN     3  2020-01-03  00:19:34  \n52   CF40806C     -95.0   3     50404   NaN     5  2020-01-03  00:04:58  \n660  C51AD745    -108.0   2     32768   NaN     3  2020-01-03  00:26:59  \n41   DA434B7C     -92.0   3     32769   NaN     6  2020-01-03  00:07:18  \n33   FFFFFFFF     -96.0   3     50134   NaN     4  2020-01-03  00:11:24  \n\n[3528 rows x 13 columns]"
     },
     "execution_count": 40,
     "metadata": {},
     "output_type": "execute_result"
    }
   ],
   "source": [
    "def getDfCompleto(df: pd.DataFrame):\n",
    "    return df.loc[df['IMEI'].notnull()]\n",
    "getDfCompleto(allData)"
   ]
  },
  {
   "cell_type": "code",
   "execution_count": null,
   "metadata": {},
   "outputs": [],
   "source": []
  },
  {
   "cell_type": "code",
   "execution_count": null,
   "metadata": {},
   "outputs": [],
   "source": []
  }
 ],
 "metadata": {
  "kernelspec": {
   "display_name": "Python 3",
   "language": "python",
   "name": "python3"
  },
  "language_info": {
   "codemirror_mode": {
    "name": "ipython",
    "version": 3
   },
   "file_extension": ".py",
   "mimetype": "text/x-python",
   "name": "python",
   "nbconvert_exporter": "python",
   "pygments_lexer": "ipython3",
   "version": "3.7.4-final"
  }
 },
 "nbformat": 4,
 "nbformat_minor": 2
}